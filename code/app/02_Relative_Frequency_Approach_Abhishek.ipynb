{
 "cells": [
  {
   "cell_type": "markdown",
   "id": "30c9203d",
   "metadata": {
    "pycharm": {
     "name": "#%% md\n"
    }
   },
   "source": [
    "# Wordle"
   ]
  },
  {
   "cell_type": "markdown",
   "id": "9533243e",
   "metadata": {
    "pycharm": {
     "name": "#%% md\n"
    }
   },
   "source": [
    "## Solving method"
   ]
  },
  {
   "cell_type": "code",
   "execution_count": 2,
   "id": "1daaf42d",
   "metadata": {
    "pycharm": {
     "name": "#%%\n"
    }
   },
   "outputs": [],
   "source": [
    "import numpy as np\n",
    "import matplotlib.image as mpimg\n",
    "import matplotlib.pyplot as plt\n",
    "from tqdm.notebook import tqdm\n",
    "from collections import defaultdict\n",
    "import ipywidgets as widgets\n",
    "from ipywidgets import interactive_output, fixed\n",
    "from IPython.display import Image"
   ]
  },
  {
   "cell_type": "code",
   "execution_count": 3,
   "id": "542f7e1e",
   "metadata": {
    "pycharm": {
     "name": "#%%\n"
    }
   },
   "outputs": [
    {
     "name": "stdout",
     "output_type": "stream",
     "text": [
      "Number of possible answer words: 2315\n",
      "Number of accepted guess words: 12972\n"
     ]
    }
   ],
   "source": [
    "with open('./data/processed/wordle-answers-alphabetical.txt', 'r') as file:\n",
    "    possible_answers = file.read().splitlines() \n",
    "   \n",
    "with open('./data/processed/wordle-allowed-guesses.txt', 'r') as file:\n",
    "    words_allowed_guesses = file.read().splitlines() \n",
    "words_allowed_guesses = words_allowed_guesses + possible_answers\n",
    "\n",
    "print(\"Number of possible answer words:\", len(possible_answers))\n",
    "print(\"Number of accepted guess words:\", len(words_allowed_guesses))"
   ]
  },
  {
   "cell_type": "code",
   "execution_count": 4,
   "id": "e6c28d3c",
   "metadata": {
    "pycharm": {
     "name": "#%%\n"
    }
   },
   "outputs": [],
   "source": [
    "letters = [letter for letter in \"azertyuiopqsdfghjklmwxcvbn\"]\n",
    "letter_imgs = {letter: mpimg.imread(f\"letters/{letter}.png\") for letter in letters}\n",
    "\n",
    "def display_word(word):\n",
    "    if word == \"\": return\n",
    "    letters = [letter_imgs[letter] for letter in word]\n",
    "    plt.figure()\n",
    "    plt.imshow(np.concatenate(letters, axis=1))\n",
    "    plt.axis('off')\n",
    "    plt.show()"
   ]
  },
  {
   "cell_type": "code",
   "execution_count": 5,
   "id": "b161f35f",
   "metadata": {
    "pycharm": {
     "name": "#%%\n"
    }
   },
   "outputs": [
    {
     "data": {
      "image/png": "[encoded data removed]",
      "text/plain": [
       "<Figure size 432x288 with 1 Axes>"
      ]
     },
     "metadata": {
      "needs_background": "light"
     },
     "output_type": "display_data"
    }
   ],
   "source": [
    "display_word(\"hello\")"
   ]
  },
  {
   "cell_type": "code",
   "execution_count": 6,
   "id": "e92eadca",
   "metadata": {
    "pycharm": {
     "name": "#%%\n"
    }
   },
   "outputs": [],
   "source": [
    "def compare_words(query_word, answer_word):\n",
    "    res = []\n",
    "    pos_not_found = []\n",
    "    letters_not_found = []\n",
    "    for (i, letter1), letter2 in zip(enumerate(query_word), answer_word):\n",
    "        if letter1 == letter2:\n",
    "            res.append('2')\n",
    "        else:\n",
    "            res.append('0')\n",
    "            pos_not_found.append(i)\n",
    "            letters_not_found.append(letter2)\n",
    "    for i in pos_not_found:\n",
    "        if query_word[i] in letters_not_found:\n",
    "            res[i] = \"1\"\n",
    "            letters_not_found.remove(query_word[i])\n",
    "    return \"\".join(res)"
   ]
  },
  {
   "cell_type": "code",
   "execution_count": 7,
   "id": "4aae0054",
   "metadata": {
    "pycharm": {
     "name": "#%%\n"
    }
   },
   "outputs": [
    {
     "data": {
      "text/plain": [
       "'10002'"
      ]
     },
     "execution_count": 7,
     "metadata": {},
     "output_type": "execute_result"
    }
   ],
   "source": [
    "compare_words(\"raise\", \"gorge\")"
   ]
  },
  {
   "cell_type": "code",
   "execution_count": 8,
   "id": "206b12f4",
   "metadata": {
    "pycharm": {
     "name": "#%%\n"
    }
   },
   "outputs": [
    {
     "data": {
      "text/plain": [
       "'22222'"
      ]
     },
     "execution_count": 8,
     "metadata": {},
     "output_type": "execute_result"
    }
   ],
   "source": [
    "compare_words(\"crane\",\"crane\")"
   ]
  },
  {
   "cell_type": "code",
   "execution_count": 9,
   "id": "fde3c4fd",
   "metadata": {
    "pycharm": {
     "name": "#%%\n"
    }
   },
   "outputs": [],
   "source": [
    "def filter_words(possible_words, word, comparison_string):\n",
    "    new_possible_words = []\n",
    "    for w in possible_words:\n",
    "        if compare_words(word, w) == comparison_string:\n",
    "            new_possible_words.append(w)\n",
    "    return new_possible_words"
   ]
  },
  {
   "cell_type": "code",
   "execution_count": 10,
   "id": "68d11741",
   "metadata": {
    "pycharm": {
     "name": "#%%\n"
    }
   },
   "outputs": [
    {
     "name": "stdout",
     "output_type": "stream",
     "text": [
      "['borne', 'broke', 'brute', 'chore', 'creme', 'crepe', 'crone', 'crude', 'curve', 'drone', 'drove', 'erode', 'force', 'forge', 'forte', 'froze', 'genre', 'gorge', 'grope', 'grove', 'horde', 'merge', 'nerve', 'ombre', 'probe', 'prone', 'prove', 'prude', 'prune', 'puree', 'purge', 'there', 'three', 'trope', 'trove', 'truce', 'verge', 'verve', 'where', 'wrote']\n"
     ]
    }
   ],
   "source": [
    "print(filter_words(possible_answers, \"raise\", \"10002\"))"
   ]
  },
  {
   "cell_type": "markdown",
   "id": "ed15d0e0",
   "metadata": {
    "pycharm": {
     "name": "#%% md\n"
    }
   },
   "source": [
    "$ score(word) = \\sum_{letter  \\in  word}\\frac{1}{rank(letter)} $"
   ]
  },
  {
   "cell_type": "code",
   "execution_count": 11,
   "id": "83f98bf4",
   "metadata": {
    "pycharm": {
     "name": "#%%\n"
    }
   },
   "outputs": [
    {
     "data": {
      "image/png": "[encoded data removed]",
      "text/plain": [
       "<IPython.core.display.Image object>"
      ]
     },
     "execution_count": 11,
     "metadata": {},
     "output_type": "execute_result"
    }
   ],
   "source": [
    "Image('data/processed/higfreq.png')"
   ]
  },
  {
   "cell_type": "code",
   "execution_count": 12,
   "id": "aa493eda",
   "metadata": {
    "pycharm": {
     "name": "#%%\n"
    }
   },
   "outputs": [],
   "source": [
    "letters_by_frequency = \"eariotnslcudpmhgbfywkvxzjq\"\n",
    "letters_scores = {letter: 1/(i+1) for i, letter in enumerate(letters_by_frequency)}\n",
    "    \n",
    "def score_RelativeFreq_ofWord(word):\n",
    "    score = 0\n",
    "    for letter in set(word):\n",
    "        score += letters_scores[letter]\n",
    "    return score"
   ]
  },
  {
   "cell_type": "code",
   "execution_count": 13,
   "id": "69d73216",
   "metadata": {
    "pycharm": {
     "name": "#%%\n"
    }
   },
   "outputs": [
    {
     "name": "stdout",
     "output_type": "stream",
     "text": [
      "raise: 2.208333333333333\n",
      "bumpy: 0.3507158476198724\n"
     ]
    }
   ],
   "source": [
    "print(\"raise:\", score_RelativeFreq_ofWord(\"raise\"))\n",
    "print(\"bumpy:\", score_RelativeFreq_ofWord(\"bumpy\"))"
   ]
  },
  {
   "cell_type": "code",
   "execution_count": 14,
   "id": "5fd2324a",
   "metadata": {
    "pycharm": {
     "name": "#%%\n"
    }
   },
   "outputs": [],
   "source": [
    "def solver_RelativeFrequency_method(comparison_string, word, possible_words):\n",
    "    possible_words = filter_words(possible_words, word, comparison_string)\n",
    "    if len(possible_words) == 0:\n",
    "        print(\"No possible word in vocabulary.\")\n",
    "        return \"\", []\n",
    "    else:\n",
    "        words_sorted = sorted(possible_words, key=score_RelativeFreq_ofWord, reverse=True)\n",
    "        word = words_sorted[0]\n",
    "        return word, possible_words"
   ]
  },
  {
   "cell_type": "code",
   "execution_count": 15,
   "id": "bc19b3cc",
   "metadata": {
    "pycharm": {
     "name": "#%%\n"
    }
   },
   "outputs": [],
   "source": [
    "best_20_starting_words=[\"roate\",\"raise\",\"raile\",\"soare\",\"arise\",\"irate\",\"orate\",\"ariel\",\"arose\",\"raine\",\"artel\",\"taler\",\"ratel\",\"aesir\",\"arles\",\"realo\",\"alter\",\"saner\",\"later\",\"snare\"]\n"
   ]
  },
  {
   "cell_type": "markdown",
   "id": "b810c9b1",
   "metadata": {
    "pycharm": {
     "name": "#%% md\n"
    }
   },
   "source": [
    "## Evalutating solutions"
   ]
  },
  {
   "cell_type": "code",
   "execution_count": 16,
   "id": "35efcd1f",
   "metadata": {
    "pycharm": {
     "name": "#%%\n"
    }
   },
   "outputs": [],
   "source": [
    "def test_solution(answer_word, solver_method_type, starting_word=\"tares\"):\n",
    "    word = starting_word\n",
    "    possible_words = possible_answers\n",
    "    attempts = 1\n",
    "    while attempts < 20:\n",
    "        if word == answer_word:\n",
    "            return attempts\n",
    "        attempts += 1\n",
    "        comparison_string = compare_words(word, answer_word)\n",
    "        word, possible_words = solver_method_type(comparison_string, word, possible_words)\n",
    "    return attempts\n",
    "\n",
    "def evaluate_solver(possible_words, solver_method_type, starting_word=\"mount\"):\n",
    "    solves = []\n",
    "    for word in tqdm(possible_answers):\n",
    "        solves.append((word, test_solution(word, solver_method_type, starting_word=starting_word)))\n",
    "    mean_attempts = sum([solve[1] for solve in solves])/len(solves)\n",
    "    print(f\"Mean number of attempts: {mean_attempts} accross {len(solves)} games\") \n",
    "    failed = [solve[0] for solve in solves if solve[1] > 6]\n",
    "    print(f\"Failed words (more than 6 attempts): {len(failed)}\")\n",
    "    print(\", \".join(failed))"
   ]
  },
  {
   "cell_type": "code",
   "execution_count": 17,
   "id": "2b30349f",
   "metadata": {
    "pycharm": {
     "name": "#%%\n"
    }
   },
   "outputs": [
    {
     "data": {
      "application/vnd.jupyter.widget-view+json": {
       "model_id": "bf6aceff3cbc440daaaa2ed7c516b8d7",
       "version_major": 2,
       "version_minor": 0
      },
      "text/plain": [
       "  0%|          | 0/2315 [00:00<?, ?it/s]"
      ]
     },
     "metadata": {},
     "output_type": "display_data"
    },
    {
     "name": "stdout",
     "output_type": "stream",
     "text": [
      "Mean number of attempts: 3.8168466522678184 accross 2315 games\n",
      "Failed words (more than 6 attempts): 28\n",
      "awash, bezel, boxer, brave, brook, daddy, ferry, found, foyer, frown, fully, hatch, hunch, jaunt, joker, jolly, kitty, level, mammy, poppy, shave, swash, swore, taste, waver, weave, willy, wound\n"
     ]
    }
   ],
   "source": [
    "evaluate_solver(possible_answers, solver_RelativeFrequency_method, starting_word=\"raise\")"
   ]
  },
  {
   "cell_type": "code",
   "execution_count": 18,
   "id": "101da7be",
   "metadata": {
    "pycharm": {
     "name": "#%%\n"
    }
   },
   "outputs": [
    {
     "name": "stdout",
     "output_type": "stream",
     "text": [
      "Starting word:-  roate\n"
     ]
    },
    {
     "data": {
      "application/vnd.jupyter.widget-view+json": {
       "model_id": "75a52c1a3a0e48e7b5e36332f364a26f",
       "version_major": 2,
       "version_minor": 0
      },
      "text/plain": [
       "  0%|          | 0/2315 [00:00<?, ?it/s]"
      ]
     },
     "metadata": {},
     "output_type": "display_data"
    },
    {
     "name": "stdout",
     "output_type": "stream",
     "text": [
      "Mean number of attempts: 3.8323974082073433 accross 2315 games\n",
      "Failed words (more than 6 attempts): 36\n",
      "boxer, brave, catch, crack, dried, eager, fatty, ferry, fever, filly, found, foyer, frown, gazer, graze, hatch, hitch, jaunt, joker, jolly, kitty, krill, lapel, parer, shave, swear, taste, tatty, taunt, tract, wafer, watch, waver, weave, willy, wound\n",
      "----------------------------------------------------------\n",
      "Starting word:-  raise\n"
     ]
    },
    {
     "data": {
      "application/vnd.jupyter.widget-view+json": {
       "model_id": "7738731e406c42a3bc77d8c9679c0e52",
       "version_major": 2,
       "version_minor": 0
      },
      "text/plain": [
       "  0%|          | 0/2315 [00:00<?, ?it/s]"
      ]
     },
     "metadata": {},
     "output_type": "display_data"
    },
    {
     "name": "stdout",
     "output_type": "stream",
     "text": [
      "Mean number of attempts: 3.8168466522678184 accross 2315 games\n",
      "Failed words (more than 6 attempts): 28\n",
      "awash, bezel, boxer, brave, brook, daddy, ferry, found, foyer, frown, fully, hatch, hunch, jaunt, joker, jolly, kitty, level, mammy, poppy, shave, swash, swore, taste, waver, weave, willy, wound\n",
      "----------------------------------------------------------\n",
      "Starting word:-  raile\n"
     ]
    },
    {
     "data": {
      "application/vnd.jupyter.widget-view+json": {
       "model_id": "30dff70d2ceb435f846ed2ac400c25e9",
       "version_major": 2,
       "version_minor": 0
      },
      "text/plain": [
       "  0%|          | 0/2315 [00:00<?, ?it/s]"
      ]
     },
     "metadata": {},
     "output_type": "display_data"
    },
    {
     "name": "stdout",
     "output_type": "stream",
     "text": [
      "Mean number of attempts: 3.819870410367171 accross 2315 games\n",
      "Failed words (more than 6 attempts): 40\n",
      "blaze, booby, boxer, brake, brave, ferry, finer, fixer, flake, flame, flank, folly, found, frank, frown, froze, fully, graze, hatch, hazel, jaunt, joker, jolly, kitty, lowly, mammy, parer, share, shave, swore, taste, wafer, waste, waver, weave, willy, wooly, woozy, wound, wreak\n",
      "----------------------------------------------------------\n",
      "Starting word:-  soare\n"
     ]
    },
    {
     "data": {
      "application/vnd.jupyter.widget-view+json": {
       "model_id": "b6593626e09d4390bf2f71014075bdad",
       "version_major": 2,
       "version_minor": 0
      },
      "text/plain": [
       "  0%|          | 0/2315 [00:00<?, ?it/s]"
      ]
     },
     "metadata": {},
     "output_type": "display_data"
    },
    {
     "name": "stdout",
     "output_type": "stream",
     "text": [
      "Mean number of attempts: 3.8876889848812093 accross 2315 games\n",
      "Failed words (more than 6 attempts): 43\n",
      "amaze, bezel, boxer, brake, brave, catch, corer, eager, eater, evade, fever, found, foyer, freak, fully, gazer, graze, hatch, hover, jaunt, joker, jolly, lapel, level, rarer, river, rover, rower, sassy, shark, shave, swore, taste, tatty, taunt, wafer, waste, watch, waver, weave, willy, wound, wreak\n",
      "----------------------------------------------------------\n",
      "Starting word:-  arise\n"
     ]
    },
    {
     "data": {
      "application/vnd.jupyter.widget-view+json": {
       "model_id": "fc9ffd1427824df4bfeff26873e5e4c1",
       "version_major": 2,
       "version_minor": 0
      },
      "text/plain": [
       "  0%|          | 0/2315 [00:00<?, ?it/s]"
      ]
     },
     "metadata": {},
     "output_type": "display_data"
    },
    {
     "name": "stdout",
     "output_type": "stream",
     "text": [
      "Mean number of attempts: 3.8263498920086394 accross 2315 games\n",
      "Failed words (more than 6 attempts): 32\n",
      "bezel, boxer, brook, daddy, ferry, fixer, found, foyer, fully, hatch, hunch, jaunt, joker, jolly, kitty, level, mammy, poppy, rarer, roger, rover, rower, shark, shave, swash, swore, taste, waste, waver, weave, willy, wound\n",
      "----------------------------------------------------------\n",
      "Starting word:-  irate\n"
     ]
    },
    {
     "data": {
      "application/vnd.jupyter.widget-view+json": {
       "model_id": "0860107e79c143c989e18e54d3b44c71",
       "version_major": 2,
       "version_minor": 0
      },
      "text/plain": [
       "  0%|          | 0/2315 [00:00<?, ?it/s]"
      ]
     },
     "metadata": {},
     "output_type": "display_data"
    },
    {
     "name": "stdout",
     "output_type": "stream",
     "text": [
      "Mean number of attempts: 3.8211663066954644 accross 2315 games\n",
      "Failed words (more than 6 attempts): 34\n",
      "awash, boxer, brake, brave, crazy, crook, daddy, fatty, ferry, found, foyer, fully, gazer, graze, hatch, hitch, hunch, jaunt, joker, jolly, kitty, lapel, mammy, ninny, racer, rarer, rover, rower, swash, taste, tatty, waver, willy, wound\n",
      "----------------------------------------------------------\n",
      "Starting word:-  orate\n"
     ]
    },
    {
     "data": {
      "application/vnd.jupyter.widget-view+json": {
       "model_id": "8733aa890d7b4472b34b560be893d291",
       "version_major": 2,
       "version_minor": 0
      },
      "text/plain": [
       "  0%|          | 0/2315 [00:00<?, ?it/s]"
      ]
     },
     "metadata": {},
     "output_type": "display_data"
    },
    {
     "name": "stdout",
     "output_type": "stream",
     "text": [
      "Mean number of attempts: 3.8449244060475163 accross 2315 games\n",
      "Failed words (more than 6 attempts): 38\n",
      "boxer, brake, brave, catch, crack, crook, eager, fatty, ferry, filly, found, foyer, gazer, graze, hatch, hitch, jaunt, joker, jolly, kitty, lapel, parer, racer, rarer, rover, rower, shave, swear, taste, tatty, taunt, tract, wafer, watch, waver, weave, willy, wound\n",
      "----------------------------------------------------------\n",
      "Starting word:-  ariel\n"
     ]
    },
    {
     "data": {
      "application/vnd.jupyter.widget-view+json": {
       "model_id": "1a0ffd1dccad4f61a746a19b13ca7ac4",
       "version_major": 2,
       "version_minor": 0
      },
      "text/plain": [
       "  0%|          | 0/2315 [00:00<?, ?it/s]"
      ]
     },
     "metadata": {},
     "output_type": "display_data"
    },
    {
     "name": "stdout",
     "output_type": "stream",
     "text": [
      "Mean number of attempts: 3.8341252699784016 accross 2315 games\n",
      "Failed words (more than 6 attempts): 39\n",
      "billy, booby, boxer, brake, brave, corer, crook, ferry, fixer, flank, found, foyer, fully, graze, hatch, hover, jaunt, joker, jolly, kitty, mover, parer, rarer, riper, river, rover, rower, shave, taste, tatty, taunt, verve, wafer, waste, waver, weave, willy, woozy, wound\n",
      "----------------------------------------------------------\n",
      "Starting word:-  arose\n"
     ]
    },
    {
     "data": {
      "application/vnd.jupyter.widget-view+json": {
       "model_id": "c3d4d3c76bc04730b37b025dfdbdaac8",
       "version_major": 2,
       "version_minor": 0
      },
      "text/plain": [
       "  0%|          | 0/2315 [00:00<?, ?it/s]"
      ]
     },
     "metadata": {},
     "output_type": "display_data"
    },
    {
     "name": "stdout",
     "output_type": "stream",
     "text": [
      "Mean number of attempts: 3.8730021598272137 accross 2315 games\n",
      "Failed words (more than 6 attempts): 32\n",
      "bezel, booby, boxer, brake, brave, catch, fever, fixer, found, foyer, fully, graze, hatch, jaunt, joker, jolly, level, rarer, roger, rover, rower, shark, shave, swarm, swore, taste, tatty, taunt, waste, waver, willy, wound\n",
      "----------------------------------------------------------\n",
      "Starting word:-  raine\n"
     ]
    },
    {
     "data": {
      "application/vnd.jupyter.widget-view+json": {
       "model_id": "10c24bb8d2674db49b87ff78b9f6b6eb",
       "version_major": 2,
       "version_minor": 0
      },
      "text/plain": [
       "  0%|          | 0/2315 [00:00<?, ?it/s]"
      ]
     },
     "metadata": {},
     "output_type": "display_data"
    },
    {
     "name": "stdout",
     "output_type": "stream",
     "text": [
      "Mean number of attempts: 3.8181425485961125 accross 2315 games\n",
      "Failed words (more than 6 attempts): 29\n",
      "boney, bound, boxer, brake, brave, crack, eager, finer, fixer, found, foyer, frill, frown, gazer, graze, hatch, hunch, joker, jolly, kinky, kitty, lapel, taste, taunt, tight, waver, willy, wound, wreak\n",
      "----------------------------------------------------------\n",
      "Starting word:-  artel\n"
     ]
    },
    {
     "data": {
      "application/vnd.jupyter.widget-view+json": {
       "model_id": "da0059a2e94e47f28f64d7a2f1891d7c",
       "version_major": 2,
       "version_minor": 0
      },
      "text/plain": [
       "  0%|          | 0/2315 [00:00<?, ?it/s]"
      ]
     },
     "metadata": {},
     "output_type": "display_data"
    },
    {
     "name": "stdout",
     "output_type": "stream",
     "text": [
      "Mean number of attempts: 3.7792656587473004 accross 2315 games\n",
      "Failed words (more than 6 attempts): 21\n",
      "boxer, brake, brave, catch, crack, crook, ferry, folly, found, fully, graze, jaunt, jolly, rarer, sever, shave, taste, taunt, waste, waver, wound\n",
      "----------------------------------------------------------\n",
      "Starting word:-  taler\n"
     ]
    },
    {
     "data": {
      "application/vnd.jupyter.widget-view+json": {
       "model_id": "1deaeb7cfee84cf4acde82311be397bd",
       "version_major": 2,
       "version_minor": 0
      },
      "text/plain": [
       "  0%|          | 0/2315 [00:00<?, ?it/s]"
      ]
     },
     "metadata": {},
     "output_type": "display_data"
    },
    {
     "name": "stdout",
     "output_type": "stream",
     "text": [
      "Mean number of attempts: 3.8138228941684664 accross 2315 games\n",
      "Failed words (more than 6 attempts): 27\n",
      "brake, brave, catch, crack, crook, ferry, fever, fixer, folly, found, frown, fully, graze, jaunt, joker, jolly, rarer, riper, river, roger, rover, rower, vaunt, waver, weave, wooer, wound\n",
      "----------------------------------------------------------\n",
      "Starting word:-  ratel\n"
     ]
    },
    {
     "data": {
      "application/vnd.jupyter.widget-view+json": {
       "model_id": "9ba37c3edd8f4ec589d977a123e0de6b",
       "version_major": 2,
       "version_minor": 0
      },
      "text/plain": [
       "  0%|          | 0/2315 [00:00<?, ?it/s]"
      ]
     },
     "metadata": {},
     "output_type": "display_data"
    },
    {
     "name": "stdout",
     "output_type": "stream",
     "text": [
      "Mean number of attempts: 3.796544276457883 accross 2315 games\n",
      "Failed words (more than 6 attempts): 19\n",
      "boxer, brake, brave, catch, crack, ferry, folly, found, frown, fully, graze, jaunt, jolly, sever, taste, taunt, waver, weave, wound\n",
      "----------------------------------------------------------\n",
      "Starting word:-  aesir\n"
     ]
    },
    {
     "data": {
      "application/vnd.jupyter.widget-view+json": {
       "model_id": "dc0d64a869054da686ac3a8818df3cf3",
       "version_major": 2,
       "version_minor": 0
      },
      "text/plain": [
       "  0%|          | 0/2315 [00:00<?, ?it/s]"
      ]
     },
     "metadata": {},
     "output_type": "display_data"
    },
    {
     "name": "stdout",
     "output_type": "stream",
     "text": [
      "Mean number of attempts: 3.8742980561555074 accross 2315 games\n",
      "Failed words (more than 6 attempts): 39\n",
      "boxer, brave, brook, daddy, found, foyer, freed, frown, froze, fully, hatch, hover, hunch, jaunt, joker, jolly, kitty, krill, mammy, mower, ninny, poker, poppy, rarer, river, rover, rower, shark, shave, swarm, swash, swore, taste, tight, waver, wight, willy, wound, wreak\n",
      "----------------------------------------------------------\n",
      "Starting word:-  arles\n"
     ]
    },
    {
     "data": {
      "application/vnd.jupyter.widget-view+json": {
       "model_id": "27a1b5acccdf4637ac9dd84374693df1",
       "version_major": 2,
       "version_minor": 0
      },
      "text/plain": [
       "  0%|          | 0/2315 [00:00<?, ?it/s]"
      ]
     },
     "metadata": {},
     "output_type": "display_data"
    },
    {
     "name": "stdout",
     "output_type": "stream",
     "text": [
      "Mean number of attempts: 3.8496760259179266 accross 2315 games\n",
      "Failed words (more than 6 attempts): 25\n",
      "bezel, boxer, brake, brave, catch, flake, found, fully, graze, jaunt, jolly, kitty, rarer, roger, rover, sever, share, shave, swore, taste, taunt, waver, weave, willy, wound\n",
      "----------------------------------------------------------\n",
      "Starting word:-  realo\n"
     ]
    },
    {
     "data": {
      "application/vnd.jupyter.widget-view+json": {
       "model_id": "7f6a24ccff2e4709bdf068bea629e0c8",
       "version_major": 2,
       "version_minor": 0
      },
      "text/plain": [
       "  0%|          | 0/2315 [00:00<?, ?it/s]"
      ]
     },
     "metadata": {},
     "output_type": "display_data"
    },
    {
     "name": "stdout",
     "output_type": "stream",
     "text": [
      "Mean number of attempts: 3.8803455723542117 accross 2315 games\n",
      "Failed words (more than 6 attempts): 43\n",
      "blaze, bound, boxer, brake, brave, catch, creme, crook, daddy, dried, finer, fixer, folly, found, foyer, froze, grave, graze, hatch, hazel, hitch, jaunt, joker, jolly, kitty, label, lapel, lowly, mammy, parer, swear, swine, swore, taste, tatty, taunt, wafer, waste, waver, willy, wooly, wound, wreak\n",
      "----------------------------------------------------------\n",
      "Starting word:-  alter\n"
     ]
    },
    {
     "data": {
      "application/vnd.jupyter.widget-view+json": {
       "model_id": "f6fbc1f47c1a42a582cb23b07542ddfe",
       "version_major": 2,
       "version_minor": 0
      },
      "text/plain": [
       "  0%|          | 0/2315 [00:00<?, ?it/s]"
      ]
     },
     "metadata": {},
     "output_type": "display_data"
    },
    {
     "name": "stdout",
     "output_type": "stream",
     "text": [
      "Mean number of attempts: 3.8159827213822894 accross 2315 games\n",
      "Failed words (more than 6 attempts): 29\n",
      "brake, brave, catch, crook, ferry, fever, fixer, folly, found, frown, fully, graze, jaunt, joker, jolly, rarer, riper, river, roger, rover, rower, shave, taste, taunt, waste, waver, wooer, wound, wreak\n",
      "----------------------------------------------------------\n",
      "Starting word:-  saner\n"
     ]
    },
    {
     "data": {
      "application/vnd.jupyter.widget-view+json": {
       "model_id": "da4dedcb1f13416e9a941ac220732ee9",
       "version_major": 2,
       "version_minor": 0
      },
      "text/plain": [
       "  0%|          | 0/2315 [00:00<?, ?it/s]"
      ]
     },
     "metadata": {},
     "output_type": "display_data"
    },
    {
     "name": "stdout",
     "output_type": "stream",
     "text": [
      "Mean number of attempts: 3.8345572354211663 accross 2315 games\n",
      "Failed words (more than 6 attempts): 31\n",
      "amaze, bezel, boxer, brave, catch, ferry, fever, foyer, frown, fully, graze, hatch, hunch, jaunt, jolly, level, nanny, rarer, refer, riper, river, roger, rover, sever, shave, taste, tatty, taunt, waver, willy, wound\n",
      "----------------------------------------------------------\n",
      "Starting word:-  later\n"
     ]
    },
    {
     "data": {
      "application/vnd.jupyter.widget-view+json": {
       "model_id": "b3f92f852f8b4e3e8ff2109b793bc5c7",
       "version_major": 2,
       "version_minor": 0
      },
      "text/plain": [
       "  0%|          | 0/2315 [00:00<?, ?it/s]"
      ]
     },
     "metadata": {},
     "output_type": "display_data"
    },
    {
     "name": "stdout",
     "output_type": "stream",
     "text": [
      "Mean number of attempts: 3.812095032397408 accross 2315 games\n",
      "Failed words (more than 6 attempts): 28\n",
      "brake, brave, catch, crack, crook, ferry, fever, fixer, folly, found, frown, fully, graze, jaunt, joker, jolly, rarer, riper, river, roger, rover, rower, taste, taunt, waver, weave, wooer, wound\n",
      "----------------------------------------------------------\n",
      "Starting word:-  snare\n"
     ]
    },
    {
     "data": {
      "application/vnd.jupyter.widget-view+json": {
       "model_id": "548c13ce22da4fd4a8e56722520c43b5",
       "version_major": 2,
       "version_minor": 0
      },
      "text/plain": [
       "  0%|          | 0/2315 [00:00<?, ?it/s]"
      ]
     },
     "metadata": {},
     "output_type": "display_data"
    },
    {
     "name": "stdout",
     "output_type": "stream",
     "text": [
      "Mean number of attempts: 3.840172786177106 accross 2315 games\n",
      "Failed words (more than 6 attempts): 34\n",
      "boxer, brave, brown, catch, eager, eater, found, foyer, frown, fully, gazer, graze, harry, hatch, hunch, jaunt, joker, jolly, rarer, relax, roger, rover, rower, sassy, shave, taste, tatty, taunt, wafer, waste, waver, willy, wound, wreak\n",
      "----------------------------------------------------------\n"
     ]
    }
   ],
   "source": [
    "for word in best_20_starting_words:\n",
    "    print(\"Starting word:- \",word)\n",
    "    evaluate_solver(possible_answers,solver_RelativeFrequency_method,starting_word=word)\n",
    "    print(\"----------------------------------------------------------\")"
   ]
  },
  {
   "cell_type": "code",
   "execution_count": 19,
   "id": "474f2ce5",
   "metadata": {
    "pycharm": {
     "name": "#%%\n"
    }
   },
   "outputs": [
    {
     "data": {
      "application/vnd.jupyter.widget-view+json": {
       "model_id": "3502ad8a221d456887e713b7c518f62e",
       "version_major": 2,
       "version_minor": 0
      },
      "text/plain": [
       "  0%|          | 0/2315 [00:00<?, ?it/s]"
      ]
     },
     "metadata": {},
     "output_type": "display_data"
    },
    {
     "name": "stdout",
     "output_type": "stream",
     "text": [
      "Mean number of attempts: 3.8220302375809934 accross 2315 games\n",
      "Failed words (more than 6 attempts): 24\n",
      "boxer, catch, crack, eagle, ferry, found, freed, frown, hatch, jaunt, jolly, kitty, krill, nanny, rearm, roger, rover, sever, shave, waver, weave, wight, willy, wound\n"
     ]
    }
   ],
   "source": [
    "evaluate_solver(possible_answers, solver_RelativeFrequency_method, starting_word=\"tares\")"
   ]
  },
  {
   "cell_type": "code",
   "execution_count": 22,
   "id": "85bf85e4",
   "metadata": {
    "pycharm": {
     "name": "#%%\n"
    }
   },
   "outputs": [
    {
     "data": {
      "text/plain": [
       "3"
      ]
     },
     "execution_count": 22,
     "metadata": {},
     "output_type": "execute_result"
    }
   ],
   "source": [
    "test_solution(\"alone\",solver_RelativeFrequency_method,starting_word=\"crane\")"
   ]
  },
  {
   "cell_type": "code",
   "execution_count": 23,
   "id": "a94729d3",
   "metadata": {
    "pycharm": {
     "name": "#%%\n"
    }
   },
   "outputs": [
    {
     "data": {
      "text/plain": [
       "3"
      ]
     },
     "execution_count": 23,
     "metadata": {},
     "output_type": "execute_result"
    }
   ],
   "source": [
    "test_solution(\"audio\",solver_RelativeFrequency_method,starting_word=\"plane\")"
   ]
  },
  {
   "cell_type": "code",
   "execution_count": null,
   "id": "94575d7c",
   "metadata": {
    "pycharm": {
     "name": "#%%\n"
    }
   },
   "outputs": [],
   "source": []
  }
 ],
 "metadata": {
  "kernelspec": {
   "display_name": "Python 3 (ipykernel)",
   "language": "python",
   "name": "python3"
  },
  "language_info": {
   "codemirror_mode": {
    "name": "ipython",
    "version": 3
   },
   "file_extension": ".py",
   "mimetype": "text/x-python",
   "name": "python",
   "nbconvert_exporter": "python",
   "pygments_lexer": "ipython3",
   "version": "3.7.0"
  }
 },
 "nbformat": 4,
 "nbformat_minor": 5
}
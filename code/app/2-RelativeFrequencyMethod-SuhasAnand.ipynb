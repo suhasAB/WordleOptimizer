{
 "cells": [
  {
   "cell_type": "markdown",
   "id": "30c9203d",
   "metadata": {},
   "source": [
    "# Wordle"
   ]
  },
  {
   "cell_type": "markdown",
   "id": "9533243e",
   "metadata": {},
   "source": [
    "## Solving method"
   ]
  },
  {
   "cell_type": "code",
   "execution_count": 1,
   "id": "1daaf42d",
   "metadata": {},
   "outputs": [],
   "source": [
    "import numpy as np\n",
    "import matplotlib.image as mpimg\n",
    "import matplotlib.pyplot as plt\n",
    "from tqdm.notebook import tqdm\n",
    "from collections import defaultdict\n",
    "import ipywidgets as widgets\n",
    "from ipywidgets import interactive_output, fixed"
   ]
  },
  {
   "cell_type": "code",
   "execution_count": 2,
   "id": "542f7e1e",
   "metadata": {},
   "outputs": [
    {
     "name": "stdout",
     "output_type": "stream",
     "text": [
      "Number of possible answer words: 2315\n",
      "Number of accepted guess words: 12972\n"
     ]
    }
   ],
   "source": [
    "with open('wordle-answers-alphabetical.txt', 'r') as file:\n",
    "    possible_answers = file.read().splitlines() \n",
    "    \n",
    "with open('wordle-allowed-guesses.txt', 'r') as file:\n",
    "    words_allowed_guesses = file.read().splitlines() \n",
    "words_allowed_guesses = words_allowed_guesses + possible_answers\n",
    "\n",
    "print(\"Number of possible answer words:\", len(possible_answers))\n",
    "print(\"Number of accepted guess words:\", len(words_allowed_guesses))"
   ]
  },
  {
   "cell_type": "code",
   "execution_count": 3,
   "id": "e6c28d3c",
   "metadata": {},
   "outputs": [],
   "source": [
    "letters = [letter for letter in \"azertyuiopqsdfghjklmwxcvbn\"]\n",
    "letter_imgs = {letter: mpimg.imread(f\"letters/{letter}.png\") for letter in letters}\n",
    "\n",
    "def display_word(word):\n",
    "    if word == \"\": return\n",
    "    letters = [letter_imgs[letter] for letter in word]\n",
    "    plt.figure()\n",
    "    plt.imshow(np.concatenate(letters, axis=1))\n",
    "    plt.axis('off')\n",
    "    plt.show()"
   ]
  },
  {
   "cell_type": "code",
   "execution_count": 4,
   "id": "b161f35f",
   "metadata": {},
   "outputs": [
    {
     "data": {
      "image/png": "[encoded data removed]",
      "text/plain": [
       "<Figure size 432x288 with 1 Axes>"
      ]
     },
     "metadata": {
      "needs_background": "light"
     },
     "output_type": "display_data"
    }
   ],
   "source": [
    "display_word(\"hello\")"
   ]
  },
  {
   "cell_type": "code",
   "execution_count": 5,
   "id": "e92eadca",
   "metadata": {},
   "outputs": [],
   "source": [
    "def compare_words(query_word, answer_word):\n",
    "    res = []\n",
    "    pos_not_found = []\n",
    "    letters_not_found = []\n",
    "    for (i, letter1), letter2 in zip(enumerate(query_word), answer_word):\n",
    "        if letter1 == letter2:\n",
    "            res.append('2')\n",
    "        else:\n",
    "            res.append('0')\n",
    "            pos_not_found.append(i)\n",
    "            letters_not_found.append(letter2)\n",
    "    for i in pos_not_found:\n",
    "        if query_word[i] in letters_not_found:\n",
    "            res[i] = \"1\"\n",
    "            letters_not_found.remove(query_word[i])\n",
    "    return \"\".join(res)"
   ]
  },
  {
   "cell_type": "code",
   "execution_count": 6,
   "id": "4aae0054",
   "metadata": {},
   "outputs": [
    {
     "data": {
      "text/plain": [
       "'10002'"
      ]
     },
     "execution_count": 6,
     "metadata": {},
     "output_type": "execute_result"
    }
   ],
   "source": [
    "compare_words(\"raise\", \"gorge\")"
   ]
  },
  {
   "cell_type": "markdown",
   "id": "2e240fa4",
   "metadata": {},
   "source": [
    "$ score(word) = \\sum_{letter  \\in  word}\\frac{1}{rank(letter)} $"
   ]
  },
  {
   "cell_type": "code",
   "execution_count": 7,
   "id": "fde3c4fd",
   "metadata": {},
   "outputs": [],
   "source": [
    "def filter_words(possible_words, word, comparison_string):\n",
    "    new_possible_words = []\n",
    "    for w in possible_words:\n",
    "        if compare_words(word, w) == comparison_string:\n",
    "            new_possible_words.append(w)\n",
    "    return new_possible_words"
   ]
  },
  {
   "cell_type": "code",
   "execution_count": 8,
   "id": "68d11741",
   "metadata": {},
   "outputs": [
    {
     "name": "stdout",
     "output_type": "stream",
     "text": [
      "['borne', 'broke', 'brute', 'chore', 'creme', 'crepe', 'crone', 'crude', 'curve', 'drone', 'drove', 'erode', 'force', 'forge', 'forte', 'froze', 'genre', 'gorge', 'grope', 'grove', 'horde', 'merge', 'nerve', 'ombre', 'probe', 'prone', 'prove', 'prude', 'prune', 'puree', 'purge', 'there', 'three', 'trope', 'trove', 'truce', 'verge', 'verve', 'where', 'wrote']\n"
     ]
    }
   ],
   "source": [
    "print(filter_words(possible_answers, \"raise\", \"10002\"))"
   ]
  },
  {
   "cell_type": "code",
   "execution_count": 9,
   "id": "aa493eda",
   "metadata": {},
   "outputs": [],
   "source": [
    "letters_by_frequency = \"eariotnslcudpmhgbfywkvxzjq\"\n",
    "letters_scores = {letter: 1/(i+1) for i, letter in enumerate(letters_by_frequency)}\n",
    "    \n",
    "def score_word(word):\n",
    "    score = 0\n",
    "    for letter in set(word):\n",
    "        score += letters_scores[letter]\n",
    "    return score"
   ]
  },
  {
   "cell_type": "code",
   "execution_count": 10,
   "id": "69d73216",
   "metadata": {},
   "outputs": [
    {
     "name": "stdout",
     "output_type": "stream",
     "text": [
      "raise: 2.208333333333333\n",
      "bumpy: 0.3507158476198724\n"
     ]
    }
   ],
   "source": [
    "print(\"raise:\", score_word(\"raise\"))\n",
    "print(\"bumpy:\", score_word(\"bumpy\"))"
   ]
  },
  {
   "cell_type": "code",
   "execution_count": 11,
   "id": "5fd2324a",
   "metadata": {},
   "outputs": [],
   "source": [
    "def solver(comparison_string, word, possible_words):\n",
    "    possible_words = filter_words(possible_words, word, comparison_string)\n",
    "    if len(possible_words) == 0:\n",
    "        print(\"No possible word in vocabulary.\")\n",
    "        return \"\", []\n",
    "    else:\n",
    "        words_sorted = sorted(possible_words, key=score_word, reverse=True)\n",
    "        word = words_sorted[0]\n",
    "        return word, possible_words\n",
    "\n",
    "def solver_interactive(letter_1, letter_2, letter_3, letter_4, letter_5,\n",
    "                       next_word=False, restart=False, solver=None):\n",
    "    if restart:\n",
    "        global word\n",
    "        global possible_words\n",
    "        restart = False\n",
    "        restart_button.value = False\n",
    "        for radio_button in radio_buttons:\n",
    "            radio_button.value = \"0\"\n",
    "        possible_words = possible_answers\n",
    "        word = starting_word\n",
    "        display_word(word)\n",
    "    if next_word:\n",
    "        next_word = False\n",
    "        next_word_button.value = False\n",
    "        comparison_string = letter_1 + letter_2 + letter_3 + letter_4 + letter_5\n",
    "        word, possible_words = solver(comparison_string, word, possible_words)\n",
    "        display_word(word)"
   ]
  },
  {
   "cell_type": "markdown",
   "id": "18ba63a7",
   "metadata": {},
   "source": [
    "## Improved solving method"
   ]
  },
  {
   "cell_type": "code",
   "execution_count": 12,
   "id": "ec98b830",
   "metadata": {},
   "outputs": [],
   "source": [
    "def score_word_improved(query_word, possible_words):\n",
    "    nb_words = len(possible_words)\n",
    "    comparison_dict = defaultdict(int)\n",
    "    for word in possible_words:\n",
    "        comparison_dict[compare_words(query_word, word)] += 1\n",
    "    return sum(word_count / nb_words * word_count for word_count in comparison_dict.values())"
   ]
  },
  {
   "cell_type": "code",
   "execution_count": 37,
   "id": "a92726d0",
   "metadata": {},
   "outputs": [],
   "source": [
    "def best_starting_word(possible_guesses, possible_answers, topn=20):\n",
    "    word_scores = []\n",
    "    for word in tqdm(possible_guesses):\n",
    "        word_scores.append((word, score_word_improved(word, possible_answers)))\n",
    "    word_scores = sorted(word_scores, key=lambda x: x[1])\n",
    "    for i in range(topn):\n",
    "        print(f\"{word_scores[i][0]} : {word_scores[i][1]}\")"
   ]
  },
  {
   "cell_type": "code",
   "execution_count": 38,
   "id": "276374a8",
   "metadata": {},
   "outputs": [
    {
     "data": {
      "application/vnd.jupyter.widget-view+json": {
       "model_id": "27f8772db79f4851b47474acdcacea71",
       "version_major": 2,
       "version_minor": 0
      },
      "text/plain": [
       "  0%|          | 0/12972 [00:00<?, ?it/s]"
      ]
     },
     "metadata": {},
     "output_type": "display_data"
    },
    {
     "name": "stdout",
     "output_type": "stream",
     "text": [
      "roate : 60.42462203023761\n",
      "raise : 61.00086393088555\n",
      "raile : 61.3308855291577\n",
      "soare : 62.301079913606905\n",
      "arise : 63.72570194384452\n",
      "irate : 63.77926565874733\n",
      "orate : 63.890712742980604\n",
      "ariel : 65.28768898488111\n",
      "arose : 66.02116630669536\n",
      "raine : 67.05615550755918\n"
     ]
    }
   ],
   "source": [
    "best_starting_word(words_allowed_guesses, possible_answers,topn=10)\n"
   ]
  },
  {
   "cell_type": "code",
   "execution_count": 15,
   "id": "1d085919",
   "metadata": {},
   "outputs": [],
   "source": [
    "def solver_improved(comparison_string, word, possible_words):\n",
    "    possible_words = filter_words(possible_words, word, comparison_string)\n",
    "    if len(possible_words) == 0:\n",
    "        print(\"No possible word in vocabulary.\")\n",
    "        return \"\", []\n",
    "    else:\n",
    "        words_sorted = sorted(possible_words, key=lambda x: score_word_improved(x, possible_words))\n",
    "        word = words_sorted[0]\n",
    "        return word, possible_words\n",
    "    \n",
    "    \n",
    "def solver_super_improved(comparison_string, word, possible_words):\n",
    "    possible_words = filter_words(possible_words, word, comparison_string)\n",
    "    if len(possible_words) == 0:\n",
    "        print(\"No possible word in vocabulary.\")\n",
    "        return \"\", []\n",
    "    else:\n",
    "        if len(possible_words) <= 3:\n",
    "            words_sorted = sorted(possible_words, key=lambda x: score_word_improved(x, possible_words))\n",
    "        else:\n",
    "            words_sorted = sorted(words_allowed_guesses, key=lambda x: score_word_improved(x, possible_words))\n",
    "        word = words_sorted[0]\n",
    "        return word, possible_words"
   ]
  },
  {
   "cell_type": "markdown",
   "id": "4f8b1ecb",
   "metadata": {},
   "source": [
    "## Interactive solver"
   ]
  },
  {
   "cell_type": "code",
   "execution_count": 16,
   "id": "04bd1958",
   "metadata": {},
   "outputs": [],
   "source": [
    "possibilities = [(\"Not in word\", \"0\"), (\"In word, wrong spot\", \"1\"), (\"In word, correct spot\", \"2\")]\n",
    "radio_buttons = []\n",
    "for i in range(5):\n",
    "    radio_button = widgets.RadioButtons(options=possibilities, value=\"0\", description=f\"Letter {i+1}:\",\n",
    "                                        layout={'width': 'max-content'})\n",
    "    radio_buttons.append(radio_button)\n",
    "next_word_button = widgets.ToggleButton(value=False, description='Next word')\n",
    "restart_button = widgets.ToggleButton(value=True, description='Restart')\n",
    "solver_button = widgets.Dropdown(options=[(\"Base solver\", solver), (\"Improved solver\", solver_improved),\n",
    "                                          (\"Super improved solver\", solver_super_improved) ])\n",
    "first_vbox = widgets.VBox([radio_buttons[0], next_word_button])\n",
    "second_vbox = widgets.VBox([radio_buttons[1], restart_button])\n",
    "third_vbox = widgets.VBox([radio_buttons[2], solver_button])\n",
    "ui = widgets.HBox([first_vbox, second_vbox, third_vbox] + radio_buttons[3:], box_style=\"info\")\n",
    "\n",
    "buttons_dict = {f\"letter_{i+1}\": radio_buttons[i] for i in range(5)}\n",
    "buttons_dict[\"next_word\"] = next_word_button\n",
    "buttons_dict[\"restart\"] = restart_button\n",
    "buttons_dict[\"solver\"] = solver_button"
   ]
  },
  {
   "cell_type": "code",
   "execution_count": 27,
   "id": "714246fa",
   "metadata": {},
   "outputs": [
    {
     "data": {
      "image/png": "[encoded data removed]",
      "text/plain": [
       "<Figure size 432x288 with 1 Axes>"
      ]
     },
     "metadata": {
      "needs_background": "light"
     },
     "output_type": "display_data"
    },
    {
     "data": {
      "application/vnd.jupyter.widget-view+json": {
       "model_id": "51f4a7baa93c41ffba0c6df88d2b2e55",
       "version_major": 2,
       "version_minor": 0
      },
      "text/plain": [
       "HBox(box_style='info', children=(VBox(children=(RadioButtons(description='Letter 1:', layout=Layout(width='max…"
      ]
     },
     "metadata": {},
     "output_type": "display_data"
    },
    {
     "data": {
      "application/vnd.jupyter.widget-view+json": {
       "model_id": "32e69c0f54ab43a6b4f9d8a85440de62",
       "version_major": 2,
       "version_minor": 0
      },
      "text/plain": [
       "Output()"
      ]
     },
     "metadata": {},
     "output_type": "display_data"
    }
   ],
   "source": [
    "starting_word = \"crane\"\n",
    "possible_words = possible_answers\n",
    "\n",
    "restart_button.value = True\n",
    "out = interactive_output(solver_interactive, buttons_dict)\n",
    "display(ui, out)"
   ]
  },
  {
   "cell_type": "markdown",
   "id": "b810c9b1",
   "metadata": {},
   "source": [
    "## Evalutating solutions"
   ]
  },
  {
   "cell_type": "code",
   "execution_count": 18,
   "id": "35efcd1f",
   "metadata": {},
   "outputs": [],
   "source": [
    "def test_solution(answer_word, solver, starting_word=\"tares\"):\n",
    "    word = starting_word\n",
    "    possible_words = possible_answers\n",
    "    attempts = 1\n",
    "    while attempts < 20:\n",
    "        if word == answer_word:\n",
    "            return attempts\n",
    "        attempts += 1\n",
    "        comparison_string = compare_words(word, answer_word)\n",
    "        word, possible_words = solver(comparison_string, word, possible_words)\n",
    "    return attempts\n",
    "\n",
    "def evaluate_solver(possible_words, solver, starting_word=\"mount\"):\n",
    "    solves = []\n",
    "    for word in tqdm(possible_answers):\n",
    "        solves.append((word, test_solution(word, solver, starting_word=starting_word)))\n",
    "    mean_attempts = sum([solve[1] for solve in solves])/len(solves)\n",
    "    print(f\"Mean number of attempts: {mean_attempts}\")\n",
    "    failed = [solve[0] for solve in solves if solve[1] > 6]\n",
    "    print(f\"Failed words (more than 6 attempts): {len(failed)}\")\n",
    "    print(\", \".join(failed))"
   ]
  },
  {
   "cell_type": "code",
   "execution_count": 19,
   "id": "2b30349f",
   "metadata": {},
   "outputs": [
    {
     "data": {
      "application/vnd.jupyter.widget-view+json": {
       "model_id": "9198db1f5d62438ab9ef7040430165fb",
       "version_major": 2,
       "version_minor": 0
      },
      "text/plain": [
       "  0%|          | 0/2315 [00:00<?, ?it/s]"
      ]
     },
     "metadata": {},
     "output_type": "display_data"
    },
    {
     "name": "stdout",
     "output_type": "stream",
     "text": [
      "Mean number of attempts: 3.8168466522678184\n",
      "Failed words (more than 6 attempts): 28\n",
      "awash, bezel, boxer, brave, brook, daddy, ferry, found, foyer, frown, fully, hatch, hunch, jaunt, joker, jolly, kitty, level, mammy, poppy, shave, swash, swore, taste, waver, weave, willy, wound\n"
     ]
    }
   ],
   "source": [
    "evaluate_solver(possible_answers, solver, starting_word=\"raise\")"
   ]
  },
  {
   "cell_type": "code",
   "execution_count": 20,
   "id": "474f2ce5",
   "metadata": {},
   "outputs": [
    {
     "data": {
      "application/vnd.jupyter.widget-view+json": {
       "model_id": "c04cae9763ae4e88a809659a04892a76",
       "version_major": 2,
       "version_minor": 0
      },
      "text/plain": [
       "  0%|          | 0/2315 [00:00<?, ?it/s]"
      ]
     },
     "metadata": {},
     "output_type": "display_data"
    },
    {
     "name": "stdout",
     "output_type": "stream",
     "text": [
      "Mean number of attempts: 3.8220302375809934\n",
      "Failed words (more than 6 attempts): 24\n",
      "boxer, catch, crack, eagle, ferry, found, freed, frown, hatch, jaunt, jolly, kitty, krill, nanny, rearm, roger, rover, sever, shave, waver, weave, wight, willy, wound\n"
     ]
    }
   ],
   "source": [
    "evaluate_solver(possible_answers, solver, starting_word=\"tares\")"
   ]
  },
  {
   "cell_type": "code",
   "execution_count": 21,
   "id": "1ad39f09",
   "metadata": {},
   "outputs": [
    {
     "data": {
      "application/vnd.jupyter.widget-view+json": {
       "model_id": "6e2f0f347a8f4352accada0d6700c0ef",
       "version_major": 2,
       "version_minor": 0
      },
      "text/plain": [
       "  0%|          | 0/2315 [00:00<?, ?it/s]"
      ]
     },
     "metadata": {},
     "output_type": "display_data"
    },
    {
     "name": "stdout",
     "output_type": "stream",
     "text": [
      "Mean number of attempts: 3.5939524838012957\n",
      "Failed words (more than 6 attempts): 12\n",
      "goner, homer, patch, pound, sound, stash, vaunt, waste, watch, wight, willy, wound\n"
     ]
    }
   ],
   "source": [
    "evaluate_solver(possible_answers, solver_improved, starting_word=\"roate\")"
   ]
  },
  {
   "cell_type": "code",
   "execution_count": 22,
   "id": "364092e7",
   "metadata": {},
   "outputs": [
    {
     "data": {
      "application/vnd.jupyter.widget-view+json": {
       "model_id": "96cfeddf30f841bca9b5cb074694a3f7",
       "version_major": 2,
       "version_minor": 0
      },
      "text/plain": [
       "  0%|          | 0/2315 [00:00<?, ?it/s]"
      ]
     },
     "metadata": {},
     "output_type": "display_data"
    },
    {
     "name": "stdout",
     "output_type": "stream",
     "text": [
      "Mean number of attempts: 3.5939524838012957\n",
      "Failed words (more than 6 attempts): 12\n",
      "goner, homer, patch, pound, sound, stash, vaunt, waste, watch, wight, willy, wound\n"
     ]
    }
   ],
   "source": [
    "evaluate_solver(possible_answers, solver_improved, starting_word=\"roate\")"
   ]
  },
  {
   "cell_type": "code",
   "execution_count": 23,
   "id": "92847297",
   "metadata": {},
   "outputs": [
    {
     "data": {
      "application/vnd.jupyter.widget-view+json": {
       "model_id": "f437bd1a7bc4404ebfccaa2741a326fe",
       "version_major": 2,
       "version_minor": 0
      },
      "text/plain": [
       "  0%|          | 0/2315 [00:00<?, ?it/s]"
      ]
     },
     "metadata": {},
     "output_type": "display_data"
    },
    {
     "name": "stdout",
     "output_type": "stream",
     "text": [
      "Mean number of attempts: 3.5779697624190065\n",
      "Failed words (more than 6 attempts): 10\n",
      "crazy, foyer, jolly, pound, shave, vaunt, waste, watch, willy, wound\n"
     ]
    }
   ],
   "source": [
    "evaluate_solver(possible_answers, solver_improved, starting_word=\"crane\")"
   ]
  },
  {
   "cell_type": "code",
   "execution_count": 28,
   "id": "c89aec53",
   "metadata": {},
   "outputs": [
    {
     "data": {
      "text/plain": [
       "3"
      ]
     },
     "execution_count": 28,
     "metadata": {},
     "output_type": "execute_result"
    }
   ],
   "source": [
    "test_solution(\"audio\",solver_super_improved,starting_word=\"crane\")"
   ]
  },
  {
   "cell_type": "code",
   "execution_count": 29,
   "id": "85bf85e4",
   "metadata": {},
   "outputs": [
    {
     "data": {
      "text/plain": [
       "2"
      ]
     },
     "execution_count": 29,
     "metadata": {},
     "output_type": "execute_result"
    }
   ],
   "source": [
    "test_solution(\"alone\",solver_super_improved,starting_word=\"crane\")"
   ]
  },
  {
   "cell_type": "code",
   "execution_count": null,
   "id": "a94729d3",
   "metadata": {},
   "outputs": [],
   "source": []
  }
 ],
 "metadata": {
  "kernelspec": {
   "display_name": "Python 3 (ipykernel)",
   "language": "python",
   "name": "python3"
  },
  "language_info": {
   "codemirror_mode": {
    "name": "ipython",
    "version": 3
   },
   "file_extension": ".py",
   "mimetype": "text/x-python",
   "name": "python",
   "nbconvert_exporter": "python",
   "pygments_lexer": "ipython3",
   "version": "3.9.12"
  }
 },
 "nbformat": 4,
 "nbformat_minor": 5
}

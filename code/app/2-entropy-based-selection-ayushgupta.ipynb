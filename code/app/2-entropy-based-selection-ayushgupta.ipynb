{
 "cells": [
  {
   "cell_type": "code",
   "execution_count": 18,
   "id": "2bb9f3f3",
   "metadata": {},
   "outputs": [],
   "source": [
    "import pandas as pd\n",
    "import itertools\n",
    "import os\n",
    "from tqdm import tqdm\n",
    "from collections import defaultdict\n",
    "import pickle"
   ]
  },
  {
   "cell_type": "code",
   "execution_count": 9,
   "id": "11d07c3b",
   "metadata": {},
   "outputs": [
    {
     "name": "stdout",
     "output_type": "stream",
     "text": [
      "243\n"
     ]
    }
   ],
   "source": [
    "# Let grey is represented by 0, yellow by 1 and green by 2\n",
    "# what could be possible input info of 5 letter word in wordle\n",
    "allPatterns = list(itertools.product([0,1,2], repeat=5))\n",
    "print(len(allPatterns))\n",
    "# Total 3 power 5 that is 243 possible combination"
   ]
  },
  {
   "cell_type": "code",
   "execution_count": 10,
   "id": "c3253a33",
   "metadata": {},
   "outputs": [
    {
     "name": "stdout",
     "output_type": "stream",
     "text": [
      "12972\n"
     ]
    }
   ],
   "source": [
    "#  Extracting all and curated word list from data folder\n",
    "with open(r'words.txt', encoding='utf-8') as f:\n",
    "    rawwordlelist = f.read()\n",
    "rawwordlelist = rawwordlelist.split(\",\")\n",
    "allWordList = []\n",
    "for word in rawwordlelist:\n",
    "    word = word.strip('\"')\n",
    "    allWordList.append(word)\n",
    "print(len(allWordList))"
   ]
  },
  {
   "cell_type": "code",
   "execution_count": 11,
   "id": "f832afc8",
   "metadata": {},
   "outputs": [
    {
     "name": "stdout",
     "output_type": "stream",
     "text": [
      "2315\n"
     ]
    }
   ],
   "source": [
    "# First 2315 words of our list are most frequent wordle answers. so lets extract it too.\n",
    "curatedWordList = allWordList[:2315]\n",
    "print(len(curatedWordList))"
   ]
  },
  {
   "cell_type": "code",
   "execution_count": 12,
   "id": "e8ae3cb2",
   "metadata": {},
   "outputs": [],
   "source": [
    "# Sanity check whether all words are of 5 length or not\n",
    "errorMsg = 'All words are not of 5 letter each'\n",
    "assert len({len(x) for x in allWordList}) == 1 and len(allWordList[0]) == 5, errorMsg"
   ]
  },
  {
   "cell_type": "code",
   "execution_count": 13,
   "id": "9f160423",
   "metadata": {},
   "outputs": [
    {
     "name": "stdout",
     "output_type": "stream",
     "text": [
      "(1, 2, 0, 1, 2)\n"
     ]
    }
   ],
   "source": [
    "def convertWordToPattern(guessWord, realAnswer):\n",
    "    \"\"\"\n",
    "    lets suppose if ans is midst and we guessed digit then we return (1, 2, 0, 1, 2)\n",
    "    \"\"\"\n",
    "    pattern = [0, 0, 0 ,0 ,0]\n",
    "    for i, x in enumerate(guessWord):\n",
    "        pattern[i] = int(x in realAnswer)\n",
    "    for i, (x1, x2) in enumerate(zip(guessWord, realAnswer)):\n",
    "        if x1 == x2:\n",
    "            pattern[i] = 2\n",
    "    \n",
    "    return tuple(pattern)\n",
    "\n",
    "# lets test it\n",
    "print(convertWordToPattern('digit', 'midst'))\n",
    "    "
   ]
  },
  {
   "cell_type": "code",
   "execution_count": 14,
   "id": "988729f4",
   "metadata": {},
   "outputs": [
    {
     "name": "stderr",
     "output_type": "stream",
     "text": [
      "100%|███████████████████████████████████████| 2315/2315 [09:20<00:00,  4.13it/s]"
     ]
    },
    {
     "name": "stdout",
     "output_type": "stream",
     "text": [
      "2315\n"
     ]
    },
    {
     "name": "stderr",
     "output_type": "stream",
     "text": [
      "\n"
     ]
    }
   ],
   "source": [
    "def createPatternMap(wordList):\n",
    "    \"\"\"\n",
    "    For every word in the wordlist with every possible pattern information we get from wordle game, \n",
    "    lets create a list of possible set of words.\n",
    "    \"\"\"\n",
    "    wordPatternMap = defaultdict(lambda: defaultdict(set))\n",
    "    for word in tqdm(wordList):\n",
    "        for realAnswer in wordList:\n",
    "            pattern = convertWordToPattern(word, wordList)\n",
    "            wordPatternMap[word][pattern].add(realAnswer)\n",
    "    return dict(wordPatternMap)\n"
   ]
  },
  {
   "cell_type": "code",
   "execution_count": 20,
   "id": "27dfa6e1",
   "metadata": {},
   "outputs": [
    {
     "name": "stdout",
     "output_type": "stream",
     "text": [
      "2315\n"
     ]
    }
   ],
   "source": [
    "if 'wordPatternMap.p' not in os.listdir('.'):\n",
    "#     Lets cache this patterns map so that we dont need to create it everytime\n",
    "    wordPatternMap = createPatternMap(curatedWordList)\n",
    "    pickle.dump(wordPatternMap, open('wordPatternMap.p', 'wb+'))\n",
    "else:\n",
    "    # loading patterns map from the cache file\n",
    "    wordPatternMap = pickle.load(open('wordPatternMap.p', 'rb'))"
   ]
  },
  {
   "cell_type": "code",
   "execution_count": null,
   "id": "f66b1d3c",
   "metadata": {},
   "outputs": [],
   "source": []
  }
 ],
 "metadata": {
  "kernelspec": {
   "display_name": "Python 3 (ipykernel)",
   "language": "python",
   "name": "python3"
  },
  "language_info": {
   "codemirror_mode": {
    "name": "ipython",
    "version": 3
   },
   "file_extension": ".py",
   "mimetype": "text/x-python",
   "name": "python",
   "nbconvert_exporter": "python",
   "pygments_lexer": "ipython3",
   "version": "3.9.7"
  }
 },
 "nbformat": 4,
 "nbformat_minor": 5
}

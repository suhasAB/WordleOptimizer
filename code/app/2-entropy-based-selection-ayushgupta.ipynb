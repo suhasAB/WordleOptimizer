{
 "cells": [
  {
   "cell_type": "code",
   "execution_count": 1,
   "id": "3a79c581",
   "metadata": {},
   "outputs": [],
   "source": [
    "import pandas as pd\n",
    "import itertools\n",
    "import os\n",
    "from tqdm import tqdm\n",
    "from collections import defaultdict\n",
    "import pickle\n",
    "import random\n",
    "from scipy.stats import entropy"
   ]
  },
  {
   "cell_type": "code",
   "execution_count": 2,
   "id": "5b48b4b1",
   "metadata": {},
   "outputs": [
    {
     "name": "stdout",
     "output_type": "stream",
     "text": [
      "243\n"
     ]
    }
   ],
   "source": [
    "# Let grey is represented by 0, yellow by 1 and green by 2\n",
    "# what could be possible input info of 5 letter word in wordle\n",
    "allPatterns = list(itertools.product([0,1,2], repeat=5))\n",
    "print(len(allPatterns))\n",
    "# Total 3 power 5 that is 243 possible combination"
   ]
  },
  {
   "cell_type": "code",
   "execution_count": 3,
   "id": "bc1b1bcb",
   "metadata": {},
   "outputs": [
    {
     "name": "stdout",
     "output_type": "stream",
     "text": [
      "all valid guess words Len 12972\n",
      "curated word list Len: 2315\n"
     ]
    }
   ],
   "source": [
    "#  Extracting all and curated word list from data folder\n",
    "# with open(r'words.txt', encoding='utf-8') as f:\n",
    "#     rawwordlelist = f.read()\n",
    "# rawwordlelist = rawwordlelist.split(\",\")\n",
    "# allWordList = []\n",
    "# for word in rawwordlelist:\n",
    "#     word = word.strip('\"')\n",
    "#     allWordList.append(word)\n",
    "# print(len(allWordList))\n",
    "\n",
    "allWordList = list(pd.read_csv('./data/processed/valid_guesses.csv')['word'])\n",
    "curatedWordList = list(pd.read_csv('./data/processed/valid_solutions.csv')['word'])\n",
    "allWordList += curatedWordList\n",
    "print(\"all valid guess words Len\",len(allWordList))\n",
    "print(\"curated word list Len:\", len(curatedWordList))"
   ]
  },
  {
   "cell_type": "code",
   "execution_count": 4,
   "id": "3d5c12a2",
   "metadata": {},
   "outputs": [],
   "source": [
    "# First 2315 words of our list are most frequent wordle answers. so lets extract it too.\n",
    "# curatedWordList = allWordList[:2315]\n",
    "# print(len(curatedWordList))"
   ]
  },
  {
   "cell_type": "code",
   "execution_count": 5,
   "id": "388253fe",
   "metadata": {},
   "outputs": [],
   "source": [
    "# Sanity check whether all words are of 5 length or not\n",
    "errorMsg = 'All words are not of 5 letter each'\n",
    "assert len({len(x) for x in allWordList}) == 1 and len(allWordList[0]) == 5, errorMsg"
   ]
  },
  {
   "cell_type": "code",
   "execution_count": 6,
   "id": "755ebb8b",
   "metadata": {},
   "outputs": [
    {
     "name": "stdout",
     "output_type": "stream",
     "text": [
      "(1, 2, 0, 1, 2)\n"
     ]
    }
   ],
   "source": [
    "def convertWordToPattern(guessWord, realAnswer):\n",
    "    \"\"\"\n",
    "    lets suppose if ans is midst and we guessed digit then we return (1, 2, 0, 1, 2)\n",
    "    \"\"\"\n",
    "    pattern = [0, 0, 0 ,0 ,0]\n",
    "    for i, x in enumerate(guessWord):\n",
    "        pattern[i] = int(x in realAnswer)\n",
    "    for i, (x1, x2) in enumerate(zip(guessWord, realAnswer)):\n",
    "        if x1 == x2:\n",
    "            pattern[i] = 2\n",
    "    \n",
    "    return tuple(pattern)\n",
    "\n",
    "# lets test it\n",
    "print(convertWordToPattern('digit', 'midst'))\n",
    "    "
   ]
  },
  {
   "cell_type": "code",
   "execution_count": 7,
   "id": "f7eb67b7",
   "metadata": {},
   "outputs": [],
   "source": [
    "def createPatternMap(wordList):\n",
    "    \"\"\"\n",
    "    For every word in the wordlist with every possible pattern information we get from wordle game, \n",
    "    lets create a list of possible set of words.\n",
    "    \"\"\"\n",
    "    wordPatternMap = defaultdict(lambda: defaultdict(set))\n",
    "    for word in tqdm(wordList):\n",
    "        for realAnswer in wordList:\n",
    "            pattern = convertWordToPattern(word, wordList)\n",
    "            wordPatternMap[word][pattern].add(realAnswer)\n",
    "    return dict(wordPatternMap)\n"
   ]
  },
  {
   "cell_type": "code",
   "execution_count": 8,
   "id": "884d49ae",
   "metadata": {},
   "outputs": [],
   "source": [
    "if 'wordPatternMap.p' not in os.listdir('./data/processed'):\n",
    "#     Lets cache this patterns map so that we dont need to create it everytime\n",
    "    wordPatternMap = createPatternMap(curatedWordList)\n",
    "    pickle.dump(wordPatternMap, open('./data/processed/wordPatternMap.p', 'wb+'))\n",
    "else:\n",
    "    # loading patterns map from the cache file\n",
    "    wordPatternMap = pickle.load(open('./data/processed/wordPatternMap.p', 'rb'))"
   ]
  },
  {
   "cell_type": "code",
   "execution_count": 9,
   "id": "45b4b7e3",
   "metadata": {},
   "outputs": [],
   "source": [
    "def calculateEntropies(possibleWords, wordPatternMap):\n",
    "#     wordList,\n",
    "    \"\"\"\n",
    "    Calculating the entropy for every word in our words list , taking into account the remaining possible words\n",
    "    \"\"\"\n",
    "    entropiesMap = {}\n",
    "    for word in tqdm(possibleWords):\n",
    "        counts = []\n",
    "        for pattern in allPatterns:\n",
    "            matches = wordPatternMap[word][tuple(pattern)]\n",
    "            matches = matches.intersection(possibleWords)\n",
    "            counts.append(len(matches))\n",
    "        entropiesMap[word] = entropy(counts)\n",
    "    return entropiesMap"
   ]
  },
  {
   "cell_type": "code",
   "execution_count": null,
   "id": "7ab8546c",
   "metadata": {},
   "outputs": [],
   "source": []
  },
  {
   "cell_type": "code",
   "execution_count": 10,
   "id": "88eebe74",
   "metadata": {},
   "outputs": [
    {
     "name": "stderr",
     "output_type": "stream",
     "text": [
      "100%|█████████████████████████████████████| 2315/2315 [00:00<00:00, 4000.22it/s]\n"
     ]
    },
    {
     "name": "stdout",
     "output_type": "stream",
     "text": [
      "set of possible words includes like:\n",
      "['raise', 'slate', 'crate', 'irate', 'trace', 'arise', 'stare', 'snare', 'arose', 'least']\n",
      "Our suggestion for guess based on Entropy:  slate\n",
      "=====Now tell which Word you want to Put in Wordle as your guess:  eg: midst\n",
      "trace\n",
      "===Now Enter the pattern info return by wordle: eg: 01221 where 0=grey,1=yellow, 2=green color\n",
      "00110\n",
      "you guessed: \" trace \"wordle pattern you provided: (0, 0, 1, 1, 0)\n"
     ]
    },
    {
     "name": "stderr",
     "output_type": "stream",
     "text": [
      "100%|██████████████████████████████████████████| 32/32 [00:00<00:00, 676.06it/s]\n"
     ]
    },
    {
     "name": "stdout",
     "output_type": "stream",
     "text": [
      "set of possible words includes like:\n",
      "['canal', 'cabal', 'cacao', 'cabin', 'bacon', 'manic', 'cavil', 'canon', 'china', 'vocal']\n",
      "Our suggestion for guess based on Entropy:  canal\n",
      "=====Now tell which Word you want to Put in Wordle as your guess:  eg: midst\n",
      "cacao\n",
      "===Now Enter the pattern info return by wordle: eg: 01221 where 0=grey,1=yellow, 2=green color\n",
      "22110\n",
      "you guessed: \" cacao \"wordle pattern you provided: (2, 2, 1, 1, 0)\n"
     ]
    },
    {
     "name": "stderr",
     "output_type": "stream",
     "text": [
      "100%|███████████████████████████████████████████| 7/7 [00:00<00:00, 2521.70it/s]\n"
     ]
    },
    {
     "name": "stdout",
     "output_type": "stream",
     "text": [
      "set of possible words includes like:\n",
      "['candy', 'cabin', 'canny', 'caddy', 'cabby', 'cavil', 'caulk']\n",
      "Our suggestion for guess based on Entropy:  caddy\n",
      "=====Now tell which Word you want to Put in Wordle as your guess:  eg: midst\n",
      "caddy\n",
      "===Now Enter the pattern info return by wordle: eg: 01221 where 0=grey,1=yellow, 2=green color\n",
      "22002\n",
      "you guessed: \" caddy \"wordle pattern you provided: (2, 2, 0, 0, 2)\n"
     ]
    },
    {
     "name": "stderr",
     "output_type": "stream",
     "text": [
      "100%|████████████████████████████████████████████| 2/2 [00:00<00:00, 339.34it/s]\n"
     ]
    },
    {
     "name": "stdout",
     "output_type": "stream",
     "text": [
      "set of possible words includes like:\n",
      "['cabby', 'canny']\n",
      "Our suggestion for guess based on Entropy:  canny\n",
      "=====Now tell which Word you want to Put in Wordle as your guess:  eg: midst\n",
      "canny\n",
      "===Now Enter the pattern info return by wordle: eg: 01221 where 0=grey,1=yellow, 2=green color\n",
      "22222\n",
      "you guessed: \" canny \"wordle pattern you provided: (2, 2, 2, 2, 2)\n",
      "WIN! in 4 guesses\n",
      "\n",
      "\n",
      "\n"
     ]
    }
   ],
   "source": [
    "# Lets begin a trial\n",
    "# Lets play wordle with nytimes by giving guess word and its pattern output as result\n",
    "\n",
    "# Assumption: If there is duplicate letter, pattern will show 1 for duplicate letter which\n",
    "# is in wrong position and not 0\n",
    "\n",
    "def playNyTimesWordleWithUserInput():\n",
    "#     realAnswer = random.choice(curatedWordList)\n",
    "#     print(\"====RealAnswer to reach is \", realAnswer)\n",
    "    possibleWords = set(curatedWordList)\n",
    "\n",
    "    for i in range(6):\n",
    "    #     print(\"====possiblewordss\", possibleWords)\n",
    "        entropies = calculateEntropies( possibleWords, wordPatternMap)\n",
    "        print(\"set of possible words includes like:\")\n",
    "        print([sample_word[0] for sample_word in sorted(entropies.items(), key=lambda sample_word: -sample_word[1])[:10]])\n",
    "\n",
    "    #   Pick max entropy word\n",
    "        guessWord = random.choice([x[0] for x in sorted(entropies.items(), key=lambda x: -x[1])[:10]])\n",
    "        print('Our suggestion for guess based on Entropy: ', guessWord)\n",
    "        \n",
    "        print(\"=====Now tell which Word you want to Put in Wordle as your guess:  eg: midst\")\n",
    "        guessWord = input()\n",
    "        print('===Now Enter the pattern info return by wordle: eg: 01221 where 0=grey,1=yellow, 2=green color')\n",
    "        guessWordPatternOutput = tuple(map(int, tuple(input())))\n",
    "\n",
    "#         guessWordPatternOutput = [0, 0, 0, 0, 0]\n",
    "#         for i, l1 in enumerate(guessWord):\n",
    "#             guessWordPatternOutput[i] = int(l1 in realAnswer)\n",
    "\n",
    "#         for i, (l1, l2) in enumerate(zip(guessWord, realAnswer)):\n",
    "#             if l1 == l2:\n",
    "#                 guessWordPatternOutput[i] = 2\n",
    "\n",
    "        print('you guessed: \\\"', guessWord, '\\\"wordle pattern you provided:', guessWordPatternOutput)\n",
    "        if guessWordPatternOutput == (2,2,2,2,2):\n",
    "            print(f'WIN! in {i+1} guesses')\n",
    "            print()\n",
    "            print()\n",
    "            print()\n",
    "            break\n",
    "    #     print(\"wordPatternMap\", wordPatternMap[guessWord])\n",
    "        words = wordPatternMap[guessWord][tuple(guessWordPatternOutput)]\n",
    "    #     print(\"====words\", words)\n",
    "        possibleWords = possibleWords.intersection(words)\n",
    "playNyTimesWordleWithUserInput()\n",
    "    "
   ]
  },
  {
   "cell_type": "code",
   "execution_count": 17,
   "id": "7210fc95",
   "metadata": {},
   "outputs": [
    {
     "name": "stdout",
     "output_type": "stream",
     "text": [
      "====RealAnswer to reach is  fetch\n"
     ]
    },
    {
     "name": "stderr",
     "output_type": "stream",
     "text": [
      "100%|█████████████████████████████████████| 2315/2315 [00:00<00:00, 4287.88it/s]\n"
     ]
    },
    {
     "name": "stdout",
     "output_type": "stream",
     "text": [
      "set of possible words includes like:\n",
      "['raise', 'slate', 'crate', 'irate', 'trace', 'arise', 'stare', 'snare', 'arose', 'least']\n",
      "Our suggestion for guess based on Entropy:  snare\n",
      "guessWordPatternOutput: [0, 0, 0, 0, 1]\n"
     ]
    },
    {
     "name": "stderr",
     "output_type": "stream",
     "text": [
      "100%|███████████████████████████████████████| 110/110 [00:00<00:00, 5682.71it/s]\n"
     ]
    },
    {
     "name": "stdout",
     "output_type": "stream",
     "text": [
      "set of possible words includes like:\n",
      "['hotel', 'filet', 'betel', 'depot', 'dwelt', 'debit', 'towel', 'tepid', 'plied', 'dowel']\n",
      "Our suggestion for guess based on Entropy:  towel\n",
      "guessWordPatternOutput: [1, 0, 0, 1, 0]\n"
     ]
    },
    {
     "name": "stderr",
     "output_type": "stream",
     "text": [
      "100%|█████████████████████████████████████████| 17/17 [00:00<00:00, 5588.46it/s]\n"
     ]
    },
    {
     "name": "stdout",
     "output_type": "stream",
     "text": [
      "set of possible words includes like:\n",
      "['edict', 'depth', 'deity', 'befit', 'debit', 'fetid', 'evict', 'eight', 'fetch', 'hefty']\n",
      "Our suggestion for guess based on Entropy:  deity\n",
      "guessWordPatternOutput: [0, 2, 0, 1, 0]\n"
     ]
    },
    {
     "name": "stderr",
     "output_type": "stream",
     "text": [
      "100%|███████████████████████████████████████████| 1/1 [00:00<00:00, 4583.94it/s]\n"
     ]
    },
    {
     "name": "stdout",
     "output_type": "stream",
     "text": [
      "set of possible words includes like:\n",
      "['fetch']\n",
      "Our suggestion for guess based on Entropy:  fetch\n",
      "guessWordPatternOutput: [2, 2, 2, 2, 2]\n",
      "You Won! : 1  times\n",
      "\n",
      "\n",
      "\n",
      "====RealAnswer to reach is  giver\n"
     ]
    },
    {
     "name": "stderr",
     "output_type": "stream",
     "text": [
      "100%|█████████████████████████████████████| 2315/2315 [00:00<00:00, 3877.22it/s]\n"
     ]
    },
    {
     "name": "stdout",
     "output_type": "stream",
     "text": [
      "set of possible words includes like:\n",
      "['raise', 'slate', 'crate', 'irate', 'trace', 'arise', 'stare', 'snare', 'arose', 'least']\n",
      "Our suggestion for guess based on Entropy:  arise\n",
      "guessWordPatternOutput: [0, 1, 1, 0, 1]\n"
     ]
    },
    {
     "name": "stderr",
     "output_type": "stream",
     "text": [
      "100%|█████████████████████████████████████████| 34/34 [00:00<00:00, 2115.63it/s]\n"
     ]
    },
    {
     "name": "stdout",
     "output_type": "stream",
     "text": [
      "set of possible words includes like:\n",
      "['rivet', 'finer', 'diner', 'liner', 'ripen', 'miner', 'infer', 'liver', 'diver', 'filer']\n",
      "Our suggestion for guess based on Entropy:  ripen\n",
      "guessWordPatternOutput: [1, 2, 0, 2, 0]\n"
     ]
    },
    {
     "name": "stderr",
     "output_type": "stream",
     "text": [
      "100%|█████████████████████████████████████████| 10/10 [00:00<00:00, 1881.78it/s]\n"
     ]
    },
    {
     "name": "stdout",
     "output_type": "stream",
     "text": [
      "set of possible words includes like:\n",
      "['diver', 'filer', 'giver', 'liver', 'cider', 'tiger', 'wider', 'fiber', 'fixer', 'timer']\n",
      "Our suggestion for guess based on Entropy:  diver\n",
      "guessWordPatternOutput: [0, 2, 2, 2, 2]\n"
     ]
    },
    {
     "name": "stderr",
     "output_type": "stream",
     "text": [
      "100%|████████████████████████████████████████████| 2/2 [00:00<00:00, 598.46it/s]\n"
     ]
    },
    {
     "name": "stdout",
     "output_type": "stream",
     "text": [
      "set of possible words includes like:\n",
      "['liver', 'giver']\n",
      "Our suggestion for guess based on Entropy:  giver\n",
      "guessWordPatternOutput: [2, 2, 2, 2, 2]\n",
      "You Won! : 2  times\n",
      "\n",
      "\n",
      "\n",
      "====RealAnswer to reach is  poser\n"
     ]
    },
    {
     "name": "stderr",
     "output_type": "stream",
     "text": [
      "100%|█████████████████████████████████████| 2315/2315 [00:00<00:00, 2767.06it/s]\n"
     ]
    },
    {
     "name": "stdout",
     "output_type": "stream",
     "text": [
      "set of possible words includes like:\n",
      "['raise', 'slate', 'crate', 'irate', 'trace', 'arise', 'stare', 'snare', 'arose', 'least']\n",
      "Our suggestion for guess based on Entropy:  snare\n",
      "guessWordPatternOutput: [1, 0, 0, 1, 1]\n"
     ]
    },
    {
     "name": "stderr",
     "output_type": "stream",
     "text": [
      "100%|█████████████████████████████████████████| 16/16 [00:00<00:00, 6864.65it/s]\n"
     ]
    },
    {
     "name": "stdout",
     "output_type": "stream",
     "text": [
      "set of possible words includes like:\n",
      "['reset', 'poser', 'wrest', 'crest', 'wiser', 'riser', 'press', 'loser', 'usher', 'cress']\n",
      "Our suggestion for guess based on Entropy:  riser\n",
      "guessWordPatternOutput: [1, 0, 2, 2, 2]\n"
     ]
    },
    {
     "name": "stderr",
     "output_type": "stream",
     "text": [
      "100%|███████████████████████████████████████████| 2/2 [00:00<00:00, 6533.18it/s]\n"
     ]
    },
    {
     "name": "stdout",
     "output_type": "stream",
     "text": [
      "set of possible words includes like:\n",
      "['poser', 'loser']\n",
      "Our suggestion for guess based on Entropy:  loser\n",
      "guessWordPatternOutput: [0, 2, 2, 2, 2]\n"
     ]
    },
    {
     "name": "stderr",
     "output_type": "stream",
     "text": [
      "100%|███████████████████████████████████████████| 1/1 [00:00<00:00, 5029.14it/s]\n"
     ]
    },
    {
     "name": "stdout",
     "output_type": "stream",
     "text": [
      "set of possible words includes like:\n",
      "['poser']\n",
      "Our suggestion for guess based on Entropy:  poser\n",
      "guessWordPatternOutput: [2, 2, 2, 2, 2]\n",
      "You Won! : 3  times\n",
      "\n",
      "\n",
      "\n",
      "====RealAnswer to reach is  olive\n"
     ]
    },
    {
     "name": "stderr",
     "output_type": "stream",
     "text": [
      "100%|█████████████████████████████████████| 2315/2315 [00:00<00:00, 4118.76it/s]\n"
     ]
    },
    {
     "name": "stdout",
     "output_type": "stream",
     "text": [
      "set of possible words includes like:\n",
      "['raise', 'slate', 'crate', 'irate', 'trace', 'arise', 'stare', 'snare', 'arose', 'least']\n",
      "Our suggestion for guess based on Entropy:  stare\n",
      "guessWordPatternOutput: [0, 0, 0, 0, 2]\n"
     ]
    },
    {
     "name": "stderr",
     "output_type": "stream",
     "text": [
      "100%|█████████████████████████████████████████| 87/87 [00:00<00:00, 6977.27it/s]\n"
     ]
    },
    {
     "name": "stdout",
     "output_type": "stream",
     "text": [
      "set of possible words includes like:\n",
      "['guile', 'glide', 'lunge', 'clone', 'binge', 'ounce', 'bilge', 'boule', 'hinge', 'globe']\n",
      "Our suggestion for guess based on Entropy:  bilge\n",
      "guessWordPatternOutput: [0, 1, 1, 0, 2]\n"
     ]
    },
    {
     "name": "stderr",
     "output_type": "stream",
     "text": [
      "100%|███████████████████████████████████████████| 4/4 [00:00<00:00, 7197.43it/s]\n"
     ]
    },
    {
     "name": "stdout",
     "output_type": "stream",
     "text": [
      "set of possible words includes like:\n",
      "['elide', 'exile', 'while', 'olive']\n",
      "Our suggestion for guess based on Entropy:  elide\n",
      "guessWordPatternOutput: [1, 2, 2, 0, 2]\n"
     ]
    },
    {
     "name": "stderr",
     "output_type": "stream",
     "text": [
      "100%|███████████████████████████████████████████| 1/1 [00:00<00:00, 4951.95it/s]\n"
     ]
    },
    {
     "name": "stdout",
     "output_type": "stream",
     "text": [
      "set of possible words includes like:\n",
      "['olive']\n",
      "Our suggestion for guess based on Entropy:  olive\n",
      "guessWordPatternOutput: [2, 2, 2, 2, 2]\n",
      "You Won! : 4  times\n",
      "\n",
      "\n",
      "\n",
      "====RealAnswer to reach is  finch\n"
     ]
    },
    {
     "name": "stderr",
     "output_type": "stream",
     "text": [
      "100%|█████████████████████████████████████| 2315/2315 [00:00<00:00, 3449.24it/s]\n"
     ]
    },
    {
     "name": "stdout",
     "output_type": "stream",
     "text": [
      "set of possible words includes like:\n",
      "['raise', 'slate', 'crate', 'irate', 'trace', 'arise', 'stare', 'snare', 'arose', 'least']\n",
      "Our suggestion for guess based on Entropy:  raise\n",
      "guessWordPatternOutput: [0, 0, 1, 0, 0]\n"
     ]
    },
    {
     "name": "stderr",
     "output_type": "stream",
     "text": [
      "100%|███████████████████████████████████████| 107/107 [00:00<00:00, 7151.36it/s]\n"
     ]
    },
    {
     "name": "stdout",
     "output_type": "stream",
     "text": [
      "set of possible words includes like:\n",
      "['pilot', 'pinto', 'tonic', 'unlit', 'minty', 'until', 'optic', 'filth', 'limit', 'light']\n",
      "Our suggestion for guess based on Entropy:  pilot\n",
      "guessWordPatternOutput: [0, 2, 0, 0, 0]\n"
     ]
    },
    {
     "name": "stderr",
     "output_type": "stream",
     "text": [
      "100%|█████████████████████████████████████████| 16/16 [00:00<00:00, 6334.61it/s]\n"
     ]
    },
    {
     "name": "stdout",
     "output_type": "stream",
     "text": [
      "set of possible words includes like:\n",
      "['windy', 'dingy', 'giddy', 'finch', 'dizzy', 'biddy', 'winch', 'kinky', 'cinch', 'ninny']\n",
      "Our suggestion for guess based on Entropy:  finch\n",
      "guessWordPatternOutput: [2, 2, 2, 2, 2]\n",
      "You Won! : 5  times\n",
      "\n",
      "\n",
      "\n",
      "====RealAnswer to reach is  stoke\n"
     ]
    },
    {
     "name": "stderr",
     "output_type": "stream",
     "text": [
      "100%|█████████████████████████████████████| 2315/2315 [00:01<00:00, 2027.70it/s]\n"
     ]
    },
    {
     "name": "stdout",
     "output_type": "stream",
     "text": [
      "set of possible words includes like:\n",
      "['raise', 'slate', 'crate', 'irate', 'trace', 'arise', 'stare', 'snare', 'arose', 'least']\n",
      "Our suggestion for guess based on Entropy:  snare\n",
      "guessWordPatternOutput: [2, 0, 0, 0, 2]\n"
     ]
    },
    {
     "name": "stderr",
     "output_type": "stream",
     "text": [
      "100%|██████████████████████████████████████████| 24/24 [00:00<00:00, 957.23it/s]\n"
     ]
    },
    {
     "name": "stdout",
     "output_type": "stream",
     "text": [
      "set of possible words includes like:\n",
      "['stole', 'spite', 'smile', 'slime', 'slope', 'smote', 'smite', 'slice', 'stoke', 'stove']\n",
      "Our suggestion for guess based on Entropy:  slope\n",
      "guessWordPatternOutput: [2, 0, 2, 0, 2]\n"
     ]
    },
    {
     "name": "stderr",
     "output_type": "stream",
     "text": [
      "100%|███████████████████████████████████████████| 5/5 [00:00<00:00, 3885.05it/s]\n"
     ]
    },
    {
     "name": "stdout",
     "output_type": "stream",
     "text": [
      "set of possible words includes like:\n",
      "['stove', 'stoke', 'smoke', 'smote', 'shove']\n",
      "Our suggestion for guess based on Entropy:  smote\n",
      "guessWordPatternOutput: [2, 0, 2, 1, 2]\n"
     ]
    },
    {
     "name": "stderr",
     "output_type": "stream",
     "text": [
      "100%|███████████████████████████████████████████| 2/2 [00:00<00:00, 2018.43it/s]\n"
     ]
    },
    {
     "name": "stdout",
     "output_type": "stream",
     "text": [
      "set of possible words includes like:\n",
      "['stoke', 'stove']\n",
      "Our suggestion for guess based on Entropy:  stoke\n",
      "guessWordPatternOutput: [2, 2, 2, 2, 2]\n",
      "You Won! : 6  times\n",
      "\n",
      "\n",
      "\n",
      "====RealAnswer to reach is  amber\n"
     ]
    },
    {
     "name": "stderr",
     "output_type": "stream",
     "text": [
      "100%|█████████████████████████████████████| 2315/2315 [00:01<00:00, 1685.35it/s]\n"
     ]
    },
    {
     "name": "stdout",
     "output_type": "stream",
     "text": [
      "set of possible words includes like:\n",
      "['raise', 'slate', 'crate', 'irate', 'trace', 'arise', 'stare', 'snare', 'arose', 'least']\n",
      "Our suggestion for guess based on Entropy:  slate\n",
      "guessWordPatternOutput: [0, 0, 1, 0, 1]\n"
     ]
    },
    {
     "name": "stderr",
     "output_type": "stream",
     "text": [
      "100%|█████████████████████████████████████████| 61/61 [00:00<00:00, 5841.25it/s]\n"
     ]
    },
    {
     "name": "stdout",
     "output_type": "stream",
     "text": [
      "set of possible words includes like:\n",
      "['amber', 'cream', 'ramen', 'cedar', 'debar', 'anger', 'recap', 'dream', 'bread', 'caper']\n",
      "Our suggestion for guess based on Entropy:  anger\n",
      "guessWordPatternOutput: [2, 0, 0, 2, 2]\n"
     ]
    },
    {
     "name": "stderr",
     "output_type": "stream",
     "text": [
      "100%|███████████████████████████████████████████| 2/2 [00:00<00:00, 7300.79it/s]\n"
     ]
    },
    {
     "name": "stdout",
     "output_type": "stream",
     "text": [
      "set of possible words includes like:\n",
      "['amber', 'aider']\n",
      "Our suggestion for guess based on Entropy:  amber\n",
      "guessWordPatternOutput: [2, 2, 2, 2, 2]\n",
      "You Won! : 7  times\n",
      "\n",
      "\n",
      "\n",
      "====RealAnswer to reach is  heron\n"
     ]
    },
    {
     "name": "stderr",
     "output_type": "stream",
     "text": [
      "100%|█████████████████████████████████████| 2315/2315 [00:00<00:00, 4337.94it/s]\n"
     ]
    },
    {
     "name": "stdout",
     "output_type": "stream",
     "text": [
      "set of possible words includes like:\n",
      "['raise', 'slate', 'crate', 'irate', 'trace', 'arise', 'stare', 'snare', 'arose', 'least']\n",
      "Our suggestion for guess based on Entropy:  stare\n",
      "guessWordPatternOutput: [0, 0, 0, 1, 1]\n"
     ]
    },
    {
     "name": "stderr",
     "output_type": "stream",
     "text": [
      "100%|███████████████████████████████████████| 118/118 [00:00<00:00, 6746.66it/s]\n"
     ]
    },
    {
     "name": "stdout",
     "output_type": "stream",
     "text": [
      "set of possible words includes like:\n",
      "['diner', 'cider', 'rider', 'idler', 'decor', 'older', 'liner', 'filer', 'diver', 'flier']\n",
      "Our suggestion for guess based on Entropy:  older\n",
      "guessWordPatternOutput: [1, 0, 0, 1, 1]\n"
     ]
    },
    {
     "name": "stderr",
     "output_type": "stream",
     "text": [
      "100%|███████████████████████████████████████████| 1/1 [00:00<00:00, 6132.02it/s]\n"
     ]
    },
    {
     "name": "stdout",
     "output_type": "stream",
     "text": [
      "set of possible words includes like:\n",
      "['heron']\n",
      "Our suggestion for guess based on Entropy:  heron\n",
      "guessWordPatternOutput: [2, 2, 2, 2, 2]\n",
      "You Won! : 8  times\n",
      "\n",
      "\n",
      "\n",
      "====RealAnswer to reach is  shied\n"
     ]
    },
    {
     "name": "stderr",
     "output_type": "stream",
     "text": [
      "100%|█████████████████████████████████████| 2315/2315 [00:00<00:00, 4331.66it/s]\n"
     ]
    },
    {
     "name": "stdout",
     "output_type": "stream",
     "text": [
      "set of possible words includes like:\n",
      "['raise', 'slate', 'crate', 'irate', 'trace', 'arise', 'stare', 'snare', 'arose', 'least']\n",
      "Our suggestion for guess based on Entropy:  arise\n",
      "guessWordPatternOutput: [0, 0, 2, 1, 1]\n"
     ]
    },
    {
     "name": "stderr",
     "output_type": "stream",
     "text": [
      "100%|███████████████████████████████████████████| 3/3 [00:00<00:00, 5067.62it/s]\n"
     ]
    },
    {
     "name": "stdout",
     "output_type": "stream",
     "text": [
      "set of possible words includes like:\n",
      "['spied', 'spiel', 'shied']\n",
      "Our suggestion for guess based on Entropy:  spiel\n",
      "guessWordPatternOutput: [2, 0, 2, 2, 0]\n"
     ]
    },
    {
     "name": "stderr",
     "output_type": "stream",
     "text": [
      "100%|███████████████████████████████████████████| 1/1 [00:00<00:00, 5210.32it/s]\n"
     ]
    },
    {
     "name": "stdout",
     "output_type": "stream",
     "text": [
      "set of possible words includes like:\n",
      "['shied']\n",
      "Our suggestion for guess based on Entropy:  shied\n",
      "guessWordPatternOutput: [2, 2, 2, 2, 2]\n",
      "You Won! : 9  times\n",
      "\n",
      "\n",
      "\n",
      "====RealAnswer to reach is  sower\n"
     ]
    },
    {
     "name": "stderr",
     "output_type": "stream",
     "text": [
      "100%|█████████████████████████████████████| 2315/2315 [00:00<00:00, 3719.12it/s]\n"
     ]
    },
    {
     "name": "stdout",
     "output_type": "stream",
     "text": [
      "set of possible words includes like:\n",
      "['raise', 'slate', 'crate', 'irate', 'trace', 'arise', 'stare', 'snare', 'arose', 'least']\n",
      "Our suggestion for guess based on Entropy:  least\n",
      "guessWordPatternOutput: [0, 1, 0, 1, 0]\n"
     ]
    },
    {
     "name": "stderr",
     "output_type": "stream",
     "text": [
      "100%|█████████████████████████████████████████| 59/59 [00:00<00:00, 6932.15it/s]\n"
     ]
    },
    {
     "name": "stdout",
     "output_type": "stream",
     "text": [
      "set of possible words includes like:\n",
      "['spire', 'spine', 'snipe', 'siren', 'shire', 'shine', 'swine', 'spice', 'risen', 'spore']\n",
      "Our suggestion for guess based on Entropy:  shire\n",
      "guessWordPatternOutput: [2, 0, 0, 1, 1]\n"
     ]
    },
    {
     "name": "stderr",
     "output_type": "stream",
     "text": [
      "100%|███████████████████████████████████████████| 6/6 [00:00<00:00, 7566.39it/s]\n"
     ]
    },
    {
     "name": "stdout",
     "output_type": "stream",
     "text": [
      "set of possible words includes like:\n",
      "['super', 'sober', 'surer', 'sower', 'screw', 'sneer']\n",
      "Our suggestion for guess based on Entropy:  screw\n",
      "guessWordPatternOutput: [2, 0, 1, 2, 1]\n"
     ]
    },
    {
     "name": "stderr",
     "output_type": "stream",
     "text": [
      "100%|███████████████████████████████████████████| 1/1 [00:00<00:00, 5817.34it/s]\n"
     ]
    },
    {
     "name": "stdout",
     "output_type": "stream",
     "text": [
      "set of possible words includes like:\n",
      "['sower']\n",
      "Our suggestion for guess based on Entropy:  sower\n",
      "guessWordPatternOutput: [2, 2, 2, 2, 2]\n",
      "You Won! : 10  times\n",
      "\n",
      "\n",
      "\n",
      "====RealAnswer to reach is  whose\n"
     ]
    },
    {
     "name": "stderr",
     "output_type": "stream",
     "text": [
      "100%|█████████████████████████████████████| 2315/2315 [00:00<00:00, 4075.63it/s]\n"
     ]
    },
    {
     "name": "stdout",
     "output_type": "stream",
     "text": [
      "set of possible words includes like:\n",
      "['raise', 'slate', 'crate', 'irate', 'trace', 'arise', 'stare', 'snare', 'arose', 'least']\n",
      "Our suggestion for guess based on Entropy:  raise\n",
      "guessWordPatternOutput: [0, 0, 0, 2, 2]\n"
     ]
    },
    {
     "name": "stderr",
     "output_type": "stream",
     "text": [
      "100%|█████████████████████████████████████████| 20/20 [00:00<00:00, 2509.38it/s]\n"
     ]
    },
    {
     "name": "stdout",
     "output_type": "stream",
     "text": [
      "set of possible words includes like:\n",
      "['loose', 'chose', 'close', 'house', 'those', 'louse', 'noose', 'goose', 'moose', 'mouse']\n",
      "Our suggestion for guess based on Entropy:  chose\n",
      "guessWordPatternOutput: [0, 2, 2, 2, 2]\n"
     ]
    },
    {
     "name": "stderr",
     "output_type": "stream",
     "text": [
      "100%|███████████████████████████████████████████| 2/2 [00:00<00:00, 6620.84it/s]\n"
     ]
    },
    {
     "name": "stdout",
     "output_type": "stream",
     "text": [
      "set of possible words includes like:\n",
      "['those', 'whose']\n",
      "Our suggestion for guess based on Entropy:  whose\n",
      "guessWordPatternOutput: [2, 2, 2, 2, 2]\n",
      "You Won! : 11  times\n",
      "\n",
      "\n",
      "\n",
      "====RealAnswer to reach is  olive\n"
     ]
    },
    {
     "name": "stderr",
     "output_type": "stream",
     "text": [
      "100%|█████████████████████████████████████| 2315/2315 [00:00<00:00, 3620.97it/s]\n"
     ]
    },
    {
     "name": "stdout",
     "output_type": "stream",
     "text": [
      "set of possible words includes like:\n",
      "['raise', 'slate', 'crate', 'irate', 'trace', 'arise', 'stare', 'snare', 'arose', 'least']\n",
      "Our suggestion for guess based on Entropy:  slate\n",
      "guessWordPatternOutput: [0, 2, 0, 0, 2]\n"
     ]
    },
    {
     "name": "stderr",
     "output_type": "stream",
     "text": [
      "100%|█████████████████████████████████████████| 13/13 [00:00<00:00, 6798.75it/s]\n"
     ]
    },
    {
     "name": "stdout",
     "output_type": "stream",
     "text": [
      "set of possible words includes like:\n",
      "['globe', 'glove', 'elope', 'bloke', 'olive', 'elude', 'clove', 'glide', 'clone', 'elide']\n",
      "Our suggestion for guess based on Entropy:  clone\n",
      "guessWordPatternOutput: [0, 2, 1, 0, 2]\n"
     ]
    },
    {
     "name": "stderr",
     "output_type": "stream",
     "text": [
      "100%|███████████████████████████████████████████| 1/1 [00:00<00:00, 5159.05it/s]\n"
     ]
    },
    {
     "name": "stdout",
     "output_type": "stream",
     "text": [
      "set of possible words includes like:\n",
      "['olive']\n",
      "Our suggestion for guess based on Entropy:  olive\n",
      "guessWordPatternOutput: [2, 2, 2, 2, 2]\n",
      "You Won! : 12  times\n",
      "\n",
      "\n",
      "\n",
      "====RealAnswer to reach is  youth\n"
     ]
    },
    {
     "name": "stderr",
     "output_type": "stream",
     "text": [
      "100%|█████████████████████████████████████| 2315/2315 [00:00<00:00, 3951.01it/s]\n"
     ]
    },
    {
     "name": "stdout",
     "output_type": "stream",
     "text": [
      "set of possible words includes like:\n",
      "['raise', 'slate', 'crate', 'irate', 'trace', 'arise', 'stare', 'snare', 'arose', 'least']\n",
      "Our suggestion for guess based on Entropy:  arose\n",
      "guessWordPatternOutput: [0, 0, 1, 0, 0]\n"
     ]
    },
    {
     "name": "stderr",
     "output_type": "stream",
     "text": [
      "100%|███████████████████████████████████████| 104/104 [00:00<00:00, 6668.41it/s]\n"
     ]
    },
    {
     "name": "stdout",
     "output_type": "stream",
     "text": [
      "set of possible words includes like:\n",
      "['donut', 'count', 'doing', 'doubt', 'mount', 'point', 'dingo', 'month', 'moult', 'login']\n",
      "Our suggestion for guess based on Entropy:  doubt\n",
      "guessWordPatternOutput: [0, 2, 2, 0, 1]\n"
     ]
    },
    {
     "name": "stderr",
     "output_type": "stream",
     "text": [
      "100%|███████████████████████████████████████████| 5/5 [00:00<00:00, 7256.58it/s]\n"
     ]
    },
    {
     "name": "stdout",
     "output_type": "stream",
     "text": [
      "set of possible words includes like:\n",
      "['touch', 'youth', 'mouth', 'pouty', 'tough']\n",
      "Our suggestion for guess based on Entropy:  tough\n",
      "guessWordPatternOutput: [1, 2, 2, 0, 2]\n"
     ]
    },
    {
     "name": "stderr",
     "output_type": "stream",
     "text": [
      "100%|███████████████████████████████████████████| 2/2 [00:00<00:00, 3318.28it/s]\n"
     ]
    },
    {
     "name": "stdout",
     "output_type": "stream",
     "text": [
      "set of possible words includes like:\n",
      "['mouth', 'youth']\n",
      "Our suggestion for guess based on Entropy:  mouth\n",
      "guessWordPatternOutput: [0, 2, 2, 2, 2]\n"
     ]
    },
    {
     "name": "stderr",
     "output_type": "stream",
     "text": [
      "100%|███████████████████████████████████████████| 1/1 [00:00<00:00, 4882.78it/s]\n"
     ]
    },
    {
     "name": "stdout",
     "output_type": "stream",
     "text": [
      "set of possible words includes like:\n",
      "['youth']\n",
      "Our suggestion for guess based on Entropy:  youth\n",
      "guessWordPatternOutput: [2, 2, 2, 2, 2]\n",
      "You Won! : 13  times\n",
      "\n",
      "\n",
      "\n",
      "====RealAnswer to reach is  oaken\n"
     ]
    },
    {
     "name": "stderr",
     "output_type": "stream",
     "text": [
      "100%|█████████████████████████████████████| 2315/2315 [00:00<00:00, 3790.16it/s]\n"
     ]
    },
    {
     "name": "stdout",
     "output_type": "stream",
     "text": [
      "set of possible words includes like:\n",
      "['raise', 'slate', 'crate', 'irate', 'trace', 'arise', 'stare', 'snare', 'arose', 'least']\n",
      "Our suggestion for guess based on Entropy:  snare\n",
      "guessWordPatternOutput: [0, 1, 1, 0, 1]\n"
     ]
    },
    {
     "name": "stderr",
     "output_type": "stream",
     "text": [
      "100%|█████████████████████████████████████████| 20/20 [00:00<00:00, 4973.97it/s]\n"
     ]
    },
    {
     "name": "stdout",
     "output_type": "stream",
     "text": [
      "set of possible words includes like:\n",
      "['glean', 'clean', 'navel', 'vegan', 'laden', 'alien', 'taken', 'ocean', 'haven', 'panel']\n",
      "Our suggestion for guess based on Entropy:  glean\n",
      "guessWordPatternOutput: [0, 0, 1, 1, 2]\n"
     ]
    },
    {
     "name": "stderr",
     "output_type": "stream",
     "text": [
      "100%|███████████████████████████████████████████| 5/5 [00:00<00:00, 5766.16it/s]\n"
     ]
    },
    {
     "name": "stdout",
     "output_type": "stream",
     "text": [
      "set of possible words includes like:\n",
      "['taken', 'oaken', 'eaten', 'waxen', 'haven']\n",
      "Our suggestion for guess based on Entropy:  waxen\n",
      "guessWordPatternOutput: [0, 2, 0, 2, 2]\n"
     ]
    },
    {
     "name": "stderr",
     "output_type": "stream",
     "text": [
      "100%|███████████████████████████████████████████| 4/4 [00:00<00:00, 7407.16it/s]\n"
     ]
    },
    {
     "name": "stdout",
     "output_type": "stream",
     "text": [
      "set of possible words includes like:\n",
      "['taken', 'oaken', 'eaten', 'haven']\n",
      "Our suggestion for guess based on Entropy:  haven\n",
      "guessWordPatternOutput: [0, 2, 0, 2, 2]\n"
     ]
    },
    {
     "name": "stderr",
     "output_type": "stream",
     "text": [
      "100%|███████████████████████████████████████████| 3/3 [00:00<00:00, 4580.60it/s]\n"
     ]
    },
    {
     "name": "stdout",
     "output_type": "stream",
     "text": [
      "set of possible words includes like:\n",
      "['oaken', 'taken', 'eaten']\n",
      "Our suggestion for guess based on Entropy:  taken\n",
      "guessWordPatternOutput: [0, 2, 2, 2, 2]\n"
     ]
    },
    {
     "name": "stderr",
     "output_type": "stream",
     "text": [
      "100%|███████████████████████████████████████████| 1/1 [00:00<00:00, 2325.00it/s]\n"
     ]
    },
    {
     "name": "stdout",
     "output_type": "stream",
     "text": [
      "set of possible words includes like:\n",
      "['oaken']\n",
      "Our suggestion for guess based on Entropy:  oaken\n",
      "guessWordPatternOutput: [2, 2, 2, 2, 2]\n",
      "You Won! : 14  times\n",
      "\n",
      "\n",
      "\n",
      "====RealAnswer to reach is  lapse\n"
     ]
    },
    {
     "name": "stderr",
     "output_type": "stream",
     "text": [
      "100%|█████████████████████████████████████| 2315/2315 [00:00<00:00, 4319.98it/s]\n"
     ]
    },
    {
     "name": "stdout",
     "output_type": "stream",
     "text": [
      "set of possible words includes like:\n",
      "['raise', 'slate', 'crate', 'irate', 'trace', 'arise', 'stare', 'snare', 'arose', 'least']\n",
      "Our suggestion for guess based on Entropy:  slate\n",
      "guessWordPatternOutput: [1, 1, 1, 0, 2]\n"
     ]
    },
    {
     "name": "stderr",
     "output_type": "stream",
     "text": [
      "100%|███████████████████████████████████████████| 3/3 [00:00<00:00, 6978.88it/s]\n"
     ]
    },
    {
     "name": "stdout",
     "output_type": "stream",
     "text": [
      "set of possible words includes like:\n",
      "['false', 'lapse', 'aisle']\n",
      "Our suggestion for guess based on Entropy:  false\n",
      "guessWordPatternOutput: [0, 2, 1, 2, 2]\n"
     ]
    },
    {
     "name": "stderr",
     "output_type": "stream",
     "text": [
      "100%|███████████████████████████████████████████| 1/1 [00:00<00:00, 6026.30it/s]\n"
     ]
    },
    {
     "name": "stdout",
     "output_type": "stream",
     "text": [
      "set of possible words includes like:\n",
      "['lapse']\n",
      "Our suggestion for guess based on Entropy:  lapse\n",
      "guessWordPatternOutput: [2, 2, 2, 2, 2]\n",
      "You Won! : 15  times\n",
      "\n",
      "\n",
      "\n",
      "====RealAnswer to reach is  scold\n"
     ]
    },
    {
     "name": "stderr",
     "output_type": "stream",
     "text": [
      "100%|█████████████████████████████████████| 2315/2315 [00:00<00:00, 2638.45it/s]\n"
     ]
    },
    {
     "name": "stdout",
     "output_type": "stream",
     "text": [
      "set of possible words includes like:\n",
      "['raise', 'slate', 'crate', 'irate', 'trace', 'arise', 'stare', 'snare', 'arose', 'least']\n",
      "Our suggestion for guess based on Entropy:  raise\n",
      "guessWordPatternOutput: [0, 0, 0, 1, 0]\n"
     ]
    },
    {
     "name": "stderr",
     "output_type": "stream",
     "text": [
      "100%|█████████████████████████████████████████| 80/80 [00:00<00:00, 2417.88it/s]\n"
     ]
    },
    {
     "name": "stdout",
     "output_type": "stream",
     "text": [
      "set of possible words includes like:\n",
      "['stunk', 'stony', 'stock', 'spunk', 'shunt', 'sloth', 'stuck', 'slunk', 'stool', 'snout']\n",
      "Our suggestion for guess based on Entropy:  spunk\n",
      "guessWordPatternOutput: [2, 0, 0, 0, 0]\n"
     ]
    },
    {
     "name": "stderr",
     "output_type": "stream",
     "text": [
      "100%|█████████████████████████████████████████| 13/13 [00:00<00:00, 7323.84it/s]\n"
     ]
    },
    {
     "name": "stdout",
     "output_type": "stream",
     "text": [
      "set of possible words includes like:\n",
      "['sloth', 'shyly', 'stool', 'sooth', 'shoot', 'scowl', 'showy', 'sooty', 'stood', 'scold']\n",
      "Our suggestion for guess based on Entropy:  scowl\n",
      "guessWordPatternOutput: [2, 2, 2, 0, 1]\n"
     ]
    },
    {
     "name": "stderr",
     "output_type": "stream",
     "text": [
      "100%|███████████████████████████████████████████| 1/1 [00:00<00:00, 3059.30it/s]\n"
     ]
    },
    {
     "name": "stdout",
     "output_type": "stream",
     "text": [
      "set of possible words includes like:\n",
      "['scold']\n",
      "Our suggestion for guess based on Entropy:  scold\n",
      "guessWordPatternOutput: [2, 2, 2, 2, 2]\n",
      "You Won! : 16  times\n",
      "\n",
      "\n",
      "\n",
      "====RealAnswer to reach is  dowry\n"
     ]
    },
    {
     "name": "stderr",
     "output_type": "stream",
     "text": [
      "100%|█████████████████████████████████████| 2315/2315 [00:01<00:00, 1690.46it/s]\n"
     ]
    },
    {
     "name": "stdout",
     "output_type": "stream",
     "text": [
      "set of possible words includes like:\n",
      "['raise', 'slate', 'crate', 'irate', 'trace', 'arise', 'stare', 'snare', 'arose', 'least']\n",
      "Our suggestion for guess based on Entropy:  slate\n",
      "guessWordPatternOutput: [0, 0, 0, 0, 0]\n"
     ]
    },
    {
     "name": "stderr",
     "output_type": "stream",
     "text": [
      "100%|███████████████████████████████████████| 221/221 [00:00<00:00, 2600.40it/s]\n"
     ]
    },
    {
     "name": "stdout",
     "output_type": "stream",
     "text": [
      "set of possible words includes like:\n",
      "['crony', 'round', 'groin', 'corny', 'irony', 'pound', 'doing', 'rhino', 'mound', 'hound']\n",
      "Our suggestion for guess based on Entropy:  crony\n",
      "guessWordPatternOutput: [0, 1, 1, 0, 2]\n"
     ]
    },
    {
     "name": "stderr",
     "output_type": "stream",
     "text": [
      "100%|███████████████████████████████████████████| 4/4 [00:00<00:00, 1556.91it/s]\n"
     ]
    },
    {
     "name": "stdout",
     "output_type": "stream",
     "text": [
      "set of possible words includes like:\n",
      "['rowdy', 'wordy', 'dowry', 'worry']\n",
      "Our suggestion for guess based on Entropy:  rowdy\n",
      "guessWordPatternOutput: [1, 2, 2, 1, 2]\n"
     ]
    },
    {
     "name": "stderr",
     "output_type": "stream",
     "text": [
      "100%|████████████████████████████████████████████| 1/1 [00:00<00:00, 199.28it/s]\n"
     ]
    },
    {
     "name": "stdout",
     "output_type": "stream",
     "text": [
      "set of possible words includes like:\n",
      "['dowry']\n",
      "Our suggestion for guess based on Entropy:  dowry\n",
      "guessWordPatternOutput: [2, 2, 2, 2, 2]\n",
      "You Won! : 17  times\n",
      "\n",
      "\n",
      "\n",
      "====RealAnswer to reach is  spiny\n"
     ]
    },
    {
     "name": "stderr",
     "output_type": "stream",
     "text": [
      "100%|█████████████████████████████████████| 2315/2315 [00:01<00:00, 1313.10it/s]\n"
     ]
    },
    {
     "name": "stdout",
     "output_type": "stream",
     "text": [
      "set of possible words includes like:\n",
      "['raise', 'slate', 'crate', 'irate', 'trace', 'arise', 'stare', 'snare', 'arose', 'least']\n",
      "Our suggestion for guess based on Entropy:  arise\n",
      "guessWordPatternOutput: [0, 0, 2, 1, 0]\n"
     ]
    },
    {
     "name": "stderr",
     "output_type": "stream",
     "text": [
      "100%|█████████████████████████████████████████| 29/29 [00:00<00:00, 4760.47it/s]\n"
     ]
    },
    {
     "name": "stdout",
     "output_type": "stream",
     "text": [
      "set of possible words includes like:\n",
      "['stink', 'slink', 'spilt', 'stilt', 'stick', 'slick', 'stint', 'sting', 'sling', 'still']\n",
      "Our suggestion for guess based on Entropy:  sting\n",
      "guessWordPatternOutput: [2, 0, 2, 2, 0]\n"
     ]
    },
    {
     "name": "stderr",
     "output_type": "stream",
     "text": [
      "100%|███████████████████████████████████████████| 3/3 [00:00<00:00, 7575.50it/s]\n"
     ]
    },
    {
     "name": "stdout",
     "output_type": "stream",
     "text": [
      "set of possible words includes like:\n",
      "['spiny', 'shiny', 'slink']\n",
      "Our suggestion for guess based on Entropy:  shiny\n",
      "guessWordPatternOutput: [2, 0, 2, 2, 2]\n"
     ]
    },
    {
     "name": "stderr",
     "output_type": "stream",
     "text": [
      "100%|███████████████████████████████████████████| 1/1 [00:00<00:00, 5849.80it/s]\n"
     ]
    },
    {
     "name": "stdout",
     "output_type": "stream",
     "text": [
      "set of possible words includes like:\n",
      "['spiny']\n",
      "Our suggestion for guess based on Entropy:  spiny\n",
      "guessWordPatternOutput: [2, 2, 2, 2, 2]\n",
      "You Won! : 18  times\n",
      "\n",
      "\n",
      "\n",
      "====RealAnswer to reach is  alike\n"
     ]
    },
    {
     "name": "stderr",
     "output_type": "stream",
     "text": [
      "100%|█████████████████████████████████████| 2315/2315 [00:00<00:00, 3550.81it/s]\n"
     ]
    },
    {
     "name": "stdout",
     "output_type": "stream",
     "text": [
      "set of possible words includes like:\n",
      "['raise', 'slate', 'crate', 'irate', 'trace', 'arise', 'stare', 'snare', 'arose', 'least']\n",
      "Our suggestion for guess based on Entropy:  arise\n",
      "guessWordPatternOutput: [2, 0, 2, 0, 2]\n"
     ]
    },
    {
     "name": "stderr",
     "output_type": "stream",
     "text": [
      "100%|███████████████████████████████████████████| 5/5 [00:00<00:00, 6813.36it/s]\n"
     ]
    },
    {
     "name": "stdout",
     "output_type": "stream",
     "text": [
      "set of possible words includes like:\n",
      "['alike', 'alive', 'agile', 'anime', 'abide']\n",
      "Our suggestion for guess based on Entropy:  alive\n",
      "guessWordPatternOutput: [2, 2, 2, 0, 2]\n"
     ]
    },
    {
     "name": "stderr",
     "output_type": "stream",
     "text": [
      "100%|███████████████████████████████████████████| 1/1 [00:00<00:00, 6990.51it/s]\n"
     ]
    },
    {
     "name": "stdout",
     "output_type": "stream",
     "text": [
      "set of possible words includes like:\n",
      "['alike']\n",
      "Our suggestion for guess based on Entropy:  alike\n",
      "guessWordPatternOutput: [2, 2, 2, 2, 2]\n",
      "You Won! : 19  times\n",
      "\n",
      "\n",
      "\n",
      "====RealAnswer to reach is  bitty\n"
     ]
    },
    {
     "name": "stderr",
     "output_type": "stream",
     "text": [
      "100%|█████████████████████████████████████| 2315/2315 [00:00<00:00, 4537.09it/s]\n"
     ]
    },
    {
     "name": "stdout",
     "output_type": "stream",
     "text": [
      "set of possible words includes like:\n",
      "['raise', 'slate', 'crate', 'irate', 'trace', 'arise', 'stare', 'snare', 'arose', 'least']\n",
      "Our suggestion for guess based on Entropy:  crate\n",
      "guessWordPatternOutput: [0, 0, 0, 2, 0]\n"
     ]
    },
    {
     "name": "stderr",
     "output_type": "stream",
     "text": [
      "100%|█████████████████████████████████████████| 40/40 [00:00<00:00, 7788.14it/s]\n"
     ]
    },
    {
     "name": "stdout",
     "output_type": "stream",
     "text": [
      "set of possible words includes like:\n",
      "['south', 'sloth', 'mouth', 'sooty', 'sooth', 'smith', 'musty', 'lusty', 'youth', 'dusty']\n",
      "Our suggestion for guess based on Entropy:  mouth\n",
      "guessWordPatternOutput: [0, 0, 0, 2, 0]\n"
     ]
    },
    {
     "name": "stderr",
     "output_type": "stream",
     "text": [
      "100%|███████████████████████████████████████████| 7/7 [00:00<00:00, 6282.93it/s]\n"
     ]
    },
    {
     "name": "stdout",
     "output_type": "stream",
     "text": [
      "set of possible words includes like:\n",
      "['kitty', 'ditty', 'witty', 'bitty', 'sixty', 'fifty', 'blitz']\n",
      "Our suggestion for guess based on Entropy:  fifty\n",
      "guessWordPatternOutput: [0, 2, 0, 2, 2]\n"
     ]
    },
    {
     "name": "stderr",
     "output_type": "stream",
     "text": [
      "100%|███████████████████████████████████████████| 5/5 [00:00<00:00, 4042.31it/s]\n"
     ]
    },
    {
     "name": "stdout",
     "output_type": "stream",
     "text": [
      "set of possible words includes like:\n",
      "['kitty', 'ditty', 'witty', 'bitty', 'sixty']\n",
      "Our suggestion for guess based on Entropy:  sixty\n",
      "guessWordPatternOutput: [0, 2, 0, 2, 2]\n"
     ]
    },
    {
     "name": "stderr",
     "output_type": "stream",
     "text": [
      "100%|███████████████████████████████████████████| 4/4 [00:00<00:00, 6795.15it/s]\n"
     ]
    },
    {
     "name": "stdout",
     "output_type": "stream",
     "text": [
      "set of possible words includes like:\n",
      "['bitty', 'ditty', 'witty', 'kitty']\n",
      "Our suggestion for guess based on Entropy:  witty\n",
      "guessWordPatternOutput: [0, 2, 2, 2, 2]\n"
     ]
    },
    {
     "name": "stderr",
     "output_type": "stream",
     "text": [
      "100%|███████████████████████████████████████████| 3/3 [00:00<00:00, 8240.28it/s]\n"
     ]
    },
    {
     "name": "stdout",
     "output_type": "stream",
     "text": [
      "set of possible words includes like:\n",
      "['ditty', 'bitty', 'kitty']\n",
      "Our suggestion for guess based on Entropy:  ditty\n",
      "guessWordPatternOutput: [0, 2, 2, 2, 2]\n"
     ]
    },
    {
     "name": "stderr",
     "output_type": "stream",
     "text": [
      "100%|███████████████████████████████████████████| 2/2 [00:00<00:00, 7660.83it/s]\n"
     ]
    },
    {
     "name": "stdout",
     "output_type": "stream",
     "text": [
      "set of possible words includes like:\n",
      "['bitty', 'kitty']\n",
      "Our suggestion for guess based on Entropy:  kitty\n",
      "guessWordPatternOutput: [0, 2, 2, 2, 2]\n"
     ]
    },
    {
     "name": "stderr",
     "output_type": "stream",
     "text": [
      "100%|███████████████████████████████████████████| 1/1 [00:00<00:00, 5991.86it/s]\n"
     ]
    },
    {
     "name": "stdout",
     "output_type": "stream",
     "text": [
      "set of possible words includes like:\n",
      "['bitty']\n",
      "Our suggestion for guess based on Entropy:  bitty\n",
      "guessWordPatternOutput: [2, 2, 2, 2, 2]\n",
      "You Won! : 20  times\n",
      "\n",
      "\n",
      "\n",
      "====RealAnswer to reach is  cavil\n"
     ]
    },
    {
     "name": "stderr",
     "output_type": "stream",
     "text": [
      "100%|█████████████████████████████████████| 2315/2315 [00:00<00:00, 4589.16it/s]\n"
     ]
    },
    {
     "name": "stdout",
     "output_type": "stream",
     "text": [
      "set of possible words includes like:\n",
      "['raise', 'slate', 'crate', 'irate', 'trace', 'arise', 'stare', 'snare', 'arose', 'least']\n",
      "Our suggestion for guess based on Entropy:  stare\n",
      "guessWordPatternOutput: [0, 0, 1, 0, 0]\n"
     ]
    },
    {
     "name": "stderr",
     "output_type": "stream",
     "text": [
      "100%|███████████████████████████████████████| 127/127 [00:00<00:00, 7661.21it/s]\n"
     ]
    },
    {
     "name": "stdout",
     "output_type": "stream",
     "text": [
      "set of possible words includes like:\n",
      "['manly', 'canal', 'manic', 'candy', 'modal', 'gaily', 'gonad', 'nomad', 'daily', 'align']\n",
      "Our suggestion for guess based on Entropy:  manly\n",
      "guessWordPatternOutput: [0, 2, 0, 1, 0]\n"
     ]
    },
    {
     "name": "stderr",
     "output_type": "stream",
     "text": [
      "100%|███████████████████████████████████████████| 5/5 [00:00<00:00, 8141.12it/s]\n"
     ]
    },
    {
     "name": "stdout",
     "output_type": "stream",
     "text": [
      "set of possible words includes like:\n",
      "['cavil', 'cabal', 'papal', 'valid', 'laugh']\n",
      "Our suggestion for guess based on Entropy:  valid\n",
      "guessWordPatternOutput: [1, 2, 1, 2, 0]\n"
     ]
    },
    {
     "name": "stderr",
     "output_type": "stream",
     "text": [
      "100%|███████████████████████████████████████████| 1/1 [00:00<00:00, 5461.33it/s]\n"
     ]
    },
    {
     "name": "stdout",
     "output_type": "stream",
     "text": [
      "set of possible words includes like:\n",
      "['cavil']\n",
      "Our suggestion for guess based on Entropy:  cavil\n",
      "guessWordPatternOutput: [2, 2, 2, 2, 2]\n",
      "You Won! : 21  times\n",
      "\n",
      "\n",
      "\n",
      "====RealAnswer to reach is  gamma\n"
     ]
    },
    {
     "name": "stderr",
     "output_type": "stream",
     "text": [
      "100%|█████████████████████████████████████| 2315/2315 [00:00<00:00, 4601.07it/s]\n"
     ]
    },
    {
     "name": "stdout",
     "output_type": "stream",
     "text": [
      "set of possible words includes like:\n",
      "['raise', 'slate', 'crate', 'irate', 'trace', 'arise', 'stare', 'snare', 'arose', 'least']\n",
      "Our suggestion for guess based on Entropy:  crate\n",
      "guessWordPatternOutput: [0, 0, 1, 0, 0]\n"
     ]
    },
    {
     "name": "stderr",
     "output_type": "stream",
     "text": [
      "100%|███████████████████████████████████████| 127/127 [00:00<00:00, 7380.25it/s]\n"
     ]
    },
    {
     "name": "stdout",
     "output_type": "stream",
     "text": [
      "set of possible words includes like:\n",
      "['salon', 'manly', 'sadly', 'sandy', 'gaily', 'daily', 'mason', 'palsy', 'inlay', 'nasal']\n",
      "Our suggestion for guess based on Entropy:  sandy\n",
      "guessWordPatternOutput: [0, 2, 0, 0, 0]\n"
     ]
    },
    {
     "name": "stderr",
     "output_type": "stream",
     "text": [
      "100%|███████████████████████████████████████████| 9/9 [00:00<00:00, 6011.90it/s]\n"
     ]
    },
    {
     "name": "stdout",
     "output_type": "stream",
     "text": [
      "set of possible words includes like:\n",
      "['gamma', 'mamma', 'magma', 'mafia', 'maxim', 'mambo', 'kappa', 'laugh', 'papal']\n",
      "Our suggestion for guess based on Entropy:  kappa\n",
      "guessWordPatternOutput: [0, 2, 0, 0, 2]\n"
     ]
    },
    {
     "name": "stderr",
     "output_type": "stream",
     "text": [
      "100%|███████████████████████████████████████████| 4/4 [00:00<00:00, 8401.21it/s]\n"
     ]
    },
    {
     "name": "stdout",
     "output_type": "stream",
     "text": [
      "set of possible words includes like:\n",
      "['gamma', 'magma', 'mamma', 'mafia']\n",
      "Our suggestion for guess based on Entropy:  mafia\n",
      "guessWordPatternOutput: [1, 2, 0, 0, 2]\n"
     ]
    },
    {
     "name": "stderr",
     "output_type": "stream",
     "text": [
      "100%|███████████████████████████████████████████| 1/1 [00:00<00:00, 5991.86it/s]\n"
     ]
    },
    {
     "name": "stdout",
     "output_type": "stream",
     "text": [
      "set of possible words includes like:\n",
      "['gamma']\n",
      "Our suggestion for guess based on Entropy:  gamma\n",
      "guessWordPatternOutput: [2, 2, 2, 2, 2]\n",
      "You Won! : 22  times\n",
      "\n",
      "\n",
      "\n",
      "====RealAnswer to reach is  offer\n"
     ]
    },
    {
     "name": "stderr",
     "output_type": "stream",
     "text": [
      "100%|█████████████████████████████████████| 2315/2315 [00:00<00:00, 4474.87it/s]\n"
     ]
    },
    {
     "name": "stdout",
     "output_type": "stream",
     "text": [
      "set of possible words includes like:\n",
      "['raise', 'slate', 'crate', 'irate', 'trace', 'arise', 'stare', 'snare', 'arose', 'least']\n",
      "Our suggestion for guess based on Entropy:  arise\n",
      "guessWordPatternOutput: [0, 1, 0, 0, 1]\n"
     ]
    },
    {
     "name": "stderr",
     "output_type": "stream",
     "text": [
      "100%|███████████████████████████████████████| 100/100 [00:00<00:00, 7310.97it/s]\n"
     ]
    },
    {
     "name": "stdout",
     "output_type": "stream",
     "text": [
      "set of possible words includes like:\n",
      "['outer', 'voter', 'retro', 'older', 'tenor', 'metro', 'recut', 'other', 'tower', 'rebut']\n",
      "Our suggestion for guess based on Entropy:  tower\n",
      "guessWordPatternOutput: [0, 1, 0, 2, 2]\n"
     ]
    },
    {
     "name": "stderr",
     "output_type": "stream",
     "text": [
      "100%|███████████████████████████████████████████| 3/3 [00:00<00:00, 2213.74it/s]\n"
     ]
    },
    {
     "name": "stdout",
     "output_type": "stream",
     "text": [
      "set of possible words includes like:\n",
      "['odder', 'older', 'offer']\n",
      "Our suggestion for guess based on Entropy:  offer\n",
      "guessWordPatternOutput: [2, 2, 2, 2, 2]\n",
      "You Won! : 23  times\n",
      "\n",
      "\n",
      "\n",
      "====RealAnswer to reach is  flour\n"
     ]
    },
    {
     "name": "stderr",
     "output_type": "stream",
     "text": [
      "100%|█████████████████████████████████████| 2315/2315 [00:00<00:00, 4610.30it/s]\n"
     ]
    },
    {
     "name": "stdout",
     "output_type": "stream",
     "text": [
      "set of possible words includes like:\n",
      "['raise', 'slate', 'crate', 'irate', 'trace', 'arise', 'stare', 'snare', 'arose', 'least']\n",
      "Our suggestion for guess based on Entropy:  snare\n",
      "guessWordPatternOutput: [0, 0, 0, 1, 0]\n"
     ]
    },
    {
     "name": "stderr",
     "output_type": "stream",
     "text": [
      "100%|███████████████████████████████████████| 106/106 [00:00<00:00, 6977.78it/s]\n"
     ]
    },
    {
     "name": "stdout",
     "output_type": "stream",
     "text": [
      "set of possible words includes like:\n",
      "['grout', 'croup', 'droit', 'torch', 'curio', 'tumor', 'turbo', 'throb', 'proud', 'troop']\n",
      "Our suggestion for guess based on Entropy:  tumor\n",
      "guessWordPatternOutput: [0, 1, 0, 1, 2]\n"
     ]
    },
    {
     "name": "stderr",
     "output_type": "stream",
     "text": [
      "100%|███████████████████████████████████████████| 2/2 [00:00<00:00, 7577.79it/s]\n"
     ]
    },
    {
     "name": "stdout",
     "output_type": "stream",
     "text": [
      "set of possible words includes like:\n",
      "['occur', 'flour']\n",
      "Our suggestion for guess based on Entropy:  occur\n",
      "guessWordPatternOutput: [1, 0, 0, 2, 2]\n"
     ]
    },
    {
     "name": "stderr",
     "output_type": "stream",
     "text": [
      "100%|███████████████████████████████████████████| 1/1 [00:00<00:00, 5289.16it/s]\n"
     ]
    },
    {
     "name": "stdout",
     "output_type": "stream",
     "text": [
      "set of possible words includes like:\n",
      "['flour']\n",
      "Our suggestion for guess based on Entropy:  flour\n",
      "guessWordPatternOutput: [2, 2, 2, 2, 2]\n",
      "You Won! : 24  times\n",
      "\n",
      "\n",
      "\n",
      "====RealAnswer to reach is  bound\n"
     ]
    },
    {
     "name": "stderr",
     "output_type": "stream",
     "text": [
      "100%|█████████████████████████████████████| 2315/2315 [00:00<00:00, 4622.34it/s]\n"
     ]
    },
    {
     "name": "stdout",
     "output_type": "stream",
     "text": [
      "set of possible words includes like:\n",
      "['raise', 'slate', 'crate', 'irate', 'trace', 'arise', 'stare', 'snare', 'arose', 'least']\n",
      "Our suggestion for guess based on Entropy:  least\n",
      "guessWordPatternOutput: [0, 0, 0, 0, 0]\n"
     ]
    },
    {
     "name": "stderr",
     "output_type": "stream",
     "text": [
      "100%|███████████████████████████████████████| 221/221 [00:00<00:00, 7147.91it/s]\n"
     ]
    },
    {
     "name": "stdout",
     "output_type": "stream",
     "text": [
      "set of possible words includes like:\n",
      "['crony', 'round', 'groin', 'corny', 'irony', 'pound', 'doing', 'rhino', 'mound', 'hound']\n",
      "Our suggestion for guess based on Entropy:  mound\n",
      "guessWordPatternOutput: [0, 2, 2, 2, 2]\n"
     ]
    },
    {
     "name": "stderr",
     "output_type": "stream",
     "text": [
      "100%|███████████████████████████████████████████| 6/6 [00:00<00:00, 8251.09it/s]\n"
     ]
    },
    {
     "name": "stdout",
     "output_type": "stream",
     "text": [
      "set of possible words includes like:\n",
      "['round', 'bound', 'hound', 'pound', 'wound', 'found']\n",
      "Our suggestion for guess based on Entropy:  found\n",
      "guessWordPatternOutput: [0, 2, 2, 2, 2]\n"
     ]
    },
    {
     "name": "stderr",
     "output_type": "stream",
     "text": [
      "100%|███████████████████████████████████████████| 5/5 [00:00<00:00, 8577.31it/s]\n"
     ]
    },
    {
     "name": "stdout",
     "output_type": "stream",
     "text": [
      "set of possible words includes like:\n",
      "['round', 'bound', 'hound', 'pound', 'wound']\n",
      "Our suggestion for guess based on Entropy:  wound\n",
      "guessWordPatternOutput: [0, 2, 2, 2, 2]\n"
     ]
    },
    {
     "name": "stderr",
     "output_type": "stream",
     "text": [
      "100%|███████████████████████████████████████████| 4/4 [00:00<00:00, 4860.14it/s]\n"
     ]
    },
    {
     "name": "stdout",
     "output_type": "stream",
     "text": [
      "set of possible words includes like:\n",
      "['round', 'hound', 'bound', 'pound']\n",
      "Our suggestion for guess based on Entropy:  bound\n",
      "guessWordPatternOutput: [2, 2, 2, 2, 2]\n",
      "You Won! : 25  times\n",
      "\n",
      "\n",
      "\n",
      "====RealAnswer to reach is  racer\n"
     ]
    },
    {
     "name": "stderr",
     "output_type": "stream",
     "text": [
      "100%|█████████████████████████████████████| 2315/2315 [00:00<00:00, 4621.29it/s]\n"
     ]
    },
    {
     "name": "stdout",
     "output_type": "stream",
     "text": [
      "set of possible words includes like:\n",
      "['raise', 'slate', 'crate', 'irate', 'trace', 'arise', 'stare', 'snare', 'arose', 'least']\n",
      "Our suggestion for guess based on Entropy:  least\n",
      "guessWordPatternOutput: [0, 1, 1, 0, 0]\n"
     ]
    },
    {
     "name": "stderr",
     "output_type": "stream",
     "text": [
      "100%|█████████████████████████████████████████| 78/78 [00:00<00:00, 8119.02it/s]\n"
     ]
    },
    {
     "name": "stdout",
     "output_type": "stream",
     "text": [
      "set of possible words includes like:\n",
      "['anger', 'range', 'gamer', 'ramen', 'mange', 'barge', 'carve', 'agree', 'amber', 'wager']\n",
      "Our suggestion for guess based on Entropy:  barge\n",
      "guessWordPatternOutput: [0, 2, 1, 0, 1]\n"
     ]
    },
    {
     "name": "stderr",
     "output_type": "stream",
     "text": [
      "100%|███████████████████████████████████████████| 9/9 [00:00<00:00, 8062.52it/s]\n"
     ]
    },
    {
     "name": "stdout",
     "output_type": "stream",
     "text": [
      "set of possible words includes like:\n",
      "['caper', 'paper', 'payer', 'ramen', 'raven', 'waver', 'racer', 'wafer', 'maker']\n",
      "Our suggestion for guess based on Entropy:  wafer\n",
      "guessWordPatternOutput: [0, 2, 0, 2, 2]\n"
     ]
    },
    {
     "name": "stderr",
     "output_type": "stream",
     "text": [
      "100%|███████████████████████████████████████████| 5/5 [00:00<00:00, 3462.36it/s]\n"
     ]
    },
    {
     "name": "stdout",
     "output_type": "stream",
     "text": [
      "set of possible words includes like:\n",
      "['caper', 'paper', 'payer', 'racer', 'maker']\n",
      "Our suggestion for guess based on Entropy:  paper\n",
      "guessWordPatternOutput: [0, 2, 0, 2, 2]\n"
     ]
    },
    {
     "name": "stderr",
     "output_type": "stream",
     "text": [
      "100%|███████████████████████████████████████████| 2/2 [00:00<00:00, 7570.95it/s]\n"
     ]
    },
    {
     "name": "stdout",
     "output_type": "stream",
     "text": [
      "set of possible words includes like:\n",
      "['racer', 'maker']\n",
      "Our suggestion for guess based on Entropy:  maker\n",
      "guessWordPatternOutput: [0, 2, 0, 2, 2]\n"
     ]
    },
    {
     "name": "stderr",
     "output_type": "stream",
     "text": [
      "100%|███████████████████████████████████████████| 1/1 [00:00<00:00, 6452.78it/s]\n"
     ]
    },
    {
     "name": "stdout",
     "output_type": "stream",
     "text": [
      "set of possible words includes like:\n",
      "['racer']\n",
      "Our suggestion for guess based on Entropy:  racer\n",
      "guessWordPatternOutput: [2, 2, 2, 2, 2]\n",
      "You Won! : 26  times\n",
      "\n",
      "\n",
      "\n",
      "====RealAnswer to reach is  valor\n"
     ]
    },
    {
     "name": "stderr",
     "output_type": "stream",
     "text": [
      "100%|█████████████████████████████████████| 2315/2315 [00:00<00:00, 4712.22it/s]\n"
     ]
    },
    {
     "name": "stdout",
     "output_type": "stream",
     "text": [
      "set of possible words includes like:\n",
      "['raise', 'slate', 'crate', 'irate', 'trace', 'arise', 'stare', 'snare', 'arose', 'least']\n",
      "Our suggestion for guess based on Entropy:  raise\n",
      "guessWordPatternOutput: [1, 2, 0, 0, 0]\n"
     ]
    },
    {
     "name": "stderr",
     "output_type": "stream",
     "text": [
      "100%|█████████████████████████████████████████| 26/26 [00:00<00:00, 8658.35it/s]\n"
     ]
    },
    {
     "name": "stdout",
     "output_type": "stream",
     "text": [
      "set of possible words includes like:\n",
      "['party', 'macro', 'mayor', 'parry', 'marry', 'harpy', 'carry', 'march', 'carol', 'harry']\n",
      "Our suggestion for guess based on Entropy:  party\n",
      "guessWordPatternOutput: [0, 2, 1, 0, 0]\n"
     ]
    },
    {
     "name": "stderr",
     "output_type": "stream",
     "text": [
      "100%|███████████████████████████████████████████| 6/6 [00:00<00:00, 2154.42it/s]\n"
     ]
    },
    {
     "name": "stdout",
     "output_type": "stream",
     "text": [
      "set of possible words includes like:\n",
      "['valor', 'major', 'manor', 'favor', 'labor', 'macro']\n",
      "Our suggestion for guess based on Entropy:  favor\n",
      "guessWordPatternOutput: [0, 2, 1, 2, 2]\n"
     ]
    },
    {
     "name": "stderr",
     "output_type": "stream",
     "text": [
      "100%|███████████████████████████████████████████| 1/1 [00:00<00:00, 4048.56it/s]\n"
     ]
    },
    {
     "name": "stdout",
     "output_type": "stream",
     "text": [
      "set of possible words includes like:\n",
      "['valor']\n",
      "Our suggestion for guess based on Entropy:  valor\n",
      "guessWordPatternOutput: [2, 2, 2, 2, 2]\n",
      "You Won! : 27  times\n",
      "\n",
      "\n",
      "\n",
      "====RealAnswer to reach is  phone\n"
     ]
    },
    {
     "name": "stderr",
     "output_type": "stream",
     "text": [
      "100%|█████████████████████████████████████| 2315/2315 [00:00<00:00, 4116.96it/s]\n"
     ]
    },
    {
     "name": "stdout",
     "output_type": "stream",
     "text": [
      "set of possible words includes like:\n",
      "['raise', 'slate', 'crate', 'irate', 'trace', 'arise', 'stare', 'snare', 'arose', 'least']\n",
      "Our suggestion for guess based on Entropy:  slate\n",
      "guessWordPatternOutput: [0, 0, 0, 0, 2]\n"
     ]
    },
    {
     "name": "stderr",
     "output_type": "stream",
     "text": [
      "100%|███████████████████████████████████████| 107/107 [00:00<00:00, 7766.56it/s]\n"
     ]
    },
    {
     "name": "stdout",
     "output_type": "stream",
     "text": [
      "set of possible words includes like:\n",
      "['drone', 'price', 'crone', 'dirge', 'prone', 'gripe', 'grope', 'urine', 'rouge', 'crude']\n",
      "Our suggestion for guess based on Entropy:  price\n",
      "guessWordPatternOutput: [2, 0, 0, 0, 2]\n"
     ]
    },
    {
     "name": "stderr",
     "output_type": "stream",
     "text": [
      "100%|███████████████████████████████████████████| 2/2 [00:00<00:00, 3256.45it/s]\n"
     ]
    },
    {
     "name": "stdout",
     "output_type": "stream",
     "text": [
      "set of possible words includes like:\n",
      "['phone', 'penne']\n",
      "Our suggestion for guess based on Entropy:  penne\n",
      "guessWordPatternOutput: [2, 1, 1, 2, 2]\n"
     ]
    },
    {
     "name": "stderr",
     "output_type": "stream",
     "text": [
      "100%|███████████████████████████████████████████| 1/1 [00:00<00:00, 1078.78it/s]\n"
     ]
    },
    {
     "name": "stdout",
     "output_type": "stream",
     "text": [
      "set of possible words includes like:\n",
      "['phone']\n",
      "Our suggestion for guess based on Entropy:  phone\n",
      "guessWordPatternOutput: [2, 2, 2, 2, 2]\n",
      "You Won! : 28  times\n",
      "\n",
      "\n",
      "\n",
      "====RealAnswer to reach is  roast\n"
     ]
    },
    {
     "name": "stderr",
     "output_type": "stream",
     "text": [
      "100%|█████████████████████████████████████| 2315/2315 [00:00<00:00, 4737.14it/s]\n"
     ]
    },
    {
     "name": "stdout",
     "output_type": "stream",
     "text": [
      "set of possible words includes like:\n",
      "['raise', 'slate', 'crate', 'irate', 'trace', 'arise', 'stare', 'snare', 'arose', 'least']\n",
      "Our suggestion for guess based on Entropy:  arise\n",
      "guessWordPatternOutput: [1, 1, 0, 2, 0]\n"
     ]
    },
    {
     "name": "stderr",
     "output_type": "stream",
     "text": [
      "100%|███████████████████████████████████████████| 3/3 [00:00<00:00, 7938.75it/s]\n"
     ]
    },
    {
     "name": "stdout",
     "output_type": "stream",
     "text": [
      "set of possible words includes like:\n",
      "['harsh', 'marsh', 'roast']\n",
      "Our suggestion for guess based on Entropy:  roast\n",
      "guessWordPatternOutput: [2, 2, 2, 2, 2]\n",
      "You Won! : 29  times\n",
      "\n",
      "\n",
      "\n",
      "====RealAnswer to reach is  hunch\n"
     ]
    },
    {
     "name": "stderr",
     "output_type": "stream",
     "text": [
      "100%|█████████████████████████████████████| 2315/2315 [00:00<00:00, 4686.85it/s]\n"
     ]
    },
    {
     "name": "stdout",
     "output_type": "stream",
     "text": [
      "set of possible words includes like:\n",
      "['raise', 'slate', 'crate', 'irate', 'trace', 'arise', 'stare', 'snare', 'arose', 'least']\n",
      "Our suggestion for guess based on Entropy:  raise\n",
      "guessWordPatternOutput: [0, 0, 0, 0, 0]\n"
     ]
    },
    {
     "name": "stderr",
     "output_type": "stream",
     "text": [
      "100%|███████████████████████████████████████| 168/168 [00:00<00:00, 7640.15it/s]\n"
     ]
    },
    {
     "name": "stdout",
     "output_type": "stream",
     "text": [
      "set of possible words includes like:\n",
      "['mulch', 'lunch', 'cloth', 'could', 'clung', 'clump', 'blunt', 'gulch', 'bunch', 'blond']\n",
      "Our suggestion for guess based on Entropy:  lunch\n",
      "guessWordPatternOutput: [0, 2, 2, 2, 2]\n"
     ]
    },
    {
     "name": "stderr",
     "output_type": "stream",
     "text": [
      "100%|███████████████████████████████████████████| 4/4 [00:00<00:00, 8192.00it/s]\n"
     ]
    },
    {
     "name": "stdout",
     "output_type": "stream",
     "text": [
      "set of possible words includes like:\n",
      "['bunch', 'munch', 'hunch', 'punch']\n",
      "Our suggestion for guess based on Entropy:  munch\n",
      "guessWordPatternOutput: [0, 2, 2, 2, 2]\n"
     ]
    },
    {
     "name": "stderr",
     "output_type": "stream",
     "text": [
      "100%|███████████████████████████████████████████| 3/3 [00:00<00:00, 8879.97it/s]\n"
     ]
    },
    {
     "name": "stdout",
     "output_type": "stream",
     "text": [
      "set of possible words includes like:\n",
      "['bunch', 'hunch', 'punch']\n",
      "Our suggestion for guess based on Entropy:  hunch\n",
      "guessWordPatternOutput: [2, 2, 2, 2, 2]\n",
      "You Won! : 30  times\n",
      "\n",
      "\n",
      "\n",
      "====RealAnswer to reach is  stair\n"
     ]
    },
    {
     "name": "stderr",
     "output_type": "stream",
     "text": [
      "100%|█████████████████████████████████████| 2315/2315 [00:00<00:00, 4694.59it/s]\n"
     ]
    },
    {
     "name": "stdout",
     "output_type": "stream",
     "text": [
      "set of possible words includes like:\n",
      "['raise', 'slate', 'crate', 'irate', 'trace', 'arise', 'stare', 'snare', 'arose', 'least']\n",
      "Our suggestion for guess based on Entropy:  snare\n",
      "guessWordPatternOutput: [2, 0, 2, 1, 0]\n"
     ]
    },
    {
     "name": "stderr",
     "output_type": "stream",
     "text": [
      "100%|███████████████████████████████████████████| 1/1 [00:00<00:00, 5882.61it/s]\n"
     ]
    },
    {
     "name": "stdout",
     "output_type": "stream",
     "text": [
      "set of possible words includes like:\n",
      "['stair']\n",
      "Our suggestion for guess based on Entropy:  stair\n",
      "guessWordPatternOutput: [2, 2, 2, 2, 2]\n",
      "You Won! : 31  times\n",
      "\n",
      "\n",
      "\n",
      "====RealAnswer to reach is  scent\n"
     ]
    },
    {
     "name": "stderr",
     "output_type": "stream",
     "text": [
      "100%|█████████████████████████████████████| 2315/2315 [00:00<00:00, 4702.68it/s]\n"
     ]
    },
    {
     "name": "stdout",
     "output_type": "stream",
     "text": [
      "set of possible words includes like:\n",
      "['raise', 'slate', 'crate', 'irate', 'trace', 'arise', 'stare', 'snare', 'arose', 'least']\n",
      "Our suggestion for guess based on Entropy:  stare\n",
      "guessWordPatternOutput: [2, 1, 0, 0, 1]\n"
     ]
    },
    {
     "name": "stderr",
     "output_type": "stream",
     "text": [
      "100%|█████████████████████████████████████████| 10/10 [00:00<00:00, 8279.32it/s]\n"
     ]
    },
    {
     "name": "stdout",
     "output_type": "stream",
     "text": [
      "set of possible words includes like:\n",
      "['slept', 'spelt', 'sleet', 'swept', 'spent', 'smelt', 'sweet', 'sheet', 'setup', 'scent']\n",
      "Our suggestion for guess based on Entropy:  slept\n",
      "guessWordPatternOutput: [2, 0, 2, 0, 2]\n"
     ]
    },
    {
     "name": "stderr",
     "output_type": "stream",
     "text": [
      "100%|███████████████████████████████████████████| 3/3 [00:00<00:00, 8338.58it/s]\n"
     ]
    },
    {
     "name": "stdout",
     "output_type": "stream",
     "text": [
      "set of possible words includes like:\n",
      "['sheet', 'sweet', 'scent']\n",
      "Our suggestion for guess based on Entropy:  sheet\n",
      "guessWordPatternOutput: [2, 0, 2, 1, 2]\n"
     ]
    },
    {
     "name": "stderr",
     "output_type": "stream",
     "text": [
      "100%|███████████████████████████████████████████| 1/1 [00:00<00:00, 7096.96it/s]\n"
     ]
    },
    {
     "name": "stdout",
     "output_type": "stream",
     "text": [
      "set of possible words includes like:\n",
      "['scent']\n",
      "Our suggestion for guess based on Entropy:  scent\n",
      "guessWordPatternOutput: [2, 2, 2, 2, 2]\n",
      "You Won! : 32  times\n",
      "\n",
      "\n",
      "\n",
      "====RealAnswer to reach is  noose\n"
     ]
    },
    {
     "name": "stderr",
     "output_type": "stream",
     "text": [
      "100%|█████████████████████████████████████| 2315/2315 [00:00<00:00, 4774.14it/s]\n"
     ]
    },
    {
     "name": "stdout",
     "output_type": "stream",
     "text": [
      "set of possible words includes like:\n",
      "['raise', 'slate', 'crate', 'irate', 'trace', 'arise', 'stare', 'snare', 'arose', 'least']\n",
      "Our suggestion for guess based on Entropy:  stare\n",
      "guessWordPatternOutput: [1, 0, 0, 0, 2]\n"
     ]
    },
    {
     "name": "stderr",
     "output_type": "stream",
     "text": [
      "100%|█████████████████████████████████████████| 21/21 [00:00<00:00, 8550.66it/s]\n"
     ]
    },
    {
     "name": "stdout",
     "output_type": "stream",
     "text": [
      "set of possible words includes like:\n",
      "['loose', 'poise', 'noose', 'close', 'louse', 'chose', 'noise', 'moose', 'goose', 'mouse']\n",
      "Our suggestion for guess based on Entropy:  mouse\n",
      "guessWordPatternOutput: [0, 2, 0, 2, 2]\n"
     ]
    },
    {
     "name": "stderr",
     "output_type": "stream",
     "text": [
      "100%|███████████████████████████████████████████| 7/7 [00:00<00:00, 8110.53it/s]\n"
     ]
    },
    {
     "name": "stdout",
     "output_type": "stream",
     "text": [
      "set of possible words includes like:\n",
      "['poise', 'noose', 'posse', 'noise', 'loose', 'copse', 'goose']\n",
      "Our suggestion for guess based on Entropy:  posse\n",
      "guessWordPatternOutput: [0, 2, 1, 2, 2]\n"
     ]
    },
    {
     "name": "stderr",
     "output_type": "stream",
     "text": [
      "100%|███████████████████████████████████████████| 4/4 [00:00<00:00, 7936.24it/s]\n"
     ]
    },
    {
     "name": "stdout",
     "output_type": "stream",
     "text": [
      "set of possible words includes like:\n",
      "['noise', 'loose', 'goose', 'noose']\n",
      "Our suggestion for guess based on Entropy:  noise\n",
      "guessWordPatternOutput: [2, 2, 0, 2, 2]\n"
     ]
    },
    {
     "name": "stderr",
     "output_type": "stream",
     "text": [
      "100%|███████████████████████████████████████████| 1/1 [00:00<00:00, 6668.21it/s]\n"
     ]
    },
    {
     "name": "stdout",
     "output_type": "stream",
     "text": [
      "set of possible words includes like:\n",
      "['noose']\n",
      "Our suggestion for guess based on Entropy:  noose\n",
      "guessWordPatternOutput: [2, 2, 2, 2, 2]\n",
      "You Won! : 33  times\n",
      "\n",
      "\n",
      "\n",
      "====RealAnswer to reach is  scout\n"
     ]
    },
    {
     "name": "stderr",
     "output_type": "stream",
     "text": [
      "100%|█████████████████████████████████████| 2315/2315 [00:00<00:00, 3579.26it/s]\n"
     ]
    },
    {
     "name": "stdout",
     "output_type": "stream",
     "text": [
      "set of possible words includes like:\n",
      "['raise', 'slate', 'crate', 'irate', 'trace', 'arise', 'stare', 'snare', 'arose', 'least']\n",
      "Our suggestion for guess based on Entropy:  trace\n",
      "guessWordPatternOutput: [1, 0, 0, 1, 0]\n"
     ]
    },
    {
     "name": "stderr",
     "output_type": "stream",
     "text": [
      "100%|███████████████████████████████████████████| 8/8 [00:00<00:00, 3980.36it/s]\n"
     ]
    },
    {
     "name": "stdout",
     "output_type": "stream",
     "text": [
      "set of possible words includes like:\n",
      "['scout', 'clout', 'stoic', 'count', 'cloth', 'itchy', 'uncut', 'optic']\n",
      "Our suggestion for guess based on Entropy:  stoic\n",
      "guessWordPatternOutput: [2, 1, 2, 0, 1]\n"
     ]
    },
    {
     "name": "stderr",
     "output_type": "stream",
     "text": [
      "100%|███████████████████████████████████████████| 1/1 [00:00<00:00, 3569.62it/s]\n"
     ]
    },
    {
     "name": "stdout",
     "output_type": "stream",
     "text": [
      "set of possible words includes like:\n",
      "['scout']\n",
      "Our suggestion for guess based on Entropy:  scout\n",
      "guessWordPatternOutput: [2, 2, 2, 2, 2]\n",
      "You Won! : 34  times\n",
      "\n",
      "\n",
      "\n",
      "====RealAnswer to reach is  queen\n"
     ]
    },
    {
     "name": "stderr",
     "output_type": "stream",
     "text": [
      "100%|█████████████████████████████████████| 2315/2315 [00:00<00:00, 3825.24it/s]\n"
     ]
    },
    {
     "name": "stdout",
     "output_type": "stream",
     "text": [
      "set of possible words includes like:\n",
      "['raise', 'slate', 'crate', 'irate', 'trace', 'arise', 'stare', 'snare', 'arose', 'least']\n",
      "Our suggestion for guess based on Entropy:  trace\n",
      "guessWordPatternOutput: [0, 0, 0, 0, 1]\n"
     ]
    },
    {
     "name": "stderr",
     "output_type": "stream",
     "text": [
      "100%|███████████████████████████████████████| 123/123 [00:00<00:00, 7574.39it/s]\n"
     ]
    },
    {
     "name": "stdout",
     "output_type": "stream",
     "text": [
      "set of possible words includes like:\n",
      "['olden', 'widen', 'wield', 'dowel', 'plied', 'sinew', 'spiel', 'liken', 'bleed', 'yield']\n",
      "Our suggestion for guess based on Entropy:  plied\n",
      "guessWordPatternOutput: [0, 0, 0, 2, 0]\n"
     ]
    },
    {
     "name": "stderr",
     "output_type": "stream",
     "text": [
      "100%|█████████████████████████████████████████| 13/13 [00:00<00:00, 7737.47it/s]\n"
     ]
    },
    {
     "name": "stdout",
     "output_type": "stream",
     "text": [
      "set of possible words includes like:\n",
      "['money', 'semen', 'sheen', 'honey', 'hymen', 'seven', 'women', 'nosey', 'boney', 'woven']\n",
      "Our suggestion for guess based on Entropy:  sheen\n",
      "guessWordPatternOutput: [0, 0, 2, 2, 2]\n"
     ]
    },
    {
     "name": "stderr",
     "output_type": "stream",
     "text": [
      "100%|███████████████████████████████████████████| 1/1 [00:00<00:00, 6533.18it/s]\n"
     ]
    },
    {
     "name": "stdout",
     "output_type": "stream",
     "text": [
      "set of possible words includes like:\n",
      "['queen']\n",
      "Our suggestion for guess based on Entropy:  queen\n",
      "guessWordPatternOutput: [2, 2, 2, 2, 2]\n",
      "You Won! : 35  times\n",
      "\n",
      "\n",
      "\n",
      "====RealAnswer to reach is  trout\n"
     ]
    },
    {
     "name": "stderr",
     "output_type": "stream",
     "text": [
      "100%|█████████████████████████████████████| 2315/2315 [00:00<00:00, 4300.99it/s]\n"
     ]
    },
    {
     "name": "stdout",
     "output_type": "stream",
     "text": [
      "set of possible words includes like:\n",
      "['raise', 'slate', 'crate', 'irate', 'trace', 'arise', 'stare', 'snare', 'arose', 'least']\n",
      "Our suggestion for guess based on Entropy:  trace\n",
      "guessWordPatternOutput: [2, 2, 0, 0, 0]\n"
     ]
    },
    {
     "name": "stderr",
     "output_type": "stream",
     "text": [
      "100%|█████████████████████████████████████████| 10/10 [00:00<00:00, 8012.04it/s]\n"
     ]
    },
    {
     "name": "stdout",
     "output_type": "stream",
     "text": [
      "set of possible words includes like:\n",
      "['truss', 'trust', 'truly', 'tryst', 'trout', 'trump', 'truth', 'trunk', 'troop', 'troll']\n",
      "Our suggestion for guess based on Entropy:  troll\n",
      "guessWordPatternOutput: [2, 2, 2, 0, 0]\n"
     ]
    },
    {
     "name": "stderr",
     "output_type": "stream",
     "text": [
      "100%|███████████████████████████████████████████| 2/2 [00:00<00:00, 7090.96it/s]\n"
     ]
    },
    {
     "name": "stdout",
     "output_type": "stream",
     "text": [
      "set of possible words includes like:\n",
      "['troop', 'trout']\n",
      "Our suggestion for guess based on Entropy:  troop\n",
      "guessWordPatternOutput: [2, 2, 2, 1, 0]\n"
     ]
    },
    {
     "name": "stderr",
     "output_type": "stream",
     "text": [
      "100%|███████████████████████████████████████████| 1/1 [00:00<00:00, 3923.58it/s]\n"
     ]
    },
    {
     "name": "stdout",
     "output_type": "stream",
     "text": [
      "set of possible words includes like:\n",
      "['trout']\n",
      "Our suggestion for guess based on Entropy:  trout\n",
      "guessWordPatternOutput: [2, 2, 2, 2, 2]\n",
      "You Won! : 36  times\n",
      "\n",
      "\n",
      "\n",
      "====RealAnswer to reach is  sissy\n"
     ]
    },
    {
     "name": "stderr",
     "output_type": "stream",
     "text": [
      "100%|█████████████████████████████████████| 2315/2315 [00:00<00:00, 4708.96it/s]\n"
     ]
    },
    {
     "name": "stdout",
     "output_type": "stream",
     "text": [
      "set of possible words includes like:\n",
      "['raise', 'slate', 'crate', 'irate', 'trace', 'arise', 'stare', 'snare', 'arose', 'least']\n",
      "Our suggestion for guess based on Entropy:  arose\n",
      "guessWordPatternOutput: [0, 0, 0, 2, 0]\n"
     ]
    },
    {
     "name": "stderr",
     "output_type": "stream",
     "text": [
      "100%|█████████████████████████████████████████| 17/17 [00:00<00:00, 8492.52it/s]\n"
     ]
    },
    {
     "name": "stdout",
     "output_type": "stream",
     "text": [
      "set of possible words includes like:\n",
      "['sissy', 'swish', 'tipsy', 'plush', 'gipsy', 'slush', 'missy', 'shush', 'flush', 'blush']\n",
      "Our suggestion for guess based on Entropy:  gipsy\n",
      "guessWordPatternOutput: [0, 2, 0, 2, 2]\n"
     ]
    },
    {
     "name": "stderr",
     "output_type": "stream",
     "text": [
      "100%|███████████████████████████████████████████| 2/2 [00:00<00:00, 8413.85it/s]\n"
     ]
    },
    {
     "name": "stdout",
     "output_type": "stream",
     "text": [
      "set of possible words includes like:\n",
      "['sissy', 'missy']\n",
      "Our suggestion for guess based on Entropy:  sissy\n",
      "guessWordPatternOutput: [2, 2, 2, 2, 2]\n",
      "You Won! : 37  times\n",
      "\n",
      "\n",
      "\n",
      "====RealAnswer to reach is  route\n"
     ]
    },
    {
     "name": "stderr",
     "output_type": "stream",
     "text": [
      "100%|█████████████████████████████████████| 2315/2315 [00:00<00:00, 4302.04it/s]\n"
     ]
    },
    {
     "name": "stdout",
     "output_type": "stream",
     "text": [
      "set of possible words includes like:\n",
      "['raise', 'slate', 'crate', 'irate', 'trace', 'arise', 'stare', 'snare', 'arose', 'least']\n",
      "Our suggestion for guess based on Entropy:  trace\n",
      "guessWordPatternOutput: [1, 1, 0, 0, 2]\n"
     ]
    },
    {
     "name": "stderr",
     "output_type": "stream",
     "text": [
      "100%|███████████████████████████████████████████| 3/3 [00:00<00:00, 7231.56it/s]\n"
     ]
    },
    {
     "name": "stdout",
     "output_type": "stream",
     "text": [
      "set of possible words includes like:\n",
      "['route', 'forte', 'store']\n",
      "Our suggestion for guess based on Entropy:  route\n",
      "guessWordPatternOutput: [2, 2, 2, 2, 2]\n",
      "You Won! : 38  times\n",
      "\n",
      "\n",
      "\n",
      "====RealAnswer to reach is  nutty\n"
     ]
    },
    {
     "name": "stderr",
     "output_type": "stream",
     "text": [
      "100%|█████████████████████████████████████| 2315/2315 [00:00<00:00, 4643.81it/s]\n"
     ]
    },
    {
     "name": "stdout",
     "output_type": "stream",
     "text": [
      "set of possible words includes like:\n",
      "['raise', 'slate', 'crate', 'irate', 'trace', 'arise', 'stare', 'snare', 'arose', 'least']\n",
      "Our suggestion for guess based on Entropy:  stare\n",
      "guessWordPatternOutput: [0, 1, 0, 0, 0]\n"
     ]
    },
    {
     "name": "stderr",
     "output_type": "stream",
     "text": [
      "100%|█████████████████████████████████████████| 98/98 [00:00<00:00, 7955.13it/s]\n"
     ]
    },
    {
     "name": "stdout",
     "output_type": "stream",
     "text": [
      "set of possible words includes like:\n",
      "['count', 'point', 'mouth', 'donut', 'month', 'touch', 'mount', 'youth', 'tough', 'tonic']\n",
      "Our suggestion for guess based on Entropy:  youth\n",
      "guessWordPatternOutput: [1, 0, 1, 2, 0]\n"
     ]
    },
    {
     "name": "stderr",
     "output_type": "stream",
     "text": [
      "100%|███████████████████████████████████████████| 3/3 [00:00<00:00, 8102.33it/s]\n"
     ]
    },
    {
     "name": "stdout",
     "output_type": "stream",
     "text": [
      "set of possible words includes like:\n",
      "['unity', 'nutty', 'putty']\n",
      "Our suggestion for guess based on Entropy:  unity\n",
      "guessWordPatternOutput: [1, 1, 0, 2, 2]\n"
     ]
    },
    {
     "name": "stderr",
     "output_type": "stream",
     "text": [
      "100%|███████████████████████████████████████████| 1/1 [00:00<00:00, 6944.21it/s]\n"
     ]
    },
    {
     "name": "stdout",
     "output_type": "stream",
     "text": [
      "set of possible words includes like:\n",
      "['nutty']\n",
      "Our suggestion for guess based on Entropy:  nutty\n",
      "guessWordPatternOutput: [2, 2, 2, 2, 2]\n",
      "You Won! : 39  times\n",
      "\n",
      "\n",
      "\n",
      "====RealAnswer to reach is  frail\n"
     ]
    },
    {
     "name": "stderr",
     "output_type": "stream",
     "text": [
      "100%|█████████████████████████████████████| 2315/2315 [00:00<00:00, 4702.95it/s]\n"
     ]
    },
    {
     "name": "stdout",
     "output_type": "stream",
     "text": [
      "set of possible words includes like:\n",
      "['raise', 'slate', 'crate', 'irate', 'trace', 'arise', 'stare', 'snare', 'arose', 'least']\n",
      "Our suggestion for guess based on Entropy:  least\n",
      "guessWordPatternOutput: [1, 0, 2, 0, 0]\n"
     ]
    },
    {
     "name": "stderr",
     "output_type": "stream",
     "text": [
      "100%|█████████████████████████████████████████| 29/29 [00:00<00:00, 8536.97it/s]\n"
     ]
    },
    {
     "name": "stdout",
     "output_type": "stream",
     "text": [
      "set of possible words includes like:\n",
      "['flack', 'clank', 'black', 'flank', 'blank', 'plank', 'claim', 'clang', 'flair', 'clack']\n",
      "Our suggestion for guess based on Entropy:  clank\n",
      "guessWordPatternOutput: [0, 1, 2, 0, 0]\n"
     ]
    },
    {
     "name": "stderr",
     "output_type": "stream",
     "text": [
      "100%|███████████████████████████████████████████| 7/7 [00:00<00:00, 8932.20it/s]\n"
     ]
    },
    {
     "name": "stdout",
     "output_type": "stream",
     "text": [
      "set of possible words includes like:\n",
      "['grail', 'brawl', 'frail', 'drawl', 'avail', 'quail', 'qualm']\n",
      "Our suggestion for guess based on Entropy:  brawl\n",
      "guessWordPatternOutput: [0, 2, 2, 0, 2]\n"
     ]
    },
    {
     "name": "stderr",
     "output_type": "stream",
     "text": [
      "100%|███████████████████████████████████████████| 2/2 [00:00<00:00, 5599.87it/s]\n"
     ]
    },
    {
     "name": "stdout",
     "output_type": "stream",
     "text": [
      "set of possible words includes like:\n",
      "['grail', 'frail']\n",
      "Our suggestion for guess based on Entropy:  grail\n",
      "guessWordPatternOutput: [0, 2, 2, 2, 2]\n"
     ]
    },
    {
     "name": "stderr",
     "output_type": "stream",
     "text": [
      "100%|███████████████████████████████████████████| 1/1 [00:00<00:00, 5991.86it/s]\n"
     ]
    },
    {
     "name": "stdout",
     "output_type": "stream",
     "text": [
      "set of possible words includes like:\n",
      "['frail']\n",
      "Our suggestion for guess based on Entropy:  frail\n",
      "guessWordPatternOutput: [2, 2, 2, 2, 2]\n",
      "You Won! : 40  times\n",
      "\n",
      "\n",
      "\n",
      "====RealAnswer to reach is  nadir\n"
     ]
    },
    {
     "name": "stderr",
     "output_type": "stream",
     "text": [
      "100%|█████████████████████████████████████| 2315/2315 [00:00<00:00, 4731.94it/s]\n"
     ]
    },
    {
     "name": "stdout",
     "output_type": "stream",
     "text": [
      "set of possible words includes like:\n",
      "['raise', 'slate', 'crate', 'irate', 'trace', 'arise', 'stare', 'snare', 'arose', 'least']\n",
      "Our suggestion for guess based on Entropy:  arise\n",
      "guessWordPatternOutput: [1, 1, 1, 0, 0]\n"
     ]
    },
    {
     "name": "stderr",
     "output_type": "stream",
     "text": [
      "100%|█████████████████████████████████████████| 17/17 [00:00<00:00, 8504.67it/s]\n"
     ]
    },
    {
     "name": "stdout",
     "output_type": "stream",
     "text": [
      "set of possible words includes like:\n",
      "['rapid', 'radio', 'radii', 'rabid', 'nadir', 'tapir', 'ratio', 'chair', 'flair', 'vicar']\n",
      "Our suggestion for guess based on Entropy:  rabid\n",
      "guessWordPatternOutput: [1, 2, 0, 2, 1]\n"
     ]
    },
    {
     "name": "stderr",
     "output_type": "stream",
     "text": [
      "100%|███████████████████████████████████████████| 1/1 [00:00<00:00, 6797.90it/s]\n"
     ]
    },
    {
     "name": "stdout",
     "output_type": "stream",
     "text": [
      "set of possible words includes like:\n",
      "['nadir']\n",
      "Our suggestion for guess based on Entropy:  nadir\n",
      "guessWordPatternOutput: [2, 2, 2, 2, 2]\n",
      "You Won! : 41  times\n",
      "\n",
      "\n",
      "\n",
      "====RealAnswer to reach is  hilly\n"
     ]
    },
    {
     "name": "stderr",
     "output_type": "stream",
     "text": [
      "100%|█████████████████████████████████████| 2315/2315 [00:00<00:00, 4739.31it/s]\n"
     ]
    },
    {
     "name": "stdout",
     "output_type": "stream",
     "text": [
      "set of possible words includes like:\n",
      "['raise', 'slate', 'crate', 'irate', 'trace', 'arise', 'stare', 'snare', 'arose', 'least']\n",
      "Our suggestion for guess based on Entropy:  crate\n",
      "guessWordPatternOutput: [0, 0, 0, 0, 0]\n"
     ]
    },
    {
     "name": "stderr",
     "output_type": "stream",
     "text": [
      "100%|███████████████████████████████████████| 246/246 [00:00<00:00, 7263.94it/s]\n"
     ]
    },
    {
     "name": "stdout",
     "output_type": "stream",
     "text": [
      "set of possible words includes like:\n",
      "['solid', 'slimy', 'lousy', 'noisy', 'spoil', 'sound', 'sling', 'spiny', 'guild', 'slung']\n",
      "Our suggestion for guess based on Entropy:  noisy\n",
      "guessWordPatternOutput: [0, 0, 1, 0, 2]\n"
     ]
    },
    {
     "name": "stderr",
     "output_type": "stream",
     "text": [
      "100%|█████████████████████████████████████████| 17/17 [00:00<00:00, 8626.08it/s]\n"
     ]
    },
    {
     "name": "stdout",
     "output_type": "stream",
     "text": [
      "set of possible words includes like:\n",
      "['filmy', 'dimly', 'filly', 'dilly', 'imply', 'hilly', 'willy', 'billy', 'wimpy', 'milky']\n",
      "Our suggestion for guess based on Entropy:  willy\n",
      "guessWordPatternOutput: [0, 2, 2, 2, 2]\n"
     ]
    },
    {
     "name": "stderr",
     "output_type": "stream",
     "text": [
      "100%|███████████████████████████████████████████| 4/4 [00:00<00:00, 8599.29it/s]\n"
     ]
    },
    {
     "name": "stdout",
     "output_type": "stream",
     "text": [
      "set of possible words includes like:\n",
      "['dilly', 'hilly', 'filly', 'billy']\n",
      "Our suggestion for guess based on Entropy:  filly\n",
      "guessWordPatternOutput: [0, 2, 2, 2, 2]\n"
     ]
    },
    {
     "name": "stderr",
     "output_type": "stream",
     "text": [
      "100%|███████████████████████████████████████████| 3/3 [00:00<00:00, 6834.82it/s]\n"
     ]
    },
    {
     "name": "stdout",
     "output_type": "stream",
     "text": [
      "set of possible words includes like:\n",
      "['dilly', 'hilly', 'billy']\n",
      "Our suggestion for guess based on Entropy:  dilly\n",
      "guessWordPatternOutput: [0, 2, 2, 2, 2]\n"
     ]
    },
    {
     "name": "stderr",
     "output_type": "stream",
     "text": [
      "100%|███████████████████████████████████████████| 2/2 [00:00<00:00, 7847.15it/s]\n"
     ]
    },
    {
     "name": "stdout",
     "output_type": "stream",
     "text": [
      "set of possible words includes like:\n",
      "['billy', 'hilly']\n",
      "Our suggestion for guess based on Entropy:  billy\n",
      "guessWordPatternOutput: [0, 2, 2, 2, 2]\n"
     ]
    },
    {
     "name": "stderr",
     "output_type": "stream",
     "text": [
      "100%|███████████████████████████████████████████| 1/1 [00:00<00:00, 7294.44it/s]\n"
     ]
    },
    {
     "name": "stdout",
     "output_type": "stream",
     "text": [
      "set of possible words includes like:\n",
      "['hilly']\n",
      "Our suggestion for guess based on Entropy:  hilly\n",
      "guessWordPatternOutput: [2, 2, 2, 2, 2]\n",
      "You Won! : 42  times\n",
      "\n",
      "\n",
      "\n",
      "====RealAnswer to reach is  forty\n"
     ]
    },
    {
     "name": "stderr",
     "output_type": "stream",
     "text": [
      "100%|█████████████████████████████████████| 2315/2315 [00:00<00:00, 4744.49it/s]\n"
     ]
    },
    {
     "name": "stdout",
     "output_type": "stream",
     "text": [
      "set of possible words includes like:\n",
      "['raise', 'slate', 'crate', 'irate', 'trace', 'arise', 'stare', 'snare', 'arose', 'least']\n",
      "Our suggestion for guess based on Entropy:  crate\n",
      "guessWordPatternOutput: [0, 1, 0, 2, 0]\n"
     ]
    },
    {
     "name": "stderr",
     "output_type": "stream",
     "text": [
      "100%|███████████████████████████████████████████| 9/9 [00:00<00:00, 7887.32it/s]\n"
     ]
    },
    {
     "name": "stdout",
     "output_type": "stream",
     "text": [
      "set of possible words includes like:\n",
      "['birth', 'forty', 'mirth', 'forth', 'worth', 'north', 'girth', 'dirty', 'rusty']\n",
      "Our suggestion for guess based on Entropy:  forty\n",
      "guessWordPatternOutput: [2, 2, 2, 2, 2]\n",
      "You Won! : 43  times\n",
      "\n",
      "\n",
      "\n",
      "====RealAnswer to reach is  mirth\n"
     ]
    },
    {
     "name": "stderr",
     "output_type": "stream",
     "text": [
      "100%|█████████████████████████████████████| 2315/2315 [00:00<00:00, 4773.11it/s]\n"
     ]
    },
    {
     "name": "stdout",
     "output_type": "stream",
     "text": [
      "set of possible words includes like:\n",
      "['raise', 'slate', 'crate', 'irate', 'trace', 'arise', 'stare', 'snare', 'arose', 'least']\n",
      "Our suggestion for guess based on Entropy:  stare\n",
      "guessWordPatternOutput: [0, 1, 0, 1, 0]\n"
     ]
    },
    {
     "name": "stderr",
     "output_type": "stream",
     "text": [
      "100%|█████████████████████████████████████████| 42/42 [00:00<00:00, 8275.51it/s]\n"
     ]
    },
    {
     "name": "stdout",
     "output_type": "stream",
     "text": [
      "set of possible words includes like:\n",
      "['throb', 'fruit', 'trout', 'turbo', 'throw', 'torch', 'truth', 'forth', 'forty', 'brunt']\n",
      "Our suggestion for guess based on Entropy:  throb\n",
      "guessWordPatternOutput: [1, 1, 2, 0, 0]\n"
     ]
    },
    {
     "name": "stderr",
     "output_type": "stream",
     "text": [
      "100%|███████████████████████████████████████████| 2/2 [00:00<00:00, 7688.92it/s]\n"
     ]
    },
    {
     "name": "stdout",
     "output_type": "stream",
     "text": [
      "set of possible words includes like:\n",
      "['mirth', 'girth']\n",
      "Our suggestion for guess based on Entropy:  girth\n",
      "guessWordPatternOutput: [0, 2, 2, 2, 2]\n"
     ]
    },
    {
     "name": "stderr",
     "output_type": "stream",
     "text": [
      "100%|███████████████████████████████████████████| 1/1 [00:00<00:00, 5096.36it/s]\n"
     ]
    },
    {
     "name": "stdout",
     "output_type": "stream",
     "text": [
      "set of possible words includes like:\n",
      "['mirth']\n",
      "Our suggestion for guess based on Entropy:  mirth\n",
      "guessWordPatternOutput: [2, 2, 2, 2, 2]\n",
      "You Won! : 44  times\n",
      "\n",
      "\n",
      "\n",
      "====RealAnswer to reach is  tithe\n"
     ]
    },
    {
     "name": "stderr",
     "output_type": "stream",
     "text": [
      "100%|█████████████████████████████████████| 2315/2315 [00:00<00:00, 4707.93it/s]\n"
     ]
    },
    {
     "name": "stdout",
     "output_type": "stream",
     "text": [
      "set of possible words includes like:\n",
      "['raise', 'slate', 'crate', 'irate', 'trace', 'arise', 'stare', 'snare', 'arose', 'least']\n",
      "Our suggestion for guess based on Entropy:  snare\n",
      "guessWordPatternOutput: [0, 0, 0, 0, 2]\n"
     ]
    },
    {
     "name": "stderr",
     "output_type": "stream",
     "text": [
      "100%|█████████████████████████████████████████| 79/79 [00:00<00:00, 8091.58it/s]\n"
     ]
    },
    {
     "name": "stdout",
     "output_type": "stream",
     "text": [
      "set of possible words includes like:\n",
      "['guile', 'utile', 'tilde', 'glide', 'bilge', 'boule', 'guide', 'bugle', 'bulge', 'cutie']\n",
      "Our suggestion for guess based on Entropy:  guide\n",
      "guessWordPatternOutput: [0, 0, 1, 0, 2]\n"
     ]
    },
    {
     "name": "stderr",
     "output_type": "stream",
     "text": [
      "100%|███████████████████████████████████████████| 9/9 [00:00<00:00, 8604.68it/s]\n"
     ]
    },
    {
     "name": "stdout",
     "output_type": "stream",
     "text": [
      "set of possible words includes like:\n",
      "['title', 'lithe', 'bible', 'belie', 'tithe', 'biome', 'piece', 'pixie', 'movie']\n",
      "Our suggestion for guess based on Entropy:  piece\n",
      "guessWordPatternOutput: [0, 2, 1, 0, 2]\n"
     ]
    },
    {
     "name": "stderr",
     "output_type": "stream",
     "text": [
      "100%|███████████████████████████████████████████| 5/5 [00:00<00:00, 8745.42it/s]\n"
     ]
    },
    {
     "name": "stdout",
     "output_type": "stream",
     "text": [
      "set of possible words includes like:\n",
      "['title', 'bible', 'lithe', 'tithe', 'biome']\n",
      "Our suggestion for guess based on Entropy:  lithe\n",
      "guessWordPatternOutput: [0, 2, 2, 2, 2]\n"
     ]
    },
    {
     "name": "stderr",
     "output_type": "stream",
     "text": [
      "100%|███████████████████████████████████████████| 1/1 [00:00<00:00, 3236.35it/s]\n"
     ]
    },
    {
     "name": "stdout",
     "output_type": "stream",
     "text": [
      "set of possible words includes like:\n",
      "['tithe']\n",
      "Our suggestion for guess based on Entropy:  tithe\n",
      "guessWordPatternOutput: [2, 2, 2, 2, 2]\n",
      "You Won! : 45  times\n",
      "\n",
      "\n",
      "\n",
      "====RealAnswer to reach is  slung\n"
     ]
    },
    {
     "name": "stderr",
     "output_type": "stream",
     "text": [
      "100%|█████████████████████████████████████| 2315/2315 [00:00<00:00, 4752.30it/s]\n"
     ]
    },
    {
     "name": "stdout",
     "output_type": "stream",
     "text": [
      "set of possible words includes like:\n",
      "['raise', 'slate', 'crate', 'irate', 'trace', 'arise', 'stare', 'snare', 'arose', 'least']\n",
      "Our suggestion for guess based on Entropy:  raise\n",
      "guessWordPatternOutput: [0, 0, 0, 1, 0]\n"
     ]
    },
    {
     "name": "stderr",
     "output_type": "stream",
     "text": [
      "100%|█████████████████████████████████████████| 80/80 [00:00<00:00, 8009.56it/s]\n"
     ]
    },
    {
     "name": "stdout",
     "output_type": "stream",
     "text": [
      "set of possible words includes like:\n",
      "['stunk', 'stony', 'stock', 'spunk', 'shunt', 'sloth', 'stuck', 'slunk', 'stool', 'snout']\n",
      "Our suggestion for guess based on Entropy:  stock\n",
      "guessWordPatternOutput: [2, 0, 0, 0, 0]\n"
     ]
    },
    {
     "name": "stderr",
     "output_type": "stream",
     "text": [
      "100%|███████████████████████████████████████████| 8/8 [00:00<00:00, 6949.97it/s]\n"
     ]
    },
    {
     "name": "stdout",
     "output_type": "stream",
     "text": [
      "set of possible words includes like:\n",
      "['slung', 'swung', 'slump', 'shyly', 'slyly', 'sunny', 'snuff', 'sully']\n",
      "Our suggestion for guess based on Entropy:  sully\n",
      "guessWordPatternOutput: [2, 1, 1, 1, 0]\n"
     ]
    },
    {
     "name": "stderr",
     "output_type": "stream",
     "text": [
      "100%|███████████████████████████████████████████| 2/2 [00:00<00:00, 7906.32it/s]\n"
     ]
    },
    {
     "name": "stdout",
     "output_type": "stream",
     "text": [
      "set of possible words includes like:\n",
      "['slump', 'slung']\n",
      "Our suggestion for guess based on Entropy:  slump\n",
      "guessWordPatternOutput: [2, 2, 2, 0, 0]\n"
     ]
    },
    {
     "name": "stderr",
     "output_type": "stream",
     "text": [
      "100%|███████████████████████████████████████████| 1/1 [00:00<00:00, 2768.52it/s]\n"
     ]
    },
    {
     "name": "stdout",
     "output_type": "stream",
     "text": [
      "set of possible words includes like:\n",
      "['slung']\n",
      "Our suggestion for guess based on Entropy:  slung\n",
      "guessWordPatternOutput: [2, 2, 2, 2, 2]\n",
      "You Won! : 46  times\n",
      "\n",
      "\n",
      "\n",
      "====RealAnswer to reach is  white\n"
     ]
    },
    {
     "name": "stderr",
     "output_type": "stream",
     "text": [
      "100%|█████████████████████████████████████| 2315/2315 [00:00<00:00, 4542.44it/s]\n"
     ]
    },
    {
     "name": "stdout",
     "output_type": "stream",
     "text": [
      "set of possible words includes like:\n",
      "['raise', 'slate', 'crate', 'irate', 'trace', 'arise', 'stare', 'snare', 'arose', 'least']\n",
      "Our suggestion for guess based on Entropy:  arose\n",
      "guessWordPatternOutput: [0, 0, 0, 0, 2]\n"
     ]
    },
    {
     "name": "stderr",
     "output_type": "stream",
     "text": [
      "100%|█████████████████████████████████████████| 79/79 [00:00<00:00, 7692.93it/s]\n"
     ]
    },
    {
     "name": "stdout",
     "output_type": "stream",
     "text": [
      "set of possible words includes like:\n",
      "['guile', 'utile', 'tilde', 'cutie', 'unite', 'lunge', 'glide', 'guide', 'lithe', 'dunce']\n",
      "Our suggestion for guess based on Entropy:  cutie\n",
      "guessWordPatternOutput: [0, 0, 1, 1, 2]\n"
     ]
    },
    {
     "name": "stderr",
     "output_type": "stream",
     "text": [
      "100%|███████████████████████████████████████████| 4/4 [00:00<00:00, 7588.07it/s]\n"
     ]
    },
    {
     "name": "stdout",
     "output_type": "stream",
     "text": [
      "set of possible words includes like:\n",
      "['elite', 'tilde', 'white', 'twine']\n",
      "Our suggestion for guess based on Entropy:  white\n",
      "guessWordPatternOutput: [2, 2, 2, 2, 2]\n",
      "You Won! : 47  times\n",
      "\n",
      "\n",
      "\n",
      "====RealAnswer to reach is  shrug\n"
     ]
    },
    {
     "name": "stderr",
     "output_type": "stream",
     "text": [
      "100%|█████████████████████████████████████| 2315/2315 [00:00<00:00, 4726.81it/s]\n"
     ]
    },
    {
     "name": "stdout",
     "output_type": "stream",
     "text": [
      "set of possible words includes like:\n",
      "['raise', 'slate', 'crate', 'irate', 'trace', 'arise', 'stare', 'snare', 'arose', 'least']\n",
      "Our suggestion for guess based on Entropy:  arise\n",
      "guessWordPatternOutput: [0, 1, 0, 1, 0]\n"
     ]
    },
    {
     "name": "stderr",
     "output_type": "stream",
     "text": [
      "100%|█████████████████████████████████████████| 25/25 [00:00<00:00, 8695.38it/s]\n"
     ]
    },
    {
     "name": "stdout",
     "output_type": "stream",
     "text": [
      "set of possible words includes like:\n",
      "['short', 'story', 'sport', 'snort', 'storm', 'shorn', 'strut', 'stork', 'scorn', 'sworn']\n",
      "Our suggestion for guess based on Entropy:  sworn\n",
      "guessWordPatternOutput: [2, 0, 0, 1, 0]\n"
     ]
    },
    {
     "name": "stderr",
     "output_type": "stream",
     "text": [
      "100%|███████████████████████████████████████████| 7/7 [00:00<00:00, 5189.14it/s]\n"
     ]
    },
    {
     "name": "stdout",
     "output_type": "stream",
     "text": [
      "set of possible words includes like:\n",
      "['scrub', 'shrub', 'shrug', 'scrum', 'syrup', 'strut', 'surly']\n",
      "Our suggestion for guess based on Entropy:  shrug\n",
      "guessWordPatternOutput: [2, 2, 2, 2, 2]\n",
      "You Won! : 48  times\n",
      "\n",
      "\n",
      "\n",
      "====RealAnswer to reach is  lucid\n"
     ]
    },
    {
     "name": "stderr",
     "output_type": "stream",
     "text": [
      "100%|█████████████████████████████████████| 2315/2315 [00:00<00:00, 4706.10it/s]\n"
     ]
    },
    {
     "name": "stdout",
     "output_type": "stream",
     "text": [
      "set of possible words includes like:\n",
      "['raise', 'slate', 'crate', 'irate', 'trace', 'arise', 'stare', 'snare', 'arose', 'least']\n",
      "Our suggestion for guess based on Entropy:  trace\n",
      "guessWordPatternOutput: [0, 0, 0, 1, 0]\n"
     ]
    },
    {
     "name": "stderr",
     "output_type": "stream",
     "text": [
      "100%|█████████████████████████████████████████| 48/48 [00:00<00:00, 8608.48it/s]\n"
     ]
    },
    {
     "name": "stdout",
     "output_type": "stream",
     "text": [
      "set of possible words includes like:\n",
      "['cumin', 'could', 'cloud', 'clink', 'conic', 'cling', 'climb', 'comic', 'clung', 'clown']\n",
      "Our suggestion for guess based on Entropy:  cloud\n",
      "guessWordPatternOutput: [1, 1, 0, 1, 2]\n"
     ]
    },
    {
     "name": "stderr",
     "output_type": "stream",
     "text": [
      "100%|███████████████████████████████████████████| 1/1 [00:00<00:00, 4804.47it/s]\n"
     ]
    },
    {
     "name": "stdout",
     "output_type": "stream",
     "text": [
      "set of possible words includes like:\n",
      "['lucid']\n",
      "Our suggestion for guess based on Entropy:  lucid\n",
      "guessWordPatternOutput: [2, 2, 2, 2, 2]\n",
      "You Won! : 49  times\n",
      "\n",
      "\n",
      "\n",
      "====RealAnswer to reach is  tight\n"
     ]
    },
    {
     "name": "stderr",
     "output_type": "stream",
     "text": [
      "100%|█████████████████████████████████████| 2315/2315 [00:00<00:00, 4726.63it/s]\n"
     ]
    },
    {
     "name": "stdout",
     "output_type": "stream",
     "text": [
      "set of possible words includes like:\n",
      "['raise', 'slate', 'crate', 'irate', 'trace', 'arise', 'stare', 'snare', 'arose', 'least']\n",
      "Our suggestion for guess based on Entropy:  snare\n",
      "guessWordPatternOutput: [0, 0, 0, 0, 0]\n"
     ]
    },
    {
     "name": "stderr",
     "output_type": "stream",
     "text": [
      "100%|███████████████████████████████████████| 219/219 [00:00<00:00, 7372.78it/s]\n"
     ]
    },
    {
     "name": "stdout",
     "output_type": "stream",
     "text": [
      "set of possible words includes like:\n",
      "['could', 'moult', 'clout', 'cloud', 'tulip', 'built', 'pilot', 'cloth', 'guilt', 'touch']\n",
      "Our suggestion for guess based on Entropy:  touch\n",
      "guessWordPatternOutput: [2, 0, 0, 0, 1]\n"
     ]
    },
    {
     "name": "stderr",
     "output_type": "stream",
     "text": [
      "100%|███████████████████████████████████████████| 1/1 [00:00<00:00, 1003.90it/s]\n"
     ]
    },
    {
     "name": "stdout",
     "output_type": "stream",
     "text": [
      "set of possible words includes like:\n",
      "['tight']\n",
      "Our suggestion for guess based on Entropy:  tight\n",
      "guessWordPatternOutput: [2, 2, 2, 2, 2]\n",
      "You Won! : 50  times\n",
      "\n",
      "\n",
      "\n",
      "====RealAnswer to reach is  jumbo\n"
     ]
    },
    {
     "name": "stderr",
     "output_type": "stream",
     "text": [
      "100%|█████████████████████████████████████| 2315/2315 [00:00<00:00, 4694.08it/s]\n"
     ]
    },
    {
     "name": "stdout",
     "output_type": "stream",
     "text": [
      "set of possible words includes like:\n",
      "['raise', 'slate', 'crate', 'irate', 'trace', 'arise', 'stare', 'snare', 'arose', 'least']\n",
      "Our suggestion for guess based on Entropy:  crate\n",
      "guessWordPatternOutput: [0, 0, 0, 0, 0]\n"
     ]
    },
    {
     "name": "stderr",
     "output_type": "stream",
     "text": [
      "100%|███████████████████████████████████████| 246/246 [00:00<00:00, 7201.63it/s]\n"
     ]
    },
    {
     "name": "stdout",
     "output_type": "stream",
     "text": [
      "set of possible words includes like:\n",
      "['solid', 'slimy', 'lousy', 'noisy', 'spoil', 'sound', 'sling', 'spiny', 'guild', 'slung']\n",
      "Our suggestion for guess based on Entropy:  sound\n",
      "guessWordPatternOutput: [0, 1, 1, 0, 0]\n"
     ]
    },
    {
     "name": "stderr",
     "output_type": "stream",
     "text": [
      "100%|███████████████████████████████████████████| 5/5 [00:00<00:00, 8665.92it/s]\n"
     ]
    },
    {
     "name": "stdout",
     "output_type": "stream",
     "text": [
      "set of possible words includes like:\n",
      "['gumbo', 'jumbo', 'ghoul', 'opium', 'buxom']\n",
      "Our suggestion for guess based on Entropy:  opium\n",
      "guessWordPatternOutput: [1, 0, 0, 1, 1]\n"
     ]
    },
    {
     "name": "stderr",
     "output_type": "stream",
     "text": [
      "100%|███████████████████████████████████████████| 2/2 [00:00<00:00, 6190.85it/s]\n"
     ]
    },
    {
     "name": "stdout",
     "output_type": "stream",
     "text": [
      "set of possible words includes like:\n",
      "['jumbo', 'gumbo']\n",
      "Our suggestion for guess based on Entropy:  jumbo\n",
      "guessWordPatternOutput: [2, 2, 2, 2, 2]\n",
      "You Won! : 51  times\n",
      "\n",
      "\n",
      "\n",
      "====RealAnswer to reach is  wight\n"
     ]
    },
    {
     "name": "stderr",
     "output_type": "stream",
     "text": [
      "100%|█████████████████████████████████████| 2315/2315 [00:00<00:00, 4709.06it/s]\n"
     ]
    },
    {
     "name": "stdout",
     "output_type": "stream",
     "text": [
      "set of possible words includes like:\n",
      "['raise', 'slate', 'crate', 'irate', 'trace', 'arise', 'stare', 'snare', 'arose', 'least']\n",
      "Our suggestion for guess based on Entropy:  snare\n",
      "guessWordPatternOutput: [0, 0, 0, 0, 0]\n"
     ]
    },
    {
     "name": "stderr",
     "output_type": "stream",
     "text": [
      "100%|███████████████████████████████████████| 219/219 [00:00<00:00, 7284.49it/s]\n"
     ]
    },
    {
     "name": "stdout",
     "output_type": "stream",
     "text": [
      "set of possible words includes like:\n",
      "['could', 'moult', 'clout', 'cloud', 'tulip', 'built', 'pilot', 'cloth', 'guilt', 'touch']\n",
      "Our suggestion for guess based on Entropy:  cloud\n",
      "guessWordPatternOutput: [0, 0, 0, 0, 0]\n"
     ]
    },
    {
     "name": "stderr",
     "output_type": "stream",
     "text": [
      "100%|█████████████████████████████████████████| 19/19 [00:00<00:00, 5746.86it/s]\n"
     ]
    },
    {
     "name": "stdout",
     "output_type": "stream",
     "text": [
      "set of possible words includes like:\n",
      "['fight', 'wight', 'might', 'fifth', 'pithy', 'witty', 'fifty', 'tight', 'thigh', 'wimpy']\n",
      "Our suggestion for guess based on Entropy:  fifth\n",
      "guessWordPatternOutput: [0, 2, 0, 1, 1]\n"
     ]
    },
    {
     "name": "stderr",
     "output_type": "stream",
     "text": [
      "100%|███████████████████████████████████████████| 4/4 [00:00<00:00, 7796.10it/s]\n"
     ]
    },
    {
     "name": "stdout",
     "output_type": "stream",
     "text": [
      "set of possible words includes like:\n",
      "['wight', 'might', 'tight', 'pithy']\n",
      "Our suggestion for guess based on Entropy:  pithy\n",
      "guessWordPatternOutput: [0, 2, 1, 2, 0]\n"
     ]
    },
    {
     "name": "stderr",
     "output_type": "stream",
     "text": [
      "100%|███████████████████████████████████████████| 3/3 [00:00<00:00, 8671.89it/s]\n"
     ]
    },
    {
     "name": "stdout",
     "output_type": "stream",
     "text": [
      "set of possible words includes like:\n",
      "['wight', 'might', 'tight']\n",
      "Our suggestion for guess based on Entropy:  might\n",
      "guessWordPatternOutput: [0, 2, 2, 2, 2]\n"
     ]
    },
    {
     "name": "stderr",
     "output_type": "stream",
     "text": [
      "100%|███████████████████████████████████████████| 2/2 [00:00<00:00, 7861.86it/s]\n"
     ]
    },
    {
     "name": "stdout",
     "output_type": "stream",
     "text": [
      "set of possible words includes like:\n",
      "['wight', 'tight']\n",
      "Our suggestion for guess based on Entropy:  wight\n",
      "guessWordPatternOutput: [2, 2, 2, 2, 2]\n",
      "You Won! : 52  times\n",
      "\n",
      "\n",
      "\n",
      "====RealAnswer to reach is  flask\n"
     ]
    },
    {
     "name": "stderr",
     "output_type": "stream",
     "text": [
      "100%|█████████████████████████████████████| 2315/2315 [00:00<00:00, 4649.89it/s]\n"
     ]
    },
    {
     "name": "stdout",
     "output_type": "stream",
     "text": [
      "set of possible words includes like:\n",
      "['raise', 'slate', 'crate', 'irate', 'trace', 'arise', 'stare', 'snare', 'arose', 'least']\n",
      "Our suggestion for guess based on Entropy:  arise\n",
      "guessWordPatternOutput: [1, 0, 0, 2, 0]\n"
     ]
    },
    {
     "name": "stderr",
     "output_type": "stream",
     "text": [
      "100%|█████████████████████████████████████████| 25/25 [00:00<00:00, 6678.83it/s]\n"
     ]
    },
    {
     "name": "stdout",
     "output_type": "stream",
     "text": [
      "set of possible words includes like:\n",
      "['slash', 'clash', 'stash', 'clasp', 'flash', 'blast', 'salsa', 'class', 'coast', 'swash']\n",
      "Our suggestion for guess based on Entropy:  clasp\n",
      "guessWordPatternOutput: [0, 2, 2, 2, 0]\n"
     ]
    },
    {
     "name": "stderr",
     "output_type": "stream",
     "text": [
      "100%|███████████████████████████████████████████| 5/5 [00:00<00:00, 9157.87it/s]\n"
     ]
    },
    {
     "name": "stdout",
     "output_type": "stream",
     "text": [
      "set of possible words includes like:\n",
      "['flash', 'flask', 'slash', 'blast', 'glass']\n",
      "Our suggestion for guess based on Entropy:  slash\n",
      "guessWordPatternOutput: [1, 2, 2, 2, 0]\n"
     ]
    },
    {
     "name": "stderr",
     "output_type": "stream",
     "text": [
      "100%|███████████████████████████████████████████| 3/3 [00:00<00:00, 2997.36it/s]\n"
     ]
    },
    {
     "name": "stdout",
     "output_type": "stream",
     "text": [
      "set of possible words includes like:\n",
      "['flask', 'glass', 'blast']\n",
      "Our suggestion for guess based on Entropy:  glass\n",
      "guessWordPatternOutput: [0, 2, 2, 2, 1]\n"
     ]
    },
    {
     "name": "stderr",
     "output_type": "stream",
     "text": [
      "100%|███████████████████████████████████████████| 2/2 [00:00<00:00, 1519.95it/s]\n"
     ]
    },
    {
     "name": "stdout",
     "output_type": "stream",
     "text": [
      "set of possible words includes like:\n",
      "['flask', 'blast']\n",
      "Our suggestion for guess based on Entropy:  flask\n",
      "guessWordPatternOutput: [2, 2, 2, 2, 2]\n",
      "You Won! : 53  times\n",
      "\n",
      "\n",
      "\n",
      "====RealAnswer to reach is  soggy\n"
     ]
    },
    {
     "name": "stderr",
     "output_type": "stream",
     "text": [
      "100%|█████████████████████████████████████| 2315/2315 [00:00<00:00, 4715.75it/s]\n"
     ]
    },
    {
     "name": "stdout",
     "output_type": "stream",
     "text": [
      "set of possible words includes like:\n",
      "['raise', 'slate', 'crate', 'irate', 'trace', 'arise', 'stare', 'snare', 'arose', 'least']\n",
      "Our suggestion for guess based on Entropy:  arise\n",
      "guessWordPatternOutput: [0, 0, 0, 1, 0]\n"
     ]
    },
    {
     "name": "stderr",
     "output_type": "stream",
     "text": [
      "100%|█████████████████████████████████████████| 80/80 [00:00<00:00, 8301.24it/s]\n"
     ]
    },
    {
     "name": "stdout",
     "output_type": "stream",
     "text": [
      "set of possible words includes like:\n",
      "['stunk', 'stony', 'stock', 'spunk', 'shunt', 'sloth', 'stuck', 'slunk', 'stool', 'snout']\n",
      "Our suggestion for guess based on Entropy:  stony\n",
      "guessWordPatternOutput: [2, 0, 1, 0, 2]\n"
     ]
    },
    {
     "name": "stderr",
     "output_type": "stream",
     "text": [
      "100%|███████████████████████████████████████████| 1/1 [00:00<00:00, 6754.11it/s]\n"
     ]
    },
    {
     "name": "stdout",
     "output_type": "stream",
     "text": [
      "set of possible words includes like:\n",
      "['soggy']\n",
      "Our suggestion for guess based on Entropy:  soggy\n",
      "guessWordPatternOutput: [2, 2, 2, 2, 2]\n",
      "You Won! : 54  times\n",
      "\n",
      "\n",
      "\n",
      "====RealAnswer to reach is  onion\n"
     ]
    },
    {
     "name": "stderr",
     "output_type": "stream",
     "text": [
      "100%|█████████████████████████████████████| 2315/2315 [00:00<00:00, 4680.49it/s]\n"
     ]
    },
    {
     "name": "stdout",
     "output_type": "stream",
     "text": [
      "set of possible words includes like:\n",
      "['raise', 'slate', 'crate', 'irate', 'trace', 'arise', 'stare', 'snare', 'arose', 'least']\n",
      "Our suggestion for guess based on Entropy:  crate\n",
      "guessWordPatternOutput: [0, 0, 0, 0, 0]\n"
     ]
    },
    {
     "name": "stderr",
     "output_type": "stream",
     "text": [
      "100%|███████████████████████████████████████| 246/246 [00:00<00:00, 7220.27it/s]\n"
     ]
    },
    {
     "name": "stdout",
     "output_type": "stream",
     "text": [
      "set of possible words includes like:\n",
      "['solid', 'slimy', 'lousy', 'noisy', 'spoil', 'sound', 'sling', 'spiny', 'guild', 'slung']\n",
      "Our suggestion for guess based on Entropy:  slimy\n",
      "guessWordPatternOutput: [0, 0, 2, 0, 0]\n"
     ]
    },
    {
     "name": "stderr",
     "output_type": "stream",
     "text": [
      "100%|███████████████████████████████████████████| 6/6 [00:00<00:00, 8464.79it/s]\n"
     ]
    },
    {
     "name": "stdout",
     "output_type": "stream",
     "text": [
      "set of possible words includes like:\n",
      "['going', 'doing', 'onion', 'owing', 'union', 'whiff']\n",
      "Our suggestion for guess based on Entropy:  onion\n",
      "guessWordPatternOutput: [2, 2, 2, 2, 2]\n",
      "You Won! : 55  times\n",
      "\n",
      "\n",
      "\n",
      "====RealAnswer to reach is  flung\n"
     ]
    },
    {
     "name": "stderr",
     "output_type": "stream",
     "text": [
      "100%|█████████████████████████████████████| 2315/2315 [00:00<00:00, 4748.52it/s]\n"
     ]
    },
    {
     "name": "stdout",
     "output_type": "stream",
     "text": [
      "set of possible words includes like:\n",
      "['raise', 'slate', 'crate', 'irate', 'trace', 'arise', 'stare', 'snare', 'arose', 'least']\n",
      "Our suggestion for guess based on Entropy:  raise\n",
      "guessWordPatternOutput: [0, 0, 0, 0, 0]\n"
     ]
    },
    {
     "name": "stderr",
     "output_type": "stream",
     "text": [
      "100%|███████████████████████████████████████| 168/168 [00:00<00:00, 7568.59it/s]\n"
     ]
    },
    {
     "name": "stdout",
     "output_type": "stream",
     "text": [
      "set of possible words includes like:\n",
      "['mulch', 'lunch', 'cloth', 'could', 'clung', 'clump', 'blunt', 'gulch', 'bunch', 'blond']\n",
      "Our suggestion for guess based on Entropy:  clung\n",
      "guessWordPatternOutput: [0, 2, 2, 2, 2]\n"
     ]
    },
    {
     "name": "stderr",
     "output_type": "stream",
     "text": [
      "100%|███████████████████████████████████████████| 1/1 [00:00<00:00, 6087.52it/s]\n"
     ]
    },
    {
     "name": "stdout",
     "output_type": "stream",
     "text": [
      "set of possible words includes like:\n",
      "['flung']\n",
      "Our suggestion for guess based on Entropy:  flung\n",
      "guessWordPatternOutput: [2, 2, 2, 2, 2]\n",
      "You Won! : 56  times\n",
      "\n",
      "\n",
      "\n",
      "====RealAnswer to reach is  happy\n"
     ]
    },
    {
     "name": "stderr",
     "output_type": "stream",
     "text": [
      "100%|█████████████████████████████████████| 2315/2315 [00:00<00:00, 4726.53it/s]\n"
     ]
    },
    {
     "name": "stdout",
     "output_type": "stream",
     "text": [
      "set of possible words includes like:\n",
      "['raise', 'slate', 'crate', 'irate', 'trace', 'arise', 'stare', 'snare', 'arose', 'least']\n",
      "Our suggestion for guess based on Entropy:  irate\n",
      "guessWordPatternOutput: [0, 0, 1, 0, 0]\n"
     ]
    },
    {
     "name": "stderr",
     "output_type": "stream",
     "text": [
      "100%|███████████████████████████████████████| 118/118 [00:00<00:00, 7920.62it/s]\n"
     ]
    },
    {
     "name": "stdout",
     "output_type": "stream",
     "text": [
      "set of possible words includes like:\n",
      "['salon', 'canal', 'manly', 'modal', 'sandy', 'sadly', 'mason', 'candy', 'nasal', 'palsy']\n",
      "Our suggestion for guess based on Entropy:  manly\n",
      "guessWordPatternOutput: [0, 2, 0, 0, 2]\n"
     ]
    },
    {
     "name": "stderr",
     "output_type": "stream",
     "text": [
      "100%|█████████████████████████████████████████| 17/17 [00:00<00:00, 8577.31it/s]\n"
     ]
    },
    {
     "name": "stdout",
     "output_type": "stream",
     "text": [
      "set of possible words includes like:\n",
      "['bawdy', 'saucy', 'gaudy', 'gassy', 'caddy', 'sappy', 'paddy', 'gawky', 'cabby', 'wacky']\n",
      "Our suggestion for guess based on Entropy:  caddy\n",
      "guessWordPatternOutput: [0, 2, 0, 0, 2]\n"
     ]
    },
    {
     "name": "stderr",
     "output_type": "stream",
     "text": [
      "100%|███████████████████████████████████████████| 9/9 [00:00<00:00, 8500.05it/s]\n"
     ]
    },
    {
     "name": "stdout",
     "output_type": "stream",
     "text": [
      "set of possible words includes like:\n",
      "['gassy', 'sappy', 'savvy', 'savoy', 'sassy', 'gawky', 'baggy', 'happy', 'jazzy']\n",
      "Our suggestion for guess based on Entropy:  savvy\n",
      "guessWordPatternOutput: [0, 2, 0, 0, 2]\n"
     ]
    },
    {
     "name": "stderr",
     "output_type": "stream",
     "text": [
      "100%|███████████████████████████████████████████| 4/4 [00:00<00:00, 8643.59it/s]\n"
     ]
    },
    {
     "name": "stdout",
     "output_type": "stream",
     "text": [
      "set of possible words includes like:\n",
      "['baggy', 'gawky', 'jazzy', 'happy']\n",
      "Our suggestion for guess based on Entropy:  baggy\n",
      "guessWordPatternOutput: [0, 2, 0, 0, 2]\n"
     ]
    },
    {
     "name": "stderr",
     "output_type": "stream",
     "text": [
      "100%|███████████████████████████████████████████| 2/2 [00:00<00:00, 8065.97it/s]\n"
     ]
    },
    {
     "name": "stdout",
     "output_type": "stream",
     "text": [
      "set of possible words includes like:\n",
      "['jazzy', 'happy']\n",
      "Our suggestion for guess based on Entropy:  jazzy\n",
      "guessWordPatternOutput: [0, 2, 0, 0, 2]\n"
     ]
    },
    {
     "name": "stderr",
     "output_type": "stream",
     "text": [
      "100%|███████████████████████████████████████████| 1/1 [00:00<00:00, 5005.14it/s]\n"
     ]
    },
    {
     "name": "stdout",
     "output_type": "stream",
     "text": [
      "set of possible words includes like:\n",
      "['happy']\n",
      "Our suggestion for guess based on Entropy:  happy\n",
      "guessWordPatternOutput: [2, 2, 2, 2, 2]\n",
      "You Won! : 57  times\n",
      "\n",
      "\n",
      "\n",
      "====RealAnswer to reach is  mummy\n"
     ]
    },
    {
     "name": "stderr",
     "output_type": "stream",
     "text": [
      "100%|█████████████████████████████████████| 2315/2315 [00:00<00:00, 4733.70it/s]\n"
     ]
    },
    {
     "name": "stdout",
     "output_type": "stream",
     "text": [
      "set of possible words includes like:\n",
      "['raise', 'slate', 'crate', 'irate', 'trace', 'arise', 'stare', 'snare', 'arose', 'least']\n",
      "Our suggestion for guess based on Entropy:  irate\n",
      "guessWordPatternOutput: [0, 0, 0, 0, 0]\n"
     ]
    },
    {
     "name": "stderr",
     "output_type": "stream",
     "text": [
      "100%|███████████████████████████████████████| 194/194 [00:00<00:00, 7423.55it/s]\n"
     ]
    },
    {
     "name": "stdout",
     "output_type": "stream",
     "text": [
      "set of possible words includes like:\n",
      "['plush', 'blush', 'slunk', 'slump', 'slung', 'flush', 'plunk', 'scold', 'phony', 'clump']\n",
      "Our suggestion for guess based on Entropy:  slung\n",
      "guessWordPatternOutput: [0, 0, 1, 0, 0]\n"
     ]
    },
    {
     "name": "stderr",
     "output_type": "stream",
     "text": [
      "100%|█████████████████████████████████████████| 14/14 [00:00<00:00, 8084.85it/s]\n"
     ]
    },
    {
     "name": "stdout",
     "output_type": "stream",
     "text": [
      "set of possible words includes like:\n",
      "['dumpy', 'dummy', 'jumpy', 'muddy', 'humph', 'mummy', 'duchy', 'jumbo', 'puffy', 'mucky']\n",
      "Our suggestion for guess based on Entropy:  puffy\n",
      "guessWordPatternOutput: [0, 2, 0, 0, 2]\n"
     ]
    },
    {
     "name": "stderr",
     "output_type": "stream",
     "text": [
      "100%|███████████████████████████████████████████| 6/6 [00:00<00:00, 8738.13it/s]\n"
     ]
    },
    {
     "name": "stdout",
     "output_type": "stream",
     "text": [
      "set of possible words includes like:\n",
      "['dummy', 'muddy', 'mucky', 'duchy', 'buddy', 'mummy']\n",
      "Our suggestion for guess based on Entropy:  mucky\n",
      "guessWordPatternOutput: [2, 2, 0, 0, 2]\n"
     ]
    },
    {
     "name": "stderr",
     "output_type": "stream",
     "text": [
      "100%|███████████████████████████████████████████| 2/2 [00:00<00:00, 7067.07it/s]\n"
     ]
    },
    {
     "name": "stdout",
     "output_type": "stream",
     "text": [
      "set of possible words includes like:\n",
      "['muddy', 'mummy']\n",
      "Our suggestion for guess based on Entropy:  muddy\n",
      "guessWordPatternOutput: [2, 2, 0, 0, 2]\n"
     ]
    },
    {
     "name": "stderr",
     "output_type": "stream",
     "text": [
      "100%|███████████████████████████████████████████| 1/1 [00:00<00:00, 6853.44it/s]\n"
     ]
    },
    {
     "name": "stdout",
     "output_type": "stream",
     "text": [
      "set of possible words includes like:\n",
      "['mummy']\n",
      "Our suggestion for guess based on Entropy:  mummy\n",
      "guessWordPatternOutput: [2, 2, 2, 2, 2]\n",
      "You Won! : 58  times\n",
      "\n",
      "\n",
      "\n",
      "====RealAnswer to reach is  fixer\n"
     ]
    },
    {
     "name": "stderr",
     "output_type": "stream",
     "text": [
      "100%|█████████████████████████████████████| 2315/2315 [00:00<00:00, 4218.95it/s]\n"
     ]
    },
    {
     "name": "stdout",
     "output_type": "stream",
     "text": [
      "set of possible words includes like:\n",
      "['raise', 'slate', 'crate', 'irate', 'trace', 'arise', 'stare', 'snare', 'arose', 'least']\n",
      "Our suggestion for guess based on Entropy:  slate\n",
      "guessWordPatternOutput: [0, 0, 0, 0, 1]\n"
     ]
    },
    {
     "name": "stderr",
     "output_type": "stream",
     "text": [
      "100%|███████████████████████████████████████| 165/165 [00:00<00:00, 6948.81it/s]\n"
     ]
    },
    {
     "name": "stdout",
     "output_type": "stream",
     "text": [
      "set of possible words includes like:\n",
      "['diner', 'cider', 'decor', 'diver', 'finer', 'cried', 'nicer', 'wider', 'miner', 'ripen']\n",
      "Our suggestion for guess based on Entropy:  miner\n",
      "guessWordPatternOutput: [0, 2, 0, 2, 2]\n"
     ]
    },
    {
     "name": "stderr",
     "output_type": "stream",
     "text": [
      "100%|█████████████████████████████████████████| 11/11 [00:00<00:00, 6455.48it/s]\n"
     ]
    },
    {
     "name": "stdout",
     "output_type": "stream",
     "text": [
      "set of possible words includes like:\n",
      "['diver', 'river', 'rider', 'viper', 'riper', 'cider', 'giver', 'wider', 'piper', 'fiber']\n",
      "Our suggestion for guess based on Entropy:  piper\n",
      "guessWordPatternOutput: [0, 2, 0, 2, 2]\n"
     ]
    },
    {
     "name": "stderr",
     "output_type": "stream",
     "text": [
      "100%|███████████████████████████████████████████| 8/8 [00:00<00:00, 6999.26it/s]\n"
     ]
    },
    {
     "name": "stdout",
     "output_type": "stream",
     "text": [
      "set of possible words includes like:\n",
      "['rider', 'diver', 'river', 'cider', 'wider', 'giver', 'fiber', 'fixer']\n",
      "Our suggestion for guess based on Entropy:  cider\n",
      "guessWordPatternOutput: [0, 2, 0, 2, 2]\n"
     ]
    },
    {
     "name": "stderr",
     "output_type": "stream",
     "text": [
      "100%|███████████████████████████████████████████| 4/4 [00:00<00:00, 6652.35it/s]\n"
     ]
    },
    {
     "name": "stdout",
     "output_type": "stream",
     "text": [
      "set of possible words includes like:\n",
      "['giver', 'fiber', 'river', 'fixer']\n",
      "Our suggestion for guess based on Entropy:  giver\n",
      "guessWordPatternOutput: [0, 2, 0, 2, 2]\n"
     ]
    },
    {
     "name": "stderr",
     "output_type": "stream",
     "text": [
      "100%|███████████████████████████████████████████| 2/2 [00:00<00:00, 5588.68it/s]\n"
     ]
    },
    {
     "name": "stdout",
     "output_type": "stream",
     "text": [
      "set of possible words includes like:\n",
      "['fiber', 'fixer']\n",
      "Our suggestion for guess based on Entropy:  fixer\n",
      "guessWordPatternOutput: [2, 2, 2, 2, 2]\n",
      "You Won! : 59  times\n",
      "\n",
      "\n",
      "\n",
      "====RealAnswer to reach is  shorn\n"
     ]
    },
    {
     "name": "stderr",
     "output_type": "stream",
     "text": [
      "100%|█████████████████████████████████████| 2315/2315 [00:00<00:00, 4440.84it/s]\n"
     ]
    },
    {
     "name": "stdout",
     "output_type": "stream",
     "text": [
      "set of possible words includes like:\n",
      "['raise', 'slate', 'crate', 'irate', 'trace', 'arise', 'stare', 'snare', 'arose', 'least']\n",
      "Our suggestion for guess based on Entropy:  raise\n",
      "guessWordPatternOutput: [1, 0, 0, 1, 0]\n"
     ]
    },
    {
     "name": "stderr",
     "output_type": "stream",
     "text": [
      "100%|█████████████████████████████████████████| 24/24 [00:00<00:00, 7691.85it/s]\n"
     ]
    },
    {
     "name": "stdout",
     "output_type": "stream",
     "text": [
      "set of possible words includes like:\n",
      "['short', 'story', 'sport', 'snort', 'storm', 'shorn', 'strut', 'stork', 'scorn', 'spurt']\n",
      "Our suggestion for guess based on Entropy:  sport\n",
      "guessWordPatternOutput: [2, 0, 2, 2, 0]\n"
     ]
    },
    {
     "name": "stderr",
     "output_type": "stream",
     "text": [
      "100%|███████████████████████████████████████████| 4/4 [00:00<00:00, 6654.98it/s]\n"
     ]
    },
    {
     "name": "stdout",
     "output_type": "stream",
     "text": [
      "set of possible words includes like:\n",
      "['shorn', 'sword', 'sworn', 'scorn']\n",
      "Our suggestion for guess based on Entropy:  scorn\n",
      "guessWordPatternOutput: [2, 0, 2, 2, 2]\n"
     ]
    },
    {
     "name": "stderr",
     "output_type": "stream",
     "text": [
      "100%|███████████████████████████████████████████| 2/2 [00:00<00:00, 7688.92it/s]\n"
     ]
    },
    {
     "name": "stdout",
     "output_type": "stream",
     "text": [
      "set of possible words includes like:\n",
      "['shorn', 'sworn']\n",
      "Our suggestion for guess based on Entropy:  sworn\n",
      "guessWordPatternOutput: [2, 0, 2, 2, 2]\n"
     ]
    },
    {
     "name": "stderr",
     "output_type": "stream",
     "text": [
      "100%|███████████████████████████████████████████| 1/1 [00:00<00:00, 6668.21it/s]\n"
     ]
    },
    {
     "name": "stdout",
     "output_type": "stream",
     "text": [
      "set of possible words includes like:\n",
      "['shorn']\n",
      "Our suggestion for guess based on Entropy:  shorn\n",
      "guessWordPatternOutput: [2, 2, 2, 2, 2]\n",
      "You Won! : 60  times\n",
      "\n",
      "\n",
      "\n",
      "====RealAnswer to reach is  teach\n"
     ]
    },
    {
     "name": "stderr",
     "output_type": "stream",
     "text": [
      "100%|█████████████████████████████████████| 2315/2315 [00:00<00:00, 4545.70it/s]\n"
     ]
    },
    {
     "name": "stdout",
     "output_type": "stream",
     "text": [
      "set of possible words includes like:\n",
      "['raise', 'slate', 'crate', 'irate', 'trace', 'arise', 'stare', 'snare', 'arose', 'least']\n",
      "Our suggestion for guess based on Entropy:  snare\n",
      "guessWordPatternOutput: [0, 0, 2, 0, 1]\n"
     ]
    },
    {
     "name": "stderr",
     "output_type": "stream",
     "text": [
      "100%|█████████████████████████████████████████| 18/18 [00:00<00:00, 7503.23it/s]\n"
     ]
    },
    {
     "name": "stdout",
     "output_type": "stream",
     "text": [
      "set of possible words includes like:\n",
      "['death', 'dealt', 'heath', 'leach', 'mealy', 'heady', 'leapt', 'teach', 'leafy', 'leaky']\n",
      "Our suggestion for guess based on Entropy:  mealy\n",
      "guessWordPatternOutput: [0, 2, 2, 0, 0]\n"
     ]
    },
    {
     "name": "stderr",
     "output_type": "stream",
     "text": [
      "100%|███████████████████████████████████████████| 5/5 [00:00<00:00, 8577.31it/s]\n"
     ]
    },
    {
     "name": "stdout",
     "output_type": "stream",
     "text": [
      "set of possible words includes like:\n",
      "['heath', 'death', 'beach', 'peach', 'teach']\n",
      "Our suggestion for guess based on Entropy:  beach\n",
      "guessWordPatternOutput: [0, 2, 2, 2, 2]\n"
     ]
    },
    {
     "name": "stderr",
     "output_type": "stream",
     "text": [
      "100%|███████████████████████████████████████████| 2/2 [00:00<00:00, 7703.04it/s]\n"
     ]
    },
    {
     "name": "stdout",
     "output_type": "stream",
     "text": [
      "set of possible words includes like:\n",
      "['peach', 'teach']\n",
      "Our suggestion for guess based on Entropy:  peach\n",
      "guessWordPatternOutput: [0, 2, 2, 2, 2]\n"
     ]
    },
    {
     "name": "stderr",
     "output_type": "stream",
     "text": [
      "100%|███████████████████████████████████████████| 1/1 [00:00<00:00, 7194.35it/s]\n"
     ]
    },
    {
     "name": "stdout",
     "output_type": "stream",
     "text": [
      "set of possible words includes like:\n",
      "['teach']\n",
      "Our suggestion for guess based on Entropy:  teach\n",
      "guessWordPatternOutput: [2, 2, 2, 2, 2]\n",
      "You Won! : 61  times\n",
      "\n",
      "\n",
      "\n",
      "====RealAnswer to reach is  pinto\n"
     ]
    },
    {
     "name": "stderr",
     "output_type": "stream",
     "text": [
      "100%|█████████████████████████████████████| 2315/2315 [00:00<00:00, 4633.63it/s]\n"
     ]
    },
    {
     "name": "stdout",
     "output_type": "stream",
     "text": [
      "set of possible words includes like:\n",
      "['raise', 'slate', 'crate', 'irate', 'trace', 'arise', 'stare', 'snare', 'arose', 'least']\n",
      "Our suggestion for guess based on Entropy:  arose\n",
      "guessWordPatternOutput: [0, 0, 1, 0, 0]\n"
     ]
    },
    {
     "name": "stderr",
     "output_type": "stream",
     "text": [
      "100%|███████████████████████████████████████| 104/104 [00:00<00:00, 8106.59it/s]\n"
     ]
    },
    {
     "name": "stdout",
     "output_type": "stream",
     "text": [
      "set of possible words includes like:\n",
      "['donut', 'count', 'doing', 'doubt', 'mount', 'point', 'dingo', 'month', 'moult', 'login']\n",
      "Our suggestion for guess based on Entropy:  donut\n",
      "guessWordPatternOutput: [0, 1, 2, 0, 1]\n"
     ]
    },
    {
     "name": "stderr",
     "output_type": "stream",
     "text": [
      "100%|███████████████████████████████████████████| 1/1 [00:00<00:00, 6721.64it/s]\n"
     ]
    },
    {
     "name": "stdout",
     "output_type": "stream",
     "text": [
      "set of possible words includes like:\n",
      "['pinto']\n",
      "Our suggestion for guess based on Entropy:  pinto\n",
      "guessWordPatternOutput: [2, 2, 2, 2, 2]\n",
      "You Won! : 62  times\n",
      "\n",
      "\n",
      "\n",
      "====RealAnswer to reach is  third\n"
     ]
    },
    {
     "name": "stderr",
     "output_type": "stream",
     "text": [
      "100%|█████████████████████████████████████| 2315/2315 [00:00<00:00, 4463.55it/s]\n"
     ]
    },
    {
     "name": "stdout",
     "output_type": "stream",
     "text": [
      "set of possible words includes like:\n",
      "['raise', 'slate', 'crate', 'irate', 'trace', 'arise', 'stare', 'snare', 'arose', 'least']\n",
      "Our suggestion for guess based on Entropy:  stare\n",
      "guessWordPatternOutput: [0, 1, 0, 2, 0]\n"
     ]
    },
    {
     "name": "stderr",
     "output_type": "stream",
     "text": [
      "100%|███████████████████████████████████████████| 7/7 [00:00<00:00, 6427.35it/s]\n"
     ]
    },
    {
     "name": "stdout",
     "output_type": "stream",
     "text": [
      "set of possible words includes like:\n",
      "['twirl', 'flirt', 'thorn', 'third', 'court', 'blurt', 'intro']\n",
      "Our suggestion for guess based on Entropy:  third\n",
      "guessWordPatternOutput: [2, 2, 2, 2, 2]\n",
      "You Won! : 63  times\n",
      "\n",
      "\n",
      "\n",
      "====RealAnswer to reach is  slain\n"
     ]
    },
    {
     "name": "stderr",
     "output_type": "stream",
     "text": [
      "100%|█████████████████████████████████████| 2315/2315 [00:00<00:00, 3977.30it/s]\n"
     ]
    },
    {
     "name": "stdout",
     "output_type": "stream",
     "text": [
      "set of possible words includes like:\n",
      "['raise', 'slate', 'crate', 'irate', 'trace', 'arise', 'stare', 'snare', 'arose', 'least']\n",
      "Our suggestion for guess based on Entropy:  snare\n",
      "guessWordPatternOutput: [2, 1, 2, 0, 0]\n"
     ]
    },
    {
     "name": "stderr",
     "output_type": "stream",
     "text": [
      "100%|██████████████████████████████████████████| 10/10 [00:00<00:00, 312.17it/s]\n"
     ]
    },
    {
     "name": "stdout",
     "output_type": "stream",
     "text": [
      "set of possible words includes like:\n",
      "['slant', 'stank', 'stand', 'scant', 'stain', 'spank', 'slang', 'slain', 'shank', 'spawn']\n",
      "Our suggestion for guess based on Entropy:  spank\n",
      "guessWordPatternOutput: [2, 0, 2, 1, 0]\n"
     ]
    },
    {
     "name": "stderr",
     "output_type": "stream",
     "text": [
      "100%|███████████████████████████████████████████| 2/2 [00:00<00:00, 6538.28it/s]\n"
     ]
    },
    {
     "name": "stdout",
     "output_type": "stream",
     "text": [
      "set of possible words includes like:\n",
      "['stain', 'slain']\n",
      "Our suggestion for guess based on Entropy:  slain\n",
      "guessWordPatternOutput: [2, 2, 2, 2, 2]\n",
      "You Won! : 64  times\n",
      "\n",
      "\n",
      "\n",
      "====RealAnswer to reach is  draft\n"
     ]
    },
    {
     "name": "stderr",
     "output_type": "stream",
     "text": [
      "100%|█████████████████████████████████████| 2315/2315 [00:00<00:00, 4267.09it/s]\n"
     ]
    },
    {
     "name": "stdout",
     "output_type": "stream",
     "text": [
      "set of possible words includes like:\n",
      "['raise', 'slate', 'crate', 'irate', 'trace', 'arise', 'stare', 'snare', 'arose', 'least']\n",
      "Our suggestion for guess based on Entropy:  trace\n",
      "guessWordPatternOutput: [1, 2, 2, 0, 0]\n"
     ]
    },
    {
     "name": "stderr",
     "output_type": "stream",
     "text": [
      "100%|███████████████████████████████████████████| 4/4 [00:00<00:00, 6884.37it/s]\n"
     ]
    },
    {
     "name": "stdout",
     "output_type": "stream",
     "text": [
      "set of possible words includes like:\n",
      "['grant', 'draft', 'graft', 'wrath']\n",
      "Our suggestion for guess based on Entropy:  wrath\n",
      "guessWordPatternOutput: [0, 2, 2, 1, 0]\n"
     ]
    },
    {
     "name": "stderr",
     "output_type": "stream",
     "text": [
      "100%|███████████████████████████████████████████| 3/3 [00:00<00:00, 8450.58it/s]\n"
     ]
    },
    {
     "name": "stdout",
     "output_type": "stream",
     "text": [
      "set of possible words includes like:\n",
      "['grant', 'graft', 'draft']\n",
      "Our suggestion for guess based on Entropy:  graft\n",
      "guessWordPatternOutput: [0, 2, 2, 2, 2]\n"
     ]
    },
    {
     "name": "stderr",
     "output_type": "stream",
     "text": [
      "100%|███████████████████████████████████████████| 1/1 [00:00<00:00, 5957.82it/s]\n"
     ]
    },
    {
     "name": "stdout",
     "output_type": "stream",
     "text": [
      "set of possible words includes like:\n",
      "['draft']\n",
      "Our suggestion for guess based on Entropy:  draft\n",
      "guessWordPatternOutput: [2, 2, 2, 2, 2]\n",
      "You Won! : 65  times\n",
      "\n",
      "\n",
      "\n",
      "====RealAnswer to reach is  bravo\n"
     ]
    },
    {
     "name": "stderr",
     "output_type": "stream",
     "text": [
      "100%|█████████████████████████████████████| 2315/2315 [00:00<00:00, 4458.06it/s]\n"
     ]
    },
    {
     "name": "stdout",
     "output_type": "stream",
     "text": [
      "set of possible words includes like:\n",
      "['raise', 'slate', 'crate', 'irate', 'trace', 'arise', 'stare', 'snare', 'arose', 'least']\n",
      "Our suggestion for guess based on Entropy:  least\n",
      "guessWordPatternOutput: [0, 0, 2, 0, 0]\n"
     ]
    },
    {
     "name": "stderr",
     "output_type": "stream",
     "text": [
      "100%|█████████████████████████████████████████| 48/48 [00:00<00:00, 7858.49it/s]\n"
     ]
    },
    {
     "name": "stdout",
     "output_type": "stream",
     "text": [
      "set of possible words includes like:\n",
      "['chard', 'drawn', 'drank', 'grand', 'drain', 'crank', 'brand', 'wrack', 'chain', 'braid']\n",
      "Our suggestion for guess based on Entropy:  chard\n",
      "guessWordPatternOutput: [0, 0, 2, 1, 0]\n"
     ]
    },
    {
     "name": "stderr",
     "output_type": "stream",
     "text": [
      "100%|███████████████████████████████████████████| 8/8 [00:00<00:00, 8196.00it/s]\n"
     ]
    },
    {
     "name": "stdout",
     "output_type": "stream",
     "text": [
      "set of possible words includes like:\n",
      "['brain', 'brawn', 'grain', 'prawn', 'prank', 'bravo', 'frank', 'gravy']\n",
      "Our suggestion for guess based on Entropy:  grain\n",
      "guessWordPatternOutput: [0, 2, 2, 0, 0]\n"
     ]
    },
    {
     "name": "stderr",
     "output_type": "stream",
     "text": [
      "100%|███████████████████████████████████████████| 1/1 [00:00<00:00, 3398.95it/s]\n"
     ]
    },
    {
     "name": "stdout",
     "output_type": "stream",
     "text": [
      "set of possible words includes like:\n",
      "['bravo']\n",
      "Our suggestion for guess based on Entropy:  bravo\n",
      "guessWordPatternOutput: [2, 2, 2, 2, 2]\n",
      "You Won! : 66  times\n",
      "\n",
      "\n",
      "\n",
      "====RealAnswer to reach is  cross\n"
     ]
    },
    {
     "name": "stderr",
     "output_type": "stream",
     "text": [
      "100%|█████████████████████████████████████| 2315/2315 [00:00<00:00, 4623.05it/s]\n"
     ]
    },
    {
     "name": "stdout",
     "output_type": "stream",
     "text": [
      "set of possible words includes like:\n",
      "['raise', 'slate', 'crate', 'irate', 'trace', 'arise', 'stare', 'snare', 'arose', 'least']\n",
      "Our suggestion for guess based on Entropy:  slate\n",
      "guessWordPatternOutput: [1, 0, 0, 0, 0]\n"
     ]
    },
    {
     "name": "stderr",
     "output_type": "stream",
     "text": [
      "100%|█████████████████████████████████████████| 42/42 [00:00<00:00, 7437.97it/s]\n"
     ]
    },
    {
     "name": "stdout",
     "output_type": "stream",
     "text": [
      "set of possible words includes like:\n",
      "['missy', 'prism', 'fishy', 'music', 'brisk', 'mushy', 'pushy', 'bison', 'risky', 'bushy']\n",
      "Our suggestion for guess based on Entropy:  pushy\n",
      "guessWordPatternOutput: [0, 0, 1, 0, 0]\n"
     ]
    },
    {
     "name": "stderr",
     "output_type": "stream",
     "text": [
      "100%|███████████████████████████████████████████| 6/6 [00:00<00:00, 8128.50it/s]\n"
     ]
    },
    {
     "name": "stdout",
     "output_type": "stream",
     "text": [
      "set of possible words includes like:\n",
      "['dross', 'gross', 'cross', 'frisk', 'brisk', 'kiosk']\n",
      "Our suggestion for guess based on Entropy:  cross\n",
      "guessWordPatternOutput: [2, 2, 2, 2, 2]\n",
      "You Won! : 67  times\n",
      "\n",
      "\n",
      "\n",
      "====RealAnswer to reach is  hound\n"
     ]
    },
    {
     "name": "stderr",
     "output_type": "stream",
     "text": [
      "100%|█████████████████████████████████████| 2315/2315 [00:00<00:00, 4665.27it/s]\n"
     ]
    },
    {
     "name": "stdout",
     "output_type": "stream",
     "text": [
      "set of possible words includes like:\n",
      "['raise', 'slate', 'crate', 'irate', 'trace', 'arise', 'stare', 'snare', 'arose', 'least']\n",
      "Our suggestion for guess based on Entropy:  arise\n",
      "guessWordPatternOutput: [0, 0, 0, 0, 0]\n"
     ]
    },
    {
     "name": "stderr",
     "output_type": "stream",
     "text": [
      "100%|███████████████████████████████████████| 168/168 [00:00<00:00, 7582.92it/s]\n"
     ]
    },
    {
     "name": "stdout",
     "output_type": "stream",
     "text": [
      "set of possible words includes like:\n",
      "['mulch', 'lunch', 'cloth', 'could', 'clung', 'clump', 'blunt', 'gulch', 'bunch', 'blond']\n",
      "Our suggestion for guess based on Entropy:  lunch\n",
      "guessWordPatternOutput: [0, 1, 1, 0, 1]\n"
     ]
    },
    {
     "name": "stderr",
     "output_type": "stream",
     "text": [
      "100%|███████████████████████████████████████████| 1/1 [00:00<00:00, 5745.62it/s]\n"
     ]
    },
    {
     "name": "stdout",
     "output_type": "stream",
     "text": [
      "set of possible words includes like:\n",
      "['hound']\n",
      "Our suggestion for guess based on Entropy:  hound\n",
      "guessWordPatternOutput: [2, 2, 2, 2, 2]\n",
      "You Won! : 68  times\n",
      "\n",
      "\n",
      "\n",
      "====RealAnswer to reach is  pasta\n"
     ]
    },
    {
     "name": "stderr",
     "output_type": "stream",
     "text": [
      "100%|█████████████████████████████████████| 2315/2315 [00:00<00:00, 4725.23it/s]\n"
     ]
    },
    {
     "name": "stdout",
     "output_type": "stream",
     "text": [
      "set of possible words includes like:\n",
      "['raise', 'slate', 'crate', 'irate', 'trace', 'arise', 'stare', 'snare', 'arose', 'least']\n",
      "Our suggestion for guess based on Entropy:  arise\n",
      "guessWordPatternOutput: [1, 0, 0, 1, 0]\n"
     ]
    },
    {
     "name": "stderr",
     "output_type": "stream",
     "text": [
      "100%|█████████████████████████████████████████| 61/61 [00:00<00:00, 7833.58it/s]\n"
     ]
    },
    {
     "name": "stdout",
     "output_type": "stream",
     "text": [
      "set of possible words includes like:\n",
      "['slant', 'scant', 'shalt', 'stalk', 'scalp', 'scaly', 'scald', 'stank', 'splat', 'stand']\n",
      "Our suggestion for guess based on Entropy:  splat\n",
      "guessWordPatternOutput: [1, 1, 0, 1, 1]\n"
     ]
    },
    {
     "name": "stderr",
     "output_type": "stream",
     "text": [
      "100%|███████████████████████████████████████████| 2/2 [00:00<00:00, 7936.24it/s]\n"
     ]
    },
    {
     "name": "stdout",
     "output_type": "stream",
     "text": [
      "set of possible words includes like:\n",
      "['pasta', 'pasty']\n",
      "Our suggestion for guess based on Entropy:  pasty\n",
      "guessWordPatternOutput: [2, 2, 2, 2, 0]\n"
     ]
    },
    {
     "name": "stderr",
     "output_type": "stream",
     "text": [
      "100%|███████████████████████████████████████████| 1/1 [00:00<00:00, 7194.35it/s]\n"
     ]
    },
    {
     "name": "stdout",
     "output_type": "stream",
     "text": [
      "set of possible words includes like:\n",
      "['pasta']\n",
      "Our suggestion for guess based on Entropy:  pasta\n",
      "guessWordPatternOutput: [2, 2, 2, 2, 2]\n",
      "You Won! : 69  times\n",
      "\n",
      "\n",
      "\n",
      "====RealAnswer to reach is  truce\n"
     ]
    },
    {
     "name": "stderr",
     "output_type": "stream",
     "text": [
      "100%|█████████████████████████████████████| 2315/2315 [00:00<00:00, 4680.53it/s]\n"
     ]
    },
    {
     "name": "stdout",
     "output_type": "stream",
     "text": [
      "set of possible words includes like:\n",
      "['raise', 'slate', 'crate', 'irate', 'trace', 'arise', 'stare', 'snare', 'arose', 'least']\n",
      "Our suggestion for guess based on Entropy:  least\n",
      "guessWordPatternOutput: [0, 1, 0, 0, 1]\n"
     ]
    },
    {
     "name": "stderr",
     "output_type": "stream",
     "text": [
      "100%|█████████████████████████████████████████| 54/54 [00:00<00:00, 7756.59it/s]\n"
     ]
    },
    {
     "name": "stdout",
     "output_type": "stream",
     "text": [
      "set of possible words includes like:\n",
      "['trice', 'their', 'tribe', 'trite', 'tripe', 'outer', 'tried', 'write', 'route', 'truce']\n",
      "Our suggestion for guess based on Entropy:  outer\n",
      "guessWordPatternOutput: [0, 1, 1, 1, 1]\n"
     ]
    },
    {
     "name": "stderr",
     "output_type": "stream",
     "text": [
      "100%|███████████████████████████████████████████| 2/2 [00:00<00:00, 7598.38it/s]\n"
     ]
    },
    {
     "name": "stdout",
     "output_type": "stream",
     "text": [
      "set of possible words includes like:\n",
      "['brute', 'truce']\n",
      "Our suggestion for guess based on Entropy:  brute\n",
      "guessWordPatternOutput: [0, 2, 2, 1, 2]\n"
     ]
    },
    {
     "name": "stderr",
     "output_type": "stream",
     "text": [
      "100%|███████████████████████████████████████████| 1/1 [00:00<00:00, 5461.33it/s]\n"
     ]
    },
    {
     "name": "stdout",
     "output_type": "stream",
     "text": [
      "set of possible words includes like:\n",
      "['truce']\n",
      "Our suggestion for guess based on Entropy:  truce\n",
      "guessWordPatternOutput: [2, 2, 2, 2, 2]\n",
      "You Won! : 70  times\n",
      "\n",
      "\n",
      "\n",
      "====RealAnswer to reach is  offal\n"
     ]
    },
    {
     "name": "stderr",
     "output_type": "stream",
     "text": [
      "100%|█████████████████████████████████████| 2315/2315 [00:00<00:00, 4713.13it/s]\n"
     ]
    },
    {
     "name": "stdout",
     "output_type": "stream",
     "text": [
      "set of possible words includes like:\n",
      "['raise', 'slate', 'crate', 'irate', 'trace', 'arise', 'stare', 'snare', 'arose', 'least']\n",
      "Our suggestion for guess based on Entropy:  raise\n",
      "guessWordPatternOutput: [0, 1, 0, 0, 0]\n"
     ]
    },
    {
     "name": "stderr",
     "output_type": "stream",
     "text": [
      "100%|█████████████████████████████████████████| 92/92 [00:00<00:00, 7987.50it/s]\n"
     ]
    },
    {
     "name": "stdout",
     "output_type": "stream",
     "text": [
      "set of possible words includes like:\n",
      "['float', 'aloft', 'gloat', 'tonal', 'bloat', 'plant', 'cloak', 'along', 'allot', 'atoll']\n",
      "Our suggestion for guess based on Entropy:  tonal\n",
      "guessWordPatternOutput: [0, 1, 0, 2, 2]\n"
     ]
    },
    {
     "name": "stderr",
     "output_type": "stream",
     "text": [
      "100%|███████████████████████████████████████████| 1/1 [00:00<00:00, 6615.62it/s]\n"
     ]
    },
    {
     "name": "stdout",
     "output_type": "stream",
     "text": [
      "set of possible words includes like:\n",
      "['offal']\n",
      "Our suggestion for guess based on Entropy:  offal\n",
      "guessWordPatternOutput: [2, 2, 2, 2, 2]\n",
      "You Won! : 71  times\n",
      "\n",
      "\n",
      "\n",
      "====RealAnswer to reach is  carol\n"
     ]
    },
    {
     "name": "stderr",
     "output_type": "stream",
     "text": [
      "100%|█████████████████████████████████████| 2315/2315 [00:00<00:00, 4742.72it/s]\n"
     ]
    },
    {
     "name": "stdout",
     "output_type": "stream",
     "text": [
      "set of possible words includes like:\n",
      "['raise', 'slate', 'crate', 'irate', 'trace', 'arise', 'stare', 'snare', 'arose', 'least']\n",
      "Our suggestion for guess based on Entropy:  arise\n",
      "guessWordPatternOutput: [1, 1, 0, 0, 0]\n"
     ]
    },
    {
     "name": "stderr",
     "output_type": "stream",
     "text": [
      "100%|█████████████████████████████████████████| 62/62 [00:00<00:00, 8011.30it/s]\n"
     ]
    },
    {
     "name": "stdout",
     "output_type": "stream",
     "text": [
      "set of possible words includes like:\n",
      "['carol', 'coral', 'moral', 'royal', 'macro', 'mayor', 'harry', 'march', 'marry', 'hardy']\n",
      "Our suggestion for guess based on Entropy:  macro\n",
      "guessWordPatternOutput: [0, 2, 1, 1, 1]\n"
     ]
    },
    {
     "name": "stderr",
     "output_type": "stream",
     "text": [
      "100%|███████████████████████████████████████████| 1/1 [00:00<00:00, 6502.80it/s]\n"
     ]
    },
    {
     "name": "stdout",
     "output_type": "stream",
     "text": [
      "set of possible words includes like:\n",
      "['carol']\n",
      "Our suggestion for guess based on Entropy:  carol\n",
      "guessWordPatternOutput: [2, 2, 2, 2, 2]\n",
      "You Won! : 72  times\n",
      "\n",
      "\n",
      "\n",
      "====RealAnswer to reach is  folly\n"
     ]
    },
    {
     "name": "stderr",
     "output_type": "stream",
     "text": [
      "100%|█████████████████████████████████████| 2315/2315 [00:00<00:00, 4710.77it/s]\n"
     ]
    },
    {
     "name": "stdout",
     "output_type": "stream",
     "text": [
      "set of possible words includes like:\n",
      "['raise', 'slate', 'crate', 'irate', 'trace', 'arise', 'stare', 'snare', 'arose', 'least']\n",
      "Our suggestion for guess based on Entropy:  arise\n",
      "guessWordPatternOutput: [0, 0, 0, 0, 0]\n"
     ]
    },
    {
     "name": "stderr",
     "output_type": "stream",
     "text": [
      "100%|███████████████████████████████████████| 168/168 [00:00<00:00, 7683.38it/s]\n"
     ]
    },
    {
     "name": "stdout",
     "output_type": "stream",
     "text": [
      "set of possible words includes like:\n",
      "['mulch', 'lunch', 'cloth', 'could', 'clung', 'clump', 'blunt', 'gulch', 'bunch', 'blond']\n",
      "Our suggestion for guess based on Entropy:  mulch\n",
      "guessWordPatternOutput: [0, 0, 2, 0, 0]\n"
     ]
    },
    {
     "name": "stderr",
     "output_type": "stream",
     "text": [
      "100%|███████████████████████████████████████████| 6/6 [00:00<00:00, 8901.95it/s]\n"
     ]
    },
    {
     "name": "stdout",
     "output_type": "stream",
     "text": [
      "set of possible words includes like:\n",
      "['jolly', 'folly', 'golly', 'dolly', 'polyp', 'nylon']\n",
      "Our suggestion for guess based on Entropy:  dolly\n",
      "guessWordPatternOutput: [0, 2, 2, 2, 2]\n"
     ]
    },
    {
     "name": "stderr",
     "output_type": "stream",
     "text": [
      "100%|███████████████████████████████████████████| 3/3 [00:00<00:00, 8842.52it/s]\n"
     ]
    },
    {
     "name": "stdout",
     "output_type": "stream",
     "text": [
      "set of possible words includes like:\n",
      "['folly', 'golly', 'jolly']\n",
      "Our suggestion for guess based on Entropy:  golly\n",
      "guessWordPatternOutput: [0, 2, 2, 2, 2]\n"
     ]
    },
    {
     "name": "stderr",
     "output_type": "stream",
     "text": [
      "100%|███████████████████████████████████████████| 2/2 [00:00<00:00, 8232.20it/s]\n"
     ]
    },
    {
     "name": "stdout",
     "output_type": "stream",
     "text": [
      "set of possible words includes like:\n",
      "['folly', 'jolly']\n",
      "Our suggestion for guess based on Entropy:  jolly\n",
      "guessWordPatternOutput: [0, 2, 2, 2, 2]\n"
     ]
    },
    {
     "name": "stderr",
     "output_type": "stream",
     "text": [
      "100%|███████████████████████████████████████████| 1/1 [00:00<00:00, 7345.54it/s]\n"
     ]
    },
    {
     "name": "stdout",
     "output_type": "stream",
     "text": [
      "set of possible words includes like:\n",
      "['folly']\n",
      "Our suggestion for guess based on Entropy:  folly\n",
      "guessWordPatternOutput: [2, 2, 2, 2, 2]\n",
      "You Won! : 73  times\n",
      "\n",
      "\n",
      "\n",
      "====RealAnswer to reach is  virus\n"
     ]
    },
    {
     "name": "stderr",
     "output_type": "stream",
     "text": [
      "100%|█████████████████████████████████████| 2315/2315 [00:00<00:00, 4718.06it/s]\n"
     ]
    },
    {
     "name": "stdout",
     "output_type": "stream",
     "text": [
      "set of possible words includes like:\n",
      "['raise', 'slate', 'crate', 'irate', 'trace', 'arise', 'stare', 'snare', 'arose', 'least']\n",
      "Our suggestion for guess based on Entropy:  stare\n",
      "guessWordPatternOutput: [1, 0, 0, 1, 0]\n"
     ]
    },
    {
     "name": "stderr",
     "output_type": "stream",
     "text": [
      "100%|█████████████████████████████████████████| 12/12 [00:00<00:00, 8757.90it/s]\n"
     ]
    },
    {
     "name": "stdout",
     "output_type": "stream",
     "text": [
      "set of possible words includes like:\n",
      "['brisk', 'cross', 'crisp', 'virus', 'visor', 'crush', 'frisk', 'risky', 'brush', 'dross']\n",
      "Our suggestion for guess based on Entropy:  risky\n",
      "guessWordPatternOutput: [1, 2, 1, 0, 0]\n"
     ]
    },
    {
     "name": "stderr",
     "output_type": "stream",
     "text": [
      "100%|███████████████████████████████████████████| 1/1 [00:00<00:00, 7358.43it/s]\n"
     ]
    },
    {
     "name": "stdout",
     "output_type": "stream",
     "text": [
      "set of possible words includes like:\n",
      "['virus']\n",
      "Our suggestion for guess based on Entropy:  virus\n",
      "guessWordPatternOutput: [2, 2, 2, 2, 2]\n",
      "You Won! : 74  times\n",
      "\n",
      "\n",
      "\n",
      "====RealAnswer to reach is  chase\n"
     ]
    },
    {
     "name": "stderr",
     "output_type": "stream",
     "text": [
      "100%|█████████████████████████████████████| 2315/2315 [00:00<00:00, 4701.19it/s]\n"
     ]
    },
    {
     "name": "stdout",
     "output_type": "stream",
     "text": [
      "set of possible words includes like:\n",
      "['raise', 'slate', 'crate', 'irate', 'trace', 'arise', 'stare', 'snare', 'arose', 'least']\n",
      "Our suggestion for guess based on Entropy:  arose\n",
      "guessWordPatternOutput: [1, 0, 0, 2, 2]\n"
     ]
    },
    {
     "name": "stderr",
     "output_type": "stream",
     "text": [
      "100%|█████████████████████████████████████████| 10/10 [00:00<00:00, 8575.56it/s]\n"
     ]
    },
    {
     "name": "stdout",
     "output_type": "stream",
     "text": [
      "set of possible words includes like:\n",
      "['lapse', 'lease', 'phase', 'cease', 'pause', 'chase', 'cause', 'false', 'tease', 'masse']\n",
      "Our suggestion for guess based on Entropy:  cause\n",
      "guessWordPatternOutput: [2, 1, 0, 2, 2]\n"
     ]
    },
    {
     "name": "stderr",
     "output_type": "stream",
     "text": [
      "100%|███████████████████████████████████████████| 2/2 [00:00<00:00, 8297.34it/s]\n"
     ]
    },
    {
     "name": "stdout",
     "output_type": "stream",
     "text": [
      "set of possible words includes like:\n",
      "['cease', 'chase']\n",
      "Our suggestion for guess based on Entropy:  chase\n",
      "guessWordPatternOutput: [2, 2, 2, 2, 2]\n",
      "You Won! : 75  times\n",
      "\n",
      "\n",
      "\n",
      "====RealAnswer to reach is  cello\n"
     ]
    },
    {
     "name": "stderr",
     "output_type": "stream",
     "text": [
      "100%|█████████████████████████████████████| 2315/2315 [00:00<00:00, 4726.85it/s]\n"
     ]
    },
    {
     "name": "stdout",
     "output_type": "stream",
     "text": [
      "set of possible words includes like:\n",
      "['raise', 'slate', 'crate', 'irate', 'trace', 'arise', 'stare', 'snare', 'arose', 'least']\n",
      "Our suggestion for guess based on Entropy:  crate\n",
      "guessWordPatternOutput: [2, 0, 0, 0, 1]\n"
     ]
    },
    {
     "name": "stderr",
     "output_type": "stream",
     "text": [
      "100%|███████████████████████████████████████████| 8/8 [00:00<00:00, 8881.53it/s]\n"
     ]
    },
    {
     "name": "stdout",
     "output_type": "stream",
     "text": [
      "set of possible words includes like:\n",
      "['cheek', 'coven', 'chief', 'covey', 'check', 'cello', 'chess', 'clued']\n",
      "Our suggestion for guess based on Entropy:  cheek\n",
      "guessWordPatternOutput: [2, 0, 1, 1, 0]\n"
     ]
    },
    {
     "name": "stderr",
     "output_type": "stream",
     "text": [
      "100%|███████████████████████████████████████████| 1/1 [00:00<00:00, 7281.78it/s]\n"
     ]
    },
    {
     "name": "stdout",
     "output_type": "stream",
     "text": [
      "set of possible words includes like:\n",
      "['cello']\n",
      "Our suggestion for guess based on Entropy:  cello\n",
      "guessWordPatternOutput: [2, 2, 2, 2, 2]\n",
      "You Won! : 76  times\n",
      "\n",
      "\n",
      "\n",
      "====RealAnswer to reach is  lanky\n"
     ]
    },
    {
     "name": "stderr",
     "output_type": "stream",
     "text": [
      "100%|█████████████████████████████████████| 2315/2315 [00:00<00:00, 4716.49it/s]\n"
     ]
    },
    {
     "name": "stdout",
     "output_type": "stream",
     "text": [
      "set of possible words includes like:\n",
      "['raise', 'slate', 'crate', 'irate', 'trace', 'arise', 'stare', 'snare', 'arose', 'least']\n",
      "Our suggestion for guess based on Entropy:  slate\n",
      "guessWordPatternOutput: [0, 1, 1, 0, 0]\n"
     ]
    },
    {
     "name": "stderr",
     "output_type": "stream",
     "text": [
      "100%|█████████████████████████████████████████| 58/58 [00:00<00:00, 8167.52it/s]\n"
     ]
    },
    {
     "name": "stdout",
     "output_type": "stream",
     "text": [
      "set of possible words includes like:\n",
      "['moral', 'royal', 'molar', 'coral', 'vocal', 'carol', 'polar', 'valor', 'rally', 'rival']\n",
      "Our suggestion for guess based on Entropy:  vocal\n",
      "guessWordPatternOutput: [0, 0, 0, 1, 1]\n"
     ]
    },
    {
     "name": "stderr",
     "output_type": "stream",
     "text": [
      "100%|█████████████████████████████████████████| 14/14 [00:00<00:00, 6597.04it/s]\n"
     ]
    },
    {
     "name": "stdout",
     "output_type": "stream",
     "text": [
      "set of possible words includes like:\n",
      "['madly', 'dally', 'balmy', 'daily', 'badly', 'gaily', 'manly', 'amply', 'rally', 'gayly']\n",
      "Our suggestion for guess based on Entropy:  badly\n",
      "guessWordPatternOutput: [0, 2, 0, 1, 2]\n"
     ]
    },
    {
     "name": "stderr",
     "output_type": "stream",
     "text": [
      "100%|███████████████████████████████████████████| 1/1 [00:00<00:00, 7194.35it/s]\n"
     ]
    },
    {
     "name": "stdout",
     "output_type": "stream",
     "text": [
      "set of possible words includes like:\n",
      "['lanky']\n",
      "Our suggestion for guess based on Entropy:  lanky\n",
      "guessWordPatternOutput: [2, 2, 2, 2, 2]\n",
      "You Won! : 77  times\n",
      "\n",
      "\n",
      "\n",
      "====RealAnswer to reach is  assay\n"
     ]
    },
    {
     "name": "stderr",
     "output_type": "stream",
     "text": [
      "100%|█████████████████████████████████████| 2315/2315 [00:00<00:00, 4558.59it/s]\n"
     ]
    },
    {
     "name": "stdout",
     "output_type": "stream",
     "text": [
      "set of possible words includes like:\n",
      "['raise', 'slate', 'crate', 'irate', 'trace', 'arise', 'stare', 'snare', 'arose', 'least']\n",
      "Our suggestion for guess based on Entropy:  trace\n",
      "guessWordPatternOutput: [0, 0, 1, 0, 0]\n"
     ]
    },
    {
     "name": "stderr",
     "output_type": "stream",
     "text": [
      "100%|███████████████████████████████████████| 127/127 [00:00<00:00, 7663.53it/s]\n"
     ]
    },
    {
     "name": "stdout",
     "output_type": "stream",
     "text": [
      "set of possible words includes like:\n",
      "['salon', 'manly', 'sadly', 'sandy', 'gaily', 'daily', 'mason', 'palsy', 'inlay', 'nasal']\n",
      "Our suggestion for guess based on Entropy:  manly\n",
      "guessWordPatternOutput: [0, 1, 0, 0, 2]\n"
     ]
    },
    {
     "name": "stderr",
     "output_type": "stream",
     "text": [
      "100%|███████████████████████████████████████████| 1/1 [00:00<00:00, 6482.70it/s]\n"
     ]
    },
    {
     "name": "stdout",
     "output_type": "stream",
     "text": [
      "set of possible words includes like:\n",
      "['assay']\n",
      "Our suggestion for guess based on Entropy:  assay\n",
      "guessWordPatternOutput: [2, 2, 2, 2, 2]\n",
      "You Won! : 78  times\n",
      "\n",
      "\n",
      "\n",
      "====RealAnswer to reach is  stick\n"
     ]
    },
    {
     "name": "stderr",
     "output_type": "stream",
     "text": [
      "100%|█████████████████████████████████████| 2315/2315 [00:00<00:00, 4643.94it/s]\n"
     ]
    },
    {
     "name": "stdout",
     "output_type": "stream",
     "text": [
      "set of possible words includes like:\n",
      "['raise', 'slate', 'crate', 'irate', 'trace', 'arise', 'stare', 'snare', 'arose', 'least']\n",
      "Our suggestion for guess based on Entropy:  trace\n",
      "guessWordPatternOutput: [1, 0, 0, 2, 0]\n"
     ]
    },
    {
     "name": "stderr",
     "output_type": "stream",
     "text": [
      "100%|█████████████████████████████████████████| 12/12 [00:00<00:00, 5874.38it/s]\n"
     ]
    },
    {
     "name": "stdout",
     "output_type": "stream",
     "text": [
      "set of possible words includes like:\n",
      "['hitch', 'ditch', 'dutch', 'butch', 'hutch', 'botch', 'witch', 'pitch', 'stick', 'notch']\n",
      "Our suggestion for guess based on Entropy:  notch\n",
      "guessWordPatternOutput: [0, 0, 1, 2, 0]\n"
     ]
    },
    {
     "name": "stderr",
     "output_type": "stream",
     "text": [
      "100%|███████████████████████████████████████████| 2/2 [00:00<00:00, 2159.79it/s]\n"
     ]
    },
    {
     "name": "stdout",
     "output_type": "stream",
     "text": [
      "set of possible words includes like:\n",
      "['stuck', 'stick']\n",
      "Our suggestion for guess based on Entropy:  stick\n",
      "guessWordPatternOutput: [2, 2, 2, 2, 2]\n",
      "You Won! : 79  times\n",
      "\n",
      "\n",
      "\n",
      "====RealAnswer to reach is  savvy\n"
     ]
    },
    {
     "name": "stderr",
     "output_type": "stream",
     "text": [
      "100%|█████████████████████████████████████| 2315/2315 [00:00<00:00, 4643.74it/s]\n"
     ]
    },
    {
     "name": "stdout",
     "output_type": "stream",
     "text": [
      "set of possible words includes like:\n",
      "['raise', 'slate', 'crate', 'irate', 'trace', 'arise', 'stare', 'snare', 'arose', 'least']\n",
      "Our suggestion for guess based on Entropy:  raise\n",
      "guessWordPatternOutput: [0, 2, 0, 1, 0]\n"
     ]
    },
    {
     "name": "stderr",
     "output_type": "stream",
     "text": [
      "100%|█████████████████████████████████████████| 20/20 [00:00<00:00, 8889.06it/s]\n"
     ]
    },
    {
     "name": "stdout",
     "output_type": "stream",
     "text": [
      "set of possible words includes like:\n",
      "['salon', 'sadly', 'nasty', 'nasal', 'sandy', 'salvo', 'salty', 'sally', 'savoy', 'pasty']\n",
      "Our suggestion for guess based on Entropy:  pasty\n",
      "guessWordPatternOutput: [0, 2, 1, 0, 2]\n"
     ]
    },
    {
     "name": "stderr",
     "output_type": "stream",
     "text": [
      "100%|███████████████████████████████████████████| 6/6 [00:00<00:00, 9272.60it/s]\n"
     ]
    },
    {
     "name": "stdout",
     "output_type": "stream",
     "text": [
      "set of possible words includes like:\n",
      "['sadly', 'sandy', 'sally', 'savoy', 'savvy', 'saucy']\n",
      "Our suggestion for guess based on Entropy:  sadly\n",
      "guessWordPatternOutput: [2, 2, 0, 0, 2]\n"
     ]
    },
    {
     "name": "stderr",
     "output_type": "stream",
     "text": [
      "100%|███████████████████████████████████████████| 3/3 [00:00<00:00, 3127.74it/s]\n"
     ]
    },
    {
     "name": "stdout",
     "output_type": "stream",
     "text": [
      "set of possible words includes like:\n",
      "['savvy', 'savoy', 'saucy']\n",
      "Our suggestion for guess based on Entropy:  savvy\n",
      "guessWordPatternOutput: [2, 2, 2, 2, 2]\n",
      "You Won! : 80  times\n",
      "\n",
      "\n",
      "\n",
      "====RealAnswer to reach is  pizza\n"
     ]
    },
    {
     "name": "stderr",
     "output_type": "stream",
     "text": [
      "100%|█████████████████████████████████████| 2315/2315 [00:00<00:00, 4699.58it/s]\n"
     ]
    },
    {
     "name": "stdout",
     "output_type": "stream",
     "text": [
      "set of possible words includes like:\n",
      "['raise', 'slate', 'crate', 'irate', 'trace', 'arise', 'stare', 'snare', 'arose', 'least']\n",
      "Our suggestion for guess based on Entropy:  irate\n",
      "guessWordPatternOutput: [1, 0, 1, 0, 0]\n"
     ]
    },
    {
     "name": "stderr",
     "output_type": "stream",
     "text": [
      "100%|█████████████████████████████████████████| 41/41 [00:00<00:00, 7378.00it/s]\n"
     ]
    },
    {
     "name": "stdout",
     "output_type": "stream",
     "text": [
      "set of possible words includes like:\n",
      "['anvil', 'admin', 'manic', 'mania', 'align', 'panic', 'cabin', 'cavil', 'avian', 'axion']\n",
      "Our suggestion for guess based on Entropy:  mania\n",
      "guessWordPatternOutput: [0, 1, 0, 1, 2]\n"
     ]
    },
    {
     "name": "stderr",
     "output_type": "stream",
     "text": [
      "100%|███████████████████████████████████████████| 4/4 [00:00<00:00, 9177.91it/s]\n"
     ]
    },
    {
     "name": "stdout",
     "output_type": "stream",
     "text": [
      "set of possible words includes like:\n",
      "['villa', 'viola', 'voila', 'pizza']\n",
      "Our suggestion for guess based on Entropy:  voila\n",
      "guessWordPatternOutput: [0, 0, 1, 0, 2]\n"
     ]
    },
    {
     "name": "stderr",
     "output_type": "stream",
     "text": [
      "100%|███████████████████████████████████████████| 1/1 [00:00<00:00, 7358.43it/s]\n"
     ]
    },
    {
     "name": "stdout",
     "output_type": "stream",
     "text": [
      "set of possible words includes like:\n",
      "['pizza']\n",
      "Our suggestion for guess based on Entropy:  pizza\n",
      "guessWordPatternOutput: [2, 2, 2, 2, 2]\n",
      "You Won! : 81  times\n",
      "\n",
      "\n",
      "\n",
      "====RealAnswer to reach is  vaunt\n"
     ]
    },
    {
     "name": "stderr",
     "output_type": "stream",
     "text": [
      "100%|█████████████████████████████████████| 2315/2315 [00:00<00:00, 4636.39it/s]\n"
     ]
    },
    {
     "name": "stdout",
     "output_type": "stream",
     "text": [
      "set of possible words includes like:\n",
      "['raise', 'slate', 'crate', 'irate', 'trace', 'arise', 'stare', 'snare', 'arose', 'least']\n",
      "Our suggestion for guess based on Entropy:  arise\n",
      "guessWordPatternOutput: [1, 0, 0, 0, 0]\n"
     ]
    },
    {
     "name": "stderr",
     "output_type": "stream",
     "text": [
      "100%|███████████████████████████████████████| 154/154 [00:00<00:00, 7398.12it/s]\n"
     ]
    },
    {
     "name": "stdout",
     "output_type": "stream",
     "text": [
      "set of possible words includes like:\n",
      "['tonal', 'talon', 'canal', 'manly', 'tangy', 'candy', 'tango', 'latch', 'lanky', 'natal']\n",
      "Our suggestion for guess based on Entropy:  manly\n",
      "guessWordPatternOutput: [0, 2, 1, 0, 0]\n"
     ]
    },
    {
     "name": "stderr",
     "output_type": "stream",
     "text": [
      "100%|█████████████████████████████████████████| 11/11 [00:00<00:00, 8117.06it/s]\n"
     ]
    },
    {
     "name": "stdout",
     "output_type": "stream",
     "text": [
      "set of possible words includes like:\n",
      "['gaunt', 'baton', 'jaunt', 'daunt', 'taunt', 'vaunt', 'haunt', 'pagan', 'wagon', 'bacon']\n",
      "Our suggestion for guess based on Entropy:  haunt\n",
      "guessWordPatternOutput: [0, 2, 2, 2, 2]\n"
     ]
    },
    {
     "name": "stderr",
     "output_type": "stream",
     "text": [
      "100%|███████████████████████████████████████████| 5/5 [00:00<00:00, 8912.67it/s]\n"
     ]
    },
    {
     "name": "stdout",
     "output_type": "stream",
     "text": [
      "set of possible words includes like:\n",
      "['jaunt', 'gaunt', 'daunt', 'taunt', 'vaunt']\n",
      "Our suggestion for guess based on Entropy:  daunt\n",
      "guessWordPatternOutput: [0, 2, 2, 2, 2]\n"
     ]
    },
    {
     "name": "stderr",
     "output_type": "stream",
     "text": [
      "100%|███████████████████████████████████████████| 4/4 [00:00<00:00, 5671.81it/s]\n"
     ]
    },
    {
     "name": "stdout",
     "output_type": "stream",
     "text": [
      "set of possible words includes like:\n",
      "['jaunt', 'vaunt', 'taunt', 'gaunt']\n",
      "Our suggestion for guess based on Entropy:  taunt\n",
      "guessWordPatternOutput: [1, 2, 2, 2, 2]\n"
     ]
    },
    {
     "name": "stderr",
     "output_type": "stream",
     "text": [
      "100%|███████████████████████████████████████████| 3/3 [00:00<00:00, 8793.09it/s]\n"
     ]
    },
    {
     "name": "stdout",
     "output_type": "stream",
     "text": [
      "set of possible words includes like:\n",
      "['jaunt', 'vaunt', 'gaunt']\n",
      "Our suggestion for guess based on Entropy:  vaunt\n",
      "guessWordPatternOutput: [2, 2, 2, 2, 2]\n",
      "You Won! : 82  times\n",
      "\n",
      "\n",
      "\n",
      "====RealAnswer to reach is  enter\n"
     ]
    },
    {
     "name": "stderr",
     "output_type": "stream",
     "text": [
      "100%|█████████████████████████████████████| 2315/2315 [00:00<00:00, 4639.10it/s]\n"
     ]
    },
    {
     "name": "stdout",
     "output_type": "stream",
     "text": [
      "set of possible words includes like:\n",
      "['raise', 'slate', 'crate', 'irate', 'trace', 'arise', 'stare', 'snare', 'arose', 'least']\n",
      "Our suggestion for guess based on Entropy:  raise\n",
      "guessWordPatternOutput: [1, 0, 0, 0, 1]\n"
     ]
    },
    {
     "name": "stderr",
     "output_type": "stream",
     "text": [
      "100%|███████████████████████████████████████| 102/102 [00:00<00:00, 7563.45it/s]\n"
     ]
    },
    {
     "name": "stdout",
     "output_type": "stream",
     "text": [
      "set of possible words includes like:\n",
      "['outer', 'tenor', 'decor', 'older', 'deter', 'tower', 'voter', 'other', 'order', 'tuber']\n",
      "Our suggestion for guess based on Entropy:  other\n",
      "guessWordPatternOutput: [0, 1, 0, 2, 2]\n"
     ]
    },
    {
     "name": "stderr",
     "output_type": "stream",
     "text": [
      "100%|███████████████████████████████████████████| 5/5 [00:00<00:00, 7922.75it/s]\n"
     ]
    },
    {
     "name": "stdout",
     "output_type": "stream",
     "text": [
      "set of possible words includes like:\n",
      "['meter', 'deter', 'enter', 'tuber', 'truer']\n",
      "Our suggestion for guess based on Entropy:  enter\n",
      "guessWordPatternOutput: [2, 2, 2, 2, 2]\n",
      "You Won! : 83  times\n",
      "\n",
      "\n",
      "\n",
      "====RealAnswer to reach is  court\n"
     ]
    },
    {
     "name": "stderr",
     "output_type": "stream",
     "text": [
      "100%|█████████████████████████████████████| 2315/2315 [00:00<00:00, 4704.75it/s]\n"
     ]
    },
    {
     "name": "stdout",
     "output_type": "stream",
     "text": [
      "set of possible words includes like:\n",
      "['raise', 'slate', 'crate', 'irate', 'trace', 'arise', 'stare', 'snare', 'arose', 'least']\n",
      "Our suggestion for guess based on Entropy:  stare\n",
      "guessWordPatternOutput: [0, 1, 0, 2, 0]\n"
     ]
    },
    {
     "name": "stderr",
     "output_type": "stream",
     "text": [
      "100%|███████████████████████████████████████████| 7/7 [00:00<00:00, 8653.15it/s]\n"
     ]
    },
    {
     "name": "stdout",
     "output_type": "stream",
     "text": [
      "set of possible words includes like:\n",
      "['twirl', 'flirt', 'thorn', 'third', 'court', 'blurt', 'intro']\n",
      "Our suggestion for guess based on Entropy:  court\n",
      "guessWordPatternOutput: [2, 2, 2, 2, 2]\n",
      "You Won! : 84  times\n",
      "\n",
      "\n",
      "\n",
      "====RealAnswer to reach is  album\n"
     ]
    },
    {
     "name": "stderr",
     "output_type": "stream",
     "text": [
      "100%|█████████████████████████████████████| 2315/2315 [00:00<00:00, 4674.91it/s]\n"
     ]
    },
    {
     "name": "stdout",
     "output_type": "stream",
     "text": [
      "set of possible words includes like:\n",
      "['raise', 'slate', 'crate', 'irate', 'trace', 'arise', 'stare', 'snare', 'arose', 'least']\n",
      "Our suggestion for guess based on Entropy:  trace\n",
      "guessWordPatternOutput: [0, 0, 1, 0, 0]\n"
     ]
    },
    {
     "name": "stderr",
     "output_type": "stream",
     "text": [
      "100%|███████████████████████████████████████| 127/127 [00:00<00:00, 7885.66it/s]\n"
     ]
    },
    {
     "name": "stdout",
     "output_type": "stream",
     "text": [
      "set of possible words includes like:\n",
      "['salon', 'manly', 'sadly', 'sandy', 'gaily', 'daily', 'mason', 'palsy', 'inlay', 'nasal']\n",
      "Our suggestion for guess based on Entropy:  sadly\n",
      "guessWordPatternOutput: [0, 1, 0, 1, 0]\n"
     ]
    },
    {
     "name": "stderr",
     "output_type": "stream",
     "text": [
      "100%|█████████████████████████████████████████| 18/18 [00:00<00:00, 7322.74it/s]\n"
     ]
    },
    {
     "name": "stdout",
     "output_type": "stream",
     "text": [
      "set of possible words includes like:\n",
      "['afoul', 'along', 'zonal', 'awful', 'final', 'aloof', 'align', 'anvil', 'allow', 'annul']\n",
      "Our suggestion for guess based on Entropy:  final\n",
      "guessWordPatternOutput: [0, 0, 0, 1, 1]\n"
     ]
    },
    {
     "name": "stderr",
     "output_type": "stream",
     "text": [
      "100%|███████████████████████████████████████████| 5/5 [00:00<00:00, 9074.65it/s]\n"
     ]
    },
    {
     "name": "stdout",
     "output_type": "stream",
     "text": [
      "set of possible words includes like:\n",
      "['album', 'allow', 'polka', 'alpha', 'aglow']\n",
      "Our suggestion for guess based on Entropy:  album\n",
      "guessWordPatternOutput: [2, 2, 2, 2, 2]\n",
      "You Won! : 85  times\n",
      "\n",
      "\n",
      "\n",
      "====RealAnswer to reach is  vaunt\n"
     ]
    },
    {
     "name": "stderr",
     "output_type": "stream",
     "text": [
      "100%|█████████████████████████████████████| 2315/2315 [00:00<00:00, 4712.95it/s]\n"
     ]
    },
    {
     "name": "stdout",
     "output_type": "stream",
     "text": [
      "set of possible words includes like:\n",
      "['raise', 'slate', 'crate', 'irate', 'trace', 'arise', 'stare', 'snare', 'arose', 'least']\n",
      "Our suggestion for guess based on Entropy:  trace\n",
      "guessWordPatternOutput: [1, 0, 1, 0, 0]\n"
     ]
    },
    {
     "name": "stderr",
     "output_type": "stream",
     "text": [
      "100%|█████████████████████████████████████████| 53/53 [00:00<00:00, 7977.11it/s]\n"
     ]
    },
    {
     "name": "stdout",
     "output_type": "stream",
     "text": [
      "set of possible words includes like:\n",
      "['fault', 'satin', 'saint', 'faint', 'paint', 'aloft', 'salty', 'adult', 'waist', 'vault']\n",
      "Our suggestion for guess based on Entropy:  aloft\n",
      "guessWordPatternOutput: [1, 0, 0, 0, 2]\n"
     ]
    },
    {
     "name": "stderr",
     "output_type": "stream",
     "text": [
      "100%|█████████████████████████████████████████| 11/11 [00:00<00:00, 8941.35it/s]\n"
     ]
    },
    {
     "name": "stdout",
     "output_type": "stream",
     "text": [
      "set of possible words includes like:\n",
      "['haunt', 'paint', 'saint', 'vaunt', 'jaunt', 'gaunt', 'daunt', 'squat', 'waist', 'gamut']\n",
      "Our suggestion for guess based on Entropy:  haunt\n",
      "guessWordPatternOutput: [0, 2, 2, 2, 2]\n"
     ]
    },
    {
     "name": "stderr",
     "output_type": "stream",
     "text": [
      "100%|███████████████████████████████████████████| 4/4 [00:00<00:00, 8952.62it/s]\n"
     ]
    },
    {
     "name": "stdout",
     "output_type": "stream",
     "text": [
      "set of possible words includes like:\n",
      "['jaunt', 'daunt', 'vaunt', 'gaunt']\n",
      "Our suggestion for guess based on Entropy:  gaunt\n",
      "guessWordPatternOutput: [0, 2, 2, 2, 2]\n"
     ]
    },
    {
     "name": "stderr",
     "output_type": "stream",
     "text": [
      "100%|███████████████████████████████████████████| 3/3 [00:00<00:00, 8848.74it/s]\n"
     ]
    },
    {
     "name": "stdout",
     "output_type": "stream",
     "text": [
      "set of possible words includes like:\n",
      "['jaunt', 'daunt', 'vaunt']\n",
      "Our suggestion for guess based on Entropy:  daunt\n",
      "guessWordPatternOutput: [0, 2, 2, 2, 2]\n"
     ]
    },
    {
     "name": "stderr",
     "output_type": "stream",
     "text": [
      "100%|███████████████████████████████████████████| 2/2 [00:00<00:00, 8035.07it/s]\n"
     ]
    },
    {
     "name": "stdout",
     "output_type": "stream",
     "text": [
      "set of possible words includes like:\n",
      "['jaunt', 'vaunt']\n",
      "Our suggestion for guess based on Entropy:  vaunt\n",
      "guessWordPatternOutput: [2, 2, 2, 2, 2]\n",
      "You Won! : 86  times\n",
      "\n",
      "\n",
      "\n",
      "====RealAnswer to reach is  unite\n"
     ]
    },
    {
     "name": "stderr",
     "output_type": "stream",
     "text": [
      "100%|█████████████████████████████████████| 2315/2315 [00:00<00:00, 4732.04it/s]\n"
     ]
    },
    {
     "name": "stdout",
     "output_type": "stream",
     "text": [
      "set of possible words includes like:\n",
      "['raise', 'slate', 'crate', 'irate', 'trace', 'arise', 'stare', 'snare', 'arose', 'least']\n",
      "Our suggestion for guess based on Entropy:  arise\n",
      "guessWordPatternOutput: [0, 0, 2, 0, 2]\n"
     ]
    },
    {
     "name": "stderr",
     "output_type": "stream",
     "text": [
      "100%|█████████████████████████████████████████| 23/23 [00:00<00:00, 8647.27it/s]\n"
     ]
    },
    {
     "name": "stdout",
     "output_type": "stream",
     "text": [
      "set of possible words includes like:\n",
      "['utile', 'unite', 'elite', 'twine', 'guile', 'twice', 'while', 'whine', 'glide', 'elide']\n",
      "Our suggestion for guess based on Entropy:  glide\n",
      "guessWordPatternOutput: [0, 0, 2, 0, 2]\n"
     ]
    },
    {
     "name": "stderr",
     "output_type": "stream",
     "text": [
      "100%|█████████████████████████████████████████| 12/12 [00:00<00:00, 8012.04it/s]\n"
     ]
    },
    {
     "name": "stdout",
     "output_type": "stream",
     "text": [
      "set of possible words includes like:\n",
      "['twine', 'unite', 'twice', 'whine', 'ovine', 'white', 'opine', 'quite', 'juice', 'voice']\n",
      "Our suggestion for guess based on Entropy:  unite\n",
      "guessWordPatternOutput: [2, 2, 2, 2, 2]\n",
      "You Won! : 87  times\n",
      "\n",
      "\n",
      "\n",
      "====RealAnswer to reach is  worst\n"
     ]
    },
    {
     "name": "stderr",
     "output_type": "stream",
     "text": [
      "100%|█████████████████████████████████████| 2315/2315 [00:00<00:00, 4725.83it/s]\n"
     ]
    },
    {
     "name": "stdout",
     "output_type": "stream",
     "text": [
      "set of possible words includes like:\n",
      "['raise', 'slate', 'crate', 'irate', 'trace', 'arise', 'stare', 'snare', 'arose', 'least']\n",
      "Our suggestion for guess based on Entropy:  crate\n",
      "guessWordPatternOutput: [0, 1, 0, 1, 0]\n"
     ]
    },
    {
     "name": "stderr",
     "output_type": "stream",
     "text": [
      "100%|█████████████████████████████████████████| 34/34 [00:00<00:00, 8416.33it/s]\n"
     ]
    },
    {
     "name": "stdout",
     "output_type": "stream",
     "text": [
      "set of possible words includes like:\n",
      "['short', 'torus', 'worst', 'shirt', 'throb', 'burst', 'sport', 'snort', 'torso', 'strut']\n",
      "Our suggestion for guess based on Entropy:  strut\n",
      "guessWordPatternOutput: [1, 1, 2, 0, 2]\n"
     ]
    },
    {
     "name": "stderr",
     "output_type": "stream",
     "text": [
      "100%|███████████████████████████████████████████| 2/2 [00:00<00:00, 8160.12it/s]\n"
     ]
    },
    {
     "name": "stdout",
     "output_type": "stream",
     "text": [
      "set of possible words includes like:\n",
      "['worst', 'first']\n",
      "Our suggestion for guess based on Entropy:  first\n",
      "guessWordPatternOutput: [0, 0, 2, 2, 2]\n"
     ]
    },
    {
     "name": "stderr",
     "output_type": "stream",
     "text": [
      "100%|███████████████████████████████████████████| 1/1 [00:00<00:00, 6955.73it/s]\n"
     ]
    },
    {
     "name": "stdout",
     "output_type": "stream",
     "text": [
      "set of possible words includes like:\n",
      "['worst']\n",
      "Our suggestion for guess based on Entropy:  worst\n",
      "guessWordPatternOutput: [2, 2, 2, 2, 2]\n",
      "You Won! : 88  times\n",
      "\n",
      "\n",
      "\n",
      "====RealAnswer to reach is  proof\n"
     ]
    },
    {
     "name": "stderr",
     "output_type": "stream",
     "text": [
      "100%|█████████████████████████████████████| 2315/2315 [00:00<00:00, 4731.59it/s]\n"
     ]
    },
    {
     "name": "stdout",
     "output_type": "stream",
     "text": [
      "set of possible words includes like:\n",
      "['raise', 'slate', 'crate', 'irate', 'trace', 'arise', 'stare', 'snare', 'arose', 'least']\n",
      "Our suggestion for guess based on Entropy:  arose\n",
      "guessWordPatternOutput: [0, 2, 2, 0, 0]\n"
     ]
    },
    {
     "name": "stderr",
     "output_type": "stream",
     "text": [
      "100%|█████████████████████████████████████████| 38/38 [00:00<00:00, 8452.22it/s]\n"
     ]
    },
    {
     "name": "stdout",
     "output_type": "stream",
     "text": [
      "set of possible words includes like:\n",
      "['prong', 'frond', 'droop', 'drown', 'front', 'crowd', 'troop', 'crown', 'frown', 'prowl']\n",
      "Our suggestion for guess based on Entropy:  frown\n",
      "guessWordPatternOutput: [1, 2, 2, 0, 0]\n"
     ]
    },
    {
     "name": "stderr",
     "output_type": "stream",
     "text": [
      "100%|███████████████████████████████████████████| 1/1 [00:00<00:00, 6626.07it/s]\n"
     ]
    },
    {
     "name": "stdout",
     "output_type": "stream",
     "text": [
      "set of possible words includes like:\n",
      "['proof']\n",
      "Our suggestion for guess based on Entropy:  proof\n",
      "guessWordPatternOutput: [2, 2, 2, 2, 2]\n",
      "You Won! : 89  times\n",
      "\n",
      "\n",
      "\n",
      "====RealAnswer to reach is  hotel\n"
     ]
    },
    {
     "name": "stderr",
     "output_type": "stream",
     "text": [
      "100%|█████████████████████████████████████| 2315/2315 [00:00<00:00, 4699.31it/s]\n"
     ]
    },
    {
     "name": "stdout",
     "output_type": "stream",
     "text": [
      "set of possible words includes like:\n",
      "['raise', 'slate', 'crate', 'irate', 'trace', 'arise', 'stare', 'snare', 'arose', 'least']\n",
      "Our suggestion for guess based on Entropy:  trace\n",
      "guessWordPatternOutput: [1, 0, 0, 0, 1]\n"
     ]
    },
    {
     "name": "stderr",
     "output_type": "stream",
     "text": [
      "100%|█████████████████████████████████████████| 58/58 [00:00<00:00, 7715.01it/s]\n"
     ]
    },
    {
     "name": "stdout",
     "output_type": "stream",
     "text": [
      "set of possible words includes like:\n",
      "['spelt', 'sleet', 'slept', 'islet', 'upset', 'heist', 'spent', 'unset', 'smelt', 'sheet']\n",
      "Our suggestion for guess based on Entropy:  unset\n",
      "guessWordPatternOutput: [0, 0, 0, 2, 1]\n"
     ]
    },
    {
     "name": "stderr",
     "output_type": "stream",
     "text": [
      "100%|███████████████████████████████████████████| 3/3 [00:00<00:00, 7854.50it/s]\n"
     ]
    },
    {
     "name": "stdout",
     "output_type": "stream",
     "text": [
      "set of possible words includes like:\n",
      "['motel', 'hotel', 'betel']\n",
      "Our suggestion for guess based on Entropy:  betel\n",
      "guessWordPatternOutput: [0, 1, 2, 2, 2]\n"
     ]
    },
    {
     "name": "stderr",
     "output_type": "stream",
     "text": [
      "100%|███████████████████████████████████████████| 2/2 [00:00<00:00, 7605.27it/s]\n"
     ]
    },
    {
     "name": "stdout",
     "output_type": "stream",
     "text": [
      "set of possible words includes like:\n",
      "['motel', 'hotel']\n",
      "Our suggestion for guess based on Entropy:  hotel\n",
      "guessWordPatternOutput: [2, 2, 2, 2, 2]\n",
      "You Won! : 90  times\n",
      "\n",
      "\n",
      "\n",
      "====RealAnswer to reach is  rover\n"
     ]
    },
    {
     "name": "stderr",
     "output_type": "stream",
     "text": [
      "100%|█████████████████████████████████████| 2315/2315 [00:00<00:00, 4715.30it/s]\n"
     ]
    },
    {
     "name": "stdout",
     "output_type": "stream",
     "text": [
      "set of possible words includes like:\n",
      "['raise', 'slate', 'crate', 'irate', 'trace', 'arise', 'stare', 'snare', 'arose', 'least']\n",
      "Our suggestion for guess based on Entropy:  stare\n",
      "guessWordPatternOutput: [0, 0, 0, 1, 1]\n"
     ]
    },
    {
     "name": "stderr",
     "output_type": "stream",
     "text": [
      "100%|███████████████████████████████████████| 118/118 [00:00<00:00, 7382.80it/s]\n"
     ]
    },
    {
     "name": "stdout",
     "output_type": "stream",
     "text": [
      "set of possible words includes like:\n",
      "['diner', 'cider', 'rider', 'idler', 'decor', 'older', 'liner', 'filer', 'diver', 'flier']\n",
      "Our suggestion for guess based on Entropy:  idler\n",
      "guessWordPatternOutput: [0, 0, 0, 2, 2]\n"
     ]
    },
    {
     "name": "stderr",
     "output_type": "stream",
     "text": [
      "100%|█████████████████████████████████████████| 33/33 [00:00<00:00, 8412.06it/s]\n"
     ]
    },
    {
     "name": "stdout",
     "output_type": "stream",
     "text": [
      "set of possible words includes like:\n",
      "['power', 'cower', 'mower', 'rower', 'cover', 'mover', 'hover', 'rover', 'owner', 'homer']\n",
      "Our suggestion for guess based on Entropy:  cover\n",
      "guessWordPatternOutput: [0, 2, 2, 2, 2]\n"
     ]
    },
    {
     "name": "stderr",
     "output_type": "stream",
     "text": [
      "100%|███████████████████████████████████████████| 3/3 [00:00<00:00, 3717.26it/s]\n"
     ]
    },
    {
     "name": "stdout",
     "output_type": "stream",
     "text": [
      "set of possible words includes like:\n",
      "['mover', 'hover', 'rover']\n",
      "Our suggestion for guess based on Entropy:  rover\n",
      "guessWordPatternOutput: [2, 2, 2, 2, 2]\n",
      "You Won! : 91  times\n",
      "\n",
      "\n",
      "\n",
      "====RealAnswer to reach is  royal\n"
     ]
    },
    {
     "name": "stderr",
     "output_type": "stream",
     "text": [
      "100%|█████████████████████████████████████| 2315/2315 [00:00<00:00, 4609.56it/s]\n"
     ]
    },
    {
     "name": "stdout",
     "output_type": "stream",
     "text": [
      "set of possible words includes like:\n",
      "['raise', 'slate', 'crate', 'irate', 'trace', 'arise', 'stare', 'snare', 'arose', 'least']\n",
      "Our suggestion for guess based on Entropy:  arise\n",
      "guessWordPatternOutput: [1, 1, 0, 0, 0]\n"
     ]
    },
    {
     "name": "stderr",
     "output_type": "stream",
     "text": [
      "100%|█████████████████████████████████████████| 62/62 [00:00<00:00, 7585.08it/s]\n"
     ]
    },
    {
     "name": "stdout",
     "output_type": "stream",
     "text": [
      "set of possible words includes like:\n",
      "['carol', 'coral', 'moral', 'royal', 'macro', 'mayor', 'harry', 'march', 'marry', 'hardy']\n",
      "Our suggestion for guess based on Entropy:  royal\n",
      "guessWordPatternOutput: [2, 2, 2, 2, 2]\n",
      "You Won! : 92  times\n",
      "\n",
      "\n",
      "\n",
      "====RealAnswer to reach is  tidal\n"
     ]
    },
    {
     "name": "stderr",
     "output_type": "stream",
     "text": [
      "100%|█████████████████████████████████████| 2315/2315 [00:00<00:00, 4758.05it/s]\n"
     ]
    },
    {
     "name": "stdout",
     "output_type": "stream",
     "text": [
      "set of possible words includes like:\n",
      "['raise', 'slate', 'crate', 'irate', 'trace', 'arise', 'stare', 'snare', 'arose', 'least']\n",
      "Our suggestion for guess based on Entropy:  snare\n",
      "guessWordPatternOutput: [0, 0, 1, 0, 0]\n"
     ]
    },
    {
     "name": "stderr",
     "output_type": "stream",
     "text": [
      "100%|███████████████████████████████████████| 136/136 [00:00<00:00, 7723.27it/s]\n"
     ]
    },
    {
     "name": "stdout",
     "output_type": "stream",
     "text": [
      "set of possible words includes like:\n",
      "['bloat', 'aptly', 'tidal', 'octal', 'gloat', 'float', 'today', 'aloft', 'tally', 'daily']\n",
      "Our suggestion for guess based on Entropy:  tidal\n",
      "guessWordPatternOutput: [2, 2, 2, 2, 2]\n",
      "You Won! : 93  times\n",
      "\n",
      "\n",
      "\n",
      "====RealAnswer to reach is  booze\n"
     ]
    },
    {
     "name": "stderr",
     "output_type": "stream",
     "text": [
      "100%|█████████████████████████████████████| 2315/2315 [00:00<00:00, 4673.41it/s]\n"
     ]
    },
    {
     "name": "stdout",
     "output_type": "stream",
     "text": [
      "set of possible words includes like:\n",
      "['raise', 'slate', 'crate', 'irate', 'trace', 'arise', 'stare', 'snare', 'arose', 'least']\n",
      "Our suggestion for guess based on Entropy:  trace\n",
      "guessWordPatternOutput: [0, 0, 0, 0, 2]\n"
     ]
    },
    {
     "name": "stderr",
     "output_type": "stream",
     "text": [
      "100%|███████████████████████████████████████| 104/104 [00:00<00:00, 7639.10it/s]\n"
     ]
    },
    {
     "name": "stdout",
     "output_type": "stream",
     "text": [
      "set of possible words includes like:\n",
      "['noise', 'singe', 'slide', 'guile', 'louse', 'guise', 'snide', 'slime', 'slope', 'smile']\n",
      "Our suggestion for guess based on Entropy:  slide\n",
      "guessWordPatternOutput: [0, 0, 0, 0, 2]\n"
     ]
    },
    {
     "name": "stderr",
     "output_type": "stream",
     "text": [
      "100%|█████████████████████████████████████████| 12/12 [00:00<00:00, 9002.26it/s]\n"
     ]
    },
    {
     "name": "stdout",
     "output_type": "stream",
     "text": [
      "set of possible words includes like:\n",
      "['vogue', 'gnome', 'venue', 'ozone', 'gouge', 'phone', 'fugue', 'penne', 'evoke', 'booze']\n",
      "Our suggestion for guess based on Entropy:  evoke\n",
      "guessWordPatternOutput: [1, 0, 2, 0, 2]\n"
     ]
    },
    {
     "name": "stderr",
     "output_type": "stream",
     "text": [
      "100%|███████████████████████████████████████████| 4/4 [00:00<00:00, 8384.42it/s]\n"
     ]
    },
    {
     "name": "stdout",
     "output_type": "stream",
     "text": [
      "set of possible words includes like:\n",
      "['phone', 'ozone', 'gnome', 'booze']\n",
      "Our suggestion for guess based on Entropy:  ozone\n",
      "guessWordPatternOutput: [1, 1, 2, 0, 2]\n"
     ]
    },
    {
     "name": "stderr",
     "output_type": "stream",
     "text": [
      "100%|███████████████████████████████████████████| 1/1 [00:00<00:00, 7145.32it/s]\n"
     ]
    },
    {
     "name": "stdout",
     "output_type": "stream",
     "text": [
      "set of possible words includes like:\n",
      "['booze']\n",
      "Our suggestion for guess based on Entropy:  booze\n",
      "guessWordPatternOutput: [2, 2, 2, 2, 2]\n",
      "You Won! : 94  times\n",
      "\n",
      "\n",
      "\n",
      "====RealAnswer to reach is  stoic\n"
     ]
    },
    {
     "name": "stderr",
     "output_type": "stream",
     "text": [
      "100%|█████████████████████████████████████| 2315/2315 [00:00<00:00, 4678.98it/s]\n"
     ]
    },
    {
     "name": "stdout",
     "output_type": "stream",
     "text": [
      "set of possible words includes like:\n",
      "['raise', 'slate', 'crate', 'irate', 'trace', 'arise', 'stare', 'snare', 'arose', 'least']\n",
      "Our suggestion for guess based on Entropy:  raise\n",
      "guessWordPatternOutput: [0, 0, 1, 1, 0]\n"
     ]
    },
    {
     "name": "stderr",
     "output_type": "stream",
     "text": [
      "100%|█████████████████████████████████████████| 21/21 [00:00<00:00, 8209.56it/s]\n"
     ]
    },
    {
     "name": "stdout",
     "output_type": "stream",
     "text": [
      "set of possible words includes like:\n",
      "['stoic', 'posit', 'split', 'spoil', 'sonic', 'solid', 'sight', 'sixth', 'disco', 'music']\n",
      "Our suggestion for guess based on Entropy:  stoic\n",
      "guessWordPatternOutput: [2, 2, 2, 2, 2]\n",
      "You Won! : 95  times\n",
      "\n",
      "\n",
      "\n",
      "====RealAnswer to reach is  recur\n"
     ]
    },
    {
     "name": "stderr",
     "output_type": "stream",
     "text": [
      "100%|█████████████████████████████████████| 2315/2315 [00:00<00:00, 4760.90it/s]\n"
     ]
    },
    {
     "name": "stdout",
     "output_type": "stream",
     "text": [
      "set of possible words includes like:\n",
      "['raise', 'slate', 'crate', 'irate', 'trace', 'arise', 'stare', 'snare', 'arose', 'least']\n",
      "Our suggestion for guess based on Entropy:  snare\n",
      "guessWordPatternOutput: [0, 0, 0, 1, 1]\n"
     ]
    },
    {
     "name": "stderr",
     "output_type": "stream",
     "text": [
      "100%|███████████████████████████████████████| 128/128 [00:00<00:00, 7721.98it/s]\n"
     ]
    },
    {
     "name": "stdout",
     "output_type": "stream",
     "text": [
      "set of possible words includes like:\n",
      "['cider', 'tried', 'rider', 'older', 'plier', 'decor', 'idler', 'diver', 'flier', 'filer']\n",
      "Our suggestion for guess based on Entropy:  rider\n",
      "guessWordPatternOutput: [2, 0, 0, 1, 2]\n"
     ]
    },
    {
     "name": "stderr",
     "output_type": "stream",
     "text": [
      "100%|███████████████████████████████████████████| 1/1 [00:00<00:00, 6543.38it/s]\n"
     ]
    },
    {
     "name": "stdout",
     "output_type": "stream",
     "text": [
      "set of possible words includes like:\n",
      "['recur']\n",
      "Our suggestion for guess based on Entropy:  recur\n",
      "guessWordPatternOutput: [2, 2, 2, 2, 2]\n",
      "You Won! : 96  times\n",
      "\n",
      "\n",
      "\n",
      "====RealAnswer to reach is  album\n"
     ]
    },
    {
     "name": "stderr",
     "output_type": "stream",
     "text": [
      "100%|█████████████████████████████████████| 2315/2315 [00:00<00:00, 4765.78it/s]\n"
     ]
    },
    {
     "name": "stdout",
     "output_type": "stream",
     "text": [
      "set of possible words includes like:\n",
      "['raise', 'slate', 'crate', 'irate', 'trace', 'arise', 'stare', 'snare', 'arose', 'least']\n",
      "Our suggestion for guess based on Entropy:  arise\n",
      "guessWordPatternOutput: [2, 0, 0, 0, 0]\n"
     ]
    },
    {
     "name": "stderr",
     "output_type": "stream",
     "text": [
      "100%|█████████████████████████████████████████| 29/29 [00:00<00:00, 8635.77it/s]\n"
     ]
    },
    {
     "name": "stdout",
     "output_type": "stream",
     "text": [
      "set of possible words includes like:\n",
      "['aloft', 'allot', 'aloud', 'alloy', 'atoll', 'afoul', 'about', 'along', 'aloof', 'allow']\n",
      "Our suggestion for guess based on Entropy:  aloof\n",
      "guessWordPatternOutput: [2, 2, 0, 0, 0]\n"
     ]
    },
    {
     "name": "stderr",
     "output_type": "stream",
     "text": [
      "100%|███████████████████████████████████████████| 3/3 [00:00<00:00, 8774.69it/s]\n"
     ]
    },
    {
     "name": "stdout",
     "output_type": "stream",
     "text": [
      "set of possible words includes like:\n",
      "['alpha', 'album', 'allay']\n",
      "Our suggestion for guess based on Entropy:  album\n",
      "guessWordPatternOutput: [2, 2, 2, 2, 2]\n",
      "You Won! : 97  times\n",
      "\n",
      "\n",
      "\n",
      "====RealAnswer to reach is  ennui\n"
     ]
    },
    {
     "name": "stderr",
     "output_type": "stream",
     "text": [
      "100%|█████████████████████████████████████| 2315/2315 [00:00<00:00, 4763.28it/s]\n"
     ]
    },
    {
     "name": "stdout",
     "output_type": "stream",
     "text": [
      "set of possible words includes like:\n",
      "['raise', 'slate', 'crate', 'irate', 'trace', 'arise', 'stare', 'snare', 'arose', 'least']\n",
      "Our suggestion for guess based on Entropy:  crate\n",
      "guessWordPatternOutput: [0, 0, 0, 0, 1]\n"
     ]
    },
    {
     "name": "stderr",
     "output_type": "stream",
     "text": [
      "100%|███████████████████████████████████████| 123/123 [00:00<00:00, 7799.05it/s]\n"
     ]
    },
    {
     "name": "stdout",
     "output_type": "stream",
     "text": [
      "set of possible words includes like:\n",
      "['olden', 'widen', 'wield', 'dowel', 'plied', 'sinew', 'spiel', 'liken', 'bleed', 'yield']\n",
      "Our suggestion for guess based on Entropy:  yield\n",
      "guessWordPatternOutput: [0, 1, 1, 0, 0]\n"
     ]
    },
    {
     "name": "stderr",
     "output_type": "stream",
     "text": [
      "100%|███████████████████████████████████████████| 8/8 [00:00<00:00, 8888.59it/s]\n"
     ]
    },
    {
     "name": "stdout",
     "output_type": "stream",
     "text": [
      "set of possible words includes like:\n",
      "['feign', 'neigh', 'begin', 'weigh', 'eking', 'being', 'equip', 'ennui']\n",
      "Our suggestion for guess based on Entropy:  equip\n",
      "guessWordPatternOutput: [2, 0, 1, 1, 0]\n"
     ]
    },
    {
     "name": "stderr",
     "output_type": "stream",
     "text": [
      "100%|███████████████████████████████████████████| 1/1 [00:00<00:00, 7358.43it/s]\n"
     ]
    },
    {
     "name": "stdout",
     "output_type": "stream",
     "text": [
      "set of possible words includes like:\n",
      "['ennui']\n",
      "Our suggestion for guess based on Entropy:  ennui\n",
      "guessWordPatternOutput: [2, 2, 2, 2, 2]\n",
      "You Won! : 98  times\n",
      "\n",
      "\n",
      "\n",
      "====RealAnswer to reach is  lasso\n"
     ]
    },
    {
     "name": "stderr",
     "output_type": "stream",
     "text": [
      "100%|█████████████████████████████████████| 2315/2315 [00:00<00:00, 4767.13it/s]\n"
     ]
    },
    {
     "name": "stdout",
     "output_type": "stream",
     "text": [
      "set of possible words includes like:\n",
      "['raise', 'slate', 'crate', 'irate', 'trace', 'arise', 'stare', 'snare', 'arose', 'least']\n",
      "Our suggestion for guess based on Entropy:  stare\n",
      "guessWordPatternOutput: [1, 0, 1, 0, 0]\n"
     ]
    },
    {
     "name": "stderr",
     "output_type": "stream",
     "text": [
      "100%|█████████████████████████████████████████| 16/16 [00:00<00:00, 8579.50it/s]\n"
     ]
    },
    {
     "name": "stdout",
     "output_type": "stream",
     "text": [
      "set of possible words includes like:\n",
      "['basin', 'basil', 'basal', 'nasal', 'lasso', 'pansy', 'palsy', 'basis', 'basic', 'mason']\n",
      "Our suggestion for guess based on Entropy:  basal\n",
      "guessWordPatternOutput: [0, 2, 2, 1, 1]\n"
     ]
    },
    {
     "name": "stderr",
     "output_type": "stream",
     "text": [
      "100%|███████████████████████████████████████████| 1/1 [00:00<00:00, 7002.18it/s]\n"
     ]
    },
    {
     "name": "stdout",
     "output_type": "stream",
     "text": [
      "set of possible words includes like:\n",
      "['lasso']\n",
      "Our suggestion for guess based on Entropy:  lasso\n",
      "guessWordPatternOutput: [2, 2, 2, 2, 2]\n",
      "You Won! : 99  times\n",
      "\n",
      "\n",
      "\n",
      "====RealAnswer to reach is  linen\n"
     ]
    },
    {
     "name": "stderr",
     "output_type": "stream",
     "text": [
      "100%|█████████████████████████████████████| 2315/2315 [00:00<00:00, 4771.12it/s]\n"
     ]
    },
    {
     "name": "stdout",
     "output_type": "stream",
     "text": [
      "set of possible words includes like:\n",
      "['raise', 'slate', 'crate', 'irate', 'trace', 'arise', 'stare', 'snare', 'arose', 'least']\n",
      "Our suggestion for guess based on Entropy:  snare\n",
      "guessWordPatternOutput: [0, 1, 0, 0, 1]\n"
     ]
    },
    {
     "name": "stderr",
     "output_type": "stream",
     "text": [
      "100%|█████████████████████████████████████████| 47/47 [00:00<00:00, 8296.46it/s]\n"
     ]
    },
    {
     "name": "stdout",
     "output_type": "stream",
     "text": [
      "set of possible words includes like:\n",
      "['lemon', 'demon', 'olden', 'denim', 'linen', 'melon', 'liken', 'widen', 'deign', 'money']\n",
      "Our suggestion for guess based on Entropy:  lemon\n",
      "guessWordPatternOutput: [2, 1, 0, 0, 2]\n"
     ]
    },
    {
     "name": "stderr",
     "output_type": "stream",
     "text": [
      "100%|███████████████████████████████████████████| 2/2 [00:00<00:00, 7989.15it/s]\n"
     ]
    },
    {
     "name": "stdout",
     "output_type": "stream",
     "text": [
      "set of possible words includes like:\n",
      "['liken', 'linen']\n",
      "Our suggestion for guess based on Entropy:  liken\n",
      "guessWordPatternOutput: [2, 2, 0, 2, 2]\n"
     ]
    },
    {
     "name": "stderr",
     "output_type": "stream",
     "text": [
      "100%|███████████████████████████████████████████| 1/1 [00:00<00:00, 7244.05it/s]\n"
     ]
    },
    {
     "name": "stdout",
     "output_type": "stream",
     "text": [
      "set of possible words includes like:\n",
      "['linen']\n",
      "Our suggestion for guess based on Entropy:  linen\n",
      "guessWordPatternOutput: [2, 2, 2, 2, 2]\n",
      "You Won! : 100  times\n",
      "\n",
      "\n",
      "\n",
      "====RealAnswer to reach is  anvil\n"
     ]
    },
    {
     "name": "stderr",
     "output_type": "stream",
     "text": [
      "100%|█████████████████████████████████████| 2315/2315 [00:00<00:00, 4749.06it/s]\n"
     ]
    },
    {
     "name": "stdout",
     "output_type": "stream",
     "text": [
      "set of possible words includes like:\n",
      "['raise', 'slate', 'crate', 'irate', 'trace', 'arise', 'stare', 'snare', 'arose', 'least']\n",
      "Our suggestion for guess based on Entropy:  slate\n",
      "guessWordPatternOutput: [0, 1, 1, 0, 0]\n"
     ]
    },
    {
     "name": "stderr",
     "output_type": "stream",
     "text": [
      "100%|█████████████████████████████████████████| 58/58 [00:00<00:00, 8103.86it/s]\n"
     ]
    },
    {
     "name": "stdout",
     "output_type": "stream",
     "text": [
      "set of possible words includes like:\n",
      "['moral', 'royal', 'molar', 'coral', 'vocal', 'carol', 'polar', 'valor', 'rally', 'rival']\n",
      "Our suggestion for guess based on Entropy:  polar\n",
      "guessWordPatternOutput: [0, 0, 1, 1, 0]\n"
     ]
    },
    {
     "name": "stderr",
     "output_type": "stream",
     "text": [
      "100%|█████████████████████████████████████████| 13/13 [00:00<00:00, 8982.86it/s]\n"
     ]
    },
    {
     "name": "stdout",
     "output_type": "stream",
     "text": [
      "set of possible words includes like:\n",
      "['daily', 'gaily', 'madly', 'manly', 'badly', 'lanky', 'gayly', 'anvil', 'laugh', 'annul']\n",
      "Our suggestion for guess based on Entropy:  manly\n",
      "guessWordPatternOutput: [0, 1, 1, 1, 0]\n"
     ]
    },
    {
     "name": "stderr",
     "output_type": "stream",
     "text": [
      "100%|███████████████████████████████████████████| 1/1 [00:00<00:00, 6887.20it/s]\n"
     ]
    },
    {
     "name": "stdout",
     "output_type": "stream",
     "text": [
      "set of possible words includes like:\n",
      "['anvil']\n",
      "Our suggestion for guess based on Entropy:  anvil\n",
      "guessWordPatternOutput: [2, 2, 2, 2, 2]\n",
      "You Won! : 101  times\n",
      "\n",
      "\n",
      "\n",
      "====RealAnswer to reach is  block\n"
     ]
    },
    {
     "name": "stderr",
     "output_type": "stream",
     "text": [
      "100%|█████████████████████████████████████| 2315/2315 [00:00<00:00, 4754.72it/s]\n"
     ]
    },
    {
     "name": "stdout",
     "output_type": "stream",
     "text": [
      "set of possible words includes like:\n",
      "['raise', 'slate', 'crate', 'irate', 'trace', 'arise', 'stare', 'snare', 'arose', 'least']\n",
      "Our suggestion for guess based on Entropy:  least\n",
      "guessWordPatternOutput: [1, 0, 0, 0, 0]\n"
     ]
    },
    {
     "name": "stderr",
     "output_type": "stream",
     "text": [
      "100%|███████████████████████████████████████| 106/106 [00:00<00:00, 7972.25it/s]\n"
     ]
    },
    {
     "name": "stdout",
     "output_type": "stream",
     "text": [
      "set of possible words includes like:\n",
      "['could', 'guild', 'build', 'cloud', 'curly', 'child', 'godly', 'fluid', 'cling', 'would']\n",
      "Our suggestion for guess based on Entropy:  guild\n",
      "guessWordPatternOutput: [0, 0, 0, 1, 0]\n"
     ]
    },
    {
     "name": "stderr",
     "output_type": "stream",
     "text": [
      "100%|█████████████████████████████████████████| 13/13 [00:00<00:00, 8916.75it/s]\n"
     ]
    },
    {
     "name": "stdout",
     "output_type": "stream",
     "text": [
      "set of possible words includes like:\n",
      "['colon', 'color', 'clown', 'flock', 'block', 'floor', 'blown', 'flown', 'clock', 'nylon']\n",
      "Our suggestion for guess based on Entropy:  nylon\n",
      "guessWordPatternOutput: [0, 0, 1, 1, 0]\n"
     ]
    },
    {
     "name": "stderr",
     "output_type": "stream",
     "text": [
      "100%|███████████████████████████████████████████| 4/4 [00:00<00:00, 8834.76it/s]\n"
     ]
    },
    {
     "name": "stdout",
     "output_type": "stream",
     "text": [
      "set of possible words includes like:\n",
      "['block', 'clock', 'flock', 'prowl']\n",
      "Our suggestion for guess based on Entropy:  block\n",
      "guessWordPatternOutput: [2, 2, 2, 2, 2]\n",
      "You Won! : 102  times\n",
      "\n",
      "\n",
      "\n",
      "====RealAnswer to reach is  junta\n"
     ]
    },
    {
     "name": "stderr",
     "output_type": "stream",
     "text": [
      "100%|█████████████████████████████████████| 2315/2315 [00:00<00:00, 4670.27it/s]\n"
     ]
    },
    {
     "name": "stdout",
     "output_type": "stream",
     "text": [
      "set of possible words includes like:\n",
      "['raise', 'slate', 'crate', 'irate', 'trace', 'arise', 'stare', 'snare', 'arose', 'least']\n",
      "Our suggestion for guess based on Entropy:  least\n",
      "guessWordPatternOutput: [0, 0, 1, 0, 1]\n"
     ]
    },
    {
     "name": "stderr",
     "output_type": "stream",
     "text": [
      "100%|█████████████████████████████████████████| 43/43 [00:00<00:00, 8262.93it/s]\n"
     ]
    },
    {
     "name": "stdout",
     "output_type": "stream",
     "text": [
      "set of possible words includes like:\n",
      "['catty', 'party', 'ratty', 'tapir', 'batty', 'ratio', 'patty', 'patio', 'warty', 'tardy']\n",
      "Our suggestion for guess based on Entropy:  ratio\n",
      "guessWordPatternOutput: [0, 1, 1, 0, 0]\n"
     ]
    },
    {
     "name": "stderr",
     "output_type": "stream",
     "text": [
      "100%|███████████████████████████████████████████| 2/2 [00:00<00:00, 8065.97it/s]\n"
     ]
    },
    {
     "name": "stdout",
     "output_type": "stream",
     "text": [
      "set of possible words includes like:\n",
      "['aunty', 'junta']\n",
      "Our suggestion for guess based on Entropy:  junta\n",
      "guessWordPatternOutput: [2, 2, 2, 2, 2]\n",
      "You Won! : 103  times\n",
      "\n",
      "\n",
      "\n",
      "====RealAnswer to reach is  crump\n"
     ]
    },
    {
     "name": "stderr",
     "output_type": "stream",
     "text": [
      "100%|█████████████████████████████████████| 2315/2315 [00:00<00:00, 4420.37it/s]\n"
     ]
    },
    {
     "name": "stdout",
     "output_type": "stream",
     "text": [
      "set of possible words includes like:\n",
      "['raise', 'slate', 'crate', 'irate', 'trace', 'arise', 'stare', 'snare', 'arose', 'least']\n",
      "Our suggestion for guess based on Entropy:  stare\n",
      "guessWordPatternOutput: [0, 0, 0, 1, 0]\n"
     ]
    },
    {
     "name": "stderr",
     "output_type": "stream",
     "text": [
      "100%|███████████████████████████████████████| 100/100 [00:00<00:00, 7281.15it/s]\n"
     ]
    },
    {
     "name": "stdout",
     "output_type": "stream",
     "text": [
      "set of possible words includes like:\n",
      "['crony', 'groin', 'round', 'grind', 'crown', 'frond', 'crowd', 'corny', 'irony', 'prong']\n",
      "Our suggestion for guess based on Entropy:  crown\n",
      "guessWordPatternOutput: [2, 2, 0, 0, 0]\n"
     ]
    },
    {
     "name": "stderr",
     "output_type": "stream",
     "text": [
      "100%|███████████████████████████████████████████| 4/4 [00:00<00:00, 8112.77it/s]\n"
     ]
    },
    {
     "name": "stdout",
     "output_type": "stream",
     "text": [
      "set of possible words includes like:\n",
      "['crumb', 'crump', 'crimp', 'crick']\n",
      "Our suggestion for guess based on Entropy:  crump\n",
      "guessWordPatternOutput: [2, 2, 2, 2, 2]\n",
      "You Won! : 104  times\n",
      "\n",
      "\n",
      "\n",
      "====RealAnswer to reach is  ridge\n"
     ]
    },
    {
     "name": "stderr",
     "output_type": "stream",
     "text": [
      "100%|█████████████████████████████████████| 2315/2315 [00:00<00:00, 4492.17it/s]\n"
     ]
    },
    {
     "name": "stdout",
     "output_type": "stream",
     "text": [
      "set of possible words includes like:\n",
      "['raise', 'slate', 'crate', 'irate', 'trace', 'arise', 'stare', 'snare', 'arose', 'least']\n",
      "Our suggestion for guess based on Entropy:  crate\n",
      "guessWordPatternOutput: [0, 1, 0, 0, 2]\n"
     ]
    },
    {
     "name": "stderr",
     "output_type": "stream",
     "text": [
      "100%|█████████████████████████████████████████| 40/40 [00:00<00:00, 6371.66it/s]\n"
     ]
    },
    {
     "name": "stdout",
     "output_type": "stream",
     "text": [
      "set of possible words includes like:\n",
      "['surge', 'horse', 'rouse', 'nurse', 'reuse', 'worse', 'rouge', 'rogue', 'purse', 'spore']\n",
      "Our suggestion for guess based on Entropy:  nurse\n",
      "guessWordPatternOutput: [0, 0, 1, 0, 2]\n"
     ]
    },
    {
     "name": "stderr",
     "output_type": "stream",
     "text": [
      "100%|███████████████████████████████████████████| 6/6 [00:00<00:00, 6687.70it/s]\n"
     ]
    },
    {
     "name": "stdout",
     "output_type": "stream",
     "text": [
      "set of possible words includes like:\n",
      "['fibre', 'ridge', 'ombre', 'rhyme', 'rifle', 'where']\n",
      "Our suggestion for guess based on Entropy:  ombre\n",
      "guessWordPatternOutput: [0, 0, 0, 1, 2]\n"
     ]
    },
    {
     "name": "stderr",
     "output_type": "stream",
     "text": [
      "100%|███████████████████████████████████████████| 2/2 [00:00<00:00, 4854.52it/s]\n"
     ]
    },
    {
     "name": "stdout",
     "output_type": "stream",
     "text": [
      "set of possible words includes like:\n",
      "['ridge', 'rifle']\n",
      "Our suggestion for guess based on Entropy:  rifle\n",
      "guessWordPatternOutput: [2, 2, 0, 0, 2]\n"
     ]
    },
    {
     "name": "stderr",
     "output_type": "stream",
     "text": [
      "100%|███████████████████████████████████████████| 1/1 [00:00<00:00, 2711.25it/s]\n"
     ]
    },
    {
     "name": "stdout",
     "output_type": "stream",
     "text": [
      "set of possible words includes like:\n",
      "['ridge']\n",
      "Our suggestion for guess based on Entropy:  ridge\n",
      "guessWordPatternOutput: [2, 2, 2, 2, 2]\n",
      "You Won! : 105  times\n",
      "\n",
      "\n",
      "\n",
      "====RealAnswer to reach is  geeky\n"
     ]
    },
    {
     "name": "stderr",
     "output_type": "stream",
     "text": [
      "100%|█████████████████████████████████████| 2315/2315 [00:00<00:00, 4324.38it/s]\n"
     ]
    },
    {
     "name": "stdout",
     "output_type": "stream",
     "text": [
      "set of possible words includes like:\n",
      "['raise', 'slate', 'crate', 'irate', 'trace', 'arise', 'stare', 'snare', 'arose', 'least']\n",
      "Our suggestion for guess based on Entropy:  crate\n",
      "guessWordPatternOutput: [0, 0, 0, 0, 1]\n"
     ]
    },
    {
     "name": "stderr",
     "output_type": "stream",
     "text": [
      "100%|███████████████████████████████████████| 123/123 [00:00<00:00, 7179.93it/s]\n"
     ]
    },
    {
     "name": "stdout",
     "output_type": "stream",
     "text": [
      "set of possible words includes like:\n",
      "['olden', 'widen', 'wield', 'dowel', 'plied', 'sinew', 'spiel', 'liken', 'bleed', 'yield']\n",
      "Our suggestion for guess based on Entropy:  yield\n",
      "guessWordPatternOutput: [1, 0, 2, 0, 0]\n"
     ]
    },
    {
     "name": "stderr",
     "output_type": "stream",
     "text": [
      "100%|███████████████████████████████████████████| 4/4 [00:00<00:00, 5493.52it/s]\n"
     ]
    },
    {
     "name": "stdout",
     "output_type": "stream",
     "text": [
      "set of possible words includes like:\n",
      "['geeky', 'beefy', 'poesy', 'enemy']\n",
      "Our suggestion for guess based on Entropy:  beefy\n",
      "guessWordPatternOutput: [0, 2, 2, 0, 2]\n"
     ]
    },
    {
     "name": "stderr",
     "output_type": "stream",
     "text": [
      "100%|███████████████████████████████████████████| 1/1 [00:00<00:00, 5722.11it/s]\n"
     ]
    },
    {
     "name": "stdout",
     "output_type": "stream",
     "text": [
      "set of possible words includes like:\n",
      "['geeky']\n",
      "Our suggestion for guess based on Entropy:  geeky\n",
      "guessWordPatternOutput: [2, 2, 2, 2, 2]\n",
      "You Won! : 106  times\n",
      "\n",
      "\n",
      "\n",
      "====RealAnswer to reach is  whiff\n"
     ]
    },
    {
     "name": "stderr",
     "output_type": "stream",
     "text": [
      "100%|█████████████████████████████████████| 2315/2315 [00:00<00:00, 4290.48it/s]\n"
     ]
    },
    {
     "name": "stdout",
     "output_type": "stream",
     "text": [
      "set of possible words includes like:\n",
      "['raise', 'slate', 'crate', 'irate', 'trace', 'arise', 'stare', 'snare', 'arose', 'least']\n",
      "Our suggestion for guess based on Entropy:  slate\n",
      "guessWordPatternOutput: [0, 0, 0, 0, 0]\n"
     ]
    },
    {
     "name": "stderr",
     "output_type": "stream",
     "text": [
      "100%|███████████████████████████████████████| 221/221 [00:00<00:00, 7259.65it/s]\n"
     ]
    },
    {
     "name": "stdout",
     "output_type": "stream",
     "text": [
      "set of possible words includes like:\n",
      "['crony', 'round', 'groin', 'corny', 'irony', 'pound', 'doing', 'rhino', 'mound', 'hound']\n",
      "Our suggestion for guess based on Entropy:  crony\n",
      "guessWordPatternOutput: [0, 0, 0, 0, 0]\n"
     ]
    },
    {
     "name": "stderr",
     "output_type": "stream",
     "text": [
      "100%|███████████████████████████████████████████| 4/4 [00:00<00:00, 7906.32it/s]\n"
     ]
    },
    {
     "name": "stdout",
     "output_type": "stream",
     "text": [
      "set of possible words includes like:\n",
      "['humph', 'whiff', 'vivid', 'humid']\n",
      "Our suggestion for guess based on Entropy:  humid\n",
      "guessWordPatternOutput: [1, 0, 0, 1, 0]\n"
     ]
    },
    {
     "name": "stderr",
     "output_type": "stream",
     "text": [
      "100%|███████████████████████████████████████████| 1/1 [00:00<00:00, 6052.39it/s]\n"
     ]
    },
    {
     "name": "stdout",
     "output_type": "stream",
     "text": [
      "set of possible words includes like:\n",
      "['whiff']\n",
      "Our suggestion for guess based on Entropy:  whiff\n",
      "guessWordPatternOutput: [2, 2, 2, 2, 2]\n",
      "You Won! : 107  times\n",
      "\n",
      "\n",
      "\n",
      "====RealAnswer to reach is  salsa\n"
     ]
    },
    {
     "name": "stderr",
     "output_type": "stream",
     "text": [
      "100%|█████████████████████████████████████| 2315/2315 [00:00<00:00, 4643.04it/s]\n"
     ]
    },
    {
     "name": "stdout",
     "output_type": "stream",
     "text": [
      "set of possible words includes like:\n",
      "['raise', 'slate', 'crate', 'irate', 'trace', 'arise', 'stare', 'snare', 'arose', 'least']\n",
      "Our suggestion for guess based on Entropy:  crate\n",
      "guessWordPatternOutput: [0, 0, 1, 0, 0]\n"
     ]
    },
    {
     "name": "stderr",
     "output_type": "stream",
     "text": [
      "100%|███████████████████████████████████████| 127/127 [00:00<00:00, 7843.40it/s]\n"
     ]
    },
    {
     "name": "stdout",
     "output_type": "stream",
     "text": [
      "set of possible words includes like:\n",
      "['salon', 'manly', 'sadly', 'sandy', 'gaily', 'daily', 'mason', 'palsy', 'inlay', 'nasal']\n",
      "Our suggestion for guess based on Entropy:  gaily\n",
      "guessWordPatternOutput: [0, 2, 0, 1, 0]\n"
     ]
    },
    {
     "name": "stderr",
     "output_type": "stream",
     "text": [
      "100%|█████████████████████████████████████████| 10/10 [00:00<00:00, 6317.67it/s]\n"
     ]
    },
    {
     "name": "stdout",
     "output_type": "stream",
     "text": [
      "set of possible words includes like:\n",
      "['nasal', 'naval', 'salon', 'salvo', 'basal', 'banal', 'lasso', 'salad', 'salsa', 'papal']\n",
      "Our suggestion for guess based on Entropy:  lasso\n",
      "guessWordPatternOutput: [1, 2, 1, 2, 0]\n"
     ]
    },
    {
     "name": "stderr",
     "output_type": "stream",
     "text": [
      "100%|███████████████████████████████████████████| 1/1 [00:00<00:00, 6797.90it/s]\n"
     ]
    },
    {
     "name": "stdout",
     "output_type": "stream",
     "text": [
      "set of possible words includes like:\n",
      "['salsa']\n",
      "Our suggestion for guess based on Entropy:  salsa\n",
      "guessWordPatternOutput: [2, 2, 2, 2, 2]\n",
      "You Won! : 108  times\n",
      "\n",
      "\n",
      "\n",
      "====RealAnswer to reach is  block\n"
     ]
    },
    {
     "name": "stderr",
     "output_type": "stream",
     "text": [
      "100%|█████████████████████████████████████| 2315/2315 [00:00<00:00, 4677.24it/s]\n"
     ]
    },
    {
     "name": "stdout",
     "output_type": "stream",
     "text": [
      "set of possible words includes like:\n",
      "['raise', 'slate', 'crate', 'irate', 'trace', 'arise', 'stare', 'snare', 'arose', 'least']\n",
      "Our suggestion for guess based on Entropy:  arise\n",
      "guessWordPatternOutput: [0, 0, 0, 0, 0]\n"
     ]
    },
    {
     "name": "stderr",
     "output_type": "stream",
     "text": [
      "100%|███████████████████████████████████████| 168/168 [00:00<00:00, 7544.84it/s]\n"
     ]
    },
    {
     "name": "stdout",
     "output_type": "stream",
     "text": [
      "set of possible words includes like:\n",
      "['mulch', 'lunch', 'cloth', 'could', 'clung', 'clump', 'blunt', 'gulch', 'bunch', 'blond']\n",
      "Our suggestion for guess based on Entropy:  lunch\n",
      "guessWordPatternOutput: [1, 0, 0, 2, 0]\n"
     ]
    },
    {
     "name": "stderr",
     "output_type": "stream",
     "text": [
      "100%|███████████████████████████████████████████| 3/3 [00:00<00:00, 8181.35it/s]\n"
     ]
    },
    {
     "name": "stdout",
     "output_type": "stream",
     "text": [
      "set of possible words includes like:\n",
      "['block', 'clock', 'flock']\n",
      "Our suggestion for guess based on Entropy:  block\n",
      "guessWordPatternOutput: [2, 2, 2, 2, 2]\n",
      "You Won! : 109  times\n",
      "\n",
      "\n",
      "\n",
      "====RealAnswer to reach is  grace\n"
     ]
    },
    {
     "name": "stderr",
     "output_type": "stream",
     "text": [
      "100%|█████████████████████████████████████| 2315/2315 [00:00<00:00, 4715.88it/s]\n"
     ]
    },
    {
     "name": "stdout",
     "output_type": "stream",
     "text": [
      "set of possible words includes like:\n",
      "['raise', 'slate', 'crate', 'irate', 'trace', 'arise', 'stare', 'snare', 'arose', 'least']\n",
      "Our suggestion for guess based on Entropy:  crate\n",
      "guessWordPatternOutput: [1, 2, 2, 0, 2]\n"
     ]
    },
    {
     "name": "stderr",
     "output_type": "stream",
     "text": [
      "100%|███████████████████████████████████████████| 2/2 [00:00<00:00, 7577.79it/s]\n"
     ]
    },
    {
     "name": "stdout",
     "output_type": "stream",
     "text": [
      "set of possible words includes like:\n",
      "['grace', 'brace']\n",
      "Our suggestion for guess based on Entropy:  grace\n",
      "guessWordPatternOutput: [2, 2, 2, 2, 2]\n",
      "You Won! : 110  times\n",
      "\n",
      "\n",
      "\n",
      "====RealAnswer to reach is  vouch\n"
     ]
    },
    {
     "name": "stderr",
     "output_type": "stream",
     "text": [
      "100%|█████████████████████████████████████| 2315/2315 [00:00<00:00, 4572.69it/s]\n"
     ]
    },
    {
     "name": "stdout",
     "output_type": "stream",
     "text": [
      "set of possible words includes like:\n",
      "['raise', 'slate', 'crate', 'irate', 'trace', 'arise', 'stare', 'snare', 'arose', 'least']\n",
      "Our suggestion for guess based on Entropy:  least\n",
      "guessWordPatternOutput: [0, 0, 0, 0, 0]\n"
     ]
    },
    {
     "name": "stderr",
     "output_type": "stream",
     "text": [
      "100%|███████████████████████████████████████| 221/221 [00:00<00:00, 6969.64it/s]\n"
     ]
    },
    {
     "name": "stdout",
     "output_type": "stream",
     "text": [
      "set of possible words includes like:\n",
      "['crony', 'round', 'groin', 'corny', 'irony', 'pound', 'doing', 'rhino', 'mound', 'hound']\n",
      "Our suggestion for guess based on Entropy:  irony\n",
      "guessWordPatternOutput: [0, 0, 1, 0, 0]\n"
     ]
    },
    {
     "name": "stderr",
     "output_type": "stream",
     "text": [
      "100%|███████████████████████████████████████████| 9/9 [00:00<00:00, 7990.84it/s]\n"
     ]
    },
    {
     "name": "stdout",
     "output_type": "stream",
     "text": [
      "set of possible words includes like:\n",
      "['cough', 'bough', 'gumbo', 'pouch', 'dough', 'couch', 'vouch', 'jumbo', 'buxom']\n",
      "Our suggestion for guess based on Entropy:  gumbo\n",
      "guessWordPatternOutput: [0, 1, 0, 0, 1]\n"
     ]
    },
    {
     "name": "stderr",
     "output_type": "stream",
     "text": [
      "100%|███████████████████████████████████████████| 3/3 [00:00<00:00, 7281.78it/s]\n"
     ]
    },
    {
     "name": "stdout",
     "output_type": "stream",
     "text": [
      "set of possible words includes like:\n",
      "['vouch', 'pouch', 'couch']\n",
      "Our suggestion for guess based on Entropy:  vouch\n",
      "guessWordPatternOutput: [2, 2, 2, 2, 2]\n",
      "You Won! : 111  times\n",
      "\n",
      "\n",
      "\n",
      "====RealAnswer to reach is  tense\n"
     ]
    },
    {
     "name": "stderr",
     "output_type": "stream",
     "text": [
      "100%|█████████████████████████████████████| 2315/2315 [00:00<00:00, 4699.71it/s]\n"
     ]
    },
    {
     "name": "stdout",
     "output_type": "stream",
     "text": [
      "set of possible words includes like:\n",
      "['raise', 'slate', 'crate', 'irate', 'trace', 'arise', 'stare', 'snare', 'arose', 'least']\n",
      "Our suggestion for guess based on Entropy:  arose\n",
      "guessWordPatternOutput: [0, 0, 0, 2, 2]\n"
     ]
    },
    {
     "name": "stderr",
     "output_type": "stream",
     "text": [
      "100%|███████████████████████████████████████████| 7/7 [00:00<00:00, 8840.75it/s]\n"
     ]
    },
    {
     "name": "stdout",
     "output_type": "stream",
     "text": [
      "set of possible words includes like:\n",
      "['tense', 'geese', 'dense', 'sense', 'these', 'guise', 'pulse']\n",
      "Our suggestion for guess based on Entropy:  pulse\n",
      "guessWordPatternOutput: [0, 0, 0, 2, 2]\n"
     ]
    },
    {
     "name": "stderr",
     "output_type": "stream",
     "text": [
      "100%|███████████████████████████████████████████| 5/5 [00:00<00:00, 7376.55it/s]\n"
     ]
    },
    {
     "name": "stdout",
     "output_type": "stream",
     "text": [
      "set of possible words includes like:\n",
      "['dense', 'sense', 'tense', 'these', 'geese']\n",
      "Our suggestion for guess based on Entropy:  sense\n",
      "guessWordPatternOutput: [1, 2, 2, 2, 2]\n"
     ]
    },
    {
     "name": "stderr",
     "output_type": "stream",
     "text": [
      "100%|███████████████████████████████████████████| 2/2 [00:00<00:00, 6915.59it/s]\n"
     ]
    },
    {
     "name": "stdout",
     "output_type": "stream",
     "text": [
      "set of possible words includes like:\n",
      "['dense', 'tense']\n",
      "Our suggestion for guess based on Entropy:  dense\n",
      "guessWordPatternOutput: [0, 2, 2, 2, 2]\n"
     ]
    },
    {
     "name": "stderr",
     "output_type": "stream",
     "text": [
      "100%|███████████████████████████████████████████| 1/1 [00:00<00:00, 1317.72it/s]\n"
     ]
    },
    {
     "name": "stdout",
     "output_type": "stream",
     "text": [
      "set of possible words includes like:\n",
      "['tense']\n",
      "Our suggestion for guess based on Entropy:  tense\n",
      "guessWordPatternOutput: [2, 2, 2, 2, 2]\n",
      "You Won! : 112  times\n",
      "\n",
      "\n",
      "\n",
      "====RealAnswer to reach is  easel\n"
     ]
    },
    {
     "name": "stderr",
     "output_type": "stream",
     "text": [
      "100%|█████████████████████████████████████| 2315/2315 [00:00<00:00, 4451.07it/s]\n"
     ]
    },
    {
     "name": "stdout",
     "output_type": "stream",
     "text": [
      "set of possible words includes like:\n",
      "['raise', 'slate', 'crate', 'irate', 'trace', 'arise', 'stare', 'snare', 'arose', 'least']\n",
      "Our suggestion for guess based on Entropy:  trace\n",
      "guessWordPatternOutput: [0, 0, 1, 0, 1]\n"
     ]
    },
    {
     "name": "stderr",
     "output_type": "stream",
     "text": [
      "100%|█████████████████████████████████████████| 48/48 [00:00<00:00, 6595.25it/s]\n"
     ]
    },
    {
     "name": "stdout",
     "output_type": "stream",
     "text": [
      "set of possible words includes like:\n",
      "['laden', 'penal', 'angel', 'glean', 'pedal', 'sedan', 'alien', 'plead', 'knead', 'panel']\n",
      "Our suggestion for guess based on Entropy:  alien\n",
      "guessWordPatternOutput: [1, 1, 0, 2, 0]\n"
     ]
    },
    {
     "name": "stderr",
     "output_type": "stream",
     "text": [
      "100%|███████████████████████████████████████████| 6/6 [00:00<00:00, 8242.98it/s]\n"
     ]
    },
    {
     "name": "stdout",
     "output_type": "stream",
     "text": [
      "set of possible words includes like:\n",
      "['label', 'bagel', 'gavel', 'lapel', 'easel', 'hazel']\n",
      "Our suggestion for guess based on Entropy:  hazel\n",
      "guessWordPatternOutput: [0, 2, 0, 2, 2]\n"
     ]
    },
    {
     "name": "stderr",
     "output_type": "stream",
     "text": [
      "100%|███████████████████████████████████████████| 5/5 [00:00<00:00, 3203.23it/s]\n"
     ]
    },
    {
     "name": "stdout",
     "output_type": "stream",
     "text": [
      "set of possible words includes like:\n",
      "['label', 'bagel', 'gavel', 'lapel', 'easel']\n",
      "Our suggestion for guess based on Entropy:  easel\n",
      "guessWordPatternOutput: [2, 2, 2, 2, 2]\n",
      "You Won! : 113  times\n",
      "\n",
      "\n",
      "\n",
      "====RealAnswer to reach is  witty\n"
     ]
    },
    {
     "name": "stderr",
     "output_type": "stream",
     "text": [
      "100%|█████████████████████████████████████| 2315/2315 [00:00<00:00, 3443.48it/s]\n"
     ]
    },
    {
     "name": "stdout",
     "output_type": "stream",
     "text": [
      "set of possible words includes like:\n",
      "['raise', 'slate', 'crate', 'irate', 'trace', 'arise', 'stare', 'snare', 'arose', 'least']\n",
      "Our suggestion for guess based on Entropy:  arise\n",
      "guessWordPatternOutput: [0, 0, 1, 0, 0]\n"
     ]
    },
    {
     "name": "stderr",
     "output_type": "stream",
     "text": [
      "100%|███████████████████████████████████████| 107/107 [00:00<00:00, 5692.71it/s]\n"
     ]
    },
    {
     "name": "stdout",
     "output_type": "stream",
     "text": [
      "set of possible words includes like:\n",
      "['pilot', 'pinto', 'tonic', 'unlit', 'minty', 'until', 'optic', 'filth', 'limit', 'light']\n",
      "Our suggestion for guess based on Entropy:  minty\n",
      "guessWordPatternOutput: [0, 2, 0, 2, 2]\n"
     ]
    },
    {
     "name": "stderr",
     "output_type": "stream",
     "text": [
      "100%|███████████████████████████████████████████| 5/5 [00:00<00:00, 8090.86it/s]\n"
     ]
    },
    {
     "name": "stdout",
     "output_type": "stream",
     "text": [
      "set of possible words includes like:\n",
      "['kitty', 'ditty', 'witty', 'bitty', 'fifty']\n",
      "Our suggestion for guess based on Entropy:  fifty\n",
      "guessWordPatternOutput: [0, 2, 0, 2, 2]\n"
     ]
    },
    {
     "name": "stderr",
     "output_type": "stream",
     "text": [
      "100%|███████████████████████████████████████████| 4/4 [00:00<00:00, 2001.82it/s]\n"
     ]
    },
    {
     "name": "stdout",
     "output_type": "stream",
     "text": [
      "set of possible words includes like:\n",
      "['bitty', 'ditty', 'witty', 'kitty']\n",
      "Our suggestion for guess based on Entropy:  witty\n",
      "guessWordPatternOutput: [2, 2, 2, 2, 2]\n",
      "You Won! : 114  times\n",
      "\n",
      "\n",
      "\n",
      "====RealAnswer to reach is  slang\n"
     ]
    },
    {
     "name": "stderr",
     "output_type": "stream",
     "text": [
      "100%|█████████████████████████████████████| 2315/2315 [00:00<00:00, 4295.68it/s]\n"
     ]
    },
    {
     "name": "stdout",
     "output_type": "stream",
     "text": [
      "set of possible words includes like:\n",
      "['raise', 'slate', 'crate', 'irate', 'trace', 'arise', 'stare', 'snare', 'arose', 'least']\n",
      "Our suggestion for guess based on Entropy:  arose\n",
      "guessWordPatternOutput: [1, 0, 0, 1, 0]\n"
     ]
    },
    {
     "name": "stderr",
     "output_type": "stream",
     "text": [
      "100%|█████████████████████████████████████████| 67/67 [00:00<00:00, 7712.87it/s]\n"
     ]
    },
    {
     "name": "stdout",
     "output_type": "stream",
     "text": [
      "set of possible words includes like:\n",
      "['slant', 'scant', 'stank', 'snail', 'shalt', 'stalk', 'stand', 'stain', 'slain', 'saint']\n",
      "Our suggestion for guess based on Entropy:  stalk\n",
      "guessWordPatternOutput: [2, 0, 2, 1, 0]\n"
     ]
    },
    {
     "name": "stderr",
     "output_type": "stream",
     "text": [
      "100%|███████████████████████████████████████████| 4/4 [00:00<00:00, 7917.52it/s]\n"
     ]
    },
    {
     "name": "stdout",
     "output_type": "stream",
     "text": [
      "set of possible words includes like:\n",
      "['snail', 'slang', 'slain', 'shawl']\n",
      "Our suggestion for guess based on Entropy:  shawl\n",
      "guessWordPatternOutput: [2, 0, 2, 0, 1]\n"
     ]
    },
    {
     "name": "stderr",
     "output_type": "stream",
     "text": [
      "100%|███████████████████████████████████████████| 2/2 [00:00<00:00, 5970.54it/s]\n"
     ]
    },
    {
     "name": "stdout",
     "output_type": "stream",
     "text": [
      "set of possible words includes like:\n",
      "['slang', 'slain']\n",
      "Our suggestion for guess based on Entropy:  slain\n",
      "guessWordPatternOutput: [2, 2, 2, 0, 1]\n"
     ]
    },
    {
     "name": "stderr",
     "output_type": "stream",
     "text": [
      "100%|███████████████████████████████████████████| 1/1 [00:00<00:00, 4951.95it/s]\n"
     ]
    },
    {
     "name": "stdout",
     "output_type": "stream",
     "text": [
      "set of possible words includes like:\n",
      "['slang']\n",
      "Our suggestion for guess based on Entropy:  slang\n",
      "guessWordPatternOutput: [2, 2, 2, 2, 2]\n",
      "You Won! : 115  times\n",
      "\n",
      "\n",
      "\n",
      "====RealAnswer to reach is  spelt\n"
     ]
    },
    {
     "name": "stderr",
     "output_type": "stream",
     "text": [
      "100%|█████████████████████████████████████| 2315/2315 [00:00<00:00, 4717.55it/s]\n"
     ]
    },
    {
     "name": "stdout",
     "output_type": "stream",
     "text": [
      "set of possible words includes like:\n",
      "['raise', 'slate', 'crate', 'irate', 'trace', 'arise', 'stare', 'snare', 'arose', 'least']\n",
      "Our suggestion for guess based on Entropy:  trace\n",
      "guessWordPatternOutput: [1, 0, 0, 0, 1]\n"
     ]
    },
    {
     "name": "stderr",
     "output_type": "stream",
     "text": [
      "100%|█████████████████████████████████████████| 58/58 [00:00<00:00, 7904.01it/s]\n"
     ]
    },
    {
     "name": "stdout",
     "output_type": "stream",
     "text": [
      "set of possible words includes like:\n",
      "['spelt', 'sleet', 'slept', 'islet', 'upset', 'heist', 'spent', 'unset', 'smelt', 'sheet']\n",
      "Our suggestion for guess based on Entropy:  sheet\n",
      "guessWordPatternOutput: [2, 0, 2, 1, 2]\n"
     ]
    },
    {
     "name": "stderr",
     "output_type": "stream",
     "text": [
      "100%|███████████████████████████████████████████| 5/5 [00:00<00:00, 8224.13it/s]\n"
     ]
    },
    {
     "name": "stdout",
     "output_type": "stream",
     "text": [
      "set of possible words includes like:\n",
      "['slept', 'spelt', 'swept', 'spent', 'smelt']\n",
      "Our suggestion for guess based on Entropy:  spelt\n",
      "guessWordPatternOutput: [2, 2, 2, 2, 2]\n",
      "You Won! : 116  times\n",
      "\n",
      "\n",
      "\n",
      "====RealAnswer to reach is  siege\n"
     ]
    },
    {
     "name": "stderr",
     "output_type": "stream",
     "text": [
      "100%|█████████████████████████████████████| 2315/2315 [00:00<00:00, 4649.43it/s]\n"
     ]
    },
    {
     "name": "stdout",
     "output_type": "stream",
     "text": [
      "set of possible words includes like:\n",
      "['raise', 'slate', 'crate', 'irate', 'trace', 'arise', 'stare', 'snare', 'arose', 'least']\n",
      "Our suggestion for guess based on Entropy:  arose\n",
      "guessWordPatternOutput: [0, 0, 0, 1, 2]\n"
     ]
    },
    {
     "name": "stderr",
     "output_type": "stream",
     "text": [
      "100%|█████████████████████████████████████████| 24/24 [00:00<00:00, 8408.93it/s]\n"
     ]
    },
    {
     "name": "stdout",
     "output_type": "stream",
     "text": [
      "set of possible words includes like:\n",
      "['snipe', 'spine', 'snide', 'slice', 'spice', 'spite', 'since', 'swine', 'shine', 'singe']\n",
      "Our suggestion for guess based on Entropy:  snide\n",
      "guessWordPatternOutput: [2, 0, 1, 0, 2]\n"
     ]
    },
    {
     "name": "stderr",
     "output_type": "stream",
     "text": [
      "100%|███████████████████████████████████████████| 2/2 [00:00<00:00, 8027.38it/s]\n"
     ]
    },
    {
     "name": "stdout",
     "output_type": "stream",
     "text": [
      "set of possible words includes like:\n",
      "['siege', 'sieve']\n",
      "Our suggestion for guess based on Entropy:  sieve\n",
      "guessWordPatternOutput: [2, 2, 2, 0, 2]\n"
     ]
    },
    {
     "name": "stderr",
     "output_type": "stream",
     "text": [
      "100%|███████████████████████████████████████████| 1/1 [00:00<00:00, 5133.79it/s]\n"
     ]
    },
    {
     "name": "stdout",
     "output_type": "stream",
     "text": [
      "set of possible words includes like:\n",
      "['siege']\n",
      "Our suggestion for guess based on Entropy:  siege\n",
      "guessWordPatternOutput: [2, 2, 2, 2, 2]\n",
      "You Won! : 117  times\n",
      "\n",
      "\n",
      "\n",
      "====RealAnswer to reach is  shrug\n"
     ]
    },
    {
     "name": "stderr",
     "output_type": "stream",
     "text": [
      "100%|█████████████████████████████████████| 2315/2315 [00:00<00:00, 4729.29it/s]\n"
     ]
    },
    {
     "name": "stdout",
     "output_type": "stream",
     "text": [
      "set of possible words includes like:\n",
      "['raise', 'slate', 'crate', 'irate', 'trace', 'arise', 'stare', 'snare', 'arose', 'least']\n",
      "Our suggestion for guess based on Entropy:  raise\n",
      "guessWordPatternOutput: [1, 0, 0, 1, 0]\n"
     ]
    },
    {
     "name": "stderr",
     "output_type": "stream",
     "text": [
      "100%|█████████████████████████████████████████| 24/24 [00:00<00:00, 8553.26it/s]\n"
     ]
    },
    {
     "name": "stdout",
     "output_type": "stream",
     "text": [
      "set of possible words includes like:\n",
      "['short', 'story', 'sport', 'snort', 'storm', 'shorn', 'strut', 'stork', 'scorn', 'spurt']\n",
      "Our suggestion for guess based on Entropy:  scorn\n",
      "guessWordPatternOutput: [2, 0, 0, 1, 0]\n"
     ]
    },
    {
     "name": "stderr",
     "output_type": "stream",
     "text": [
      "100%|███████████████████████████████████████████| 5/5 [00:00<00:00, 8848.74it/s]\n"
     ]
    },
    {
     "name": "stdout",
     "output_type": "stream",
     "text": [
      "set of possible words includes like:\n",
      "['shrug', 'shrub', 'syrup', 'strut', 'surly']\n",
      "Our suggestion for guess based on Entropy:  shrug\n",
      "guessWordPatternOutput: [2, 2, 2, 2, 2]\n",
      "You Won! : 118  times\n",
      "\n",
      "\n",
      "\n",
      "====RealAnswer to reach is  vixen\n"
     ]
    },
    {
     "name": "stderr",
     "output_type": "stream",
     "text": [
      "100%|█████████████████████████████████████| 2315/2315 [00:00<00:00, 4723.83it/s]\n"
     ]
    },
    {
     "name": "stdout",
     "output_type": "stream",
     "text": [
      "set of possible words includes like:\n",
      "['raise', 'slate', 'crate', 'irate', 'trace', 'arise', 'stare', 'snare', 'arose', 'least']\n",
      "Our suggestion for guess based on Entropy:  trace\n",
      "guessWordPatternOutput: [0, 0, 0, 0, 1]\n"
     ]
    },
    {
     "name": "stderr",
     "output_type": "stream",
     "text": [
      "100%|███████████████████████████████████████| 123/123 [00:00<00:00, 7568.28it/s]\n"
     ]
    },
    {
     "name": "stdout",
     "output_type": "stream",
     "text": [
      "set of possible words includes like:\n",
      "['olden', 'widen', 'wield', 'dowel', 'plied', 'sinew', 'spiel', 'liken', 'bleed', 'yield']\n",
      "Our suggestion for guess based on Entropy:  plied\n",
      "guessWordPatternOutput: [0, 0, 1, 2, 0]\n"
     ]
    },
    {
     "name": "stderr",
     "output_type": "stream",
     "text": [
      "100%|███████████████████████████████████████████| 3/3 [00:00<00:00, 7677.19it/s]\n"
     ]
    },
    {
     "name": "stdout",
     "output_type": "stream",
     "text": [
      "set of possible words includes like:\n",
      "['vixen', 'given', 'sinew']\n",
      "Our suggestion for guess based on Entropy:  sinew\n",
      "guessWordPatternOutput: [0, 2, 1, 2, 0]\n"
     ]
    },
    {
     "name": "stderr",
     "output_type": "stream",
     "text": [
      "100%|███████████████████████████████████████████| 2/2 [00:00<00:00, 6350.20it/s]\n"
     ]
    },
    {
     "name": "stdout",
     "output_type": "stream",
     "text": [
      "set of possible words includes like:\n",
      "['vixen', 'given']\n",
      "Our suggestion for guess based on Entropy:  given\n",
      "guessWordPatternOutput: [0, 2, 1, 2, 2]\n"
     ]
    },
    {
     "name": "stderr",
     "output_type": "stream",
     "text": [
      "100%|███████████████████████████████████████████| 1/1 [00:00<00:00, 6626.07it/s]\n"
     ]
    },
    {
     "name": "stdout",
     "output_type": "stream",
     "text": [
      "set of possible words includes like:\n",
      "['vixen']\n",
      "Our suggestion for guess based on Entropy:  vixen\n",
      "guessWordPatternOutput: [2, 2, 2, 2, 2]\n",
      "You Won! : 119  times\n",
      "\n",
      "\n",
      "\n",
      "====RealAnswer to reach is  mania\n"
     ]
    },
    {
     "name": "stderr",
     "output_type": "stream",
     "text": [
      "100%|█████████████████████████████████████| 2315/2315 [00:00<00:00, 4677.99it/s]\n"
     ]
    },
    {
     "name": "stdout",
     "output_type": "stream",
     "text": [
      "set of possible words includes like:\n",
      "['raise', 'slate', 'crate', 'irate', 'trace', 'arise', 'stare', 'snare', 'arose', 'least']\n",
      "Our suggestion for guess based on Entropy:  least\n",
      "guessWordPatternOutput: [0, 0, 1, 0, 0]\n"
     ]
    },
    {
     "name": "stderr",
     "output_type": "stream",
     "text": [
      "100%|███████████████████████████████████████| 136/136 [00:00<00:00, 7608.00it/s]\n"
     ]
    },
    {
     "name": "stdout",
     "output_type": "stream",
     "text": [
      "set of possible words includes like:\n",
      "['manor', 'cairn', 'rayon', 'baron', 'adorn', 'macro', 'cargo', 'nadir', 'rainy', 'acorn']\n",
      "Our suggestion for guess based on Entropy:  nadir\n",
      "guessWordPatternOutput: [1, 2, 0, 2, 0]\n"
     ]
    },
    {
     "name": "stderr",
     "output_type": "stream",
     "text": [
      "100%|███████████████████████████████████████████| 4/4 [00:00<00:00, 5689.12it/s]\n"
     ]
    },
    {
     "name": "stdout",
     "output_type": "stream",
     "text": [
      "set of possible words includes like:\n",
      "['mania', 'manic', 'panic', 'cabin']\n",
      "Our suggestion for guess based on Entropy:  manic\n",
      "guessWordPatternOutput: [2, 2, 2, 2, 0]\n"
     ]
    },
    {
     "name": "stderr",
     "output_type": "stream",
     "text": [
      "100%|███████████████████████████████████████████| 1/1 [00:00<00:00, 5562.74it/s]\n"
     ]
    },
    {
     "name": "stdout",
     "output_type": "stream",
     "text": [
      "set of possible words includes like:\n",
      "['mania']\n",
      "Our suggestion for guess based on Entropy:  mania\n",
      "guessWordPatternOutput: [2, 2, 2, 2, 2]\n",
      "You Won! : 120  times\n",
      "\n",
      "\n",
      "\n",
      "====RealAnswer to reach is  force\n"
     ]
    },
    {
     "name": "stderr",
     "output_type": "stream",
     "text": [
      "100%|█████████████████████████████████████| 2315/2315 [00:00<00:00, 4701.15it/s]\n"
     ]
    },
    {
     "name": "stdout",
     "output_type": "stream",
     "text": [
      "set of possible words includes like:\n",
      "['raise', 'slate', 'crate', 'irate', 'trace', 'arise', 'stare', 'snare', 'arose', 'least']\n",
      "Our suggestion for guess based on Entropy:  stare\n",
      "guessWordPatternOutput: [0, 0, 0, 1, 2]\n"
     ]
    },
    {
     "name": "stderr",
     "output_type": "stream",
     "text": [
      "100%|█████████████████████████████████████████| 49/49 [00:00<00:00, 8076.43it/s]\n"
     ]
    },
    {
     "name": "stdout",
     "output_type": "stream",
     "text": [
      "set of possible words includes like:\n",
      "['pride', 'grope', 'gripe', 'prove', 'prone', 'prude', 'price', 'dirge', 'probe', 'drone']\n",
      "Our suggestion for guess based on Entropy:  probe\n",
      "guessWordPatternOutput: [0, 1, 1, 0, 2]\n"
     ]
    },
    {
     "name": "stderr",
     "output_type": "stream",
     "text": [
      "100%|███████████████████████████████████████████| 6/6 [00:00<00:00, 7822.76it/s]\n"
     ]
    },
    {
     "name": "stdout",
     "output_type": "stream",
     "text": [
      "set of possible words includes like:\n",
      "['forge', 'gorge', 'rouge', 'force', 'rogue', 'horde']\n",
      "Our suggestion for guess based on Entropy:  rouge\n",
      "guessWordPatternOutput: [1, 2, 0, 0, 2]\n"
     ]
    },
    {
     "name": "stderr",
     "output_type": "stream",
     "text": [
      "100%|███████████████████████████████████████████| 2/2 [00:00<00:00, 6190.85it/s]\n"
     ]
    },
    {
     "name": "stdout",
     "output_type": "stream",
     "text": [
      "set of possible words includes like:\n",
      "['horde', 'force']\n",
      "Our suggestion for guess based on Entropy:  force\n",
      "guessWordPatternOutput: [2, 2, 2, 2, 2]\n",
      "You Won! : 121  times\n",
      "\n",
      "\n",
      "\n",
      "====RealAnswer to reach is  ebony\n"
     ]
    },
    {
     "name": "stderr",
     "output_type": "stream",
     "text": [
      "100%|█████████████████████████████████████| 2315/2315 [00:00<00:00, 4729.72it/s]\n"
     ]
    },
    {
     "name": "stdout",
     "output_type": "stream",
     "text": [
      "set of possible words includes like:\n",
      "['raise', 'slate', 'crate', 'irate', 'trace', 'arise', 'stare', 'snare', 'arose', 'least']\n",
      "Our suggestion for guess based on Entropy:  crate\n",
      "guessWordPatternOutput: [0, 0, 0, 0, 1]\n"
     ]
    },
    {
     "name": "stderr",
     "output_type": "stream",
     "text": [
      "100%|███████████████████████████████████████| 123/123 [00:00<00:00, 7467.39it/s]\n"
     ]
    },
    {
     "name": "stdout",
     "output_type": "stream",
     "text": [
      "set of possible words includes like:\n",
      "['olden', 'widen', 'wield', 'dowel', 'plied', 'sinew', 'spiel', 'liken', 'bleed', 'yield']\n",
      "Our suggestion for guess based on Entropy:  sinew\n",
      "guessWordPatternOutput: [0, 0, 1, 1, 0]\n"
     ]
    },
    {
     "name": "stderr",
     "output_type": "stream",
     "text": [
      "100%|█████████████████████████████████████████| 11/11 [00:00<00:00, 8107.07it/s]\n"
     ]
    },
    {
     "name": "stdout",
     "output_type": "stream",
     "text": [
      "set of possible words includes like:\n",
      "['demon', 'melon', 'felon', 'lemon', 'blend', 'enemy', 'enjoy', 'envoy', 'ebony', 'begun']\n",
      "Our suggestion for guess based on Entropy:  envoy\n",
      "guessWordPatternOutput: [2, 1, 0, 1, 2]\n"
     ]
    },
    {
     "name": "stderr",
     "output_type": "stream",
     "text": [
      "100%|███████████████████████████████████████████| 1/1 [00:00<00:00, 5915.80it/s]\n"
     ]
    },
    {
     "name": "stdout",
     "output_type": "stream",
     "text": [
      "set of possible words includes like:\n",
      "['ebony']\n",
      "Our suggestion for guess based on Entropy:  ebony\n",
      "guessWordPatternOutput: [2, 2, 2, 2, 2]\n",
      "You Won! : 122  times\n",
      "\n",
      "\n",
      "\n",
      "====RealAnswer to reach is  bloat\n"
     ]
    },
    {
     "name": "stderr",
     "output_type": "stream",
     "text": [
      "100%|█████████████████████████████████████| 2315/2315 [00:00<00:00, 4599.67it/s]\n"
     ]
    },
    {
     "name": "stdout",
     "output_type": "stream",
     "text": [
      "set of possible words includes like:\n",
      "['raise', 'slate', 'crate', 'irate', 'trace', 'arise', 'stare', 'snare', 'arose', 'least']\n",
      "Our suggestion for guess based on Entropy:  arise\n",
      "guessWordPatternOutput: [1, 0, 0, 0, 0]\n"
     ]
    },
    {
     "name": "stderr",
     "output_type": "stream",
     "text": [
      "100%|███████████████████████████████████████| 154/154 [00:00<00:00, 7537.90it/s]\n"
     ]
    },
    {
     "name": "stdout",
     "output_type": "stream",
     "text": [
      "set of possible words includes like:\n",
      "['tonal', 'talon', 'canal', 'manly', 'tangy', 'candy', 'tango', 'latch', 'lanky', 'natal']\n",
      "Our suggestion for guess based on Entropy:  latch\n",
      "guessWordPatternOutput: [1, 1, 1, 0, 0]\n"
     ]
    },
    {
     "name": "stderr",
     "output_type": "stream",
     "text": [
      "100%|███████████████████████████████████████████| 6/6 [00:00<00:00, 8427.94it/s]\n"
     ]
    },
    {
     "name": "stdout",
     "output_type": "stream",
     "text": [
      "set of possible words includes like:\n",
      "['bloat', 'gloat', 'float', 'tubal', 'plant', 'tonal']\n",
      "Our suggestion for guess based on Entropy:  bloat\n",
      "guessWordPatternOutput: [2, 2, 2, 2, 2]\n",
      "You Won! : 123  times\n",
      "\n",
      "\n",
      "\n",
      "====RealAnswer to reach is  elite\n"
     ]
    },
    {
     "name": "stderr",
     "output_type": "stream",
     "text": [
      "100%|█████████████████████████████████████| 2315/2315 [00:00<00:00, 4698.96it/s]\n"
     ]
    },
    {
     "name": "stdout",
     "output_type": "stream",
     "text": [
      "set of possible words includes like:\n",
      "['raise', 'slate', 'crate', 'irate', 'trace', 'arise', 'stare', 'snare', 'arose', 'least']\n",
      "Our suggestion for guess based on Entropy:  raise\n",
      "guessWordPatternOutput: [0, 0, 2, 0, 2]\n"
     ]
    },
    {
     "name": "stderr",
     "output_type": "stream",
     "text": [
      "100%|█████████████████████████████████████████| 23/23 [00:00<00:00, 7917.03it/s]\n"
     ]
    },
    {
     "name": "stdout",
     "output_type": "stream",
     "text": [
      "set of possible words includes like:\n",
      "['utile', 'unite', 'elite', 'twine', 'guile', 'twice', 'while', 'whine', 'glide', 'elide']\n",
      "Our suggestion for guess based on Entropy:  elide\n",
      "guessWordPatternOutput: [2, 2, 2, 0, 2]\n"
     ]
    },
    {
     "name": "stderr",
     "output_type": "stream",
     "text": [
      "100%|███████████████████████████████████████████| 1/1 [00:00<00:00, 4922.89it/s]\n"
     ]
    },
    {
     "name": "stdout",
     "output_type": "stream",
     "text": [
      "set of possible words includes like:\n",
      "['elite']\n",
      "Our suggestion for guess based on Entropy:  elite\n",
      "guessWordPatternOutput: [2, 2, 2, 2, 2]\n",
      "You Won! : 124  times\n",
      "\n",
      "\n",
      "\n",
      "====RealAnswer to reach is  chock\n"
     ]
    },
    {
     "name": "stderr",
     "output_type": "stream",
     "text": [
      "100%|█████████████████████████████████████| 2315/2315 [00:00<00:00, 4733.91it/s]\n"
     ]
    },
    {
     "name": "stdout",
     "output_type": "stream",
     "text": [
      "set of possible words includes like:\n",
      "['raise', 'slate', 'crate', 'irate', 'trace', 'arise', 'stare', 'snare', 'arose', 'least']\n",
      "Our suggestion for guess based on Entropy:  slate\n",
      "guessWordPatternOutput: [0, 0, 0, 0, 0]\n"
     ]
    },
    {
     "name": "stderr",
     "output_type": "stream",
     "text": [
      "100%|███████████████████████████████████████| 221/221 [00:00<00:00, 7278.80it/s]\n"
     ]
    },
    {
     "name": "stdout",
     "output_type": "stream",
     "text": [
      "set of possible words includes like:\n",
      "['crony', 'round', 'groin', 'corny', 'irony', 'pound', 'doing', 'rhino', 'mound', 'hound']\n",
      "Our suggestion for guess based on Entropy:  groin\n",
      "guessWordPatternOutput: [0, 0, 2, 0, 0]\n"
     ]
    },
    {
     "name": "stderr",
     "output_type": "stream",
     "text": [
      "100%|███████████████████████████████████████████| 8/8 [00:00<00:00, 8860.43it/s]\n"
     ]
    },
    {
     "name": "stdout",
     "output_type": "stream",
     "text": [
      "set of possible words includes like:\n",
      "['woody', 'woozy', 'boozy', 'moody', 'booby', 'whoop', 'chock', 'pooch']\n",
      "Our suggestion for guess based on Entropy:  chock\n",
      "guessWordPatternOutput: [2, 2, 2, 2, 2]\n",
      "You Won! : 125  times\n",
      "\n",
      "\n",
      "\n",
      "====RealAnswer to reach is  ideal\n"
     ]
    },
    {
     "name": "stderr",
     "output_type": "stream",
     "text": [
      "100%|█████████████████████████████████████| 2315/2315 [00:00<00:00, 4670.12it/s]\n"
     ]
    },
    {
     "name": "stdout",
     "output_type": "stream",
     "text": [
      "set of possible words includes like:\n",
      "['raise', 'slate', 'crate', 'irate', 'trace', 'arise', 'stare', 'snare', 'arose', 'least']\n",
      "Our suggestion for guess based on Entropy:  slate\n",
      "guessWordPatternOutput: [0, 1, 1, 0, 1]\n"
     ]
    },
    {
     "name": "stderr",
     "output_type": "stream",
     "text": [
      "100%|█████████████████████████████████████████| 31/31 [00:00<00:00, 8057.97it/s]\n"
     ]
    },
    {
     "name": "stdout",
     "output_type": "stream",
     "text": [
      "set of possible words includes like:\n",
      "['pedal', 'regal', 'renal', 'penal', 'paler', 'panel', 'legal', 'angel', 'lapel', 'lager']\n",
      "Our suggestion for guess based on Entropy:  paler\n",
      "guessWordPatternOutput: [0, 1, 1, 1, 0]\n"
     ]
    },
    {
     "name": "stderr",
     "output_type": "stream",
     "text": [
      "100%|███████████████████████████████████████████| 6/6 [00:00<00:00, 9174.56it/s]\n"
     ]
    },
    {
     "name": "stdout",
     "output_type": "stream",
     "text": [
      "set of possible words includes like:\n",
      "['decal', 'medal', 'fecal', 'legal', 'ideal', 'equal']\n",
      "Our suggestion for guess based on Entropy:  decal\n",
      "guessWordPatternOutput: [1, 1, 0, 2, 2]\n"
     ]
    },
    {
     "name": "stderr",
     "output_type": "stream",
     "text": [
      "100%|███████████████████████████████████████████| 1/1 [00:00<00:00, 7626.01it/s]\n"
     ]
    },
    {
     "name": "stdout",
     "output_type": "stream",
     "text": [
      "set of possible words includes like:\n",
      "['ideal']\n",
      "Our suggestion for guess based on Entropy:  ideal\n",
      "guessWordPatternOutput: [2, 2, 2, 2, 2]\n",
      "You Won! : 126  times\n",
      "\n",
      "\n",
      "\n",
      "====RealAnswer to reach is  conch\n"
     ]
    },
    {
     "name": "stderr",
     "output_type": "stream",
     "text": [
      "100%|█████████████████████████████████████| 2315/2315 [00:00<00:00, 4722.07it/s]\n"
     ]
    },
    {
     "name": "stdout",
     "output_type": "stream",
     "text": [
      "set of possible words includes like:\n",
      "['raise', 'slate', 'crate', 'irate', 'trace', 'arise', 'stare', 'snare', 'arose', 'least']\n",
      "Our suggestion for guess based on Entropy:  irate\n",
      "guessWordPatternOutput: [0, 0, 0, 0, 0]\n"
     ]
    },
    {
     "name": "stderr",
     "output_type": "stream",
     "text": [
      "100%|███████████████████████████████████████| 194/194 [00:00<00:00, 7423.28it/s]\n"
     ]
    },
    {
     "name": "stdout",
     "output_type": "stream",
     "text": [
      "set of possible words includes like:\n",
      "['plush', 'blush', 'slunk', 'slump', 'slung', 'flush', 'plunk', 'scold', 'phony', 'clump']\n",
      "Our suggestion for guess based on Entropy:  scold\n",
      "guessWordPatternOutput: [0, 1, 1, 0, 0]\n"
     ]
    },
    {
     "name": "stderr",
     "output_type": "stream",
     "text": [
      "100%|███████████████████████████████████████████| 6/6 [00:00<00:00, 8522.12it/s]\n"
     ]
    },
    {
     "name": "stdout",
     "output_type": "stream",
     "text": [
      "set of possible words includes like:\n",
      "['cough', 'pouch', 'couch', 'vouch', 'conch', 'comfy']\n",
      "Our suggestion for guess based on Entropy:  conch\n",
      "guessWordPatternOutput: [2, 2, 2, 2, 2]\n",
      "You Won! : 127  times\n",
      "\n",
      "\n",
      "\n",
      "====RealAnswer to reach is  squad\n"
     ]
    },
    {
     "name": "stderr",
     "output_type": "stream",
     "text": [
      "100%|█████████████████████████████████████| 2315/2315 [00:00<00:00, 4731.48it/s]\n"
     ]
    },
    {
     "name": "stdout",
     "output_type": "stream",
     "text": [
      "set of possible words includes like:\n",
      "['raise', 'slate', 'crate', 'irate', 'trace', 'arise', 'stare', 'snare', 'arose', 'least']\n",
      "Our suggestion for guess based on Entropy:  arise\n",
      "guessWordPatternOutput: [1, 0, 0, 1, 0]\n"
     ]
    },
    {
     "name": "stderr",
     "output_type": "stream",
     "text": [
      "100%|█████████████████████████████████████████| 61/61 [00:00<00:00, 7823.52it/s]\n"
     ]
    },
    {
     "name": "stdout",
     "output_type": "stream",
     "text": [
      "set of possible words includes like:\n",
      "['slant', 'scant', 'shalt', 'stalk', 'scalp', 'scaly', 'scald', 'stank', 'splat', 'stand']\n",
      "Our suggestion for guess based on Entropy:  splat\n",
      "guessWordPatternOutput: [2, 0, 0, 2, 0]\n"
     ]
    },
    {
     "name": "stderr",
     "output_type": "stream",
     "text": [
      "100%|███████████████████████████████████████████| 2/2 [00:00<00:00, 7436.71it/s]\n"
     ]
    },
    {
     "name": "stdout",
     "output_type": "stream",
     "text": [
      "set of possible words includes like:\n",
      "['squad', 'sumac']\n",
      "Our suggestion for guess based on Entropy:  squad\n",
      "guessWordPatternOutput: [2, 2, 2, 2, 2]\n",
      "You Won! : 128  times\n",
      "\n",
      "\n",
      "\n",
      "====RealAnswer to reach is  droit\n"
     ]
    },
    {
     "name": "stderr",
     "output_type": "stream",
     "text": [
      "100%|█████████████████████████████████████| 2315/2315 [00:00<00:00, 4736.75it/s]\n"
     ]
    },
    {
     "name": "stdout",
     "output_type": "stream",
     "text": [
      "set of possible words includes like:\n",
      "['raise', 'slate', 'crate', 'irate', 'trace', 'arise', 'stare', 'snare', 'arose', 'least']\n",
      "Our suggestion for guess based on Entropy:  crate\n",
      "guessWordPatternOutput: [0, 2, 0, 1, 0]\n"
     ]
    },
    {
     "name": "stderr",
     "output_type": "stream",
     "text": [
      "100%|█████████████████████████████████████████| 20/20 [00:00<00:00, 8536.29it/s]\n"
     ]
    },
    {
     "name": "stdout",
     "output_type": "stream",
     "text": [
      "set of possible words includes like:\n",
      "['frost', 'front', 'fruit', 'trout', 'brunt', 'truss', 'trust', 'grunt', 'orbit', 'grout']\n",
      "Our suggestion for guess based on Entropy:  frost\n",
      "guessWordPatternOutput: [0, 2, 2, 0, 2]\n"
     ]
    },
    {
     "name": "stderr",
     "output_type": "stream",
     "text": [
      "100%|███████████████████████████████████████████| 3/3 [00:00<00:00, 8176.03it/s]\n"
     ]
    },
    {
     "name": "stdout",
     "output_type": "stream",
     "text": [
      "set of possible words includes like:\n",
      "['grout', 'trout', 'droit']\n",
      "Our suggestion for guess based on Entropy:  grout\n",
      "guessWordPatternOutput: [0, 2, 2, 0, 2]\n"
     ]
    },
    {
     "name": "stderr",
     "output_type": "stream",
     "text": [
      "100%|███████████████████████████████████████████| 1/1 [00:00<00:00, 6403.52it/s]\n"
     ]
    },
    {
     "name": "stdout",
     "output_type": "stream",
     "text": [
      "set of possible words includes like:\n",
      "['droit']\n",
      "Our suggestion for guess based on Entropy:  droit\n",
      "guessWordPatternOutput: [2, 2, 2, 2, 2]\n",
      "You Won! : 129  times\n",
      "\n",
      "\n",
      "\n",
      "====RealAnswer to reach is  impel\n"
     ]
    },
    {
     "name": "stderr",
     "output_type": "stream",
     "text": [
      "100%|█████████████████████████████████████| 2315/2315 [00:00<00:00, 4733.76it/s]\n"
     ]
    },
    {
     "name": "stdout",
     "output_type": "stream",
     "text": [
      "set of possible words includes like:\n",
      "['raise', 'slate', 'crate', 'irate', 'trace', 'arise', 'stare', 'snare', 'arose', 'least']\n",
      "Our suggestion for guess based on Entropy:  least\n",
      "guessWordPatternOutput: [1, 1, 0, 0, 0]\n"
     ]
    },
    {
     "name": "stderr",
     "output_type": "stream",
     "text": [
      "100%|█████████████████████████████████████████| 68/68 [00:00<00:00, 7787.59it/s]\n"
     ]
    },
    {
     "name": "stdout",
     "output_type": "stream",
     "text": [
      "set of possible words includes like:\n",
      "['clued', 'plied', 'glide', 'olden', 'older', 'boule', 'bleed', 'elude', 'elide', 'bluer']\n",
      "Our suggestion for guess based on Entropy:  elide\n",
      "guessWordPatternOutput: [1, 1, 1, 0, 1]\n"
     ]
    },
    {
     "name": "stderr",
     "output_type": "stream",
     "text": [
      "100%|███████████████████████████████████████████| 3/3 [00:00<00:00, 7733.81it/s]\n"
     ]
    },
    {
     "name": "stdout",
     "output_type": "stream",
     "text": [
      "set of possible words includes like:\n",
      "['impel', 'filer', 'pixel']\n",
      "Our suggestion for guess based on Entropy:  filer\n",
      "guessWordPatternOutput: [0, 1, 1, 2, 0]\n"
     ]
    },
    {
     "name": "stderr",
     "output_type": "stream",
     "text": [
      "100%|███████████████████████████████████████████| 1/1 [00:00<00:00, 4899.89it/s]\n"
     ]
    },
    {
     "name": "stdout",
     "output_type": "stream",
     "text": [
      "set of possible words includes like:\n",
      "['impel']\n",
      "Our suggestion for guess based on Entropy:  impel\n",
      "guessWordPatternOutput: [2, 2, 2, 2, 2]\n",
      "You Won! : 130  times\n",
      "\n",
      "\n",
      "\n",
      "====RealAnswer to reach is  crook\n"
     ]
    },
    {
     "name": "stderr",
     "output_type": "stream",
     "text": [
      "100%|█████████████████████████████████████| 2315/2315 [00:00<00:00, 4707.73it/s]\n"
     ]
    },
    {
     "name": "stdout",
     "output_type": "stream",
     "text": [
      "set of possible words includes like:\n",
      "['raise', 'slate', 'crate', 'irate', 'trace', 'arise', 'stare', 'snare', 'arose', 'least']\n",
      "Our suggestion for guess based on Entropy:  arose\n",
      "guessWordPatternOutput: [0, 2, 2, 0, 0]\n"
     ]
    },
    {
     "name": "stderr",
     "output_type": "stream",
     "text": [
      "100%|█████████████████████████████████████████| 38/38 [00:00<00:00, 8160.12it/s]\n"
     ]
    },
    {
     "name": "stdout",
     "output_type": "stream",
     "text": [
      "set of possible words includes like:\n",
      "['prong', 'frond', 'droop', 'drown', 'front', 'crowd', 'troop', 'crown', 'frown', 'prowl']\n",
      "Our suggestion for guess based on Entropy:  prong\n",
      "guessWordPatternOutput: [0, 2, 2, 0, 0]\n"
     ]
    },
    {
     "name": "stderr",
     "output_type": "stream",
     "text": [
      "100%|█████████████████████████████████████████| 15/15 [00:00<00:00, 8122.20it/s]\n"
     ]
    },
    {
     "name": "stdout",
     "output_type": "stream",
     "text": [
      "set of possible words includes like:\n",
      "['brood', 'drool', 'droit', 'brook', 'crook', 'droll', 'crowd', 'troll', 'broth', 'broil']\n",
      "Our suggestion for guess based on Entropy:  droit\n",
      "guessWordPatternOutput: [0, 2, 2, 0, 0]\n"
     ]
    },
    {
     "name": "stderr",
     "output_type": "stream",
     "text": [
      "100%|███████████████████████████████████████████| 5/5 [00:00<00:00, 8833.83it/s]\n"
     ]
    },
    {
     "name": "stdout",
     "output_type": "stream",
     "text": [
      "set of possible words includes like:\n",
      "['crock', 'crook', 'frock', 'brook', 'broom']\n",
      "Our suggestion for guess based on Entropy:  crook\n",
      "guessWordPatternOutput: [2, 2, 2, 2, 2]\n",
      "You Won! : 131  times\n",
      "\n",
      "\n",
      "\n",
      "====RealAnswer to reach is  juice\n"
     ]
    },
    {
     "name": "stderr",
     "output_type": "stream",
     "text": [
      "100%|█████████████████████████████████████| 2315/2315 [00:00<00:00, 4635.75it/s]\n"
     ]
    },
    {
     "name": "stdout",
     "output_type": "stream",
     "text": [
      "set of possible words includes like:\n",
      "['raise', 'slate', 'crate', 'irate', 'trace', 'arise', 'stare', 'snare', 'arose', 'least']\n",
      "Our suggestion for guess based on Entropy:  crate\n",
      "guessWordPatternOutput: [1, 0, 0, 0, 2]\n"
     ]
    },
    {
     "name": "stderr",
     "output_type": "stream",
     "text": [
      "100%|█████████████████████████████████████████| 21/21 [00:00<00:00, 8528.31it/s]\n"
     ]
    },
    {
     "name": "stdout",
     "output_type": "stream",
     "text": [
      "set of possible words includes like:\n",
      "['since', 'ounce', 'spice', 'piece', 'pence', 'mince', 'wince', 'niece', 'niche', 'dunce']\n",
      "Our suggestion for guess based on Entropy:  niche\n",
      "guessWordPatternOutput: [0, 1, 1, 0, 2]\n"
     ]
    },
    {
     "name": "stderr",
     "output_type": "stream",
     "text": [
      "100%|███████████████████████████████████████████| 4/4 [00:00<00:00, 8867.45it/s]\n"
     ]
    },
    {
     "name": "stdout",
     "output_type": "stream",
     "text": [
      "set of possible words includes like:\n",
      "['spice', 'slice', 'juice', 'voice']\n",
      "Our suggestion for guess based on Entropy:  spice\n",
      "guessWordPatternOutput: [0, 0, 2, 2, 2]\n"
     ]
    },
    {
     "name": "stderr",
     "output_type": "stream",
     "text": [
      "100%|███████████████████████████████████████████| 2/2 [00:00<00:00, 8192.00it/s]\n"
     ]
    },
    {
     "name": "stdout",
     "output_type": "stream",
     "text": [
      "set of possible words includes like:\n",
      "['juice', 'voice']\n",
      "Our suggestion for guess based on Entropy:  juice\n",
      "guessWordPatternOutput: [2, 2, 2, 2, 2]\n",
      "You Won! : 132  times\n",
      "\n",
      "\n",
      "\n",
      "====RealAnswer to reach is  bingo\n"
     ]
    },
    {
     "name": "stderr",
     "output_type": "stream",
     "text": [
      "100%|█████████████████████████████████████| 2315/2315 [00:00<00:00, 4723.13it/s]\n"
     ]
    },
    {
     "name": "stdout",
     "output_type": "stream",
     "text": [
      "set of possible words includes like:\n",
      "['raise', 'slate', 'crate', 'irate', 'trace', 'arise', 'stare', 'snare', 'arose', 'least']\n",
      "Our suggestion for guess based on Entropy:  slate\n",
      "guessWordPatternOutput: [0, 0, 0, 0, 0]\n"
     ]
    },
    {
     "name": "stderr",
     "output_type": "stream",
     "text": [
      "100%|███████████████████████████████████████| 221/221 [00:00<00:00, 7174.80it/s]\n"
     ]
    },
    {
     "name": "stdout",
     "output_type": "stream",
     "text": [
      "set of possible words includes like:\n",
      "['crony', 'round', 'groin', 'corny', 'irony', 'pound', 'doing', 'rhino', 'mound', 'hound']\n",
      "Our suggestion for guess based on Entropy:  crony\n",
      "guessWordPatternOutput: [0, 0, 1, 1, 0]\n"
     ]
    },
    {
     "name": "stderr",
     "output_type": "stream",
     "text": [
      "100%|███████████████████████████████████████████| 6/6 [00:00<00:00, 8173.38it/s]\n"
     ]
    },
    {
     "name": "stdout",
     "output_type": "stream",
     "text": [
      "set of possible words includes like:\n",
      "['union', 'onion', 'inbox', 'bingo', 'bongo', 'dingo']\n",
      "Our suggestion for guess based on Entropy:  bingo\n",
      "guessWordPatternOutput: [2, 2, 2, 2, 2]\n",
      "You Won! : 133  times\n",
      "\n",
      "\n",
      "\n",
      "====RealAnswer to reach is  tulip\n"
     ]
    },
    {
     "name": "stderr",
     "output_type": "stream",
     "text": [
      "100%|█████████████████████████████████████| 2315/2315 [00:00<00:00, 4721.90it/s]\n"
     ]
    },
    {
     "name": "stdout",
     "output_type": "stream",
     "text": [
      "set of possible words includes like:\n",
      "['raise', 'slate', 'crate', 'irate', 'trace', 'arise', 'stare', 'snare', 'arose', 'least']\n",
      "Our suggestion for guess based on Entropy:  irate\n",
      "guessWordPatternOutput: [1, 0, 0, 1, 0]\n"
     ]
    },
    {
     "name": "stderr",
     "output_type": "stream",
     "text": [
      "100%|█████████████████████████████████████████| 64/64 [00:00<00:00, 8065.48it/s]\n"
     ]
    },
    {
     "name": "stdout",
     "output_type": "stream",
     "text": [
      "set of possible words includes like:\n",
      "['hoist', 'spilt', 'foist', 'point', 'split', 'shift', 'moist', 'sight', 'posit', 'glint']\n",
      "Our suggestion for guess based on Entropy:  moist\n",
      "guessWordPatternOutput: [0, 0, 1, 0, 1]\n"
     ]
    },
    {
     "name": "stderr",
     "output_type": "stream",
     "text": [
      "100%|███████████████████████████████████████████| 8/8 [00:00<00:00, 8087.35it/s]\n"
     ]
    },
    {
     "name": "stdout",
     "output_type": "stream",
     "text": [
      "set of possible words includes like:\n",
      "['hitch', 'witch', 'ditch', 'pithy', 'pitch', 'tulip', 'tunic', 'until']\n",
      "Our suggestion for guess based on Entropy:  tulip\n",
      "guessWordPatternOutput: [2, 2, 2, 2, 2]\n",
      "You Won! : 134  times\n",
      "\n",
      "\n",
      "\n",
      "====RealAnswer to reach is  guard\n"
     ]
    },
    {
     "name": "stderr",
     "output_type": "stream",
     "text": [
      "100%|█████████████████████████████████████| 2315/2315 [00:00<00:00, 4539.68it/s]\n"
     ]
    },
    {
     "name": "stdout",
     "output_type": "stream",
     "text": [
      "set of possible words includes like:\n",
      "['raise', 'slate', 'crate', 'irate', 'trace', 'arise', 'stare', 'snare', 'arose', 'least']\n",
      "Our suggestion for guess based on Entropy:  crate\n",
      "guessWordPatternOutput: [0, 1, 2, 0, 0]\n"
     ]
    },
    {
     "name": "stderr",
     "output_type": "stream",
     "text": [
      "100%|█████████████████████████████████████████| 17/17 [00:00<00:00, 8034.16it/s]\n"
     ]
    },
    {
     "name": "stdout",
     "output_type": "stream",
     "text": [
      "set of possible words includes like:\n",
      "['shard', 'hoard', 'award', 'shark', 'dwarf', 'sharp', 'swarm', 'wharf', 'board', 'spark']\n",
      "Our suggestion for guess based on Entropy:  board\n",
      "guessWordPatternOutput: [0, 0, 2, 2, 2]\n"
     ]
    },
    {
     "name": "stderr",
     "output_type": "stream",
     "text": [
      "100%|███████████████████████████████████████████| 3/3 [00:00<00:00, 8060.80it/s]\n"
     ]
    },
    {
     "name": "stdout",
     "output_type": "stream",
     "text": [
      "set of possible words includes like:\n",
      "['award', 'shard', 'guard']\n",
      "Our suggestion for guess based on Entropy:  shard\n",
      "guessWordPatternOutput: [0, 0, 2, 2, 2]\n"
     ]
    },
    {
     "name": "stderr",
     "output_type": "stream",
     "text": [
      "100%|███████████████████████████████████████████| 2/2 [00:00<00:00, 7550.50it/s]\n"
     ]
    },
    {
     "name": "stdout",
     "output_type": "stream",
     "text": [
      "set of possible words includes like:\n",
      "['award', 'guard']\n",
      "Our suggestion for guess based on Entropy:  guard\n",
      "guessWordPatternOutput: [2, 2, 2, 2, 2]\n",
      "You Won! : 135  times\n",
      "\n",
      "\n",
      "\n",
      "====RealAnswer to reach is  dryly\n"
     ]
    },
    {
     "name": "stderr",
     "output_type": "stream",
     "text": [
      "100%|█████████████████████████████████████| 2315/2315 [00:00<00:00, 4740.40it/s]\n"
     ]
    },
    {
     "name": "stdout",
     "output_type": "stream",
     "text": [
      "set of possible words includes like:\n",
      "['raise', 'slate', 'crate', 'irate', 'trace', 'arise', 'stare', 'snare', 'arose', 'least']\n",
      "Our suggestion for guess based on Entropy:  crate\n",
      "guessWordPatternOutput: [0, 2, 0, 0, 0]\n"
     ]
    },
    {
     "name": "stderr",
     "output_type": "stream",
     "text": [
      "100%|█████████████████████████████████████████| 49/49 [00:00<00:00, 8358.93it/s]\n"
     ]
    },
    {
     "name": "stdout",
     "output_type": "stream",
     "text": [
      "set of possible words includes like:\n",
      "['grind', 'drink', 'groin', 'bring', 'prong', 'drown', 'frond', 'wring', 'growl', 'grown']\n",
      "Our suggestion for guess based on Entropy:  drink\n",
      "guessWordPatternOutput: [2, 2, 0, 0, 0]\n"
     ]
    },
    {
     "name": "stderr",
     "output_type": "stream",
     "text": [
      "100%|███████████████████████████████████████████| 5/5 [00:00<00:00, 8531.94it/s]\n"
     ]
    },
    {
     "name": "stdout",
     "output_type": "stream",
     "text": [
      "set of possible words includes like:\n",
      "['drool', 'droop', 'dryly', 'droll', 'dross']\n",
      "Our suggestion for guess based on Entropy:  droop\n",
      "guessWordPatternOutput: [2, 2, 0, 0, 0]\n"
     ]
    },
    {
     "name": "stderr",
     "output_type": "stream",
     "text": [
      "100%|███████████████████████████████████████████| 1/1 [00:00<00:00, 4588.95it/s]\n"
     ]
    },
    {
     "name": "stdout",
     "output_type": "stream",
     "text": [
      "set of possible words includes like:\n",
      "['dryly']\n",
      "Our suggestion for guess based on Entropy:  dryly\n",
      "guessWordPatternOutput: [2, 2, 2, 2, 2]\n",
      "You Won! : 136  times\n",
      "\n",
      "\n",
      "\n",
      "====RealAnswer to reach is  dance\n"
     ]
    },
    {
     "name": "stderr",
     "output_type": "stream",
     "text": [
      "100%|█████████████████████████████████████| 2315/2315 [00:00<00:00, 4745.27it/s]\n"
     ]
    },
    {
     "name": "stdout",
     "output_type": "stream",
     "text": [
      "set of possible words includes like:\n",
      "['raise', 'slate', 'crate', 'irate', 'trace', 'arise', 'stare', 'snare', 'arose', 'least']\n",
      "Our suggestion for guess based on Entropy:  least\n",
      "guessWordPatternOutput: [0, 1, 1, 0, 0]\n"
     ]
    },
    {
     "name": "stderr",
     "output_type": "stream",
     "text": [
      "100%|█████████████████████████████████████████| 78/78 [00:00<00:00, 7993.44it/s]\n"
     ]
    },
    {
     "name": "stdout",
     "output_type": "stream",
     "text": [
      "set of possible words includes like:\n",
      "['anger', 'range', 'gamer', 'ramen', 'mange', 'barge', 'carve', 'agree', 'amber', 'wager']\n",
      "Our suggestion for guess based on Entropy:  amber\n",
      "guessWordPatternOutput: [1, 0, 0, 1, 0]\n"
     ]
    },
    {
     "name": "stderr",
     "output_type": "stream",
     "text": [
      "100%|█████████████████████████████████████████| 13/13 [00:00<00:00, 8333.48it/s]\n"
     ]
    },
    {
     "name": "stdout",
     "output_type": "stream",
     "text": [
      "set of possible words includes like:\n",
      "['dance', 'ocean', 'canoe', 'naive', 'cache', 'cheap', 'vague', 'knead', 'hyena', 'gauze']\n",
      "Our suggestion for guess based on Entropy:  ocean\n",
      "guessWordPatternOutput: [0, 1, 1, 1, 1]\n"
     ]
    },
    {
     "name": "stderr",
     "output_type": "stream",
     "text": [
      "100%|███████████████████████████████████████████| 1/1 [00:00<00:00, 5777.28it/s]\n"
     ]
    },
    {
     "name": "stdout",
     "output_type": "stream",
     "text": [
      "set of possible words includes like:\n",
      "['dance']\n",
      "Our suggestion for guess based on Entropy:  dance\n",
      "guessWordPatternOutput: [2, 2, 2, 2, 2]\n",
      "You Won! : 137  times\n",
      "\n",
      "\n",
      "\n",
      "====RealAnswer to reach is  mason\n"
     ]
    },
    {
     "name": "stderr",
     "output_type": "stream",
     "text": [
      "100%|█████████████████████████████████████| 2315/2315 [00:00<00:00, 4755.35it/s]\n"
     ]
    },
    {
     "name": "stdout",
     "output_type": "stream",
     "text": [
      "set of possible words includes like:\n",
      "['raise', 'slate', 'crate', 'irate', 'trace', 'arise', 'stare', 'snare', 'arose', 'least']\n",
      "Our suggestion for guess based on Entropy:  stare\n",
      "guessWordPatternOutput: [1, 0, 1, 0, 0]\n"
     ]
    },
    {
     "name": "stderr",
     "output_type": "stream",
     "text": [
      "100%|█████████████████████████████████████████| 16/16 [00:00<00:00, 8197.00it/s]\n"
     ]
    },
    {
     "name": "stdout",
     "output_type": "stream",
     "text": [
      "set of possible words includes like:\n",
      "['basin', 'basil', 'basal', 'nasal', 'lasso', 'pansy', 'palsy', 'basis', 'basic', 'mason']\n",
      "Our suggestion for guess based on Entropy:  basin\n",
      "guessWordPatternOutput: [0, 2, 2, 0, 2]\n"
     ]
    },
    {
     "name": "stderr",
     "output_type": "stream",
     "text": [
      "100%|███████████████████████████████████████████| 1/1 [00:00<00:00, 7294.44it/s]\n"
     ]
    },
    {
     "name": "stdout",
     "output_type": "stream",
     "text": [
      "set of possible words includes like:\n",
      "['mason']\n",
      "Our suggestion for guess based on Entropy:  mason\n",
      "guessWordPatternOutput: [2, 2, 2, 2, 2]\n",
      "You Won! : 138  times\n",
      "\n",
      "\n",
      "\n",
      "====RealAnswer to reach is  aloft\n"
     ]
    },
    {
     "name": "stderr",
     "output_type": "stream",
     "text": [
      "100%|█████████████████████████████████████| 2315/2315 [00:00<00:00, 4731.40it/s]\n"
     ]
    },
    {
     "name": "stdout",
     "output_type": "stream",
     "text": [
      "set of possible words includes like:\n",
      "['raise', 'slate', 'crate', 'irate', 'trace', 'arise', 'stare', 'snare', 'arose', 'least']\n",
      "Our suggestion for guess based on Entropy:  arose\n",
      "guessWordPatternOutput: [2, 0, 2, 0, 0]\n"
     ]
    },
    {
     "name": "stderr",
     "output_type": "stream",
     "text": [
      "100%|█████████████████████████████████████████| 12/12 [00:00<00:00, 8247.03it/s]\n"
     ]
    },
    {
     "name": "stdout",
     "output_type": "stream",
     "text": [
      "set of possible words includes like:\n",
      "['aloft', 'aloud', 'afoul', 'aloof', 'afoot', 'atoll', 'along', 'about', 'adopt', 'avoid']\n",
      "Our suggestion for guess based on Entropy:  avoid\n",
      "guessWordPatternOutput: [2, 0, 2, 0, 0]\n"
     ]
    },
    {
     "name": "stderr",
     "output_type": "stream",
     "text": [
      "100%|███████████████████████████████████████████| 9/9 [00:00<00:00, 9334.50it/s]\n"
     ]
    },
    {
     "name": "stdout",
     "output_type": "stream",
     "text": [
      "set of possible words includes like:\n",
      "['aloft', 'afoul', 'aloof', 'afoot', 'atoll', 'along', 'about', 'among', 'agony']\n",
      "Our suggestion for guess based on Entropy:  agony\n",
      "guessWordPatternOutput: [2, 0, 2, 0, 0]\n"
     ]
    },
    {
     "name": "stderr",
     "output_type": "stream",
     "text": [
      "100%|███████████████████████████████████████████| 6/6 [00:00<00:00, 8162.77it/s]\n"
     ]
    },
    {
     "name": "stdout",
     "output_type": "stream",
     "text": [
      "set of possible words includes like:\n",
      "['aloof', 'aloft', 'afoot', 'afoul', 'atoll', 'about']\n",
      "Our suggestion for guess based on Entropy:  atoll\n",
      "guessWordPatternOutput: [2, 1, 2, 1, 1]\n"
     ]
    },
    {
     "name": "stderr",
     "output_type": "stream",
     "text": [
      "100%|███████████████████████████████████████████| 1/1 [00:00<00:00, 7194.35it/s]\n"
     ]
    },
    {
     "name": "stdout",
     "output_type": "stream",
     "text": [
      "set of possible words includes like:\n",
      "['aloft']\n",
      "Our suggestion for guess based on Entropy:  aloft\n",
      "guessWordPatternOutput: [2, 2, 2, 2, 2]\n",
      "You Won! : 139  times\n",
      "\n",
      "\n",
      "\n",
      "====RealAnswer to reach is  drool\n"
     ]
    },
    {
     "name": "stderr",
     "output_type": "stream",
     "text": [
      "100%|█████████████████████████████████████| 2315/2315 [00:00<00:00, 4698.26it/s]\n"
     ]
    },
    {
     "name": "stdout",
     "output_type": "stream",
     "text": [
      "set of possible words includes like:\n",
      "['raise', 'slate', 'crate', 'irate', 'trace', 'arise', 'stare', 'snare', 'arose', 'least']\n",
      "Our suggestion for guess based on Entropy:  raise\n",
      "guessWordPatternOutput: [1, 0, 0, 0, 0]\n"
     ]
    },
    {
     "name": "stderr",
     "output_type": "stream",
     "text": [
      "100%|███████████████████████████████████████| 103/103 [00:00<00:00, 7840.53it/s]\n"
     ]
    },
    {
     "name": "stdout",
     "output_type": "stream",
     "text": [
      "set of possible words includes like:\n",
      "['court', 'truly', 'thorn', 'torch', 'front', 'throw', 'grunt', 'brunt', 'corny', 'chord']\n",
      "Our suggestion for guess based on Entropy:  torch\n",
      "guessWordPatternOutput: [0, 1, 1, 0, 0]\n"
     ]
    },
    {
     "name": "stderr",
     "output_type": "stream",
     "text": [
      "100%|█████████████████████████████████████████| 24/24 [00:00<00:00, 8577.31it/s]\n"
     ]
    },
    {
     "name": "stdout",
     "output_type": "stream",
     "text": [
      "set of possible words includes like:\n",
      "['droop', 'prong', 'frond', 'drool', 'drown', 'growl', 'brood', 'prowl', 'proof', 'group']\n",
      "Our suggestion for guess based on Entropy:  prowl\n",
      "guessWordPatternOutput: [0, 2, 2, 0, 2]\n"
     ]
    },
    {
     "name": "stderr",
     "output_type": "stream",
     "text": [
      "100%|███████████████████████████████████████████| 2/2 [00:00<00:00, 7958.83it/s]\n"
     ]
    },
    {
     "name": "stdout",
     "output_type": "stream",
     "text": [
      "set of possible words includes like:\n",
      "['drool', 'droll']\n",
      "Our suggestion for guess based on Entropy:  droll\n",
      "guessWordPatternOutput: [2, 2, 2, 1, 2]\n"
     ]
    },
    {
     "name": "stderr",
     "output_type": "stream",
     "text": [
      "100%|███████████████████████████████████████████| 1/1 [00:00<00:00, 6096.37it/s]\n"
     ]
    },
    {
     "name": "stdout",
     "output_type": "stream",
     "text": [
      "set of possible words includes like:\n",
      "['drool']\n",
      "Our suggestion for guess based on Entropy:  drool\n",
      "guessWordPatternOutput: [2, 2, 2, 2, 2]\n",
      "You Won! : 140  times\n",
      "\n",
      "\n",
      "\n",
      "====RealAnswer to reach is  reset\n"
     ]
    },
    {
     "name": "stderr",
     "output_type": "stream",
     "text": [
      "100%|█████████████████████████████████████| 2315/2315 [00:00<00:00, 4738.19it/s]\n"
     ]
    },
    {
     "name": "stdout",
     "output_type": "stream",
     "text": [
      "set of possible words includes like:\n",
      "['raise', 'slate', 'crate', 'irate', 'trace', 'arise', 'stare', 'snare', 'arose', 'least']\n",
      "Our suggestion for guess based on Entropy:  snare\n",
      "guessWordPatternOutput: [1, 0, 0, 1, 1]\n"
     ]
    },
    {
     "name": "stderr",
     "output_type": "stream",
     "text": [
      "100%|█████████████████████████████████████████| 16/16 [00:00<00:00, 7854.50it/s]\n"
     ]
    },
    {
     "name": "stdout",
     "output_type": "stream",
     "text": [
      "set of possible words includes like:\n",
      "['reset', 'poser', 'wrest', 'crest', 'wiser', 'riser', 'press', 'loser', 'usher', 'cress']\n",
      "Our suggestion for guess based on Entropy:  riser\n",
      "guessWordPatternOutput: [2, 0, 2, 2, 1]\n"
     ]
    },
    {
     "name": "stderr",
     "output_type": "stream",
     "text": [
      "100%|███████████████████████████████████████████| 1/1 [00:00<00:00, 7294.44it/s]\n"
     ]
    },
    {
     "name": "stdout",
     "output_type": "stream",
     "text": [
      "set of possible words includes like:\n",
      "['reset']\n",
      "Our suggestion for guess based on Entropy:  reset\n",
      "guessWordPatternOutput: [2, 2, 2, 2, 2]\n",
      "You Won! : 141  times\n",
      "\n",
      "\n",
      "\n",
      "====RealAnswer to reach is  derby\n"
     ]
    },
    {
     "name": "stderr",
     "output_type": "stream",
     "text": [
      "100%|█████████████████████████████████████| 2315/2315 [00:00<00:00, 4739.69it/s]\n"
     ]
    },
    {
     "name": "stdout",
     "output_type": "stream",
     "text": [
      "set of possible words includes like:\n",
      "['raise', 'slate', 'crate', 'irate', 'trace', 'arise', 'stare', 'snare', 'arose', 'least']\n",
      "Our suggestion for guess based on Entropy:  least\n",
      "guessWordPatternOutput: [0, 2, 0, 0, 0]\n"
     ]
    },
    {
     "name": "stderr",
     "output_type": "stream",
     "text": [
      "100%|█████████████████████████████████████████| 65/65 [00:00<00:00, 7717.76it/s]\n"
     ]
    },
    {
     "name": "stdout",
     "output_type": "stream",
     "text": [
      "set of possible words includes like:\n",
      "['nerdy', 'reign', 'genre', 'decry', 'nerve', 'merge', 'deign', 'heron', 'derby', 'demur']\n",
      "Our suggestion for guess based on Entropy:  merge\n",
      "guessWordPatternOutput: [0, 2, 2, 0, 1]\n"
     ]
    },
    {
     "name": "stderr",
     "output_type": "stream",
     "text": [
      "100%|███████████████████████████████████████████| 9/9 [00:00<00:00, 7685.00it/s]\n"
     ]
    },
    {
     "name": "stdout",
     "output_type": "stream",
     "text": [
      "set of possible words includes like:\n",
      "['berry', 'derby', 'nerdy', 'perky', 'heron', 'jerky', 'ferry', 'perch', 'rerun']\n",
      "Our suggestion for guess based on Entropy:  jerky\n",
      "guessWordPatternOutput: [0, 2, 2, 0, 2]\n"
     ]
    },
    {
     "name": "stderr",
     "output_type": "stream",
     "text": [
      "100%|███████████████████████████████████████████| 4/4 [00:00<00:00, 6670.86it/s]\n"
     ]
    },
    {
     "name": "stdout",
     "output_type": "stream",
     "text": [
      "set of possible words includes like:\n",
      "['berry', 'derby', 'ferry', 'nerdy']\n",
      "Our suggestion for guess based on Entropy:  derby\n",
      "guessWordPatternOutput: [2, 2, 2, 2, 2]\n",
      "You Won! : 142  times\n",
      "\n",
      "\n",
      "\n",
      "====RealAnswer to reach is  sober\n"
     ]
    },
    {
     "name": "stderr",
     "output_type": "stream",
     "text": [
      "100%|█████████████████████████████████████| 2315/2315 [00:00<00:00, 4730.26it/s]\n"
     ]
    },
    {
     "name": "stdout",
     "output_type": "stream",
     "text": [
      "set of possible words includes like:\n",
      "['raise', 'slate', 'crate', 'irate', 'trace', 'arise', 'stare', 'snare', 'arose', 'least']\n",
      "Our suggestion for guess based on Entropy:  snare\n",
      "guessWordPatternOutput: [2, 0, 0, 1, 1]\n"
     ]
    },
    {
     "name": "stderr",
     "output_type": "stream",
     "text": [
      "100%|█████████████████████████████████████████| 13/13 [00:00<00:00, 8713.00it/s]\n"
     ]
    },
    {
     "name": "stdout",
     "output_type": "stream",
     "text": [
      "set of possible words includes like:\n",
      "['serum', 'shrew', 'serif', 'sewer', 'screw', 'sower', 'super', 'surer', 'sheer', 'sober']\n",
      "Our suggestion for guess based on Entropy:  serif\n",
      "guessWordPatternOutput: [2, 1, 1, 0, 0]\n"
     ]
    },
    {
     "name": "stderr",
     "output_type": "stream",
     "text": [
      "100%|███████████████████████████████████████████| 5/5 [00:00<00:00, 8818.97it/s]\n"
     ]
    },
    {
     "name": "stdout",
     "output_type": "stream",
     "text": [
      "set of possible words includes like:\n",
      "['sober', 'steer', 'sheer', 'sower', 'super']\n",
      "Our suggestion for guess based on Entropy:  sheer\n",
      "guessWordPatternOutput: [2, 0, 1, 2, 2]\n"
     ]
    },
    {
     "name": "stderr",
     "output_type": "stream",
     "text": [
      "100%|███████████████████████████████████████████| 3/3 [00:00<00:00, 7332.70it/s]\n"
     ]
    },
    {
     "name": "stdout",
     "output_type": "stream",
     "text": [
      "set of possible words includes like:\n",
      "['sower', 'sober', 'super']\n",
      "Our suggestion for guess based on Entropy:  super\n",
      "guessWordPatternOutput: [2, 0, 0, 2, 2]\n"
     ]
    },
    {
     "name": "stderr",
     "output_type": "stream",
     "text": [
      "100%|███████████████████████████████████████████| 2/2 [00:00<00:00, 6842.26it/s]\n"
     ]
    },
    {
     "name": "stdout",
     "output_type": "stream",
     "text": [
      "set of possible words includes like:\n",
      "['sower', 'sober']\n",
      "Our suggestion for guess based on Entropy:  sower\n",
      "guessWordPatternOutput: [2, 2, 0, 2, 2]\n"
     ]
    },
    {
     "name": "stderr",
     "output_type": "stream",
     "text": [
      "100%|███████████████████████████████████████████| 1/1 [00:00<00:00, 6364.65it/s]\n"
     ]
    },
    {
     "name": "stdout",
     "output_type": "stream",
     "text": [
      "set of possible words includes like:\n",
      "['sober']\n",
      "Our suggestion for guess based on Entropy:  sober\n",
      "guessWordPatternOutput: [2, 2, 2, 2, 2]\n",
      "You Won! : 143  times\n",
      "\n",
      "\n",
      "\n",
      "====RealAnswer to reach is  verve\n"
     ]
    },
    {
     "name": "stderr",
     "output_type": "stream",
     "text": [
      "100%|█████████████████████████████████████| 2315/2315 [00:00<00:00, 4725.72it/s]\n"
     ]
    },
    {
     "name": "stdout",
     "output_type": "stream",
     "text": [
      "set of possible words includes like:\n",
      "['raise', 'slate', 'crate', 'irate', 'trace', 'arise', 'stare', 'snare', 'arose', 'least']\n",
      "Our suggestion for guess based on Entropy:  crate\n",
      "guessWordPatternOutput: [0, 1, 0, 0, 2]\n"
     ]
    },
    {
     "name": "stderr",
     "output_type": "stream",
     "text": [
      "100%|█████████████████████████████████████████| 40/40 [00:00<00:00, 8351.03it/s]\n"
     ]
    },
    {
     "name": "stdout",
     "output_type": "stream",
     "text": [
      "set of possible words includes like:\n",
      "['surge', 'horse', 'rouse', 'nurse', 'reuse', 'worse', 'rouge', 'rogue', 'purse', 'spore']\n",
      "Our suggestion for guess based on Entropy:  purse\n",
      "guessWordPatternOutput: [0, 0, 2, 0, 2]\n"
     ]
    },
    {
     "name": "stderr",
     "output_type": "stream",
     "text": [
      "100%|█████████████████████████████████████████| 10/10 [00:00<00:00, 8824.54it/s]\n"
     ]
    },
    {
     "name": "stdout",
     "output_type": "stream",
     "text": [
      "set of possible words includes like:\n",
      "['verge', 'nerve', 'gorge', 'forge', 'merge', 'dirge', 'verve', 'eerie', 'horde', 'borne']\n",
      "Our suggestion for guess based on Entropy:  forge\n",
      "guessWordPatternOutput: [0, 0, 2, 0, 2]\n"
     ]
    },
    {
     "name": "stderr",
     "output_type": "stream",
     "text": [
      "100%|███████████████████████████████████████████| 3/3 [00:00<00:00, 7129.13it/s]\n"
     ]
    },
    {
     "name": "stdout",
     "output_type": "stream",
     "text": [
      "set of possible words includes like:\n",
      "['verve', 'nerve', 'eerie']\n",
      "Our suggestion for guess based on Entropy:  nerve\n",
      "guessWordPatternOutput: [0, 2, 2, 2, 2]\n"
     ]
    },
    {
     "name": "stderr",
     "output_type": "stream",
     "text": [
      "100%|███████████████████████████████████████████| 1/1 [00:00<00:00, 6017.65it/s]\n"
     ]
    },
    {
     "name": "stdout",
     "output_type": "stream",
     "text": [
      "set of possible words includes like:\n",
      "['verve']\n",
      "Our suggestion for guess based on Entropy:  verve\n",
      "guessWordPatternOutput: [2, 2, 2, 2, 2]\n",
      "You Won! : 144  times\n",
      "\n",
      "\n",
      "\n",
      "====RealAnswer to reach is  fluid\n"
     ]
    },
    {
     "name": "stderr",
     "output_type": "stream",
     "text": [
      "100%|█████████████████████████████████████| 2315/2315 [00:00<00:00, 4711.85it/s]\n"
     ]
    },
    {
     "name": "stdout",
     "output_type": "stream",
     "text": [
      "set of possible words includes like:\n",
      "['raise', 'slate', 'crate', 'irate', 'trace', 'arise', 'stare', 'snare', 'arose', 'least']\n",
      "Our suggestion for guess based on Entropy:  arose\n",
      "guessWordPatternOutput: [0, 0, 0, 0, 0]\n"
     ]
    },
    {
     "name": "stderr",
     "output_type": "stream",
     "text": [
      "100%|███████████████████████████████████████| 183/183 [00:00<00:00, 7319.90it/s]\n"
     ]
    },
    {
     "name": "stdout",
     "output_type": "stream",
     "text": [
      "set of possible words includes like:\n",
      "['lunch', 'cling', 'filth', 'flint', 'mulch', 'minty', 'child', 'pinch', 'glint', 'gulch']\n",
      "Our suggestion for guess based on Entropy:  filth\n",
      "guessWordPatternOutput: [2, 1, 1, 0, 0]\n"
     ]
    },
    {
     "name": "stderr",
     "output_type": "stream",
     "text": [
      "100%|███████████████████████████████████████████| 3/3 [00:00<00:00, 7476.48it/s]\n"
     ]
    },
    {
     "name": "stdout",
     "output_type": "stream",
     "text": [
      "set of possible words includes like:\n",
      "['flick', 'fling', 'fluid']\n",
      "Our suggestion for guess based on Entropy:  fluid\n",
      "guessWordPatternOutput: [2, 2, 2, 2, 2]\n",
      "You Won! : 145  times\n",
      "\n",
      "\n",
      "\n",
      "====RealAnswer to reach is  spell\n"
     ]
    },
    {
     "name": "stderr",
     "output_type": "stream",
     "text": [
      "100%|█████████████████████████████████████| 2315/2315 [00:00<00:00, 4683.72it/s]\n"
     ]
    },
    {
     "name": "stdout",
     "output_type": "stream",
     "text": [
      "set of possible words includes like:\n",
      "['raise', 'slate', 'crate', 'irate', 'trace', 'arise', 'stare', 'snare', 'arose', 'least']\n",
      "Our suggestion for guess based on Entropy:  slate\n",
      "guessWordPatternOutput: [2, 1, 0, 0, 1]\n"
     ]
    },
    {
     "name": "stderr",
     "output_type": "stream",
     "text": [
      "100%|███████████████████████████████████████████| 6/6 [00:00<00:00, 4382.00it/s]\n"
     ]
    },
    {
     "name": "stdout",
     "output_type": "stream",
     "text": [
      "set of possible words includes like:\n",
      "['shelf', 'spell', 'spiel', 'swell', 'shell', 'smell']\n",
      "Our suggestion for guess based on Entropy:  smell\n",
      "guessWordPatternOutput: [2, 0, 2, 2, 2]\n"
     ]
    },
    {
     "name": "stderr",
     "output_type": "stream",
     "text": [
      "100%|███████████████████████████████████████████| 3/3 [00:00<00:00, 3051.88it/s]\n"
     ]
    },
    {
     "name": "stdout",
     "output_type": "stream",
     "text": [
      "set of possible words includes like:\n",
      "['spell', 'shell', 'swell']\n",
      "Our suggestion for guess based on Entropy:  spell\n",
      "guessWordPatternOutput: [2, 2, 2, 2, 2]\n",
      "You Won! : 146  times\n",
      "\n",
      "\n",
      "\n",
      "====RealAnswer to reach is  abyss\n"
     ]
    },
    {
     "name": "stderr",
     "output_type": "stream",
     "text": [
      "100%|█████████████████████████████████████| 2315/2315 [00:00<00:00, 4718.91it/s]\n"
     ]
    },
    {
     "name": "stdout",
     "output_type": "stream",
     "text": [
      "set of possible words includes like:\n",
      "['raise', 'slate', 'crate', 'irate', 'trace', 'arise', 'stare', 'snare', 'arose', 'least']\n",
      "Our suggestion for guess based on Entropy:  stare\n",
      "guessWordPatternOutput: [1, 0, 1, 0, 0]\n"
     ]
    },
    {
     "name": "stderr",
     "output_type": "stream",
     "text": [
      "100%|█████████████████████████████████████████| 16/16 [00:00<00:00, 6316.13it/s]\n"
     ]
    },
    {
     "name": "stdout",
     "output_type": "stream",
     "text": [
      "set of possible words includes like:\n",
      "['basin', 'basil', 'basal', 'nasal', 'lasso', 'pansy', 'palsy', 'basis', 'basic', 'mason']\n",
      "Our suggestion for guess based on Entropy:  palsy\n",
      "guessWordPatternOutput: [0, 1, 0, 2, 1]\n"
     ]
    },
    {
     "name": "stderr",
     "output_type": "stream",
     "text": [
      "100%|███████████████████████████████████████████| 1/1 [00:00<00:00, 1152.28it/s]\n"
     ]
    },
    {
     "name": "stdout",
     "output_type": "stream",
     "text": [
      "set of possible words includes like:\n",
      "['abyss']\n",
      "Our suggestion for guess based on Entropy:  abyss\n",
      "guessWordPatternOutput: [2, 2, 2, 2, 2]\n",
      "You Won! : 147  times\n",
      "\n",
      "\n",
      "\n",
      "====RealAnswer to reach is  fever\n"
     ]
    },
    {
     "name": "stderr",
     "output_type": "stream",
     "text": [
      "100%|█████████████████████████████████████| 2315/2315 [00:00<00:00, 4705.17it/s]\n"
     ]
    },
    {
     "name": "stdout",
     "output_type": "stream",
     "text": [
      "set of possible words includes like:\n",
      "['raise', 'slate', 'crate', 'irate', 'trace', 'arise', 'stare', 'snare', 'arose', 'least']\n",
      "Our suggestion for guess based on Entropy:  trace\n",
      "guessWordPatternOutput: [0, 1, 0, 0, 1]\n"
     ]
    },
    {
     "name": "stderr",
     "output_type": "stream",
     "text": [
      "100%|███████████████████████████████████████| 113/113 [00:00<00:00, 7509.17it/s]\n"
     ]
    },
    {
     "name": "stdout",
     "output_type": "stream",
     "text": [
      "set of possible words includes like:\n",
      "['risen', 'resin', 'ripen', 'loser', 'liner', 'siren', 'plier', 'poser', 'liver', 'diner']\n",
      "Our suggestion for guess based on Entropy:  poser\n",
      "guessWordPatternOutput: [0, 0, 0, 2, 2]\n"
     ]
    },
    {
     "name": "stderr",
     "output_type": "stream",
     "text": [
      "100%|█████████████████████████████████████████| 34/34 [00:00<00:00, 6977.51it/s]\n"
     ]
    },
    {
     "name": "stdout",
     "output_type": "stream",
     "text": [
      "set of possible words includes like:\n",
      "['filer', 'diner', 'idler', 'finer', 'flier', 'infer', 'liner', 'diver', 'rider', 'liver']\n",
      "Our suggestion for guess based on Entropy:  diner\n",
      "guessWordPatternOutput: [0, 0, 0, 2, 2]\n"
     ]
    },
    {
     "name": "stderr",
     "output_type": "stream",
     "text": [
      "100%|█████████████████████████████████████████| 10/10 [00:00<00:00, 8452.85it/s]\n"
     ]
    },
    {
     "name": "stdout",
     "output_type": "stream",
     "text": [
      "set of possible words includes like:\n",
      "['bluer', 'flyer', 'ruler', 'buyer', 'refer', 'lever', 'fewer', 'fever', 'queer', 'ember']\n",
      "Our suggestion for guess based on Entropy:  fewer\n",
      "guessWordPatternOutput: [2, 2, 0, 2, 2]\n"
     ]
    },
    {
     "name": "stderr",
     "output_type": "stream",
     "text": [
      "100%|███████████████████████████████████████████| 1/1 [00:00<00:00, 5289.16it/s]\n"
     ]
    },
    {
     "name": "stdout",
     "output_type": "stream",
     "text": [
      "set of possible words includes like:\n",
      "['fever']\n",
      "Our suggestion for guess based on Entropy:  fever\n",
      "guessWordPatternOutput: [2, 2, 2, 2, 2]\n",
      "You Won! : 148  times\n",
      "\n",
      "\n",
      "\n",
      "====RealAnswer to reach is  siege\n"
     ]
    },
    {
     "name": "stderr",
     "output_type": "stream",
     "text": [
      "100%|█████████████████████████████████████| 2315/2315 [00:00<00:00, 4520.79it/s]\n"
     ]
    },
    {
     "name": "stdout",
     "output_type": "stream",
     "text": [
      "set of possible words includes like:\n",
      "['raise', 'slate', 'crate', 'irate', 'trace', 'arise', 'stare', 'snare', 'arose', 'least']\n",
      "Our suggestion for guess based on Entropy:  stare\n",
      "guessWordPatternOutput: [2, 0, 0, 0, 2]\n"
     ]
    },
    {
     "name": "stderr",
     "output_type": "stream",
     "text": [
      "100%|█████████████████████████████████████████| 27/27 [00:00<00:00, 7659.02it/s]\n"
     ]
    },
    {
     "name": "stdout",
     "output_type": "stream",
     "text": [
      "set of possible words includes like:\n",
      "['spine', 'snipe', 'spice', 'since', 'shine', 'slice', 'scone', 'singe', 'scope', 'snide']\n",
      "Our suggestion for guess based on Entropy:  slice\n",
      "guessWordPatternOutput: [2, 0, 1, 0, 2]\n"
     ]
    },
    {
     "name": "stderr",
     "output_type": "stream",
     "text": [
      "100%|███████████████████████████████████████████| 3/3 [00:00<00:00, 7121.06it/s]\n"
     ]
    },
    {
     "name": "stdout",
     "output_type": "stream",
     "text": [
      "set of possible words includes like:\n",
      "['siege', 'singe', 'sieve']\n",
      "Our suggestion for guess based on Entropy:  sieve\n",
      "guessWordPatternOutput: [2, 2, 2, 0, 2]\n"
     ]
    },
    {
     "name": "stderr",
     "output_type": "stream",
     "text": [
      "100%|███████████████████████████████████████████| 1/1 [00:00<00:00, 4236.67it/s]\n"
     ]
    },
    {
     "name": "stdout",
     "output_type": "stream",
     "text": [
      "set of possible words includes like:\n",
      "['siege']\n",
      "Our suggestion for guess based on Entropy:  siege\n",
      "guessWordPatternOutput: [2, 2, 2, 2, 2]\n",
      "You Won! : 149  times\n",
      "\n",
      "\n",
      "\n",
      "====RealAnswer to reach is  creek\n"
     ]
    },
    {
     "name": "stderr",
     "output_type": "stream",
     "text": [
      "100%|█████████████████████████████████████| 2315/2315 [00:00<00:00, 4418.91it/s]\n"
     ]
    },
    {
     "name": "stdout",
     "output_type": "stream",
     "text": [
      "set of possible words includes like:\n",
      "['raise', 'slate', 'crate', 'irate', 'trace', 'arise', 'stare', 'snare', 'arose', 'least']\n",
      "Our suggestion for guess based on Entropy:  least\n",
      "guessWordPatternOutput: [0, 1, 0, 0, 0]\n"
     ]
    },
    {
     "name": "stderr",
     "output_type": "stream",
     "text": [
      "100%|███████████████████████████████████████| 207/207 [00:00<00:00, 6741.58it/s]\n"
     ]
    },
    {
     "name": "stdout",
     "output_type": "stream",
     "text": [
      "set of possible words includes like:\n",
      "['drone', 'diner', 'cried', 'cider', 'pride', 'crone', 'pried', 'price', 'prone', 'drive']\n",
      "Our suggestion for guess based on Entropy:  diner\n",
      "guessWordPatternOutput: [0, 0, 0, 2, 1]\n"
     ]
    },
    {
     "name": "stderr",
     "output_type": "stream",
     "text": [
      "100%|███████████████████████████████████████████| 4/4 [00:00<00:00, 2670.26it/s]\n"
     ]
    },
    {
     "name": "stdout",
     "output_type": "stream",
     "text": [
      "set of possible words includes like:\n",
      "['rupee', 'puree', 'creek', 'creep']\n",
      "Our suggestion for guess based on Entropy:  creep\n",
      "guessWordPatternOutput: [2, 2, 2, 2, 0]\n"
     ]
    },
    {
     "name": "stderr",
     "output_type": "stream",
     "text": [
      "100%|███████████████████████████████████████████| 1/1 [00:00<00:00, 4485.89it/s]\n"
     ]
    },
    {
     "name": "stdout",
     "output_type": "stream",
     "text": [
      "set of possible words includes like:\n",
      "['creek']\n",
      "Our suggestion for guess based on Entropy:  creek\n",
      "guessWordPatternOutput: [2, 2, 2, 2, 2]\n",
      "You Won! : 150  times\n",
      "\n",
      "\n",
      "\n",
      "====RealAnswer to reach is  payee\n"
     ]
    },
    {
     "name": "stderr",
     "output_type": "stream",
     "text": [
      "100%|█████████████████████████████████████| 2315/2315 [00:00<00:00, 4739.44it/s]\n"
     ]
    },
    {
     "name": "stdout",
     "output_type": "stream",
     "text": [
      "set of possible words includes like:\n",
      "['raise', 'slate', 'crate', 'irate', 'trace', 'arise', 'stare', 'snare', 'arose', 'least']\n",
      "Our suggestion for guess based on Entropy:  snare\n",
      "guessWordPatternOutput: [0, 0, 1, 0, 2]\n"
     ]
    },
    {
     "name": "stderr",
     "output_type": "stream",
     "text": [
      "100%|█████████████████████████████████████████| 37/37 [00:00<00:00, 8426.41it/s]\n"
     ]
    },
    {
     "name": "stdout",
     "output_type": "stream",
     "text": [
      "set of possible words includes like:\n",
      "['table', 'amble', 'alive', 'cable', 'halve', 'agile', 'fable', 'value', 'vague', 'ample']\n",
      "Our suggestion for guess based on Entropy:  halve\n",
      "guessWordPatternOutput: [0, 2, 0, 0, 2]\n"
     ]
    },
    {
     "name": "stderr",
     "output_type": "stream",
     "text": [
      "100%|███████████████████████████████████████████| 7/7 [00:00<00:00, 9020.01it/s]\n"
     ]
    },
    {
     "name": "stdout",
     "output_type": "stream",
     "text": [
      "set of possible words includes like:\n",
      "['gauze', 'badge', 'maybe', 'gauge', 'gaffe', 'maize', 'payee']\n",
      "Our suggestion for guess based on Entropy:  gauze\n",
      "guessWordPatternOutput: [0, 2, 0, 0, 2]\n"
     ]
    },
    {
     "name": "stderr",
     "output_type": "stream",
     "text": [
      "100%|███████████████████████████████████████████| 2/2 [00:00<00:00, 6492.73it/s]\n"
     ]
    },
    {
     "name": "stdout",
     "output_type": "stream",
     "text": [
      "set of possible words includes like:\n",
      "['payee', 'maybe']\n",
      "Our suggestion for guess based on Entropy:  payee\n",
      "guessWordPatternOutput: [2, 2, 2, 2, 2]\n",
      "You Won! : 151  times\n",
      "\n",
      "\n",
      "\n",
      "====RealAnswer to reach is  udder\n"
     ]
    },
    {
     "name": "stderr",
     "output_type": "stream",
     "text": [
      "100%|█████████████████████████████████████| 2315/2315 [00:00<00:00, 4747.53it/s]\n"
     ]
    },
    {
     "name": "stdout",
     "output_type": "stream",
     "text": [
      "set of possible words includes like:\n",
      "['raise', 'slate', 'crate', 'irate', 'trace', 'arise', 'stare', 'snare', 'arose', 'least']\n",
      "Our suggestion for guess based on Entropy:  stare\n",
      "guessWordPatternOutput: [0, 0, 0, 1, 1]\n"
     ]
    },
    {
     "name": "stderr",
     "output_type": "stream",
     "text": [
      "100%|███████████████████████████████████████| 118/118 [00:00<00:00, 7732.52it/s]\n"
     ]
    },
    {
     "name": "stdout",
     "output_type": "stream",
     "text": [
      "set of possible words includes like:\n",
      "['diner', 'cider', 'rider', 'idler', 'decor', 'older', 'liner', 'filer', 'diver', 'flier']\n",
      "Our suggestion for guess based on Entropy:  filer\n",
      "guessWordPatternOutput: [0, 0, 0, 2, 2]\n"
     ]
    },
    {
     "name": "stderr",
     "output_type": "stream",
     "text": [
      "100%|█████████████████████████████████████████| 33/33 [00:00<00:00, 8036.93it/s]\n"
     ]
    },
    {
     "name": "stdout",
     "output_type": "stream",
     "text": [
      "set of possible words includes like:\n",
      "['power', 'cower', 'mower', 'rower', 'cover', 'hover', 'mover', 'owner', 'rover', 'homer']\n",
      "Our suggestion for guess based on Entropy:  cover\n",
      "guessWordPatternOutput: [0, 0, 0, 2, 2]\n"
     ]
    },
    {
     "name": "stderr",
     "output_type": "stream",
     "text": [
      "100%|█████████████████████████████████████████| 11/11 [00:00<00:00, 8454.71it/s]\n"
     ]
    },
    {
     "name": "stdout",
     "output_type": "stream",
     "text": [
      "set of possible words includes like:\n",
      "['under', 'buyer', 'udder', 'upper', 'purer', 'ruder', 'dryer', 'hyper', 'queer', 'ember']\n",
      "Our suggestion for guess based on Entropy:  dryer\n",
      "guessWordPatternOutput: [1, 1, 0, 2, 2]\n"
     ]
    },
    {
     "name": "stderr",
     "output_type": "stream",
     "text": [
      "100%|███████████████████████████████████████████| 3/3 [00:00<00:00, 8719.97it/s]\n"
     ]
    },
    {
     "name": "stdout",
     "output_type": "stream",
     "text": [
      "set of possible words includes like:\n",
      "['udder', 'under', 'ruder']\n",
      "Our suggestion for guess based on Entropy:  ruder\n",
      "guessWordPatternOutput: [1, 1, 2, 2, 2]\n"
     ]
    },
    {
     "name": "stderr",
     "output_type": "stream",
     "text": [
      "100%|███████████████████████████████████████████| 2/2 [00:00<00:00, 7717.21it/s]\n"
     ]
    },
    {
     "name": "stdout",
     "output_type": "stream",
     "text": [
      "set of possible words includes like:\n",
      "['udder', 'under']\n",
      "Our suggestion for guess based on Entropy:  udder\n",
      "guessWordPatternOutput: [2, 2, 2, 2, 2]\n",
      "You Won! : 152  times\n",
      "\n",
      "\n",
      "\n",
      "====RealAnswer to reach is  undue\n"
     ]
    },
    {
     "name": "stderr",
     "output_type": "stream",
     "text": [
      "100%|█████████████████████████████████████| 2315/2315 [00:00<00:00, 4666.27it/s]\n"
     ]
    },
    {
     "name": "stdout",
     "output_type": "stream",
     "text": [
      "set of possible words includes like:\n",
      "['raise', 'slate', 'crate', 'irate', 'trace', 'arise', 'stare', 'snare', 'arose', 'least']\n",
      "Our suggestion for guess based on Entropy:  slate\n",
      "guessWordPatternOutput: [0, 0, 0, 0, 2]\n"
     ]
    },
    {
     "name": "stderr",
     "output_type": "stream",
     "text": [
      "100%|███████████████████████████████████████| 107/107 [00:00<00:00, 7777.32it/s]\n"
     ]
    },
    {
     "name": "stdout",
     "output_type": "stream",
     "text": [
      "set of possible words includes like:\n",
      "['drone', 'price', 'crone', 'dirge', 'prone', 'gripe', 'grope', 'urine', 'rouge', 'crude']\n",
      "Our suggestion for guess based on Entropy:  drone\n",
      "guessWordPatternOutput: [1, 0, 0, 1, 2]\n"
     ]
    },
    {
     "name": "stderr",
     "output_type": "stream",
     "text": [
      "100%|███████████████████████████████████████████| 2/2 [00:00<00:00, 7626.01it/s]\n"
     ]
    },
    {
     "name": "stdout",
     "output_type": "stream",
     "text": [
      "set of possible words includes like:\n",
      "['undue', 'nudge']\n",
      "Our suggestion for guess based on Entropy:  nudge\n",
      "guessWordPatternOutput: [1, 1, 2, 0, 2]\n"
     ]
    },
    {
     "name": "stderr",
     "output_type": "stream",
     "text": [
      "100%|███████████████████████████████████████████| 1/1 [00:00<00:00, 6842.26it/s]\n"
     ]
    },
    {
     "name": "stdout",
     "output_type": "stream",
     "text": [
      "set of possible words includes like:\n",
      "['undue']\n",
      "Our suggestion for guess based on Entropy:  undue\n",
      "guessWordPatternOutput: [2, 2, 2, 2, 2]\n",
      "You Won! : 153  times\n",
      "\n",
      "\n",
      "\n",
      "====RealAnswer to reach is  flair\n"
     ]
    },
    {
     "name": "stderr",
     "output_type": "stream",
     "text": [
      "100%|█████████████████████████████████████| 2315/2315 [00:00<00:00, 4741.52it/s]\n"
     ]
    },
    {
     "name": "stdout",
     "output_type": "stream",
     "text": [
      "set of possible words includes like:\n",
      "['raise', 'slate', 'crate', 'irate', 'trace', 'arise', 'stare', 'snare', 'arose', 'least']\n",
      "Our suggestion for guess based on Entropy:  irate\n",
      "guessWordPatternOutput: [1, 1, 2, 0, 0]\n"
     ]
    },
    {
     "name": "stderr",
     "output_type": "stream",
     "text": [
      "100%|███████████████████████████████████████████| 3/3 [00:00<00:00, 7231.56it/s]\n"
     ]
    },
    {
     "name": "stdout",
     "output_type": "stream",
     "text": [
      "set of possible words includes like:\n",
      "['chair', 'flair', 'diary']\n",
      "Our suggestion for guess based on Entropy:  flair\n",
      "guessWordPatternOutput: [2, 2, 2, 2, 2]\n",
      "You Won! : 154  times\n",
      "\n",
      "\n",
      "\n",
      "====RealAnswer to reach is  icily\n"
     ]
    },
    {
     "name": "stderr",
     "output_type": "stream",
     "text": [
      "100%|█████████████████████████████████████| 2315/2315 [00:00<00:00, 4739.58it/s]\n"
     ]
    },
    {
     "name": "stdout",
     "output_type": "stream",
     "text": [
      "set of possible words includes like:\n",
      "['raise', 'slate', 'crate', 'irate', 'trace', 'arise', 'stare', 'snare', 'arose', 'least']\n",
      "Our suggestion for guess based on Entropy:  crate\n",
      "guessWordPatternOutput: [1, 0, 0, 0, 0]\n"
     ]
    },
    {
     "name": "stderr",
     "output_type": "stream",
     "text": [
      "100%|█████████████████████████████████████████| 51/51 [00:00<00:00, 8090.07it/s]\n"
     ]
    },
    {
     "name": "stdout",
     "output_type": "stream",
     "text": [
      "set of possible words includes like:\n",
      "['slick', 'lunch', 'punch', 'mulch', 'snuck', 'lucid', 'pouch', 'pluck', 'pinch', 'munch']\n",
      "Our suggestion for guess based on Entropy:  punch\n",
      "guessWordPatternOutput: [0, 0, 0, 1, 0]\n"
     ]
    },
    {
     "name": "stderr",
     "output_type": "stream",
     "text": [
      "100%|███████████████████████████████████████████| 6/6 [00:00<00:00, 8089.30it/s]\n"
     ]
    },
    {
     "name": "stdout",
     "output_type": "stream",
     "text": [
      "set of possible words includes like:\n",
      "['scowl', 'icily', 'scold', 'scoff', 'logic', 'mimic']\n",
      "Our suggestion for guess based on Entropy:  scold\n",
      "guessWordPatternOutput: [0, 2, 0, 2, 0]\n"
     ]
    },
    {
     "name": "stderr",
     "output_type": "stream",
     "text": [
      "100%|███████████████████████████████████████████| 1/1 [00:00<00:00, 6374.32it/s]\n"
     ]
    },
    {
     "name": "stdout",
     "output_type": "stream",
     "text": [
      "set of possible words includes like:\n",
      "['icily']\n",
      "Our suggestion for guess based on Entropy:  icily\n",
      "guessWordPatternOutput: [2, 2, 2, 2, 2]\n",
      "You Won! : 155  times\n",
      "\n",
      "\n",
      "\n",
      "====RealAnswer to reach is  which\n"
     ]
    },
    {
     "name": "stderr",
     "output_type": "stream",
     "text": [
      "100%|█████████████████████████████████████| 2315/2315 [00:00<00:00, 4352.07it/s]\n"
     ]
    },
    {
     "name": "stdout",
     "output_type": "stream",
     "text": [
      "set of possible words includes like:\n",
      "['raise', 'slate', 'crate', 'irate', 'trace', 'arise', 'stare', 'snare', 'arose', 'least']\n",
      "Our suggestion for guess based on Entropy:  trace\n",
      "guessWordPatternOutput: [0, 0, 0, 2, 0]\n"
     ]
    },
    {
     "name": "stderr",
     "output_type": "stream",
     "text": [
      "100%|█████████████████████████████████████████| 38/38 [00:00<00:00, 7956.84it/s]\n"
     ]
    },
    {
     "name": "stdout",
     "output_type": "stream",
     "text": [
      "set of possible words includes like:\n",
      "['couch', 'punch', 'pouch', 'chuck', 'cluck', 'lunch', 'cinch', 'mulch', 'pinch', 'pluck']\n",
      "Our suggestion for guess based on Entropy:  punch\n",
      "guessWordPatternOutput: [0, 0, 0, 2, 2]\n"
     ]
    },
    {
     "name": "stderr",
     "output_type": "stream",
     "text": [
      "100%|███████████████████████████████████████████| 1/1 [00:00<00:00, 5555.37it/s]\n"
     ]
    },
    {
     "name": "stdout",
     "output_type": "stream",
     "text": [
      "set of possible words includes like:\n",
      "['which']\n",
      "Our suggestion for guess based on Entropy:  which\n",
      "guessWordPatternOutput: [2, 2, 2, 2, 2]\n",
      "You Won! : 156  times\n",
      "\n",
      "\n",
      "\n",
      "====RealAnswer to reach is  erect\n"
     ]
    },
    {
     "name": "stderr",
     "output_type": "stream",
     "text": [
      "100%|█████████████████████████████████████| 2315/2315 [00:00<00:00, 4742.67it/s]\n"
     ]
    },
    {
     "name": "stdout",
     "output_type": "stream",
     "text": [
      "set of possible words includes like:\n",
      "['raise', 'slate', 'crate', 'irate', 'trace', 'arise', 'stare', 'snare', 'arose', 'least']\n",
      "Our suggestion for guess based on Entropy:  trace\n",
      "guessWordPatternOutput: [1, 2, 0, 2, 1]\n"
     ]
    },
    {
     "name": "stderr",
     "output_type": "stream",
     "text": [
      "100%|███████████████████████████████████████████| 1/1 [00:00<00:00, 4253.86it/s]\n"
     ]
    },
    {
     "name": "stdout",
     "output_type": "stream",
     "text": [
      "set of possible words includes like:\n",
      "['erect']\n",
      "Our suggestion for guess based on Entropy:  erect\n",
      "guessWordPatternOutput: [2, 2, 2, 2, 2]\n",
      "You Won! : 157  times\n",
      "\n",
      "\n",
      "\n",
      "====RealAnswer to reach is  choir\n"
     ]
    },
    {
     "name": "stderr",
     "output_type": "stream",
     "text": [
      "100%|█████████████████████████████████████| 2315/2315 [00:00<00:00, 4742.71it/s]\n"
     ]
    },
    {
     "name": "stdout",
     "output_type": "stream",
     "text": [
      "set of possible words includes like:\n",
      "['raise', 'slate', 'crate', 'irate', 'trace', 'arise', 'stare', 'snare', 'arose', 'least']\n",
      "Our suggestion for guess based on Entropy:  snare\n",
      "guessWordPatternOutput: [0, 0, 0, 1, 0]\n"
     ]
    },
    {
     "name": "stderr",
     "output_type": "stream",
     "text": [
      "100%|███████████████████████████████████████| 106/106 [00:00<00:00, 7844.94it/s]\n"
     ]
    },
    {
     "name": "stdout",
     "output_type": "stream",
     "text": [
      "set of possible words includes like:\n",
      "['grout', 'croup', 'droit', 'torch', 'curio', 'tumor', 'turbo', 'throb', 'proud', 'troop']\n",
      "Our suggestion for guess based on Entropy:  croup\n",
      "guessWordPatternOutput: [2, 1, 2, 0, 0]\n"
     ]
    },
    {
     "name": "stderr",
     "output_type": "stream",
     "text": [
      "100%|███████████████████████████████████████████| 1/1 [00:00<00:00, 6364.65it/s]\n"
     ]
    },
    {
     "name": "stdout",
     "output_type": "stream",
     "text": [
      "set of possible words includes like:\n",
      "['choir']\n",
      "Our suggestion for guess based on Entropy:  choir\n",
      "guessWordPatternOutput: [2, 2, 2, 2, 2]\n",
      "You Won! : 158  times\n",
      "\n",
      "\n",
      "\n",
      "====RealAnswer to reach is  fella\n"
     ]
    },
    {
     "name": "stderr",
     "output_type": "stream",
     "text": [
      "100%|█████████████████████████████████████| 2315/2315 [00:00<00:00, 4735.36it/s]\n"
     ]
    },
    {
     "name": "stdout",
     "output_type": "stream",
     "text": [
      "set of possible words includes like:\n",
      "['raise', 'slate', 'crate', 'irate', 'trace', 'arise', 'stare', 'snare', 'arose', 'least']\n",
      "Our suggestion for guess based on Entropy:  arise\n",
      "guessWordPatternOutput: [1, 0, 0, 0, 1]\n"
     ]
    },
    {
     "name": "stderr",
     "output_type": "stream",
     "text": [
      "100%|█████████████████████████████████████████| 79/79 [00:00<00:00, 7929.31it/s]\n"
     ]
    },
    {
     "name": "stdout",
     "output_type": "stream",
     "text": [
      "set of possible words includes like:\n",
      "['petal', 'metal', 'decal', 'cleat', 'leant', 'eclat', 'leapt', 'penal', 'dealt', 'medal']\n",
      "Our suggestion for guess based on Entropy:  cleat\n",
      "guessWordPatternOutput: [0, 1, 1, 1, 0]\n"
     ]
    },
    {
     "name": "stderr",
     "output_type": "stream",
     "text": [
      "100%|█████████████████████████████████████████| 12/12 [00:00<00:00, 8220.10it/s]\n"
     ]
    },
    {
     "name": "stdout",
     "output_type": "stream",
     "text": [
      "set of possible words includes like:\n",
      "['label', 'lapel', 'laden', 'gavel', 'navel', 'bagel', 'panel', 'leafy', 'leaky', 'hazel']\n",
      "Our suggestion for guess based on Entropy:  leaky\n",
      "guessWordPatternOutput: [1, 2, 1, 0, 0]\n"
     ]
    },
    {
     "name": "stderr",
     "output_type": "stream",
     "text": [
      "100%|███████████████████████████████████████████| 1/1 [00:00<00:00, 6403.52it/s]\n"
     ]
    },
    {
     "name": "stdout",
     "output_type": "stream",
     "text": [
      "set of possible words includes like:\n",
      "['fella']\n",
      "Our suggestion for guess based on Entropy:  fella\n",
      "guessWordPatternOutput: [2, 2, 2, 2, 2]\n",
      "You Won! : 159  times\n",
      "\n",
      "\n",
      "\n",
      "====RealAnswer to reach is  repel\n"
     ]
    },
    {
     "name": "stderr",
     "output_type": "stream",
     "text": [
      "100%|█████████████████████████████████████| 2315/2315 [00:00<00:00, 4746.56it/s]\n"
     ]
    },
    {
     "name": "stdout",
     "output_type": "stream",
     "text": [
      "set of possible words includes like:\n",
      "['raise', 'slate', 'crate', 'irate', 'trace', 'arise', 'stare', 'snare', 'arose', 'least']\n",
      "Our suggestion for guess based on Entropy:  least\n",
      "guessWordPatternOutput: [1, 2, 0, 0, 0]\n"
     ]
    },
    {
     "name": "stderr",
     "output_type": "stream",
     "text": [
      "100%|█████████████████████████████████████████| 25/25 [00:00<00:00, 8707.66it/s]\n"
     ]
    },
    {
     "name": "stdout",
     "output_type": "stream",
     "text": [
      "set of possible words includes like:\n",
      "['belle', 'below', 'belie', 'belly', 'belch', 'hello', 'rebel', 'bevel', 'cello', 'relic']\n",
      "Our suggestion for guess based on Entropy:  cello\n",
      "guessWordPatternOutput: [0, 2, 1, 1, 0]\n"
     ]
    },
    {
     "name": "stderr",
     "output_type": "stream",
     "text": [
      "100%|███████████████████████████████████████████| 8/8 [00:00<00:00, 9152.87it/s]\n"
     ]
    },
    {
     "name": "stdout",
     "output_type": "stream",
     "text": [
      "set of possible words includes like:\n",
      "['bevel', 'rebel', 'revel', 'peril', 'repel', 'bezel', 'devil', 'jewel']\n",
      "Our suggestion for guess based on Entropy:  devil\n",
      "guessWordPatternOutput: [0, 2, 0, 0, 2]\n"
     ]
    },
    {
     "name": "stderr",
     "output_type": "stream",
     "text": [
      "100%|███████████████████████████████████████████| 4/4 [00:00<00:00, 7970.17it/s]\n"
     ]
    },
    {
     "name": "stdout",
     "output_type": "stream",
     "text": [
      "set of possible words includes like:\n",
      "['rebel', 'bezel', 'repel', 'jewel']\n",
      "Our suggestion for guess based on Entropy:  repel\n",
      "guessWordPatternOutput: [2, 2, 2, 2, 2]\n",
      "You Won! : 160  times\n",
      "\n",
      "\n",
      "\n",
      "====RealAnswer to reach is  scuba\n"
     ]
    },
    {
     "name": "stderr",
     "output_type": "stream",
     "text": [
      "100%|█████████████████████████████████████| 2315/2315 [00:00<00:00, 4748.97it/s]\n"
     ]
    },
    {
     "name": "stdout",
     "output_type": "stream",
     "text": [
      "set of possible words includes like:\n",
      "['raise', 'slate', 'crate', 'irate', 'trace', 'arise', 'stare', 'snare', 'arose', 'least']\n",
      "Our suggestion for guess based on Entropy:  irate\n",
      "guessWordPatternOutput: [0, 0, 1, 0, 0]\n"
     ]
    },
    {
     "name": "stderr",
     "output_type": "stream",
     "text": [
      "100%|███████████████████████████████████████| 118/118 [00:00<00:00, 7944.65it/s]\n"
     ]
    },
    {
     "name": "stdout",
     "output_type": "stream",
     "text": [
      "set of possible words includes like:\n",
      "['salon', 'canal', 'manly', 'modal', 'sandy', 'sadly', 'mason', 'candy', 'nasal', 'palsy']\n",
      "Our suggestion for guess based on Entropy:  salon\n",
      "guessWordPatternOutput: [2, 1, 0, 0, 0]\n"
     ]
    },
    {
     "name": "stderr",
     "output_type": "stream",
     "text": [
      "100%|███████████████████████████████████████████| 3/3 [00:00<00:00, 7298.67it/s]\n"
     ]
    },
    {
     "name": "stdout",
     "output_type": "stream",
     "text": [
      "set of possible words includes like:\n",
      "['squad', 'sumac', 'scuba']\n",
      "Our suggestion for guess based on Entropy:  scuba\n",
      "guessWordPatternOutput: [2, 2, 2, 2, 2]\n",
      "You Won! : 161  times\n",
      "\n",
      "\n",
      "\n",
      "====RealAnswer to reach is  flown\n"
     ]
    },
    {
     "name": "stderr",
     "output_type": "stream",
     "text": [
      "100%|█████████████████████████████████████| 2315/2315 [00:00<00:00, 4737.68it/s]\n"
     ]
    },
    {
     "name": "stdout",
     "output_type": "stream",
     "text": [
      "set of possible words includes like:\n",
      "['raise', 'slate', 'crate', 'irate', 'trace', 'arise', 'stare', 'snare', 'arose', 'least']\n",
      "Our suggestion for guess based on Entropy:  irate\n",
      "guessWordPatternOutput: [0, 0, 0, 0, 0]\n"
     ]
    },
    {
     "name": "stderr",
     "output_type": "stream",
     "text": [
      "100%|███████████████████████████████████████| 194/194 [00:00<00:00, 7382.06it/s]\n"
     ]
    },
    {
     "name": "stdout",
     "output_type": "stream",
     "text": [
      "set of possible words includes like:\n",
      "['plush', 'blush', 'slunk', 'slump', 'slung', 'flush', 'plunk', 'scold', 'phony', 'clump']\n",
      "Our suggestion for guess based on Entropy:  plunk\n",
      "guessWordPatternOutput: [0, 2, 0, 1, 0]\n"
     ]
    },
    {
     "name": "stderr",
     "output_type": "stream",
     "text": [
      "100%|███████████████████████████████████████████| 3/3 [00:00<00:00, 8154.84it/s]\n"
     ]
    },
    {
     "name": "stdout",
     "output_type": "stream",
     "text": [
      "set of possible words includes like:\n",
      "['clown', 'blown', 'flown']\n",
      "Our suggestion for guess based on Entropy:  blown\n",
      "guessWordPatternOutput: [0, 2, 2, 2, 2]\n"
     ]
    },
    {
     "name": "stderr",
     "output_type": "stream",
     "text": [
      "100%|███████████████████████████████████████████| 2/2 [00:00<00:00, 8305.55it/s]\n"
     ]
    },
    {
     "name": "stdout",
     "output_type": "stream",
     "text": [
      "set of possible words includes like:\n",
      "['clown', 'flown']\n",
      "Our suggestion for guess based on Entropy:  flown\n",
      "guessWordPatternOutput: [2, 2, 2, 2, 2]\n",
      "You Won! : 162  times\n",
      "\n",
      "\n",
      "\n",
      "====RealAnswer to reach is  spoof\n"
     ]
    },
    {
     "name": "stderr",
     "output_type": "stream",
     "text": [
      "100%|█████████████████████████████████████| 2315/2315 [00:00<00:00, 4739.41it/s]\n"
     ]
    },
    {
     "name": "stdout",
     "output_type": "stream",
     "text": [
      "set of possible words includes like:\n",
      "['raise', 'slate', 'crate', 'irate', 'trace', 'arise', 'stare', 'snare', 'arose', 'least']\n",
      "Our suggestion for guess based on Entropy:  irate\n",
      "guessWordPatternOutput: [0, 0, 0, 0, 0]\n"
     ]
    },
    {
     "name": "stderr",
     "output_type": "stream",
     "text": [
      "100%|███████████████████████████████████████| 194/194 [00:00<00:00, 7376.91it/s]\n"
     ]
    },
    {
     "name": "stdout",
     "output_type": "stream",
     "text": [
      "set of possible words includes like:\n",
      "['plush', 'blush', 'slunk', 'slump', 'slung', 'flush', 'plunk', 'scold', 'phony', 'clump']\n",
      "Our suggestion for guess based on Entropy:  blush\n",
      "guessWordPatternOutput: [0, 0, 0, 1, 0]\n"
     ]
    },
    {
     "name": "stderr",
     "output_type": "stream",
     "text": [
      "100%|█████████████████████████████████████████| 13/13 [00:00<00:00, 8254.00it/s]\n"
     ]
    },
    {
     "name": "stdout",
     "output_type": "stream",
     "text": [
      "set of possible words includes like:\n",
      "['spoon', 'scoop', 'spook', 'snoop', 'swoon', 'spoof', 'swoop', 'snowy', 'synod', 'smock']\n",
      "Our suggestion for guess based on Entropy:  scoop\n",
      "guessWordPatternOutput: [2, 0, 2, 2, 1]\n"
     ]
    },
    {
     "name": "stderr",
     "output_type": "stream",
     "text": [
      "100%|███████████████████████████████████████████| 3/3 [00:00<00:00, 6990.51it/s]\n"
     ]
    },
    {
     "name": "stdout",
     "output_type": "stream",
     "text": [
      "set of possible words includes like:\n",
      "['spoon', 'spoof', 'spook']\n",
      "Our suggestion for guess based on Entropy:  spoon\n",
      "guessWordPatternOutput: [2, 2, 2, 2, 0]\n"
     ]
    },
    {
     "name": "stderr",
     "output_type": "stream",
     "text": [
      "100%|███████████████████████████████████████████| 2/2 [00:00<00:00, 6967.28it/s]\n"
     ]
    },
    {
     "name": "stdout",
     "output_type": "stream",
     "text": [
      "set of possible words includes like:\n",
      "['spoof', 'spook']\n",
      "Our suggestion for guess based on Entropy:  spoof\n",
      "guessWordPatternOutput: [2, 2, 2, 2, 2]\n",
      "You Won! : 163  times\n",
      "\n",
      "\n",
      "\n",
      "====RealAnswer to reach is  lunar\n"
     ]
    },
    {
     "name": "stderr",
     "output_type": "stream",
     "text": [
      "100%|█████████████████████████████████████| 2315/2315 [00:00<00:00, 4720.44it/s]\n"
     ]
    },
    {
     "name": "stdout",
     "output_type": "stream",
     "text": [
      "set of possible words includes like:\n",
      "['raise', 'slate', 'crate', 'irate', 'trace', 'arise', 'stare', 'snare', 'arose', 'least']\n",
      "Our suggestion for guess based on Entropy:  arose\n",
      "guessWordPatternOutput: [1, 1, 0, 0, 0]\n"
     ]
    },
    {
     "name": "stderr",
     "output_type": "stream",
     "text": [
      "100%|█████████████████████████████████████████| 55/55 [00:00<00:00, 8103.94it/s]\n"
     ]
    },
    {
     "name": "stdout",
     "output_type": "stream",
     "text": [
      "set of possible words includes like:\n",
      "['rapid', 'rabid', 'harry', 'carry', 'hairy', 'hardy', 'tardy', 'diary', 'dairy', 'cairn']\n",
      "Our suggestion for guess based on Entropy:  carry\n",
      "guessWordPatternOutput: [0, 1, 1, 1, 0]\n"
     ]
    },
    {
     "name": "stderr",
     "output_type": "stream",
     "text": [
      "100%|███████████████████████████████████████████| 4/4 [00:00<00:00, 7996.77it/s]\n"
     ]
    },
    {
     "name": "stdout",
     "output_type": "stream",
     "text": [
      "set of possible words includes like:\n",
      "['lunar', 'rival', 'flair', 'rumba']\n",
      "Our suggestion for guess based on Entropy:  flair\n",
      "guessWordPatternOutput: [0, 1, 1, 0, 2]\n"
     ]
    },
    {
     "name": "stderr",
     "output_type": "stream",
     "text": [
      "100%|███████████████████████████████████████████| 1/1 [00:00<00:00, 3355.44it/s]\n"
     ]
    },
    {
     "name": "stdout",
     "output_type": "stream",
     "text": [
      "set of possible words includes like:\n",
      "['lunar']\n",
      "Our suggestion for guess based on Entropy:  lunar\n",
      "guessWordPatternOutput: [2, 2, 2, 2, 2]\n",
      "You Won! : 164  times\n",
      "\n",
      "\n",
      "\n",
      "====RealAnswer to reach is  plaza\n"
     ]
    },
    {
     "name": "stderr",
     "output_type": "stream",
     "text": [
      "100%|█████████████████████████████████████| 2315/2315 [00:00<00:00, 4737.73it/s]\n"
     ]
    },
    {
     "name": "stdout",
     "output_type": "stream",
     "text": [
      "set of possible words includes like:\n",
      "['raise', 'slate', 'crate', 'irate', 'trace', 'arise', 'stare', 'snare', 'arose', 'least']\n",
      "Our suggestion for guess based on Entropy:  irate\n",
      "guessWordPatternOutput: [0, 0, 2, 0, 0]\n"
     ]
    },
    {
     "name": "stderr",
     "output_type": "stream",
     "text": [
      "100%|█████████████████████████████████████████| 64/64 [00:00<00:00, 8073.73it/s]\n"
     ]
    },
    {
     "name": "stdout",
     "output_type": "stream",
     "text": [
      "set of possible words includes like:\n",
      "['slack', 'clasp', 'clash', 'shack', 'scalp', 'chalk', 'shank', 'smack', 'chasm', 'clamp']\n",
      "Our suggestion for guess based on Entropy:  shack\n",
      "guessWordPatternOutput: [0, 0, 2, 0, 0]\n"
     ]
    },
    {
     "name": "stderr",
     "output_type": "stream",
     "text": [
      "100%|███████████████████████████████████████████| 8/8 [00:00<00:00, 8178.02it/s]\n"
     ]
    },
    {
     "name": "stdout",
     "output_type": "stream",
     "text": [
      "set of possible words includes like:\n",
      "['llama', 'plaza', 'gland', 'loamy', 'bland', 'qualm', 'guava', 'foamy']\n",
      "Our suggestion for guess based on Entropy:  plaza\n",
      "guessWordPatternOutput: [2, 2, 2, 2, 2]\n",
      "You Won! : 165  times\n",
      "\n",
      "\n",
      "\n",
      "====RealAnswer to reach is  admit\n"
     ]
    },
    {
     "name": "stderr",
     "output_type": "stream",
     "text": [
      "100%|█████████████████████████████████████| 2315/2315 [00:00<00:00, 4738.05it/s]\n"
     ]
    },
    {
     "name": "stdout",
     "output_type": "stream",
     "text": [
      "set of possible words includes like:\n",
      "['raise', 'slate', 'crate', 'irate', 'trace', 'arise', 'stare', 'snare', 'arose', 'least']\n",
      "Our suggestion for guess based on Entropy:  raise\n",
      "guessWordPatternOutput: [0, 1, 1, 0, 0]\n"
     ]
    },
    {
     "name": "stderr",
     "output_type": "stream",
     "text": [
      "100%|█████████████████████████████████████████| 34/34 [00:00<00:00, 8588.16it/s]\n"
     ]
    },
    {
     "name": "stdout",
     "output_type": "stream",
     "text": [
      "set of possible words includes like:\n",
      "['tidal', 'plait', 'antic', 'anvil', 'plain', 'vital', 'plaid', 'final', 'giant', 'chain']\n",
      "Our suggestion for guess based on Entropy:  vital\n",
      "guessWordPatternOutput: [0, 1, 1, 1, 0]\n"
     ]
    },
    {
     "name": "stderr",
     "output_type": "stream",
     "text": [
      "100%|███████████████████████████████████████████| 3/3 [00:00<00:00, 8750.29it/s]\n"
     ]
    },
    {
     "name": "stdout",
     "output_type": "stream",
     "text": [
      "set of possible words includes like:\n",
      "['audit', 'admit', 'await']\n",
      "Our suggestion for guess based on Entropy:  admit\n",
      "guessWordPatternOutput: [2, 2, 2, 2, 2]\n",
      "You Won! : 166  times\n",
      "\n",
      "\n",
      "\n",
      "====RealAnswer to reach is  druid\n"
     ]
    },
    {
     "name": "stderr",
     "output_type": "stream",
     "text": [
      "100%|█████████████████████████████████████| 2315/2315 [00:00<00:00, 4750.50it/s]\n"
     ]
    },
    {
     "name": "stdout",
     "output_type": "stream",
     "text": [
      "set of possible words includes like:\n",
      "['raise', 'slate', 'crate', 'irate', 'trace', 'arise', 'stare', 'snare', 'arose', 'least']\n",
      "Our suggestion for guess based on Entropy:  arose\n",
      "guessWordPatternOutput: [0, 2, 0, 0, 0]\n"
     ]
    },
    {
     "name": "stderr",
     "output_type": "stream",
     "text": [
      "100%|█████████████████████████████████████████| 37/37 [00:00<00:00, 8542.84it/s]\n"
     ]
    },
    {
     "name": "stdout",
     "output_type": "stream",
     "text": [
      "set of possible words includes like:\n",
      "['print', 'trick', 'trunk', 'grunt', 'drink', 'grind', 'brink', 'truck', 'brunt', 'bring']\n",
      "Our suggestion for guess based on Entropy:  print\n",
      "guessWordPatternOutput: [0, 2, 1, 0, 0]\n"
     ]
    },
    {
     "name": "stderr",
     "output_type": "stream",
     "text": [
      "100%|███████████████████████████████████████████| 1/1 [00:00<00:00, 6213.78it/s]\n"
     ]
    },
    {
     "name": "stdout",
     "output_type": "stream",
     "text": [
      "set of possible words includes like:\n",
      "['druid']\n",
      "Our suggestion for guess based on Entropy:  druid\n",
      "guessWordPatternOutput: [2, 2, 2, 2, 2]\n",
      "You Won! : 167  times\n",
      "\n",
      "\n",
      "\n",
      "====RealAnswer to reach is  cabby\n"
     ]
    },
    {
     "name": "stderr",
     "output_type": "stream",
     "text": [
      "100%|█████████████████████████████████████| 2315/2315 [00:00<00:00, 4738.77it/s]\n"
     ]
    },
    {
     "name": "stdout",
     "output_type": "stream",
     "text": [
      "set of possible words includes like:\n",
      "['raise', 'slate', 'crate', 'irate', 'trace', 'arise', 'stare', 'snare', 'arose', 'least']\n",
      "Our suggestion for guess based on Entropy:  trace\n",
      "guessWordPatternOutput: [0, 0, 1, 1, 0]\n"
     ]
    },
    {
     "name": "stderr",
     "output_type": "stream",
     "text": [
      "100%|█████████████████████████████████████████| 32/32 [00:00<00:00, 8602.05it/s]\n"
     ]
    },
    {
     "name": "stdout",
     "output_type": "stream",
     "text": [
      "set of possible words includes like:\n",
      "['canal', 'cabal', 'cacao', 'cabin', 'bacon', 'manic', 'cavil', 'canon', 'china', 'vocal']\n",
      "Our suggestion for guess based on Entropy:  manic\n",
      "guessWordPatternOutput: [0, 2, 0, 0, 1]\n"
     ]
    },
    {
     "name": "stderr",
     "output_type": "stream",
     "text": [
      "100%|███████████████████████████████████████████| 6/6 [00:00<00:00, 9157.87it/s]\n"
     ]
    },
    {
     "name": "stdout",
     "output_type": "stream",
     "text": [
      "set of possible words includes like:\n",
      "['cabal', 'wacky', 'cabby', 'cacao', 'caddy', 'caulk']\n",
      "Our suggestion for guess based on Entropy:  cacao\n",
      "guessWordPatternOutput: [2, 2, 1, 1, 0]\n"
     ]
    },
    {
     "name": "stderr",
     "output_type": "stream",
     "text": [
      "100%|███████████████████████████████████████████| 3/3 [00:00<00:00, 7933.74it/s]\n"
     ]
    },
    {
     "name": "stdout",
     "output_type": "stream",
     "text": [
      "set of possible words includes like:\n",
      "['cabby', 'caddy', 'caulk']\n",
      "Our suggestion for guess based on Entropy:  caddy\n",
      "guessWordPatternOutput: [2, 2, 0, 0, 2]\n"
     ]
    },
    {
     "name": "stderr",
     "output_type": "stream",
     "text": [
      "100%|███████████████████████████████████████████| 1/1 [00:00<00:00, 7244.05it/s]\n"
     ]
    },
    {
     "name": "stdout",
     "output_type": "stream",
     "text": [
      "set of possible words includes like:\n",
      "['cabby']\n",
      "Our suggestion for guess based on Entropy:  cabby\n",
      "guessWordPatternOutput: [2, 2, 2, 2, 2]\n",
      "You Won! : 168  times\n",
      "\n",
      "\n",
      "\n",
      "====RealAnswer to reach is  track\n"
     ]
    },
    {
     "name": "stderr",
     "output_type": "stream",
     "text": [
      "100%|█████████████████████████████████████| 2315/2315 [00:00<00:00, 4662.31it/s]\n"
     ]
    },
    {
     "name": "stdout",
     "output_type": "stream",
     "text": [
      "set of possible words includes like:\n",
      "['raise', 'slate', 'crate', 'irate', 'trace', 'arise', 'stare', 'snare', 'arose', 'least']\n",
      "Our suggestion for guess based on Entropy:  irate\n",
      "guessWordPatternOutput: [0, 2, 2, 1, 0]\n"
     ]
    },
    {
     "name": "stderr",
     "output_type": "stream",
     "text": [
      "100%|███████████████████████████████████████████| 9/9 [00:00<00:00, 7678.75it/s]\n"
     ]
    },
    {
     "name": "stdout",
     "output_type": "stream",
     "text": [
      "set of possible words includes like:\n",
      "['craft', 'track', 'tract', 'graft', 'draft', 'grant', 'trash', 'trawl', 'tramp']\n",
      "Our suggestion for guess based on Entropy:  draft\n",
      "guessWordPatternOutput: [0, 2, 2, 0, 1]\n"
     ]
    },
    {
     "name": "stderr",
     "output_type": "stream",
     "text": [
      "100%|███████████████████████████████████████████| 4/4 [00:00<00:00, 7781.64it/s]\n"
     ]
    },
    {
     "name": "stdout",
     "output_type": "stream",
     "text": [
      "set of possible words includes like:\n",
      "['trash', 'track', 'trawl', 'tramp']\n",
      "Our suggestion for guess based on Entropy:  trawl\n",
      "guessWordPatternOutput: [2, 2, 2, 0, 0]\n"
     ]
    },
    {
     "name": "stderr",
     "output_type": "stream",
     "text": [
      "100%|███████████████████████████████████████████| 3/3 [00:00<00:00, 7315.65it/s]\n"
     ]
    },
    {
     "name": "stdout",
     "output_type": "stream",
     "text": [
      "set of possible words includes like:\n",
      "['trash', 'track', 'tramp']\n",
      "Our suggestion for guess based on Entropy:  trash\n",
      "guessWordPatternOutput: [2, 2, 2, 0, 0]\n"
     ]
    },
    {
     "name": "stderr",
     "output_type": "stream",
     "text": [
      "100%|███████████████████████████████████████████| 2/2 [00:00<00:00, 7817.90it/s]\n"
     ]
    },
    {
     "name": "stdout",
     "output_type": "stream",
     "text": [
      "set of possible words includes like:\n",
      "['track', 'tramp']\n",
      "Our suggestion for guess based on Entropy:  tramp\n",
      "guessWordPatternOutput: [2, 2, 2, 0, 0]\n"
     ]
    },
    {
     "name": "stderr",
     "output_type": "stream",
     "text": [
      "100%|███████████████████████████████████████████| 1/1 [00:00<00:00, 7133.17it/s]\n"
     ]
    },
    {
     "name": "stdout",
     "output_type": "stream",
     "text": [
      "set of possible words includes like:\n",
      "['track']\n",
      "Our suggestion for guess based on Entropy:  track\n",
      "guessWordPatternOutput: [2, 2, 2, 2, 2]\n",
      "You Won! : 169  times\n",
      "\n",
      "\n",
      "\n",
      "====RealAnswer to reach is  anode\n"
     ]
    },
    {
     "name": "stderr",
     "output_type": "stream",
     "text": [
      "100%|█████████████████████████████████████| 2315/2315 [00:00<00:00, 4733.58it/s]\n"
     ]
    },
    {
     "name": "stdout",
     "output_type": "stream",
     "text": [
      "set of possible words includes like:\n",
      "['raise', 'slate', 'crate', 'irate', 'trace', 'arise', 'stare', 'snare', 'arose', 'least']\n",
      "Our suggestion for guess based on Entropy:  arose\n",
      "guessWordPatternOutput: [2, 0, 2, 0, 2]\n"
     ]
    },
    {
     "name": "stderr",
     "output_type": "stream",
     "text": [
      "100%|███████████████████████████████████████████| 7/7 [00:00<00:00, 7726.35it/s]\n"
     ]
    },
    {
     "name": "stdout",
     "output_type": "stream",
     "text": [
      "set of possible words includes like:\n",
      "['anode', 'adobe', 'abode', 'atone', 'above', 'alone', 'awoke']\n",
      "Our suggestion for guess based on Entropy:  adobe\n",
      "guessWordPatternOutput: [2, 1, 2, 0, 2]\n"
     ]
    },
    {
     "name": "stderr",
     "output_type": "stream",
     "text": [
      "100%|███████████████████████████████████████████| 1/1 [00:00<00:00, 6754.11it/s]\n"
     ]
    },
    {
     "name": "stdout",
     "output_type": "stream",
     "text": [
      "set of possible words includes like:\n",
      "['anode']\n",
      "Our suggestion for guess based on Entropy:  anode\n",
      "guessWordPatternOutput: [2, 2, 2, 2, 2]\n",
      "You Won! : 170  times\n",
      "\n",
      "\n",
      "\n",
      "====RealAnswer to reach is  split\n"
     ]
    },
    {
     "name": "stderr",
     "output_type": "stream",
     "text": [
      "100%|█████████████████████████████████████| 2315/2315 [00:00<00:00, 4750.39it/s]\n"
     ]
    },
    {
     "name": "stdout",
     "output_type": "stream",
     "text": [
      "set of possible words includes like:\n",
      "['raise', 'slate', 'crate', 'irate', 'trace', 'arise', 'stare', 'snare', 'arose', 'least']\n",
      "Our suggestion for guess based on Entropy:  arise\n",
      "guessWordPatternOutput: [0, 0, 1, 1, 0]\n"
     ]
    },
    {
     "name": "stderr",
     "output_type": "stream",
     "text": [
      "100%|█████████████████████████████████████████| 21/21 [00:00<00:00, 8644.65it/s]\n"
     ]
    },
    {
     "name": "stdout",
     "output_type": "stream",
     "text": [
      "set of possible words includes like:\n",
      "['stoic', 'posit', 'split', 'spoil', 'sonic', 'solid', 'sight', 'sixth', 'disco', 'music']\n",
      "Our suggestion for guess based on Entropy:  split\n",
      "guessWordPatternOutput: [2, 2, 2, 2, 2]\n",
      "You Won! : 171  times\n",
      "\n",
      "\n",
      "\n",
      "====RealAnswer to reach is  sigma\n"
     ]
    },
    {
     "name": "stderr",
     "output_type": "stream",
     "text": [
      "100%|█████████████████████████████████████| 2315/2315 [00:00<00:00, 4736.46it/s]\n"
     ]
    },
    {
     "name": "stdout",
     "output_type": "stream",
     "text": [
      "set of possible words includes like:\n",
      "['raise', 'slate', 'crate', 'irate', 'trace', 'arise', 'stare', 'snare', 'arose', 'least']\n",
      "Our suggestion for guess based on Entropy:  raise\n",
      "guessWordPatternOutput: [0, 1, 1, 1, 0]\n"
     ]
    },
    {
     "name": "stderr",
     "output_type": "stream",
     "text": [
      "100%|███████████████████████████████████████████| 7/7 [00:00<00:00, 7759.02it/s]\n"
     ]
    },
    {
     "name": "stdout",
     "output_type": "stream",
     "text": [
      "set of possible words includes like:\n",
      "['slain', 'stain', 'snail', 'staid', 'vista', 'sigma', 'swami']\n",
      "Our suggestion for guess based on Entropy:  stain\n",
      "guessWordPatternOutput: [2, 0, 1, 1, 0]\n"
     ]
    },
    {
     "name": "stderr",
     "output_type": "stream",
     "text": [
      "100%|███████████████████████████████████████████| 1/1 [00:00<00:00, 6932.73it/s]\n"
     ]
    },
    {
     "name": "stdout",
     "output_type": "stream",
     "text": [
      "set of possible words includes like:\n",
      "['sigma']\n",
      "Our suggestion for guess based on Entropy:  sigma\n",
      "guessWordPatternOutput: [2, 2, 2, 2, 2]\n",
      "You Won! : 172  times\n",
      "\n",
      "\n",
      "\n",
      "====RealAnswer to reach is  balmy\n"
     ]
    },
    {
     "name": "stderr",
     "output_type": "stream",
     "text": [
      "100%|█████████████████████████████████████| 2315/2315 [00:00<00:00, 4749.23it/s]\n"
     ]
    },
    {
     "name": "stdout",
     "output_type": "stream",
     "text": [
      "set of possible words includes like:\n",
      "['raise', 'slate', 'crate', 'irate', 'trace', 'arise', 'stare', 'snare', 'arose', 'least']\n",
      "Our suggestion for guess based on Entropy:  arose\n",
      "guessWordPatternOutput: [1, 0, 0, 0, 0]\n"
     ]
    },
    {
     "name": "stderr",
     "output_type": "stream",
     "text": [
      "100%|███████████████████████████████████████| 148/148 [00:00<00:00, 7633.98it/s]\n"
     ]
    },
    {
     "name": "stdout",
     "output_type": "stream",
     "text": [
      "set of possible words includes like:\n",
      "['paint', 'canal', 'cabin', 'chant', 'manic', 'candy', 'panic', 'giant', 'faint', 'clang']\n",
      "Our suggestion for guess based on Entropy:  giant\n",
      "guessWordPatternOutput: [0, 0, 1, 0, 0]\n"
     ]
    },
    {
     "name": "stderr",
     "output_type": "stream",
     "text": [
      "100%|█████████████████████████████████████████| 23/23 [00:00<00:00, 8719.97it/s]\n"
     ]
    },
    {
     "name": "stdout",
     "output_type": "stream",
     "text": [
      "set of possible words includes like:\n",
      "['madly', 'badly', 'caddy', 'bylaw', 'balmy', 'bawdy', 'paddy', 'dally', 'cabal', 'macaw']\n",
      "Our suggestion for guess based on Entropy:  macaw\n",
      "guessWordPatternOutput: [1, 2, 0, 1, 0]\n"
     ]
    },
    {
     "name": "stderr",
     "output_type": "stream",
     "text": [
      "100%|███████████████████████████████████████████| 1/1 [00:00<00:00, 6374.32it/s]\n"
     ]
    },
    {
     "name": "stdout",
     "output_type": "stream",
     "text": [
      "set of possible words includes like:\n",
      "['balmy']\n",
      "Our suggestion for guess based on Entropy:  balmy\n",
      "guessWordPatternOutput: [2, 2, 2, 2, 2]\n",
      "You Won! : 173  times\n",
      "\n",
      "\n",
      "\n",
      "====RealAnswer to reach is  risky\n"
     ]
    },
    {
     "name": "stderr",
     "output_type": "stream",
     "text": [
      "100%|█████████████████████████████████████| 2315/2315 [00:00<00:00, 4744.07it/s]\n"
     ]
    },
    {
     "name": "stdout",
     "output_type": "stream",
     "text": [
      "set of possible words includes like:\n",
      "['raise', 'slate', 'crate', 'irate', 'trace', 'arise', 'stare', 'snare', 'arose', 'least']\n",
      "Our suggestion for guess based on Entropy:  stare\n",
      "guessWordPatternOutput: [1, 0, 0, 1, 0]\n"
     ]
    },
    {
     "name": "stderr",
     "output_type": "stream",
     "text": [
      "100%|█████████████████████████████████████████| 12/12 [00:00<00:00, 8131.12it/s]\n"
     ]
    },
    {
     "name": "stdout",
     "output_type": "stream",
     "text": [
      "set of possible words includes like:\n",
      "['brisk', 'cross', 'crisp', 'virus', 'visor', 'crush', 'frisk', 'risky', 'brush', 'dross']\n",
      "Our suggestion for guess based on Entropy:  risky\n",
      "guessWordPatternOutput: [2, 2, 2, 2, 2]\n",
      "You Won! : 174  times\n",
      "\n",
      "\n",
      "\n",
      "====RealAnswer to reach is  anger\n"
     ]
    },
    {
     "name": "stderr",
     "output_type": "stream",
     "text": [
      "100%|█████████████████████████████████████| 2315/2315 [00:00<00:00, 4759.19it/s]\n"
     ]
    },
    {
     "name": "stdout",
     "output_type": "stream",
     "text": [
      "set of possible words includes like:\n",
      "['raise', 'slate', 'crate', 'irate', 'trace', 'arise', 'stare', 'snare', 'arose', 'least']\n",
      "Our suggestion for guess based on Entropy:  snare\n",
      "guessWordPatternOutput: [0, 2, 1, 1, 1]\n"
     ]
    },
    {
     "name": "stderr",
     "output_type": "stream",
     "text": [
      "100%|███████████████████████████████████████████| 1/1 [00:00<00:00, 6168.09it/s]\n"
     ]
    },
    {
     "name": "stdout",
     "output_type": "stream",
     "text": [
      "set of possible words includes like:\n",
      "['anger']\n",
      "Our suggestion for guess based on Entropy:  anger\n",
      "guessWordPatternOutput: [2, 2, 2, 2, 2]\n",
      "You Won! : 175  times\n",
      "\n",
      "\n",
      "\n",
      "====RealAnswer to reach is  tying\n"
     ]
    },
    {
     "name": "stderr",
     "output_type": "stream",
     "text": [
      "100%|█████████████████████████████████████| 2315/2315 [00:00<00:00, 4732.27it/s]\n"
     ]
    },
    {
     "name": "stdout",
     "output_type": "stream",
     "text": [
      "set of possible words includes like:\n",
      "['raise', 'slate', 'crate', 'irate', 'trace', 'arise', 'stare', 'snare', 'arose', 'least']\n",
      "Our suggestion for guess based on Entropy:  irate\n",
      "guessWordPatternOutput: [1, 0, 0, 1, 0]\n"
     ]
    },
    {
     "name": "stderr",
     "output_type": "stream",
     "text": [
      "100%|█████████████████████████████████████████| 64/64 [00:00<00:00, 8095.16it/s]\n"
     ]
    },
    {
     "name": "stdout",
     "output_type": "stream",
     "text": [
      "set of possible words includes like:\n",
      "['hoist', 'spilt', 'foist', 'point', 'split', 'shift', 'moist', 'sight', 'posit', 'glint']\n",
      "Our suggestion for guess based on Entropy:  posit\n",
      "guessWordPatternOutput: [0, 0, 0, 1, 1]\n"
     ]
    },
    {
     "name": "stderr",
     "output_type": "stream",
     "text": [
      "100%|███████████████████████████████████████████| 8/8 [00:00<00:00, 8021.62it/s]\n"
     ]
    },
    {
     "name": "stdout",
     "output_type": "stream",
     "text": [
      "set of possible words includes like:\n",
      "['witch', 'ditch', 'hitch', 'thing', 'tying', 'think', 'thick', 'thigh']\n",
      "Our suggestion for guess based on Entropy:  tying\n",
      "guessWordPatternOutput: [2, 2, 2, 2, 2]\n",
      "You Won! : 176  times\n",
      "\n",
      "\n",
      "\n",
      "====RealAnswer to reach is  scion\n"
     ]
    },
    {
     "name": "stderr",
     "output_type": "stream",
     "text": [
      "100%|█████████████████████████████████████| 2315/2315 [00:00<00:00, 4753.84it/s]\n"
     ]
    },
    {
     "name": "stdout",
     "output_type": "stream",
     "text": [
      "set of possible words includes like:\n",
      "['raise', 'slate', 'crate', 'irate', 'trace', 'arise', 'stare', 'snare', 'arose', 'least']\n",
      "Our suggestion for guess based on Entropy:  stare\n",
      "guessWordPatternOutput: [2, 0, 0, 0, 0]\n"
     ]
    },
    {
     "name": "stderr",
     "output_type": "stream",
     "text": [
      "100%|█████████████████████████████████████████| 67/67 [00:00<00:00, 8184.84it/s]\n"
     ]
    },
    {
     "name": "stdout",
     "output_type": "stream",
     "text": [
      "set of possible words includes like:\n",
      "['slink', 'slunk', 'spunk', 'spiny', 'slick', 'spoil', 'shiny', 'scion', 'sling', 'silky']\n",
      "Our suggestion for guess based on Entropy:  shiny\n",
      "guessWordPatternOutput: [2, 0, 2, 1, 0]\n"
     ]
    },
    {
     "name": "stderr",
     "output_type": "stream",
     "text": [
      "100%|███████████████████████████████████████████| 2/2 [00:00<00:00, 7496.52it/s]\n"
     ]
    },
    {
     "name": "stdout",
     "output_type": "stream",
     "text": [
      "set of possible words includes like:\n",
      "['sniff', 'scion']\n",
      "Our suggestion for guess based on Entropy:  scion\n",
      "guessWordPatternOutput: [2, 2, 2, 2, 2]\n",
      "You Won! : 177  times\n",
      "\n",
      "\n",
      "\n",
      "====RealAnswer to reach is  waist\n"
     ]
    },
    {
     "name": "stderr",
     "output_type": "stream",
     "text": [
      "100%|█████████████████████████████████████| 2315/2315 [00:00<00:00, 4743.42it/s]\n"
     ]
    },
    {
     "name": "stdout",
     "output_type": "stream",
     "text": [
      "set of possible words includes like:\n",
      "['raise', 'slate', 'crate', 'irate', 'trace', 'arise', 'stare', 'snare', 'arose', 'least']\n",
      "Our suggestion for guess based on Entropy:  irate\n",
      "guessWordPatternOutput: [1, 0, 1, 1, 0]\n"
     ]
    },
    {
     "name": "stderr",
     "output_type": "stream",
     "text": [
      "100%|█████████████████████████████████████████| 17/17 [00:00<00:00, 8507.72it/s]\n"
     ]
    },
    {
     "name": "stdout",
     "output_type": "stream",
     "text": [
      "set of possible words includes like:\n",
      "['taint', 'satin', 'antic', 'titan', 'tacit', 'patio', 'paint', 'saint', 'faint', 'habit']\n",
      "Our suggestion for guess based on Entropy:  tacit\n",
      "guessWordPatternOutput: [1, 2, 0, 1, 2]\n"
     ]
    },
    {
     "name": "stderr",
     "output_type": "stream",
     "text": [
      "100%|███████████████████████████████████████████| 4/4 [00:00<00:00, 8546.72it/s]\n"
     ]
    },
    {
     "name": "stdout",
     "output_type": "stream",
     "text": [
      "set of possible words includes like:\n",
      "['waist', 'paint', 'faint', 'saint']\n",
      "Our suggestion for guess based on Entropy:  waist\n",
      "guessWordPatternOutput: [2, 2, 2, 2, 2]\n",
      "You Won! : 178  times\n",
      "\n",
      "\n",
      "\n",
      "====RealAnswer to reach is  piano\n"
     ]
    },
    {
     "name": "stderr",
     "output_type": "stream",
     "text": [
      "100%|█████████████████████████████████████| 2315/2315 [00:00<00:00, 4747.70it/s]\n"
     ]
    },
    {
     "name": "stdout",
     "output_type": "stream",
     "text": [
      "set of possible words includes like:\n",
      "['raise', 'slate', 'crate', 'irate', 'trace', 'arise', 'stare', 'snare', 'arose', 'least']\n",
      "Our suggestion for guess based on Entropy:  raise\n",
      "guessWordPatternOutput: [0, 1, 1, 0, 0]\n"
     ]
    },
    {
     "name": "stderr",
     "output_type": "stream",
     "text": [
      "100%|█████████████████████████████████████████| 34/34 [00:00<00:00, 8561.86it/s]\n"
     ]
    },
    {
     "name": "stdout",
     "output_type": "stream",
     "text": [
      "set of possible words includes like:\n",
      "['tidal', 'plait', 'antic', 'anvil', 'plain', 'vital', 'plaid', 'final', 'giant', 'chain']\n",
      "Our suggestion for guess based on Entropy:  vital\n",
      "guessWordPatternOutput: [0, 2, 0, 1, 0]\n"
     ]
    },
    {
     "name": "stderr",
     "output_type": "stream",
     "text": [
      "100%|███████████████████████████████████████████| 3/3 [00:00<00:00, 8774.69it/s]\n"
     ]
    },
    {
     "name": "stdout",
     "output_type": "stream",
     "text": [
      "set of possible words includes like:\n",
      "['ninja', 'pizza', 'piano']\n",
      "Our suggestion for guess based on Entropy:  piano\n",
      "guessWordPatternOutput: [2, 2, 2, 2, 2]\n",
      "You Won! : 179  times\n",
      "\n",
      "\n",
      "\n",
      "====RealAnswer to reach is  genre\n"
     ]
    },
    {
     "name": "stderr",
     "output_type": "stream",
     "text": [
      "100%|█████████████████████████████████████| 2315/2315 [00:00<00:00, 4739.68it/s]\n"
     ]
    },
    {
     "name": "stdout",
     "output_type": "stream",
     "text": [
      "set of possible words includes like:\n",
      "['raise', 'slate', 'crate', 'irate', 'trace', 'arise', 'stare', 'snare', 'arose', 'least']\n",
      "Our suggestion for guess based on Entropy:  slate\n",
      "guessWordPatternOutput: [0, 0, 0, 0, 2]\n"
     ]
    },
    {
     "name": "stderr",
     "output_type": "stream",
     "text": [
      "100%|███████████████████████████████████████| 107/107 [00:00<00:00, 7798.27it/s]\n"
     ]
    },
    {
     "name": "stdout",
     "output_type": "stream",
     "text": [
      "set of possible words includes like:\n",
      "['drone', 'price', 'crone', 'dirge', 'prone', 'gripe', 'grope', 'urine', 'rouge', 'crude']\n",
      "Our suggestion for guess based on Entropy:  urine\n",
      "guessWordPatternOutput: [0, 1, 0, 1, 2]\n"
     ]
    },
    {
     "name": "stderr",
     "output_type": "stream",
     "text": [
      "100%|███████████████████████████████████████████| 2/2 [00:00<00:00, 6558.72it/s]\n"
     ]
    },
    {
     "name": "stdout",
     "output_type": "stream",
     "text": [
      "set of possible words includes like:\n",
      "['genre', 'nerve']\n",
      "Our suggestion for guess based on Entropy:  genre\n",
      "guessWordPatternOutput: [2, 2, 2, 2, 2]\n",
      "You Won! : 180  times\n",
      "\n",
      "\n",
      "\n",
      "====RealAnswer to reach is  gooey\n"
     ]
    },
    {
     "name": "stderr",
     "output_type": "stream",
     "text": [
      "100%|█████████████████████████████████████| 2315/2315 [00:00<00:00, 4748.14it/s]\n"
     ]
    },
    {
     "name": "stdout",
     "output_type": "stream",
     "text": [
      "set of possible words includes like:\n",
      "['raise', 'slate', 'crate', 'irate', 'trace', 'arise', 'stare', 'snare', 'arose', 'least']\n",
      "Our suggestion for guess based on Entropy:  trace\n",
      "guessWordPatternOutput: [0, 0, 0, 0, 1]\n"
     ]
    },
    {
     "name": "stderr",
     "output_type": "stream",
     "text": [
      "100%|███████████████████████████████████████| 123/123 [00:00<00:00, 7739.73it/s]\n"
     ]
    },
    {
     "name": "stdout",
     "output_type": "stream",
     "text": [
      "set of possible words includes like:\n",
      "['olden', 'widen', 'wield', 'dowel', 'plied', 'sinew', 'spiel', 'liken', 'bleed', 'yield']\n",
      "Our suggestion for guess based on Entropy:  bleed\n",
      "guessWordPatternOutput: [0, 0, 1, 2, 0]\n"
     ]
    },
    {
     "name": "stderr",
     "output_type": "stream",
     "text": [
      "100%|█████████████████████████████████████████| 14/14 [00:00<00:00, 8229.89it/s]\n"
     ]
    },
    {
     "name": "stdout",
     "output_type": "stream",
     "text": [
      "set of possible words includes like:\n",
      "['money', 'woven', 'women', 'sinew', 'seven', 'semen', 'honey', 'nosey', 'piney', 'hymen']\n",
      "Our suggestion for guess based on Entropy:  sinew\n",
      "guessWordPatternOutput: [0, 0, 0, 2, 0]\n"
     ]
    },
    {
     "name": "stderr",
     "output_type": "stream",
     "text": [
      "100%|███████████████████████████████████████████| 1/1 [00:00<00:00, 6482.70it/s]\n"
     ]
    },
    {
     "name": "stdout",
     "output_type": "stream",
     "text": [
      "set of possible words includes like:\n",
      "['gooey']\n",
      "Our suggestion for guess based on Entropy:  gooey\n",
      "guessWordPatternOutput: [2, 2, 2, 2, 2]\n",
      "You Won! : 181  times\n",
      "\n",
      "\n",
      "\n",
      "====RealAnswer to reach is  aloud\n"
     ]
    },
    {
     "name": "stderr",
     "output_type": "stream",
     "text": [
      "100%|█████████████████████████████████████| 2315/2315 [00:00<00:00, 4742.07it/s]\n"
     ]
    },
    {
     "name": "stdout",
     "output_type": "stream",
     "text": [
      "set of possible words includes like:\n",
      "['raise', 'slate', 'crate', 'irate', 'trace', 'arise', 'stare', 'snare', 'arose', 'least']\n",
      "Our suggestion for guess based on Entropy:  slate\n",
      "guessWordPatternOutput: [0, 2, 1, 0, 0]\n"
     ]
    },
    {
     "name": "stderr",
     "output_type": "stream",
     "text": [
      "100%|█████████████████████████████████████████| 13/13 [00:00<00:00, 8445.78it/s]\n"
     ]
    },
    {
     "name": "stdout",
     "output_type": "stream",
     "text": [
      "set of possible words includes like:\n",
      "['allow', 'alloy', 'along', 'aloud', 'aloof', 'cloak', 'flora', 'alibi', 'align', 'allay']\n",
      "Our suggestion for guess based on Entropy:  alibi\n",
      "guessWordPatternOutput: [2, 2, 0, 0, 0]\n"
     ]
    },
    {
     "name": "stderr",
     "output_type": "stream",
     "text": [
      "100%|███████████████████████████████████████████| 7/7 [00:00<00:00, 9126.56it/s]\n"
     ]
    },
    {
     "name": "stdout",
     "output_type": "stream",
     "text": [
      "set of possible words includes like:\n",
      "['allow', 'alloy', 'aloof', 'along', 'aloud', 'allay', 'alpha']\n",
      "Our suggestion for guess based on Entropy:  along\n",
      "guessWordPatternOutput: [2, 2, 2, 0, 0]\n"
     ]
    },
    {
     "name": "stderr",
     "output_type": "stream",
     "text": [
      "100%|███████████████████████████████████████████| 2/2 [00:00<00:00, 5936.74it/s]\n"
     ]
    },
    {
     "name": "stdout",
     "output_type": "stream",
     "text": [
      "set of possible words includes like:\n",
      "['aloud', 'aloof']\n",
      "Our suggestion for guess based on Entropy:  aloof\n",
      "guessWordPatternOutput: [2, 2, 2, 1, 0]\n"
     ]
    },
    {
     "name": "stderr",
     "output_type": "stream",
     "text": [
      "100%|███████████████████████████████████████████| 1/1 [00:00<00:00, 7194.35it/s]\n"
     ]
    },
    {
     "name": "stdout",
     "output_type": "stream",
     "text": [
      "set of possible words includes like:\n",
      "['aloud']\n",
      "Our suggestion for guess based on Entropy:  aloud\n",
      "guessWordPatternOutput: [2, 2, 2, 2, 2]\n",
      "You Won! : 182  times\n",
      "\n",
      "\n",
      "\n",
      "====RealAnswer to reach is  fjord\n"
     ]
    },
    {
     "name": "stderr",
     "output_type": "stream",
     "text": [
      "100%|█████████████████████████████████████| 2315/2315 [00:00<00:00, 4713.46it/s]\n"
     ]
    },
    {
     "name": "stdout",
     "output_type": "stream",
     "text": [
      "set of possible words includes like:\n",
      "['raise', 'slate', 'crate', 'irate', 'trace', 'arise', 'stare', 'snare', 'arose', 'least']\n",
      "Our suggestion for guess based on Entropy:  raise\n",
      "guessWordPatternOutput: [1, 0, 0, 0, 0]\n"
     ]
    },
    {
     "name": "stderr",
     "output_type": "stream",
     "text": [
      "100%|███████████████████████████████████████| 103/103 [00:00<00:00, 7829.87it/s]\n"
     ]
    },
    {
     "name": "stdout",
     "output_type": "stream",
     "text": [
      "set of possible words includes like:\n",
      "['court', 'truly', 'thorn', 'torch', 'front', 'throw', 'grunt', 'brunt', 'corny', 'chord']\n",
      "Our suggestion for guess based on Entropy:  corny\n",
      "guessWordPatternOutput: [0, 1, 1, 0, 0]\n"
     ]
    },
    {
     "name": "stderr",
     "output_type": "stream",
     "text": [
      "100%|█████████████████████████████████████████| 24/24 [00:00<00:00, 8108.85it/s]\n"
     ]
    },
    {
     "name": "stdout",
     "output_type": "stream",
     "text": [
      "set of possible words includes like:\n",
      "['droop', 'tumor', 'troop', 'proud', 'tutor', 'drool', 'brood', 'group', 'proof', 'grout']\n",
      "Our suggestion for guess based on Entropy:  brood\n",
      "guessWordPatternOutput: [0, 1, 2, 1, 2]\n"
     ]
    },
    {
     "name": "stderr",
     "output_type": "stream",
     "text": [
      "100%|███████████████████████████████████████████| 1/1 [00:00<00:00, 5652.70it/s]\n"
     ]
    },
    {
     "name": "stdout",
     "output_type": "stream",
     "text": [
      "set of possible words includes like:\n",
      "['fjord']\n",
      "Our suggestion for guess based on Entropy:  fjord\n",
      "guessWordPatternOutput: [2, 2, 2, 2, 2]\n",
      "You Won! : 183  times\n",
      "\n",
      "\n",
      "\n",
      "====RealAnswer to reach is  shape\n"
     ]
    },
    {
     "name": "stderr",
     "output_type": "stream",
     "text": [
      "100%|█████████████████████████████████████| 2315/2315 [00:00<00:00, 4743.00it/s]\n"
     ]
    },
    {
     "name": "stdout",
     "output_type": "stream",
     "text": [
      "set of possible words includes like:\n",
      "['raise', 'slate', 'crate', 'irate', 'trace', 'arise', 'stare', 'snare', 'arose', 'least']\n",
      "Our suggestion for guess based on Entropy:  irate\n",
      "guessWordPatternOutput: [0, 0, 2, 0, 2]\n"
     ]
    },
    {
     "name": "stderr",
     "output_type": "stream",
     "text": [
      "100%|█████████████████████████████████████████| 40/40 [00:00<00:00, 8338.58it/s]\n"
     ]
    },
    {
     "name": "stdout",
     "output_type": "stream",
     "text": [
      "set of possible words includes like:\n",
      "['shale', 'slave', 'scale', 'shape', 'phase', 'shave', 'shade', 'shake', 'spade', 'chase']\n",
      "Our suggestion for guess based on Entropy:  shave\n",
      "guessWordPatternOutput: [2, 2, 2, 0, 2]\n"
     ]
    },
    {
     "name": "stderr",
     "output_type": "stream",
     "text": [
      "100%|███████████████████████████████████████████| 5/5 [00:00<00:00, 8863.70it/s]\n"
     ]
    },
    {
     "name": "stdout",
     "output_type": "stream",
     "text": [
      "set of possible words includes like:\n",
      "['shade', 'shake', 'shame', 'shale', 'shape']\n",
      "Our suggestion for guess based on Entropy:  shale\n",
      "guessWordPatternOutput: [2, 2, 2, 0, 2]\n"
     ]
    },
    {
     "name": "stderr",
     "output_type": "stream",
     "text": [
      "100%|███████████████████████████████████████████| 4/4 [00:00<00:00, 8062.09it/s]\n"
     ]
    },
    {
     "name": "stdout",
     "output_type": "stream",
     "text": [
      "set of possible words includes like:\n",
      "['shape', 'shame', 'shade', 'shake']\n",
      "Our suggestion for guess based on Entropy:  shade\n",
      "guessWordPatternOutput: [2, 2, 2, 0, 2]\n"
     ]
    },
    {
     "name": "stderr",
     "output_type": "stream",
     "text": [
      "100%|███████████████████████████████████████████| 3/3 [00:00<00:00, 7672.51it/s]\n"
     ]
    },
    {
     "name": "stdout",
     "output_type": "stream",
     "text": [
      "set of possible words includes like:\n",
      "['shake', 'shape', 'shame']\n",
      "Our suggestion for guess based on Entropy:  shape\n",
      "guessWordPatternOutput: [2, 2, 2, 2, 2]\n",
      "You Won! : 184  times\n",
      "\n",
      "\n",
      "\n",
      "====RealAnswer to reach is  truly\n"
     ]
    },
    {
     "name": "stderr",
     "output_type": "stream",
     "text": [
      "100%|█████████████████████████████████████| 2315/2315 [00:00<00:00, 4749.51it/s]\n"
     ]
    },
    {
     "name": "stdout",
     "output_type": "stream",
     "text": [
      "set of possible words includes like:\n",
      "['raise', 'slate', 'crate', 'irate', 'trace', 'arise', 'stare', 'snare', 'arose', 'least']\n",
      "Our suggestion for guess based on Entropy:  raise\n",
      "guessWordPatternOutput: [1, 0, 0, 0, 0]\n"
     ]
    },
    {
     "name": "stderr",
     "output_type": "stream",
     "text": [
      "100%|███████████████████████████████████████| 103/103 [00:00<00:00, 7850.65it/s]\n"
     ]
    },
    {
     "name": "stdout",
     "output_type": "stream",
     "text": [
      "set of possible words includes like:\n",
      "['court', 'truly', 'thorn', 'torch', 'front', 'throw', 'grunt', 'brunt', 'corny', 'chord']\n",
      "Our suggestion for guess based on Entropy:  court\n",
      "guessWordPatternOutput: [0, 0, 2, 1, 1]\n"
     ]
    },
    {
     "name": "stderr",
     "output_type": "stream",
     "text": [
      "100%|███████████████████████████████████████████| 4/4 [00:00<00:00, 8351.03it/s]\n"
     ]
    },
    {
     "name": "stdout",
     "output_type": "stream",
     "text": [
      "set of possible words includes like:\n",
      "['trunk', 'trump', 'truly', 'truth']\n",
      "Our suggestion for guess based on Entropy:  truth\n",
      "guessWordPatternOutput: [2, 2, 2, 1, 0]\n"
     ]
    },
    {
     "name": "stderr",
     "output_type": "stream",
     "text": [
      "100%|███████████████████████████████████████████| 3/3 [00:00<00:00, 7315.65it/s]\n"
     ]
    },
    {
     "name": "stdout",
     "output_type": "stream",
     "text": [
      "set of possible words includes like:\n",
      "['trunk', 'truly', 'trump']\n",
      "Our suggestion for guess based on Entropy:  trunk\n",
      "guessWordPatternOutput: [2, 2, 2, 0, 0]\n"
     ]
    },
    {
     "name": "stderr",
     "output_type": "stream",
     "text": [
      "100%|███████████████████████████████████████████| 2/2 [00:00<00:00, 8371.86it/s]\n"
     ]
    },
    {
     "name": "stdout",
     "output_type": "stream",
     "text": [
      "set of possible words includes like:\n",
      "['trump', 'truly']\n",
      "Our suggestion for guess based on Entropy:  truly\n",
      "guessWordPatternOutput: [2, 2, 2, 2, 2]\n",
      "You Won! : 185  times\n",
      "\n",
      "\n",
      "\n",
      "====RealAnswer to reach is  evict\n"
     ]
    },
    {
     "name": "stderr",
     "output_type": "stream",
     "text": [
      "100%|█████████████████████████████████████| 2315/2315 [00:00<00:00, 4729.90it/s]\n"
     ]
    },
    {
     "name": "stdout",
     "output_type": "stream",
     "text": [
      "set of possible words includes like:\n",
      "['raise', 'slate', 'crate', 'irate', 'trace', 'arise', 'stare', 'snare', 'arose', 'least']\n",
      "Our suggestion for guess based on Entropy:  crate\n",
      "guessWordPatternOutput: [1, 0, 0, 1, 1]\n"
     ]
    },
    {
     "name": "stderr",
     "output_type": "stream",
     "text": [
      "100%|███████████████████████████████████████████| 8/8 [00:00<00:00, 7975.86it/s]\n"
     ]
    },
    {
     "name": "stdout",
     "output_type": "stream",
     "text": [
      "set of possible words includes like:\n",
      "['elect', 'eject', 'edict', 'evict', 'scent', 'ethic', 'octet', 'fetch']\n",
      "Our suggestion for guess based on Entropy:  fetch\n",
      "guessWordPatternOutput: [0, 1, 1, 2, 0]\n"
     ]
    },
    {
     "name": "stderr",
     "output_type": "stream",
     "text": [
      "100%|███████████████████████████████████████████| 4/4 [00:00<00:00, 8947.85it/s]\n"
     ]
    },
    {
     "name": "stdout",
     "output_type": "stream",
     "text": [
      "set of possible words includes like:\n",
      "['elect', 'edict', 'evict', 'eject']\n",
      "Our suggestion for guess based on Entropy:  evict\n",
      "guessWordPatternOutput: [2, 2, 2, 2, 2]\n",
      "You Won! : 186  times\n",
      "\n",
      "\n",
      "\n",
      "====RealAnswer to reach is  river\n"
     ]
    },
    {
     "name": "stderr",
     "output_type": "stream",
     "text": [
      "100%|█████████████████████████████████████| 2315/2315 [00:00<00:00, 4739.04it/s]\n"
     ]
    },
    {
     "name": "stdout",
     "output_type": "stream",
     "text": [
      "set of possible words includes like:\n",
      "['raise', 'slate', 'crate', 'irate', 'trace', 'arise', 'stare', 'snare', 'arose', 'least']\n",
      "Our suggestion for guess based on Entropy:  arise\n",
      "guessWordPatternOutput: [0, 1, 1, 0, 1]\n"
     ]
    },
    {
     "name": "stderr",
     "output_type": "stream",
     "text": [
      "100%|█████████████████████████████████████████| 34/34 [00:00<00:00, 8329.32it/s]\n"
     ]
    },
    {
     "name": "stdout",
     "output_type": "stream",
     "text": [
      "set of possible words includes like:\n",
      "['rivet', 'finer', 'diner', 'liner', 'ripen', 'miner', 'infer', 'liver', 'diver', 'filer']\n",
      "Our suggestion for guess based on Entropy:  ripen\n",
      "guessWordPatternOutput: [2, 2, 0, 2, 0]\n"
     ]
    },
    {
     "name": "stderr",
     "output_type": "stream",
     "text": [
      "100%|███████████████████████████████████████████| 3/3 [00:00<00:00, 8671.89it/s]\n"
     ]
    },
    {
     "name": "stdout",
     "output_type": "stream",
     "text": [
      "set of possible words includes like:\n",
      "['rider', 'river', 'rivet']\n",
      "Our suggestion for guess based on Entropy:  rivet\n",
      "guessWordPatternOutput: [2, 2, 2, 2, 0]\n"
     ]
    },
    {
     "name": "stderr",
     "output_type": "stream",
     "text": [
      "100%|███████████████████████████████████████████| 1/1 [00:00<00:00, 7410.43it/s]\n"
     ]
    },
    {
     "name": "stdout",
     "output_type": "stream",
     "text": [
      "set of possible words includes like:\n",
      "['river']\n",
      "Our suggestion for guess based on Entropy:  river\n",
      "guessWordPatternOutput: [2, 2, 2, 2, 2]\n",
      "You Won! : 187  times\n",
      "\n",
      "\n",
      "\n",
      "====RealAnswer to reach is  sound\n"
     ]
    },
    {
     "name": "stderr",
     "output_type": "stream",
     "text": [
      "100%|█████████████████████████████████████| 2315/2315 [00:00<00:00, 4731.75it/s]\n"
     ]
    },
    {
     "name": "stdout",
     "output_type": "stream",
     "text": [
      "set of possible words includes like:\n",
      "['raise', 'slate', 'crate', 'irate', 'trace', 'arise', 'stare', 'snare', 'arose', 'least']\n",
      "Our suggestion for guess based on Entropy:  snare\n",
      "guessWordPatternOutput: [2, 1, 0, 0, 0]\n"
     ]
    },
    {
     "name": "stderr",
     "output_type": "stream",
     "text": [
      "100%|█████████████████████████████████████████| 27/27 [00:00<00:00, 8628.94it/s]\n"
     ]
    },
    {
     "name": "stdout",
     "output_type": "stream",
     "text": [
      "set of possible words includes like:\n",
      "['sting', 'stung', 'stink', 'stunk', 'shunt', 'slung', 'sling', 'swung', 'slink', 'suing']\n",
      "Our suggestion for guess based on Entropy:  sting\n",
      "guessWordPatternOutput: [2, 0, 0, 2, 0]\n"
     ]
    },
    {
     "name": "stderr",
     "output_type": "stream",
     "text": [
      "100%|███████████████████████████████████████████| 5/5 [00:00<00:00, 9090.39it/s]\n"
     ]
    },
    {
     "name": "stdout",
     "output_type": "stream",
     "text": [
      "set of possible words includes like:\n",
      "['slunk', 'spunk', 'skunk', 'sound', 'sunny']\n",
      "Our suggestion for guess based on Entropy:  spunk\n",
      "guessWordPatternOutput: [2, 0, 2, 2, 0]\n"
     ]
    },
    {
     "name": "stderr",
     "output_type": "stream",
     "text": [
      "100%|███████████████████████████████████████████| 1/1 [00:00<00:00, 7244.05it/s]\n"
     ]
    },
    {
     "name": "stdout",
     "output_type": "stream",
     "text": [
      "set of possible words includes like:\n",
      "['sound']\n",
      "Our suggestion for guess based on Entropy:  sound\n",
      "guessWordPatternOutput: [2, 2, 2, 2, 2]\n",
      "You Won! : 188  times\n",
      "\n",
      "\n",
      "\n",
      "====RealAnswer to reach is  slurp\n"
     ]
    },
    {
     "name": "stderr",
     "output_type": "stream",
     "text": [
      "100%|█████████████████████████████████████| 2315/2315 [00:00<00:00, 4740.35it/s]\n"
     ]
    },
    {
     "name": "stdout",
     "output_type": "stream",
     "text": [
      "set of possible words includes like:\n",
      "['raise', 'slate', 'crate', 'irate', 'trace', 'arise', 'stare', 'snare', 'arose', 'least']\n",
      "Our suggestion for guess based on Entropy:  irate\n",
      "guessWordPatternOutput: [0, 1, 0, 0, 0]\n"
     ]
    },
    {
     "name": "stderr",
     "output_type": "stream",
     "text": [
      "100%|█████████████████████████████████████████| 61/61 [00:00<00:00, 8107.38it/s]\n"
     ]
    },
    {
     "name": "stdout",
     "output_type": "stream",
     "text": [
      "set of possible words includes like:\n",
      "['curry', 'curly', 'corny', 'hurry', 'lurch', 'horny', 'chord', 'lorry', 'surly', 'sorry']\n",
      "Our suggestion for guess based on Entropy:  curly\n",
      "guessWordPatternOutput: [0, 1, 1, 1, 0]\n"
     ]
    },
    {
     "name": "stderr",
     "output_type": "stream",
     "text": [
      "100%|███████████████████████████████████████████| 3/3 [00:00<00:00, 7635.26it/s]\n"
     ]
    },
    {
     "name": "stdout",
     "output_type": "stream",
     "text": [
      "set of possible words includes like:\n",
      "['blurb', 'slurp', 'flour']\n",
      "Our suggestion for guess based on Entropy:  slurp\n",
      "guessWordPatternOutput: [2, 2, 2, 2, 2]\n",
      "You Won! : 189  times\n",
      "\n",
      "\n",
      "\n",
      "====RealAnswer to reach is  zebra\n"
     ]
    },
    {
     "name": "stderr",
     "output_type": "stream",
     "text": [
      "100%|█████████████████████████████████████| 2315/2315 [00:00<00:00, 4739.17it/s]\n"
     ]
    },
    {
     "name": "stdout",
     "output_type": "stream",
     "text": [
      "set of possible words includes like:\n",
      "['raise', 'slate', 'crate', 'irate', 'trace', 'arise', 'stare', 'snare', 'arose', 'least']\n",
      "Our suggestion for guess based on Entropy:  crate\n",
      "guessWordPatternOutput: [0, 1, 1, 0, 1]\n"
     ]
    },
    {
     "name": "stderr",
     "output_type": "stream",
     "text": [
      "100%|█████████████████████████████████████████| 41/41 [00:00<00:00, 8144.67it/s]\n"
     ]
    },
    {
     "name": "stdout",
     "output_type": "stream",
     "text": [
      "set of possible words includes like:\n",
      "['lager', 'paler', 'baler', 'regal', 'gamer', 'gayer', 'wager', 'layer', 'relay', 'payer']\n",
      "Our suggestion for guess based on Entropy:  layer\n",
      "guessWordPatternOutput: [0, 1, 0, 1, 1]\n"
     ]
    },
    {
     "name": "stderr",
     "output_type": "stream",
     "text": [
      "100%|███████████████████████████████████████████| 3/3 [00:00<00:00, 8399.81it/s]\n"
     ]
    },
    {
     "name": "stdout",
     "output_type": "stream",
     "text": [
      "set of possible words includes like:\n",
      "['rehab', 'opera', 'zebra']\n",
      "Our suggestion for guess based on Entropy:  rehab\n",
      "guessWordPatternOutput: [1, 2, 0, 1, 1]\n"
     ]
    },
    {
     "name": "stderr",
     "output_type": "stream",
     "text": [
      "100%|███████████████████████████████████████████| 1/1 [00:00<00:00, 7049.25it/s]\n"
     ]
    },
    {
     "name": "stdout",
     "output_type": "stream",
     "text": [
      "set of possible words includes like:\n",
      "['zebra']\n",
      "Our suggestion for guess based on Entropy:  zebra\n",
      "guessWordPatternOutput: [2, 2, 2, 2, 2]\n",
      "You Won! : 190  times\n",
      "\n",
      "\n",
      "\n",
      "====RealAnswer to reach is  binge\n"
     ]
    },
    {
     "name": "stderr",
     "output_type": "stream",
     "text": [
      "100%|█████████████████████████████████████| 2315/2315 [00:00<00:00, 4739.94it/s]\n"
     ]
    },
    {
     "name": "stdout",
     "output_type": "stream",
     "text": [
      "set of possible words includes like:\n",
      "['raise', 'slate', 'crate', 'irate', 'trace', 'arise', 'stare', 'snare', 'arose', 'least']\n",
      "Our suggestion for guess based on Entropy:  slate\n",
      "guessWordPatternOutput: [0, 0, 0, 0, 2]\n"
     ]
    },
    {
     "name": "stderr",
     "output_type": "stream",
     "text": [
      "100%|███████████████████████████████████████| 107/107 [00:00<00:00, 7814.84it/s]\n"
     ]
    },
    {
     "name": "stdout",
     "output_type": "stream",
     "text": [
      "set of possible words includes like:\n",
      "['drone', 'price', 'crone', 'dirge', 'prone', 'gripe', 'grope', 'urine', 'rouge', 'crude']\n",
      "Our suggestion for guess based on Entropy:  gripe\n",
      "guessWordPatternOutput: [1, 0, 1, 0, 2]\n"
     ]
    },
    {
     "name": "stderr",
     "output_type": "stream",
     "text": [
      "100%|███████████████████████████████████████████| 3/3 [00:00<00:00, 7480.92it/s]\n"
     ]
    },
    {
     "name": "stdout",
     "output_type": "stream",
     "text": [
      "set of possible words includes like:\n",
      "['hinge', 'binge', 'midge']\n",
      "Our suggestion for guess based on Entropy:  hinge\n",
      "guessWordPatternOutput: [0, 2, 2, 2, 2]\n"
     ]
    },
    {
     "name": "stderr",
     "output_type": "stream",
     "text": [
      "100%|███████████████████████████████████████████| 1/1 [00:00<00:00, 5377.31it/s]\n"
     ]
    },
    {
     "name": "stdout",
     "output_type": "stream",
     "text": [
      "set of possible words includes like:\n",
      "['binge']\n",
      "Our suggestion for guess based on Entropy:  binge\n",
      "guessWordPatternOutput: [2, 2, 2, 2, 2]\n",
      "You Won! : 191  times\n",
      "\n",
      "\n",
      "\n",
      "====RealAnswer to reach is  hinge\n"
     ]
    },
    {
     "name": "stderr",
     "output_type": "stream",
     "text": [
      "100%|█████████████████████████████████████| 2315/2315 [00:00<00:00, 4743.46it/s]\n"
     ]
    },
    {
     "name": "stdout",
     "output_type": "stream",
     "text": [
      "set of possible words includes like:\n",
      "['raise', 'slate', 'crate', 'irate', 'trace', 'arise', 'stare', 'snare', 'arose', 'least']\n",
      "Our suggestion for guess based on Entropy:  slate\n",
      "guessWordPatternOutput: [0, 0, 0, 0, 2]\n"
     ]
    },
    {
     "name": "stderr",
     "output_type": "stream",
     "text": [
      "100%|███████████████████████████████████████| 107/107 [00:00<00:00, 7744.18it/s]\n"
     ]
    },
    {
     "name": "stdout",
     "output_type": "stream",
     "text": [
      "set of possible words includes like:\n",
      "['drone', 'price', 'crone', 'dirge', 'prone', 'gripe', 'grope', 'urine', 'rouge', 'crude']\n",
      "Our suggestion for guess based on Entropy:  dirge\n",
      "guessWordPatternOutput: [0, 2, 0, 2, 2]\n"
     ]
    },
    {
     "name": "stderr",
     "output_type": "stream",
     "text": [
      "100%|███████████████████████████████████████████| 2/2 [00:00<00:00, 7219.11it/s]\n"
     ]
    },
    {
     "name": "stdout",
     "output_type": "stream",
     "text": [
      "set of possible words includes like:\n",
      "['hinge', 'binge']\n",
      "Our suggestion for guess based on Entropy:  binge\n",
      "guessWordPatternOutput: [0, 2, 2, 2, 2]\n"
     ]
    },
    {
     "name": "stderr",
     "output_type": "stream",
     "text": [
      "100%|███████████████████████████████████████████| 1/1 [00:00<00:00, 6808.94it/s]\n"
     ]
    },
    {
     "name": "stdout",
     "output_type": "stream",
     "text": [
      "set of possible words includes like:\n",
      "['hinge']\n",
      "Our suggestion for guess based on Entropy:  hinge\n",
      "guessWordPatternOutput: [2, 2, 2, 2, 2]\n",
      "You Won! : 192  times\n",
      "\n",
      "\n",
      "\n",
      "====RealAnswer to reach is  sharp\n"
     ]
    },
    {
     "name": "stderr",
     "output_type": "stream",
     "text": [
      "100%|█████████████████████████████████████| 2315/2315 [00:00<00:00, 4748.82it/s]\n"
     ]
    },
    {
     "name": "stdout",
     "output_type": "stream",
     "text": [
      "set of possible words includes like:\n",
      "['raise', 'slate', 'crate', 'irate', 'trace', 'arise', 'stare', 'snare', 'arose', 'least']\n",
      "Our suggestion for guess based on Entropy:  arose\n",
      "guessWordPatternOutput: [1, 1, 0, 1, 0]\n"
     ]
    },
    {
     "name": "stderr",
     "output_type": "stream",
     "text": [
      "100%|█████████████████████████████████████████| 21/21 [00:00<00:00, 8574.80it/s]\n"
     ]
    },
    {
     "name": "stdout",
     "output_type": "stream",
     "text": [
      "set of possible words includes like:\n",
      "['strap', 'stray', 'stark', 'smart', 'scrap', 'spray', 'straw', 'sharp', 'spark', 'stair']\n",
      "Our suggestion for guess based on Entropy:  straw\n",
      "guessWordPatternOutput: [2, 0, 1, 1, 0]\n"
     ]
    },
    {
     "name": "stderr",
     "output_type": "stream",
     "text": [
      "100%|███████████████████████████████████████████| 7/7 [00:00<00:00, 9152.16it/s]\n"
     ]
    },
    {
     "name": "stdout",
     "output_type": "stream",
     "text": [
      "set of possible words includes like:\n",
      "['sharp', 'shark', 'spark', 'shard', 'scarf', 'scary', 'snarl']\n",
      "Our suggestion for guess based on Entropy:  scary\n",
      "guessWordPatternOutput: [2, 0, 2, 2, 0]\n"
     ]
    },
    {
     "name": "stderr",
     "output_type": "stream",
     "text": [
      "100%|███████████████████████████████████████████| 5/5 [00:00<00:00, 8195.20it/s]\n"
     ]
    },
    {
     "name": "stdout",
     "output_type": "stream",
     "text": [
      "set of possible words includes like:\n",
      "['sharp', 'shark', 'spark', 'shard', 'snarl']\n",
      "Our suggestion for guess based on Entropy:  snarl\n",
      "guessWordPatternOutput: [2, 0, 2, 2, 0]\n"
     ]
    },
    {
     "name": "stderr",
     "output_type": "stream",
     "text": [
      "100%|███████████████████████████████████████████| 4/4 [00:00<00:00, 8793.09it/s]\n"
     ]
    },
    {
     "name": "stdout",
     "output_type": "stream",
     "text": [
      "set of possible words includes like:\n",
      "['spark', 'shard', 'sharp', 'shark']\n",
      "Our suggestion for guess based on Entropy:  sharp\n",
      "guessWordPatternOutput: [2, 2, 2, 2, 2]\n",
      "You Won! : 193  times\n",
      "\n",
      "\n",
      "\n",
      "====RealAnswer to reach is  laden\n"
     ]
    },
    {
     "name": "stderr",
     "output_type": "stream",
     "text": [
      "100%|█████████████████████████████████████| 2315/2315 [00:00<00:00, 4756.52it/s]\n"
     ]
    },
    {
     "name": "stdout",
     "output_type": "stream",
     "text": [
      "set of possible words includes like:\n",
      "['raise', 'slate', 'crate', 'irate', 'trace', 'arise', 'stare', 'snare', 'arose', 'least']\n",
      "Our suggestion for guess based on Entropy:  raise\n",
      "guessWordPatternOutput: [0, 2, 0, 0, 1]\n"
     ]
    },
    {
     "name": "stderr",
     "output_type": "stream",
     "text": [
      "100%|█████████████████████████████████████████| 20/20 [00:00<00:00, 8220.10it/s]\n"
     ]
    },
    {
     "name": "stdout",
     "output_type": "stream",
     "text": [
      "set of possible words includes like:\n",
      "['navel', 'panel', 'laden', 'camel', 'gavel', 'valet', 'eaten', 'taken', 'haven', 'bagel']\n",
      "Our suggestion for guess based on Entropy:  navel\n",
      "guessWordPatternOutput: [1, 2, 0, 2, 1]\n"
     ]
    },
    {
     "name": "stderr",
     "output_type": "stream",
     "text": [
      "100%|███████████████████████████████████████████| 1/1 [00:00<00:00, 7307.15it/s]\n"
     ]
    },
    {
     "name": "stdout",
     "output_type": "stream",
     "text": [
      "set of possible words includes like:\n",
      "['laden']\n",
      "Our suggestion for guess based on Entropy:  laden\n",
      "guessWordPatternOutput: [2, 2, 2, 2, 2]\n",
      "You Won! : 194  times\n",
      "\n",
      "\n",
      "\n",
      "====RealAnswer to reach is  focal\n"
     ]
    },
    {
     "name": "stderr",
     "output_type": "stream",
     "text": [
      "100%|█████████████████████████████████████| 2315/2315 [00:00<00:00, 4704.54it/s]\n"
     ]
    },
    {
     "name": "stdout",
     "output_type": "stream",
     "text": [
      "set of possible words includes like:\n",
      "['raise', 'slate', 'crate', 'irate', 'trace', 'arise', 'stare', 'snare', 'arose', 'least']\n",
      "Our suggestion for guess based on Entropy:  slate\n",
      "guessWordPatternOutput: [0, 1, 1, 0, 0]\n"
     ]
    },
    {
     "name": "stderr",
     "output_type": "stream",
     "text": [
      "100%|█████████████████████████████████████████| 58/58 [00:00<00:00, 7692.32it/s]\n"
     ]
    },
    {
     "name": "stdout",
     "output_type": "stream",
     "text": [
      "set of possible words includes like:\n",
      "['moral', 'royal', 'molar', 'coral', 'vocal', 'carol', 'polar', 'valor', 'rally', 'rival']\n",
      "Our suggestion for guess based on Entropy:  valor\n",
      "guessWordPatternOutput: [0, 1, 1, 1, 0]\n"
     ]
    },
    {
     "name": "stderr",
     "output_type": "stream",
     "text": [
      "100%|███████████████████████████████████████████| 7/7 [00:00<00:00, 8314.96it/s]\n"
     ]
    },
    {
     "name": "stdout",
     "output_type": "stream",
     "text": [
      "set of possible words includes like:\n",
      "['local', 'loyal', 'focal', 'afoul', 'offal', 'zonal', 'modal']\n",
      "Our suggestion for guess based on Entropy:  modal\n",
      "guessWordPatternOutput: [0, 2, 0, 2, 2]\n"
     ]
    },
    {
     "name": "stderr",
     "output_type": "stream",
     "text": [
      "100%|███████████████████████████████████████████| 4/4 [00:00<00:00, 8529.34it/s]\n"
     ]
    },
    {
     "name": "stdout",
     "output_type": "stream",
     "text": [
      "set of possible words includes like:\n",
      "['local', 'loyal', 'focal', 'zonal']\n",
      "Our suggestion for guess based on Entropy:  local\n",
      "guessWordPatternOutput: [1, 2, 2, 2, 2]\n"
     ]
    },
    {
     "name": "stderr",
     "output_type": "stream",
     "text": [
      "100%|███████████████████████████████████████████| 1/1 [00:00<00:00, 6574.14it/s]\n"
     ]
    },
    {
     "name": "stdout",
     "output_type": "stream",
     "text": [
      "set of possible words includes like:\n",
      "['focal']\n",
      "Our suggestion for guess based on Entropy:  focal\n",
      "guessWordPatternOutput: [2, 2, 2, 2, 2]\n",
      "You Won! : 195  times\n",
      "\n",
      "\n",
      "\n",
      "====RealAnswer to reach is  chafe\n"
     ]
    },
    {
     "name": "stderr",
     "output_type": "stream",
     "text": [
      "100%|█████████████████████████████████████| 2315/2315 [00:00<00:00, 4742.63it/s]\n"
     ]
    },
    {
     "name": "stdout",
     "output_type": "stream",
     "text": [
      "set of possible words includes like:\n",
      "['raise', 'slate', 'crate', 'irate', 'trace', 'arise', 'stare', 'snare', 'arose', 'least']\n",
      "Our suggestion for guess based on Entropy:  stare\n",
      "guessWordPatternOutput: [0, 0, 2, 0, 2]\n"
     ]
    },
    {
     "name": "stderr",
     "output_type": "stream",
     "text": [
      "100%|█████████████████████████████████████████| 24/24 [00:00<00:00, 8602.23it/s]\n"
     ]
    },
    {
     "name": "stdout",
     "output_type": "stream",
     "text": [
      "set of possible words includes like:\n",
      "['glade', 'plane', 'glaze', 'flake', 'flame', 'blade', 'place', 'blame', 'blaze', 'leave']\n",
      "Our suggestion for guess based on Entropy:  blame\n",
      "guessWordPatternOutput: [0, 0, 2, 0, 2]\n"
     ]
    },
    {
     "name": "stderr",
     "output_type": "stream",
     "text": [
      "100%|█████████████████████████████████████████| 11/11 [00:00<00:00, 9212.73it/s]\n"
     ]
    },
    {
     "name": "stdout",
     "output_type": "stream",
     "text": [
      "set of possible words includes like:\n",
      "['weave', 'heave', 'knave', 'awake', 'peace', 'adage', 'agape', 'evade', 'chafe', 'quake']\n",
      "Our suggestion for guess based on Entropy:  weave\n",
      "guessWordPatternOutput: [0, 1, 2, 0, 2]\n"
     ]
    },
    {
     "name": "stderr",
     "output_type": "stream",
     "text": [
      "100%|███████████████████████████████████████████| 5/5 [00:00<00:00, 9258.95it/s]\n"
     ]
    },
    {
     "name": "stdout",
     "output_type": "stream",
     "text": [
      "set of possible words includes like:\n",
      "['agape', 'adage', 'chafe', 'quake', 'inane']\n",
      "Our suggestion for guess based on Entropy:  inane\n",
      "guessWordPatternOutput: [0, 0, 2, 0, 2]\n"
     ]
    },
    {
     "name": "stderr",
     "output_type": "stream",
     "text": [
      "100%|███████████████████████████████████████████| 4/4 [00:00<00:00, 8674.88it/s]\n"
     ]
    },
    {
     "name": "stdout",
     "output_type": "stream",
     "text": [
      "set of possible words includes like:\n",
      "['agape', 'adage', 'chafe', 'quake']\n",
      "Our suggestion for guess based on Entropy:  adage\n",
      "guessWordPatternOutput: [1, 0, 2, 0, 2]\n"
     ]
    },
    {
     "name": "stderr",
     "output_type": "stream",
     "text": [
      "100%|███████████████████████████████████████████| 2/2 [00:00<00:00, 6961.50it/s]\n"
     ]
    },
    {
     "name": "stdout",
     "output_type": "stream",
     "text": [
      "set of possible words includes like:\n",
      "['chafe', 'quake']\n",
      "Our suggestion for guess based on Entropy:  chafe\n",
      "guessWordPatternOutput: [2, 2, 2, 2, 2]\n",
      "You Won! : 196  times\n",
      "\n",
      "\n",
      "\n",
      "====RealAnswer to reach is  sleet\n"
     ]
    },
    {
     "name": "stderr",
     "output_type": "stream",
     "text": [
      "100%|█████████████████████████████████████| 2315/2315 [00:00<00:00, 4740.09it/s]\n"
     ]
    },
    {
     "name": "stdout",
     "output_type": "stream",
     "text": [
      "set of possible words includes like:\n",
      "['raise', 'slate', 'crate', 'irate', 'trace', 'arise', 'stare', 'snare', 'arose', 'least']\n",
      "Our suggestion for guess based on Entropy:  stare\n",
      "guessWordPatternOutput: [2, 1, 0, 0, 1]\n"
     ]
    },
    {
     "name": "stderr",
     "output_type": "stream",
     "text": [
      "100%|█████████████████████████████████████████| 10/10 [00:00<00:00, 7806.26it/s]\n"
     ]
    },
    {
     "name": "stdout",
     "output_type": "stream",
     "text": [
      "set of possible words includes like:\n",
      "['slept', 'spelt', 'sleet', 'swept', 'spent', 'smelt', 'sweet', 'sheet', 'setup', 'scent']\n",
      "Our suggestion for guess based on Entropy:  sheet\n",
      "guessWordPatternOutput: [2, 0, 2, 2, 2]\n"
     ]
    },
    {
     "name": "stderr",
     "output_type": "stream",
     "text": [
      "100%|███████████████████████████████████████████| 2/2 [00:00<00:00, 8305.55it/s]\n"
     ]
    },
    {
     "name": "stdout",
     "output_type": "stream",
     "text": [
      "set of possible words includes like:\n",
      "['sleet', 'sweet']\n",
      "Our suggestion for guess based on Entropy:  sleet\n",
      "guessWordPatternOutput: [2, 2, 2, 2, 2]\n",
      "You Won! : 197  times\n",
      "\n",
      "\n",
      "\n",
      "====RealAnswer to reach is  creek\n"
     ]
    },
    {
     "name": "stderr",
     "output_type": "stream",
     "text": [
      "100%|█████████████████████████████████████| 2315/2315 [00:00<00:00, 4724.77it/s]\n"
     ]
    },
    {
     "name": "stdout",
     "output_type": "stream",
     "text": [
      "set of possible words includes like:\n",
      "['raise', 'slate', 'crate', 'irate', 'trace', 'arise', 'stare', 'snare', 'arose', 'least']\n",
      "Our suggestion for guess based on Entropy:  least\n",
      "guessWordPatternOutput: [0, 1, 0, 0, 0]\n"
     ]
    },
    {
     "name": "stderr",
     "output_type": "stream",
     "text": [
      "100%|███████████████████████████████████████| 207/207 [00:00<00:00, 6989.89it/s]\n"
     ]
    },
    {
     "name": "stdout",
     "output_type": "stream",
     "text": [
      "set of possible words includes like:\n",
      "['drone', 'diner', 'cried', 'cider', 'pride', 'crone', 'pried', 'price', 'prone', 'drive']\n",
      "Our suggestion for guess based on Entropy:  pried\n",
      "guessWordPatternOutput: [0, 2, 0, 2, 0]\n"
     ]
    },
    {
     "name": "stderr",
     "output_type": "stream",
     "text": [
      "100%|███████████████████████████████████████████| 3/3 [00:00<00:00, 7874.16it/s]\n"
     ]
    },
    {
     "name": "stdout",
     "output_type": "stream",
     "text": [
      "set of possible words includes like:\n",
      "['green', 'creek', 'freer']\n",
      "Our suggestion for guess based on Entropy:  creek\n",
      "guessWordPatternOutput: [2, 2, 2, 2, 2]\n",
      "You Won! : 198  times\n",
      "\n",
      "\n",
      "\n",
      "====RealAnswer to reach is  chuck\n"
     ]
    },
    {
     "name": "stderr",
     "output_type": "stream",
     "text": [
      "100%|█████████████████████████████████████| 2315/2315 [00:00<00:00, 4736.58it/s]\n"
     ]
    },
    {
     "name": "stdout",
     "output_type": "stream",
     "text": [
      "set of possible words includes like:\n",
      "['raise', 'slate', 'crate', 'irate', 'trace', 'arise', 'stare', 'snare', 'arose', 'least']\n",
      "Our suggestion for guess based on Entropy:  arise\n",
      "guessWordPatternOutput: [0, 0, 0, 0, 0]\n"
     ]
    },
    {
     "name": "stderr",
     "output_type": "stream",
     "text": [
      "100%|███████████████████████████████████████| 168/168 [00:00<00:00, 7599.03it/s]\n"
     ]
    },
    {
     "name": "stdout",
     "output_type": "stream",
     "text": [
      "set of possible words includes like:\n",
      "['mulch', 'lunch', 'cloth', 'could', 'clung', 'clump', 'blunt', 'gulch', 'bunch', 'blond']\n",
      "Our suggestion for guess based on Entropy:  could\n",
      "guessWordPatternOutput: [2, 0, 2, 0, 0]\n"
     ]
    },
    {
     "name": "stderr",
     "output_type": "stream",
     "text": [
      "100%|███████████████████████████████████████████| 3/3 [00:00<00:00, 7888.97it/s]\n"
     ]
    },
    {
     "name": "stdout",
     "output_type": "stream",
     "text": [
      "set of possible words includes like:\n",
      "['chunk', 'chuck', 'chump']\n",
      "Our suggestion for guess based on Entropy:  chump\n",
      "guessWordPatternOutput: [2, 2, 2, 0, 0]\n"
     ]
    },
    {
     "name": "stderr",
     "output_type": "stream",
     "text": [
      "100%|███████████████████████████████████████████| 2/2 [00:00<00:00, 6326.25it/s]\n"
     ]
    },
    {
     "name": "stdout",
     "output_type": "stream",
     "text": [
      "set of possible words includes like:\n",
      "['chunk', 'chuck']\n",
      "Our suggestion for guess based on Entropy:  chuck\n",
      "guessWordPatternOutput: [2, 2, 2, 2, 2]\n",
      "You Won! : 199  times\n",
      "\n",
      "\n",
      "\n",
      "====RealAnswer to reach is  dirty\n"
     ]
    },
    {
     "name": "stderr",
     "output_type": "stream",
     "text": [
      "100%|█████████████████████████████████████| 2315/2315 [00:00<00:00, 4743.43it/s]\n"
     ]
    },
    {
     "name": "stdout",
     "output_type": "stream",
     "text": [
      "set of possible words includes like:\n",
      "['raise', 'slate', 'crate', 'irate', 'trace', 'arise', 'stare', 'snare', 'arose', 'least']\n",
      "Our suggestion for guess based on Entropy:  raise\n",
      "guessWordPatternOutput: [1, 0, 1, 0, 0]\n"
     ]
    },
    {
     "name": "stderr",
     "output_type": "stream",
     "text": [
      "100%|█████████████████████████████████████████| 23/23 [00:00<00:00, 8584.94it/s]\n"
     ]
    },
    {
     "name": "stdout",
     "output_type": "stream",
     "text": [
      "set of possible words includes like:\n",
      "['droit', 'groin', 'orbit', 'choir', 'irony', 'broil', 'dirty', 'micro', 'lyric', 'birch']\n",
      "Our suggestion for guess based on Entropy:  micro\n",
      "guessWordPatternOutput: [0, 2, 0, 1, 0]\n"
     ]
    },
    {
     "name": "stderr",
     "output_type": "stream",
     "text": [
      "100%|███████████████████████████████████████████| 4/4 [00:00<00:00, 8928.80it/s]\n"
     ]
    },
    {
     "name": "stdout",
     "output_type": "stream",
     "text": [
      "set of possible words includes like:\n",
      "['birth', 'girly', 'girth', 'dirty']\n",
      "Our suggestion for guess based on Entropy:  girly\n",
      "guessWordPatternOutput: [0, 2, 2, 0, 2]\n"
     ]
    },
    {
     "name": "stderr",
     "output_type": "stream",
     "text": [
      "100%|███████████████████████████████████████████| 1/1 [00:00<00:00, 7397.36it/s]"
     ]
    },
    {
     "name": "stdout",
     "output_type": "stream",
     "text": [
      "set of possible words includes like:\n",
      "['dirty']\n",
      "Our suggestion for guess based on Entropy:  dirty\n",
      "guessWordPatternOutput: [2, 2, 2, 2, 2]\n",
      "You Won! : 200  times\n",
      "\n",
      "\n",
      "\n"
     ]
    },
    {
     "name": "stderr",
     "output_type": "stream",
     "text": [
      "\n"
     ]
    }
   ],
   "source": [
    "# Statistical Analysis for number of trails\n",
    "countSum = 0\n",
    "totalTrial = 0\n",
    "guessCountToWin = list()\n",
    "for noOfTrial in range(200):\n",
    "    sm = 0\n",
    "    realAnswer = random.choice(curatedWordList)\n",
    "    print(\"====RealAnswer to reach is \", realAnswer)\n",
    "    possibleWords = set(curatedWordList)\n",
    "\n",
    "    for _ in range(10):\n",
    "        entropies = calculateEntropies( possibleWords, wordPatternMap)\n",
    "        print(\"set of possible words includes like:\")\n",
    "        print([sample_word[0] for sample_word in sorted(entropies.items(), key=lambda sample_word: -sample_word[1])[:10]])\n",
    "\n",
    "    #   Pick max entropy word\n",
    "        guessWord = random.choice([x[0] for x in sorted(entropies.items(), key=lambda x: -x[1])[:10]])\n",
    "        print('Our suggestion for guess based on Entropy: ', guessWord)\n",
    "        \n",
    "        sm += 1\n",
    "        guessWordPatternOutput = [0, 0, 0, 0, 0]\n",
    "        for i, l1 in enumerate(guessWord):\n",
    "            guessWordPatternOutput[i] = int(l1 in realAnswer)\n",
    "\n",
    "        for i, (l1, l2) in enumerate(zip(guessWord, realAnswer)):\n",
    "            if l1 == l2:\n",
    "                guessWordPatternOutput[i] = 2\n",
    "\n",
    "        print('guessWordPatternOutput:', guessWordPatternOutput)\n",
    "        if guessWord == realAnswer:\n",
    "            guessCountToWin.append(sm)\n",
    "            countSum += sm\n",
    "            print('You Won! :',  len(guessCountToWin), ' times')\n",
    "            print()\n",
    "            print()\n",
    "            print()\n",
    "            break\n",
    "    #     print(\"wordPatternMap\", wordPatternMap[guessWord])\n",
    "        words = wordPatternMap[guessWord][tuple(guessWordPatternOutput)]\n",
    "    #     print(\"====words\", words)\n",
    "        possibleWords = possibleWords.intersection(words)\n"
   ]
  },
  {
   "cell_type": "code",
   "execution_count": 16,
   "id": "fd6490b2",
   "metadata": {},
   "outputs": [
    {
     "name": "stdout",
     "output_type": "stream",
     "text": [
      "=====avgGuessCount 4.4\n",
      "totalTrial 5\n",
      "guess array [5, 3, 7, 3, 4]\n"
     ]
    }
   ],
   "source": [
    "print(\"=====avgGuessCount\", countSum / len(guessCountToWin))\n",
    "print(\"totalTrial\", len(guessCountToWin))\n",
    "print(\"guess array\", guessCountToWin)"
   ]
  },
  {
   "cell_type": "code",
   "execution_count": null,
   "id": "50862c87",
   "metadata": {},
   "outputs": [],
   "source": []
  }
 ],
 "metadata": {
  "kernelspec": {
   "display_name": "Python 3 (ipykernel)",
   "language": "python",
   "name": "python3"
  },
  "language_info": {
   "codemirror_mode": {
    "name": "ipython",
    "version": 3
   },
   "file_extension": ".py",
   "mimetype": "text/x-python",
   "name": "python",
   "nbconvert_exporter": "python",
   "pygments_lexer": "ipython3",
   "version": "3.9.7"
  }
 },
 "nbformat": 4,
 "nbformat_minor": 5
}

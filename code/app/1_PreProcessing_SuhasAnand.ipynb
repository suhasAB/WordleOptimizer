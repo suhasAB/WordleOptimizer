{
 "cells": [
  {
   "cell_type": "markdown",
   "id": "b759d219",
   "metadata": {
    "pycharm": {
     "name": "#%% md\n"
    }
   },
   "source": [
    "Dataset of the Project Wordle Optimization using Information Theory is a list of 5 letter words obtained by web scraping through source code of wordle website.\n",
    "![WebScrapingWords](https://github.com/suhasAB/WordleOptimizer/blob/main/paper/images/wordle%20words%20webscraping.png?raw=true)"
   ]
  },
  {
   "cell_type": "code",
   "execution_count": 1,
   "id": "6cc5d3a7",
   "metadata": {},
   "outputs": [],
   "source": [
    "import json\n",
    "import urllib.request\n",
    "import pandas as pd\n",
    "import numpy as np"
   ]
  },
  {
   "cell_type": "code",
   "execution_count": 2,
   "id": "72c8c327",
   "metadata": {
    "pycharm": {
     "name": "#%%\n"
    }
   },
   "outputs": [],
   "source": [
    "with open(r'./data/raw/raw_wordle_script.txt', encoding='utf-8') as f:\n",
    "    wordle_script = f.read()\n",
    "    \n",
    "raw_word_list = wordle_script.split('var La=[')[1].split('],Ia=\"present\"')[0]\n",
    "\n",
    "raw_words = raw_word_list.split(',')\n",
    "wordle_words = []\n",
    "for raw_word in raw_words:\n",
    "    word = raw_word.strip('\"')\n",
    "    wordle_words.append(word)\n",
    "\n",
    "# fix two errors at the intersection of the recognizable words list La and all words list Ta\n",
    "wordle_words[2314] = 'shave'\n",
    "wordle_words[2315] = 'aahed'\n",
    "\n",
    "curated_words = wordle_words[:2315]\n",
    "\n",
    "with open(r'data/processed/wordle_words.json', 'w') as outfile:\n",
    "    json.dump(wordle_words, outfile)\n",
    "    "
   ]
  },
  {
   "cell_type": "code",
   "execution_count": 3,
   "id": "c68c0773",
   "metadata": {
    "pycharm": {
     "name": "#%%\n"
    }
   },
   "outputs": [
    {
     "name": "stdout",
     "output_type": "stream",
     "text": [
      "12972\n",
      "2315\n"
     ]
    }
   ],
   "source": [
    "print(len(wordle_words))\n",
    "print(len(curated_words))"
   ]
  },
  {
   "cell_type": "markdown",
   "id": "8c4e05e6",
   "metadata": {},
   "source": [
    "We have to combine Entropy with Relative word frequency probabiliy to evaluate the best. \n",
    "To find the Frequency of English words,we use Google books common words frequency evaluation dataset available at http://norvig.com/google-books-common-words.txt. This list contains words of all charecter lenghts. We have filtered out 5 letter words using below code and maps them in a tuple pair,with decreasing order of relative frequency."
   ]
  },
  {
   "cell_type": "code",
   "execution_count": 4,
   "id": "bd67784d",
   "metadata": {
    "pycharm": {
     "name": "#%%\n"
    }
   },
   "outputs": [],
   "source": [
    "#filtering out most frequent 5 letter words from google-books-common-words\n",
    "five_letter_frequency = []\n",
    "for line in urllib.request.urlopen(r'http://norvig.com/google-books-common-words.txt'):\n",
    "    line = (line.decode('utf-8')).split('\\t')\n",
    "    word = line[0].lower()\n",
    "    freq = line[1].split('\\n')[0]\n",
    "    if len(word) == 5:\n",
    "        five_letter_frequency.append((word, freq))"
   ]
  },
  {
   "cell_type": "code",
   "execution_count": 5,
   "id": "d02adc45",
   "metadata": {},
   "outputs": [
    {
     "name": "stdout",
     "output_type": "stream",
     "text": [
      "('which', '3140226612')\n",
      "('their', '2152980325')\n",
      "('there', '1623700147')\n",
      "('would', '1472811049')\n",
      "('other', '1383185827')\n",
      "('these', '1305787385')\n",
      "('about', '1070877995')\n",
      "('first', '923189150')\n",
      "('could', '886891028')\n",
      "('after', '802220137')\n",
      "('those', '691668501')\n",
      "('where', '671644491')\n",
      "('being', '616194541')\n",
      "('under', '585610545')\n",
      "('years', '563247544')\n",
      "('great', '557149997')\n",
      "('state', '553386027')\n",
      "('world', '505870068')\n",
      "('three', '487787199')\n",
      "('while', '483440546')\n"
     ]
    }
   ],
   "source": [
    "#Top 20 most frequently used English 5 letter words\n",
    "for i in range(20):\n",
    "    print(five_letter_frequency[i])"
   ]
  },
  {
   "cell_type": "code",
   "execution_count": 6,
   "id": "bafa3b84",
   "metadata": {},
   "outputs": [
    {
     "name": "stdout",
     "output_type": "stream",
     "text": [
      "             freq  rel_freq\n",
      "0                          \n",
      "which  3140226612  1.000000\n",
      "their  2152980325  0.685613\n",
      "there  1623700147  0.517065\n",
      "would  1472811049  0.469014\n",
      "other  1383185827  0.440473\n"
     ]
    },
    {
     "data": {
      "image/png": "[encoded data removed]",
      "text/plain": [
       "<Figure size 432x288 with 1 Axes>"
      ]
     },
     "metadata": {
      "needs_background": "light"
     },
     "output_type": "display_data"
    }
   ],
   "source": [
    "#Calculating Relative Frequency and comparing it with Absolute Frequency of Most Common Words\n",
    "flw_freqdf = pd.DataFrame(five_letter_frequency).set_index(0).astype('int64')\n",
    "flw_freqdf.columns = ['freq'] \n",
    "np.log10(flw_freqdf).hist(bins=20)\n",
    "flw_freqdf['rel_freq'] = flw_freqdf / flw_freqdf.max()\n",
    "flw_freqdf.to_csv(r'..\\data\\processed\\flw_with_frequencies.csv')\n",
    "print(flw_freqdf.head(5))"
   ]
  },
  {
   "cell_type": "code",
   "execution_count": 7,
   "id": "55455fb9",
   "metadata": {},
   "outputs": [
    {
     "name": "stdout",
     "output_type": "stream",
     "text": [
      "[NbConvertApp] Converting notebook 1_PreProcessing_SuhasAnand.ipynb to python\n",
      "[NbConvertApp] Writing 2560 bytes to 1_PreProcessing_SuhasAnand.py\n"
     ]
    }
   ],
   "source": [
    "!jupyter nbconvert 1_PreProcessing_SuhasAnand.ipynb --to python"
   ]
  }
 ],
 "metadata": {
  "kernelspec": {
   "display_name": "Python 3 (ipykernel)",
   "language": "python",
   "name": "python3"
  },
  "language_info": {
   "codemirror_mode": {
    "name": "ipython",
    "version": 3
   },
   "file_extension": ".py",
   "mimetype": "text/x-python",
   "name": "python",
   "nbconvert_exporter": "python",
   "pygments_lexer": "ipython3",
   "version": "3.9.12"
  }
 },
 "nbformat": 4,
 "nbformat_minor": 5
}

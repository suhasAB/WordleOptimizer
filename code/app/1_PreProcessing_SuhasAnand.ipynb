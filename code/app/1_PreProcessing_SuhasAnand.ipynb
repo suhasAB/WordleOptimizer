{
 "cells": [
  {
   "cell_type": "markdown",
   "id": "b759d219",
   "metadata": {
    "pycharm": {
     "name": "#%% md\n"
    }
   },
   "source": [
    "Dataset of the Project Wordle Optimization using Information Theory is a list of 5 letter words obtained by web scraping through source code of wordle website.\n",
    "![WebScrapingWords](https://github.com/suhasAB/WordleOptimizer/blob/main/paper/images/wordle%20words%20webscraping.png?raw=true)"
   ]
  },
  {
   "cell_type": "code",
   "execution_count": 2,
   "outputs": [],
   "source": [
    "import json\n",
    "with open(r'./data/raw/raw_wordle_script.txt', encoding='utf-8') as f:\n",
    "    wordle_script = f.read()\n",
    "    \n",
    "raw_word_list = wordle_script.split('var La=[')[1].split('],Ia=\"present\"')[0]\n",
    "\n",
    "raw_words = raw_word_list.split(',')\n",
    "wordle_words = []\n",
    "for raw_word in raw_words:\n",
    "    word = raw_word.strip('\"')\n",
    "    wordle_words.append(word)\n",
    "\n",
    "# fix two errors at the intersection of the recognizable words list La and all words list Ta\n",
    "wordle_words[2314] = 'shave'\n",
    "wordle_words[2315] = 'aahed'\n",
    "\n",
    "curated_words = wordle_words[:2315]\n",
    "\n",
    "with open(r'data/processed/wordle_words.json', 'w') as outfile:\n",
    "    json.dump(wordle_words, outfile)\n",
    "    "
   ],
   "metadata": {
    "collapsed": false,
    "pycharm": {
     "name": "#%%\n"
    }
   }
  },
  {
   "cell_type": "code",
   "execution_count": 3,
   "outputs": [
    {
     "name": "stdout",
     "output_type": "stream",
     "text": [
      "12972\n",
      "2315\n"
     ]
    }
   ],
   "source": [
    "print(len(wordle_words))\n",
    "print(len(curated_words))"
   ],
   "metadata": {
    "collapsed": false,
    "pycharm": {
     "name": "#%%\n"
    }
   }
  },
  {
   "cell_type": "code",
   "execution_count": null,
   "id": "bd67784d",
   "metadata": {
    "pycharm": {
     "name": "#%%\n"
    }
   },
   "outputs": [],
   "source": []
  }
 ],
 "metadata": {
  "kernelspec": {
   "display_name": "Python 3 (ipykernel)",
   "language": "python",
   "name": "python3"
  },
  "language_info": {
   "codemirror_mode": {
    "name": "ipython",
    "version": 3
   },
   "file_extension": ".py",
   "mimetype": "text/x-python",
   "name": "python",
   "nbconvert_exporter": "python",
   "pygments_lexer": "ipython3",
   "version": "3.9.12"
  }
 },
 "nbformat": 4,
 "nbformat_minor": 5
}
{
 "cells": [
  {
   "cell_type": "markdown",
   "id": "b759d219",
   "metadata": {},
   "source": [
    "Dataset of the Project Wordle Optimization using Information Theory is a list of 5 letter words obtained by web scraping through source code of wordle website.\n",
    "![WebScrapingWords](https://github.com/suhasAB/WordleOptimizer/blob/main/paper/images/wordle%20words%20webscraping.png?raw=true)"
   ]
  },
  {
   "cell_type": "code",
   "execution_count": 20,
   "id": "6305cad5",
   "metadata": {},
   "outputs": [
    {
     "ename": "FileNotFoundError",
     "evalue": "[Errno 2] No such file or directory: 'data\\\\words.txt'",
     "output_type": "error",
     "traceback": [
      "\u001b[0;31m---------------------------------------------------------------------------\u001b[0m",
      "\u001b[0;31mFileNotFoundError\u001b[0m                         Traceback (most recent call last)",
      "Input \u001b[0;32mIn [20]\u001b[0m, in \u001b[0;36m<cell line: 1>\u001b[0;34m()\u001b[0m\n\u001b[0;32m----> 1\u001b[0m \u001b[38;5;28;01mwith\u001b[39;00m \u001b[38;5;28;43mopen\u001b[39;49m\u001b[43m(\u001b[49m\u001b[38;5;124;43mr\u001b[39;49m\u001b[38;5;124;43m\"\u001b[39;49m\u001b[38;5;124;43mdata\u001b[39;49m\u001b[38;5;124;43m\\\u001b[39;49m\u001b[38;5;124;43mwords.txt\u001b[39;49m\u001b[38;5;124;43m\"\u001b[39;49m\u001b[43m,\u001b[49m\u001b[43m \u001b[49m\u001b[43mencoding\u001b[49m\u001b[38;5;241;43m=\u001b[39;49m\u001b[38;5;124;43m'\u001b[39;49m\u001b[38;5;124;43mutf-8\u001b[39;49m\u001b[38;5;124;43m'\u001b[39;49m\u001b[43m)\u001b[49m \u001b[38;5;28;01mas\u001b[39;00m f:\n\u001b[1;32m      2\u001b[0m     wordle_script \u001b[38;5;241m=\u001b[39m f\u001b[38;5;241m.\u001b[39mread()\n",
      "\u001b[0;31mFileNotFoundError\u001b[0m: [Errno 2] No such file or directory: 'data\\\\words.txt'"
     ]
    }
   ],
   "source": [
    "with open(r'..\\data\\raw\\raw_wordle_script.txt', encoding='utf-8') as f:\n",
    "    wordle_script = f.read()\n",
    "    \n",
    "raw_word_list = wordle_script.split('var La=[')[1].split('],Ia=\"present\"')[0]\n",
    "\n",
    "raw_words = raw_word_list.split(',')\n",
    "wordle_words = []\n",
    "for raw_word in raw_words:\n",
    "    word = raw_word.strip('\"')\n",
    "    wordle_words.append(word)\n",
    "\n",
    "# fix two errors at the intersection of the recognizable words list La and all words list Ta\n",
    "wordle_words[2314] = 'shave'\n",
    "wordle_words[2315] = 'aahed'\n",
    "\n",
    "curated_words = wordle_words[:2315]\n",
    "\n",
    "with open(r'..\\data\\processed\\wordle_words.json', 'w') as outfile:\n",
    "    json.dump(wordle_words, outfile)\n",
    "    "
   ]
  },
  {
   "cell_type": "code",
   "execution_count": null,
   "id": "2702b249",
   "metadata": {},
   "outputs": [],
   "source": []
  }
 ],
 "metadata": {
  "kernelspec": {
   "display_name": "Python 3 (ipykernel)",
   "language": "python",
   "name": "python3"
  },
  "language_info": {
   "codemirror_mode": {
    "name": "ipython",
    "version": 3
   },
   "file_extension": ".py",
   "mimetype": "text/x-python",
   "name": "python",
   "nbconvert_exporter": "python",
   "pygments_lexer": "ipython3",
   "version": "3.9.12"
  }
 },
 "nbformat": 4,
 "nbformat_minor": 5
}

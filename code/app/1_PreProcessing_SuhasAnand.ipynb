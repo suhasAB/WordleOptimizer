{
 "cells": [
  {
   "cell_type": "markdown",
   "id": "b759d219",
   "metadata": {
    "pycharm": {
     "name": "#%% md\n"
    }
   },
   "source": [
    "Dataset of the Project Wordle Optimization using Information Theory is a list of 5 letter words obtained by web scraping through source code of wordle website.\n",
    "![WebScrapingWords](https://github.com/suhasAB/WordleOptimizer/blob/main/paper/images/wordle%20words%20webscraping.png?raw=true)"
   ]
  },
  {
   "cell_type": "code",
   "execution_count": 1,
   "outputs": [
    {
     "ename": "FileNotFoundError",
     "evalue": "[Errno 2] No such file or directory: '../data/raw/raw_wordle_script.txt'",
     "output_type": "error",
     "traceback": [
      "\u001B[0;31m---------------------------------------------------------------------------\u001B[0m",
      "\u001B[0;31mFileNotFoundError\u001B[0m                         Traceback (most recent call last)",
      "Input \u001B[0;32mIn [1]\u001B[0m, in \u001B[0;36m<cell line: 2>\u001B[0;34m()\u001B[0m\n\u001B[1;32m      1\u001B[0m \u001B[38;5;28;01mimport\u001B[39;00m \u001B[38;5;21;01mjson\u001B[39;00m\n\u001B[0;32m----> 2\u001B[0m \u001B[38;5;28;01mwith\u001B[39;00m \u001B[38;5;28;43mopen\u001B[39;49m\u001B[43m(\u001B[49m\u001B[38;5;124;43mr\u001B[39;49m\u001B[38;5;124;43m'\u001B[39;49m\u001B[38;5;124;43m../data/raw/raw_wordle_script.txt\u001B[39;49m\u001B[38;5;124;43m'\u001B[39;49m\u001B[43m,\u001B[49m\u001B[43m \u001B[49m\u001B[43mencoding\u001B[49m\u001B[38;5;241;43m=\u001B[39;49m\u001B[38;5;124;43m'\u001B[39;49m\u001B[38;5;124;43mutf-8\u001B[39;49m\u001B[38;5;124;43m'\u001B[39;49m\u001B[43m)\u001B[49m \u001B[38;5;28;01mas\u001B[39;00m f:\n\u001B[1;32m      3\u001B[0m     wordle_script \u001B[38;5;241m=\u001B[39m f\u001B[38;5;241m.\u001B[39mread()\n\u001B[1;32m      5\u001B[0m raw_word_list \u001B[38;5;241m=\u001B[39m wordle_script\u001B[38;5;241m.\u001B[39msplit(\u001B[38;5;124m'\u001B[39m\u001B[38;5;124mvar La=[\u001B[39m\u001B[38;5;124m'\u001B[39m)[\u001B[38;5;241m1\u001B[39m]\u001B[38;5;241m.\u001B[39msplit(\u001B[38;5;124m'\u001B[39m\u001B[38;5;124m],Ia=\u001B[39m\u001B[38;5;124m\"\u001B[39m\u001B[38;5;124mpresent\u001B[39m\u001B[38;5;124m\"\u001B[39m\u001B[38;5;124m'\u001B[39m)[\u001B[38;5;241m0\u001B[39m]\n",
      "\u001B[0;31mFileNotFoundError\u001B[0m: [Errno 2] No such file or directory: '../data/raw/raw_wordle_script.txt'"
     ]
    }
   ],
   "source": [
    "import json\n",
    "with open(r'../data/raw/raw_wordle_script.txt', encoding='utf-8') as f:\n",
    "    wordle_script = f.read()\n",
    "    \n",
    "raw_word_list = wordle_script.split('var La=[')[1].split('],Ia=\"present\"')[0]\n",
    "\n",
    "raw_words = raw_word_list.split(',')\n",
    "wordle_words = []\n",
    "for raw_word in raw_words:\n",
    "    word = raw_word.strip('\"')\n",
    "    wordle_words.append(word)\n",
    "\n",
    "# fix two errors at the intersection of the recognizable words list La and all words list Ta\n",
    "wordle_words[2314] = 'shave'\n",
    "wordle_words[2315] = 'aahed'\n",
    "\n",
    "curated_words = wordle_words[:2315]\n",
    "\n",
    "with open(r'data/processed/wordle_words.json', 'w') as outfile:\n",
    "    json.dump(wordle_words, outfile)\n",
    "    "
   ],
   "metadata": {
    "collapsed": false,
    "pycharm": {
     "name": "#%%\n"
    }
   }
  },
  {
   "cell_type": "code",
   "execution_count": null,
   "outputs": [],
   "source": [
    "print(len(wordle_words))\n",
    "print(len(curated_words))"
   ],
   "metadata": {
    "collapsed": false,
    "pycharm": {
     "name": "#%%\n"
    }
   }
  },
  {
   "cell_type": "code",
   "execution_count": null,
   "id": "bd67784d",
   "metadata": {
    "pycharm": {
     "name": "#%%\n"
    }
   },
   "outputs": [],
   "source": []
  }
 ],
 "metadata": {
  "kernelspec": {
   "display_name": "Python 3 (ipykernel)",
   "language": "python",
   "name": "python3"
  },
  "language_info": {
   "codemirror_mode": {
    "name": "ipython",
    "version": 3
   },
   "file_extension": ".py",
   "mimetype": "text/x-python",
   "name": "python",
   "nbconvert_exporter": "python",
   "pygments_lexer": "ipython3",
   "version": "3.9.12"
  }
 },
 "nbformat": 4,
 "nbformat_minor": 5
}
{
 "cells": [
  {
   "cell_type": "markdown",
   "id": "30c9203d",
   "metadata": {},
   "source": [
    "# Wordle"
   ]
  },
  {
   "cell_type": "markdown",
   "id": "9533243e",
   "metadata": {},
   "source": [
    "## Solving method"
   ]
  },
  {
   "cell_type": "code",
   "execution_count": 18,
   "id": "1daaf42d",
   "metadata": {},
   "outputs": [],
   "source": [
    "import numpy as np\n",
    "import matplotlib.image as mpimg\n",
    "import matplotlib.pyplot as plt\n",
    "from tqdm.notebook import tqdm\n",
    "from collections import defaultdict\n",
    "import ipywidgets as widgets\n",
    "from ipywidgets import interactive_output, fixed"
   ]
  },
  {
   "cell_type": "code",
   "execution_count": 19,
   "id": "542f7e1e",
   "metadata": {},
   "outputs": [
    {
     "name": "stdout",
     "output_type": "stream",
     "text": [
      "Number of possible answer words: 2315\n",
      "Number of accepted guess words: 12972\n"
     ]
    }
   ],
   "source": [
    "with open('./data/processed/wordle-answers-alphabetical.txt', 'r') as file:\n",
    "    possible_answers = file.read().splitlines() \n",
    "   \n",
    "with open('./data/processed/wordle-allowed-guesses.txt', 'r') as file:\n",
    "    words_allowed_guesses = file.read().splitlines() \n",
    "words_allowed_guesses = words_allowed_guesses + possible_answers\n",
    "\n",
    "print(\"Number of possible answer words:\", len(possible_answers))\n",
    "print(\"Number of accepted guess words:\", len(words_allowed_guesses))"
   ]
  },
  {
   "cell_type": "code",
   "execution_count": 20,
   "id": "e6c28d3c",
   "metadata": {},
   "outputs": [],
   "source": [
    "letters = [letter for letter in \"azertyuiopqsdfghjklmwxcvbn\"]\n",
    "letter_imgs = {letter: mpimg.imread(f\"letters/{letter}.png\") for letter in letters}\n",
    "\n",
    "def display_word(word):\n",
    "    if word == \"\": return\n",
    "    letters = [letter_imgs[letter] for letter in word]\n",
    "    plt.figure()\n",
    "    plt.imshow(np.concatenate(letters, axis=1))\n",
    "    plt.axis('off')\n",
    "    plt.show()"
   ]
  },
  {
   "cell_type": "code",
   "execution_count": 21,
   "id": "b161f35f",
   "metadata": {},
   "outputs": [
    {
     "data": {
      "image/png": "[encoded data removed]",
      "text/plain": [
       "<Figure size 432x288 with 1 Axes>"
      ]
     },
     "metadata": {
      "needs_background": "light"
     },
     "output_type": "display_data"
    }
   ],
   "source": [
    "display_word(\"hello\")"
   ]
  },
  {
   "cell_type": "code",
   "execution_count": 22,
   "id": "e92eadca",
   "metadata": {},
   "outputs": [],
   "source": [
    "def compare_words(query_word, answer_word):\n",
    "    res = []\n",
    "    pos_not_found = []\n",
    "    letters_not_found = []\n",
    "    for (i, letter1), letter2 in zip(enumerate(query_word), answer_word):\n",
    "        if letter1 == letter2:\n",
    "            res.append('2')\n",
    "        else:\n",
    "            res.append('0')\n",
    "            pos_not_found.append(i)\n",
    "            letters_not_found.append(letter2)\n",
    "    for i in pos_not_found:\n",
    "        if query_word[i] in letters_not_found:\n",
    "            res[i] = \"1\"\n",
    "            letters_not_found.remove(query_word[i])\n",
    "    return \"\".join(res)"
   ]
  },
  {
   "cell_type": "code",
   "execution_count": 23,
   "id": "4aae0054",
   "metadata": {},
   "outputs": [
    {
     "data": {
      "text/plain": [
       "'10002'"
      ]
     },
     "execution_count": 23,
     "metadata": {},
     "output_type": "execute_result"
    }
   ],
   "source": [
    "compare_words(\"raise\", \"gorge\")"
   ]
  },
  {
   "cell_type": "code",
   "execution_count": 24,
   "id": "206b12f4",
   "metadata": {},
   "outputs": [
    {
     "data": {
      "text/plain": [
       "'22222'"
      ]
     },
     "execution_count": 24,
     "metadata": {},
     "output_type": "execute_result"
    }
   ],
   "source": [
    "compare_words(\"crane\",\"crane\")"
   ]
  },
  {
   "cell_type": "code",
   "execution_count": 25,
   "id": "fde3c4fd",
   "metadata": {},
   "outputs": [],
   "source": [
    "def filter_words(possible_words, word, comparison_string):\n",
    "    new_possible_words = []\n",
    "    for w in possible_words:\n",
    "        if compare_words(word, w) == comparison_string:\n",
    "            new_possible_words.append(w)\n",
    "    return new_possible_words"
   ]
  },
  {
   "cell_type": "code",
   "execution_count": 26,
   "id": "68d11741",
   "metadata": {},
   "outputs": [
    {
     "name": "stdout",
     "output_type": "stream",
     "text": [
      "['borne', 'broke', 'brute', 'chore', 'creme', 'crepe', 'crone', 'crude', 'curve', 'drone', 'drove', 'erode', 'force', 'forge', 'forte', 'froze', 'genre', 'gorge', 'grope', 'grove', 'horde', 'merge', 'nerve', 'ombre', 'probe', 'prone', 'prove', 'prude', 'prune', 'puree', 'purge', 'there', 'three', 'trope', 'trove', 'truce', 'verge', 'verve', 'where', 'wrote']\n"
     ]
    }
   ],
   "source": [
    "print(filter_words(possible_answers, \"raise\", \"10002\"))"
   ]
  },
  {
   "cell_type": "markdown",
   "id": "ed15d0e0",
   "metadata": {},
   "source": [
    "$ score(word) = \\sum_{letter  \\in  word}\\frac{1}{rank(letter)} $"
   ]
  },
  {
   "cell_type": "code",
   "execution_count": 27,
   "id": "aa493eda",
   "metadata": {},
   "outputs": [],
   "source": [
    "letters_by_frequency = \"eariotnslcudpmhgbfywkvxzjq\"\n",
    "letters_scores = {letter: 1/(i+1) for i, letter in enumerate(letters_by_frequency)}\n",
    "    \n",
    "def score_RelativeFreq_ofWord(word):\n",
    "    score = 0\n",
    "    for letter in set(word):\n",
    "        score += letters_scores[letter]\n",
    "    return score"
   ]
  },
  {
   "cell_type": "code",
   "execution_count": 28,
   "id": "69d73216",
   "metadata": {},
   "outputs": [
    {
     "name": "stdout",
     "output_type": "stream",
     "text": [
      "raise: 2.208333333333333\n",
      "bumpy: 0.3507158476198724\n"
     ]
    }
   ],
   "source": [
    "print(\"raise:\", score_RelativeFreq_ofWord(\"raise\"))\n",
    "print(\"bumpy:\", score_RelativeFreq_ofWord(\"bumpy\"))"
   ]
  },
  {
   "cell_type": "code",
   "execution_count": 30,
   "id": "5fd2324a",
   "metadata": {},
   "outputs": [],
   "source": [
    "def solver_RelativeFrequency_method(comparison_string, word, possible_words):\n",
    "    possible_words = filter_words(possible_words, word, comparison_string)\n",
    "    if len(possible_words) == 0:\n",
    "        print(\"No possible word in vocabulary.\")\n",
    "        return \"\", []\n",
    "    else:\n",
    "        words_sorted = sorted(possible_words, key=score_RelativeFreq_ofWord, reverse=True)\n",
    "        word = words_sorted[0]\n",
    "        return word, possible_words"
   ]
  },
  {
   "cell_type": "markdown",
   "id": "18ba63a7",
   "metadata": {},
   "source": [
    "## Improved solving method by combining Entropy with Relative Frequency"
   ]
  },
  {
   "cell_type": "markdown",
   "id": "de0273ab",
   "metadata": {},
   "source": [
    "![Score](entropyBasedScore.png)"
   ]
  },
  {
   "cell_type": "code",
   "execution_count": 31,
   "id": "ec98b830",
   "metadata": {},
   "outputs": [],
   "source": [
    "def score_EntropyRelFreqCombo_OfWord(query_word, possible_words):\n",
    "    nb_words = len(possible_words)\n",
    "    comparison_dict = defaultdict(int)\n",
    "    for word in possible_words:\n",
    "        comparison_dict[compare_words(query_word, word)] += 1\n",
    "    return sum(word_count / nb_words * word_count for word_count in comparison_dict.values())"
   ]
  },
  {
   "cell_type": "code",
   "execution_count": 32,
   "id": "2895d037",
   "metadata": {},
   "outputs": [
    {
     "name": "stdout",
     "output_type": "stream",
     "text": [
      "78.74168466522653\n"
     ]
    }
   ],
   "source": [
    "print(score_EntropyRelFreqCombo_OfWord(\"crane\",possible_answers))"
   ]
  },
  {
   "cell_type": "code",
   "execution_count": 33,
   "id": "a92726d0",
   "metadata": {},
   "outputs": [],
   "source": [
    "def best_starting_word(possible_guesses, possible_answers, topn=20):\n",
    "    word_scores = []\n",
    "    for word in tqdm(possible_guesses):\n",
    "        word_scores.append((word, score_EntropyRelFreqCombo_OfWord(word, possible_answers)))\n",
    "    word_scores = sorted(word_scores, key=lambda x: x[1])\n",
    "    for i in range(topn):\n",
    "        print(f\"{word_scores[i][0]} : {word_scores[i][1]}\")\n",
    "        "
   ]
  },
  {
   "cell_type": "code",
   "execution_count": 34,
   "id": "276374a8",
   "metadata": {},
   "outputs": [
    {
     "data": {
      "application/vnd.jupyter.widget-view+json": {
       "model_id": "aa80d0ec986e4e1ab517f62a996d89cc",
       "version_major": 2,
       "version_minor": 0
      },
      "text/plain": [
       "  0%|          | 0/12972 [00:00<?, ?it/s]"
      ]
     },
     "metadata": {},
     "output_type": "display_data"
    },
    {
     "name": "stdout",
     "output_type": "stream",
     "text": [
      "roate : 60.42462203023761\n",
      "raise : 61.00086393088555\n",
      "raile : 61.3308855291577\n",
      "soare : 62.301079913606905\n",
      "arise : 63.72570194384452\n",
      "irate : 63.77926565874733\n",
      "orate : 63.890712742980604\n",
      "ariel : 65.28768898488111\n",
      "arose : 66.02116630669536\n",
      "raine : 67.05615550755918\n",
      "artel : 67.49589632829363\n",
      "taler : 67.73693304535621\n",
      "ratel : 69.84319654427625\n",
      "aesir : 69.88293736501068\n",
      "arles : 69.8907127429805\n",
      "realo : 69.94773218142538\n",
      "alter : 69.99179265658731\n",
      "saner : 70.12570194384423\n",
      "later : 70.22332613390904\n",
      "snare : 71.09762419006455\n"
     ]
    }
   ],
   "source": [
    "best_starting_word(words_allowed_guesses, possible_answers,topn=20)"
   ]
  },
  {
   "cell_type": "code",
   "execution_count": 35,
   "id": "bc19b3cc",
   "metadata": {},
   "outputs": [],
   "source": [
    "best_20_starting_words=[\"roate\",\"raise\",\"raile\",\"soare\",\"arise\",\"irate\",\"orate\",\"ariel\",\"arose\",\"raine\",\"artel\",\"taler\",\"ratel\",\"aesir\",\"arles\",\"realo\",\"alter\",\"saner\",\"later\",\"snare\"]\n"
   ]
  },
  {
   "cell_type": "code",
   "execution_count": 36,
   "id": "1d085919",
   "metadata": {},
   "outputs": [],
   "source": [
    "def solver_EntropyRelFreqCombo_method(comparison_string, word, possible_words):\n",
    "    possible_words = filter_words(possible_words, word, comparison_string)\n",
    "    if len(possible_words) == 0:\n",
    "        print(\"No possible word in vocabulary.\")\n",
    "        return \"\", []\n",
    "    else:\n",
    "        words_sorted = sorted(possible_words, key=lambda x: score_EntropyRelFreqCombo_OfWord(x, possible_words))\n",
    "        word = words_sorted[0]\n",
    "        return word, possible_words\n",
    "    \n",
    "    \n",
    "def solver_AdvancedEntropyRelFreqCombo_method(comparison_string, word, possible_words):\n",
    "    possible_words = filter_words(possible_words, word, comparison_string)\n",
    "    if len(possible_words) == 0:\n",
    "        print(\"No possible word in vocabulary.\")\n",
    "        return \"\", []\n",
    "    else:\n",
    "        if len(possible_words) <= 3:\n",
    "            words_sorted = sorted(possible_words, key=lambda x: score_EntropyRelFreqCombo_OfWord(x, possible_words))\n",
    "        else:\n",
    "            words_sorted = sorted(words_allowed_guesses, key=lambda x: score_EntropyRelFreqCombo_OfWord(x, possible_words))\n",
    "        word = words_sorted[0]\n",
    "        return word, possible_words"
   ]
  },
  {
   "cell_type": "markdown",
   "id": "b810c9b1",
   "metadata": {},
   "source": [
    "## Evalutating solutions"
   ]
  },
  {
   "cell_type": "code",
   "execution_count": 37,
   "id": "35efcd1f",
   "metadata": {},
   "outputs": [],
   "source": [
    "def test_solution(answer_word, solver_method_type, starting_word=\"tares\"):\n",
    "    word = starting_word\n",
    "    possible_words = possible_answers\n",
    "    attempts = 1\n",
    "    while attempts < 20:\n",
    "        if word == answer_word:\n",
    "            return attempts\n",
    "        attempts += 1\n",
    "        comparison_string = compare_words(word, answer_word)\n",
    "        word, possible_words = solver_method_type(comparison_string, word, possible_words)\n",
    "    return attempts\n",
    "\n",
    "def evaluate_solver(possible_words, solver_method_type, starting_word=\"mount\"):\n",
    "    solves = []\n",
    "    for word in tqdm(possible_answers):\n",
    "        solves.append((word, test_solution(word, solver_method_type, starting_word=starting_word)))\n",
    "    mean_attempts = sum([solve[1] for solve in solves])/len(solves)\n",
    "    print(f\"Mean number of attempts: {mean_attempts} accross {len(solves)} games\") \n",
    "    failed = [solve[0] for solve in solves if solve[1] > 6]\n",
    "    print(f\"Failed words (more than 6 attempts): {len(failed)}\")\n",
    "    print(\", \".join(failed))"
   ]
  },
  {
   "cell_type": "code",
   "execution_count": 38,
   "id": "2b30349f",
   "metadata": {},
   "outputs": [
    {
     "data": {
      "application/vnd.jupyter.widget-view+json": {
       "model_id": "5fe2320712af47c4a6ce9eb1b8c2ad04",
       "version_major": 2,
       "version_minor": 0
      },
      "text/plain": [
       "  0%|          | 0/2315 [00:00<?, ?it/s]"
      ]
     },
     "metadata": {},
     "output_type": "display_data"
    },
    {
     "name": "stdout",
     "output_type": "stream",
     "text": [
      "Mean number of attempts: 3.624622030237581 accross 2315 games\n",
      "Failed words (more than 6 attempts): 14\n",
      "foyer, goner, graze, match, pound, shave, swore, tatty, waste, watch, water, wight, willy, wound\n"
     ]
    }
   ],
   "source": [
    "evaluate_solver(possible_answers, solver_EntropyRelFreqCombo_method, starting_word=\"raise\")"
   ]
  },
  {
   "cell_type": "code",
   "execution_count": 39,
   "id": "e3193005",
   "metadata": {},
   "outputs": [
    {
     "name": "stdout",
     "output_type": "stream",
     "text": [
      "Evaluating Entropy+Relative Frequency method for 10 different starting words\n",
      "Starting word:-  roate\n"
     ]
    },
    {
     "data": {
      "application/vnd.jupyter.widget-view+json": {
       "model_id": "326b45f6add2465298f7e5cb9bf8ebbd",
       "version_major": 2,
       "version_minor": 0
      },
      "text/plain": [
       "  0%|          | 0/2315 [00:00<?, ?it/s]"
      ]
     },
     "metadata": {},
     "output_type": "display_data"
    },
    {
     "name": "stdout",
     "output_type": "stream",
     "text": [
      "Mean number of attempts: 3.5939524838012957 accross 2315 games\n",
      "Failed words (more than 6 attempts): 12\n",
      "goner, homer, patch, pound, sound, stash, vaunt, waste, watch, wight, willy, wound\n",
      "------------------------------------------------------------------------------\n",
      "Starting word:-  raise\n"
     ]
    },
    {
     "data": {
      "application/vnd.jupyter.widget-view+json": {
       "model_id": "0dc95e232ac047ea96546ad3bcc6ee99",
       "version_major": 2,
       "version_minor": 0
      },
      "text/plain": [
       "  0%|          | 0/2315 [00:00<?, ?it/s]"
      ]
     },
     "metadata": {},
     "output_type": "display_data"
    },
    {
     "name": "stdout",
     "output_type": "stream",
     "text": [
      "Mean number of attempts: 3.624622030237581 accross 2315 games\n",
      "Failed words (more than 6 attempts): 14\n",
      "foyer, goner, graze, match, pound, shave, swore, tatty, waste, watch, water, wight, willy, wound\n",
      "------------------------------------------------------------------------------\n",
      "Starting word:-  raile\n"
     ]
    },
    {
     "data": {
      "application/vnd.jupyter.widget-view+json": {
       "model_id": "8655683f4c944c16861cd3bcde4585a4",
       "version_major": 2,
       "version_minor": 0
      },
      "text/plain": [
       "  0%|          | 0/2315 [00:00<?, ?it/s]"
      ]
     },
     "metadata": {},
     "output_type": "display_data"
    },
    {
     "name": "stdout",
     "output_type": "stream",
     "text": [
      "Mean number of attempts: 3.6168466522678187 accross 2315 games\n",
      "Failed words (more than 6 attempts): 11\n",
      "goner, graze, homer, joker, swore, waste, watch, wight, willy, wound, wrote\n",
      "------------------------------------------------------------------------------\n",
      "Starting word:-  soare\n"
     ]
    },
    {
     "data": {
      "application/vnd.jupyter.widget-view+json": {
       "model_id": "bae76733e2544d6388d9fb8ac5f64e47",
       "version_major": 2,
       "version_minor": 0
      },
      "text/plain": [
       "  0%|          | 0/2315 [00:00<?, ?it/s]"
      ]
     },
     "metadata": {},
     "output_type": "display_data"
    },
    {
     "name": "stdout",
     "output_type": "stream",
     "text": [
      "Mean number of attempts: 3.6375809935205186 accross 2315 games\n",
      "Failed words (more than 6 attempts): 14\n",
      "goner, graze, grown, jaunt, patch, shave, swore, tower, tried, vaunt, waste, watch, wight, wound\n",
      "------------------------------------------------------------------------------\n",
      "Starting word:-  arise\n"
     ]
    },
    {
     "data": {
      "application/vnd.jupyter.widget-view+json": {
       "model_id": "38a506a8f6bf429fba6a65cb340a56e9",
       "version_major": 2,
       "version_minor": 0
      },
      "text/plain": [
       "  0%|          | 0/2315 [00:00<?, ?it/s]"
      ]
     },
     "metadata": {},
     "output_type": "display_data"
    },
    {
     "name": "stdout",
     "output_type": "stream",
     "text": [
      "Mean number of attempts: 3.6280777537796975 accross 2315 games\n",
      "Failed words (more than 6 attempts): 16\n",
      "foyer, goner, graze, grown, pound, shape, shave, swore, tatty, taunt, vaunt, waste, watch, wight, willy, wound\n",
      "------------------------------------------------------------------------------\n",
      "Starting word:-  irate\n"
     ]
    },
    {
     "data": {
      "application/vnd.jupyter.widget-view+json": {
       "model_id": "c6fd573b55e04bb7b337eba15d80c405",
       "version_major": 2,
       "version_minor": 0
      },
      "text/plain": [
       "  0%|          | 0/2315 [00:00<?, ?it/s]"
      ]
     },
     "metadata": {},
     "output_type": "display_data"
    },
    {
     "name": "stdout",
     "output_type": "stream",
     "text": [
      "Mean number of attempts: 3.6077753779697623 accross 2315 games\n",
      "Failed words (more than 6 attempts): 13\n",
      "crazy, foyer, goner, patch, pound, saner, tight, vaunt, waste, watch, wight, willy, wound\n",
      "------------------------------------------------------------------------------\n",
      "Starting word:-  orate\n"
     ]
    },
    {
     "data": {
      "application/vnd.jupyter.widget-view+json": {
       "model_id": "e91c918646e246cf9f9f883879ecfd1b",
       "version_major": 2,
       "version_minor": 0
      },
      "text/plain": [
       "  0%|          | 0/2315 [00:00<?, ?it/s]"
      ]
     },
     "metadata": {},
     "output_type": "display_data"
    },
    {
     "name": "stdout",
     "output_type": "stream",
     "text": [
      "Mean number of attempts: 3.6056155507559393 accross 2315 games\n",
      "Failed words (more than 6 attempts): 17\n",
      "crazy, goner, homer, jolly, mound, mover, patch, pound, rower, sound, stash, swear, vaunt, waste, watch, wight, willy\n",
      "------------------------------------------------------------------------------\n",
      "Starting word:-  ariel\n"
     ]
    },
    {
     "data": {
      "application/vnd.jupyter.widget-view+json": {
       "model_id": "1d8c98ce97214767b80479b1e8f8bd4a",
       "version_major": 2,
       "version_minor": 0
      },
      "text/plain": [
       "  0%|          | 0/2315 [00:00<?, ?it/s]"
      ]
     },
     "metadata": {},
     "output_type": "display_data"
    },
    {
     "name": "stdout",
     "output_type": "stream",
     "text": [
      "Mean number of attempts: 3.6177105831533476 accross 2315 games\n",
      "Failed words (more than 6 attempts): 14\n",
      "foyer, goner, saner, shave, silly, sober, sower, swore, tatty, vaunt, watch, wight, willy, wound\n",
      "------------------------------------------------------------------------------\n",
      "Starting word:-  arose\n"
     ]
    },
    {
     "data": {
      "application/vnd.jupyter.widget-view+json": {
       "model_id": "0db28c660d6d408a96da19942119be32",
       "version_major": 2,
       "version_minor": 0
      },
      "text/plain": [
       "  0%|          | 0/2315 [00:00<?, ?it/s]"
      ]
     },
     "metadata": {},
     "output_type": "display_data"
    },
    {
     "name": "stdout",
     "output_type": "stream",
     "text": [
      "Mean number of attempts: 3.6488120950323975 accross 2315 games\n",
      "Failed words (more than 6 attempts): 14\n",
      "goner, graze, jaunt, pound, shape, shave, swore, tatty, tower, vaunt, waste, watch, wight, wound\n",
      "------------------------------------------------------------------------------\n",
      "Starting word:-  raine\n"
     ]
    },
    {
     "data": {
      "application/vnd.jupyter.widget-view+json": {
       "model_id": "dfdd542d72be4fab8a286dc76d1d3c57",
       "version_major": 2,
       "version_minor": 0
      },
      "text/plain": [
       "  0%|          | 0/2315 [00:00<?, ?it/s]"
      ]
     },
     "metadata": {},
     "output_type": "display_data"
    },
    {
     "name": "stdout",
     "output_type": "stream",
     "text": [
      "Mean number of attempts: 3.6125269978401726 accross 2315 games\n",
      "Failed words (more than 6 attempts): 13\n",
      "foyer, graze, homer, mover, pound, power, tatty, vaunt, waste, watch, water, willy, wound\n",
      "------------------------------------------------------------------------------\n"
     ]
    }
   ],
   "source": [
    "print(\"Evaluating Entropy+Relative Frequency method for 10 different starting words\")\n",
    "for word in best_20_starting_words[:10]:\n",
    "    print(\"Starting word:- \",word)\n",
    "    evaluate_solver(possible_answers,solver_EntropyRelFreqCombo_method,starting_word=word)\n",
    "    print(\"------------------------------------------------------------------------------\")"
   ]
  },
  {
   "cell_type": "code",
   "execution_count": 40,
   "id": "474f2ce5",
   "metadata": {},
   "outputs": [
    {
     "data": {
      "application/vnd.jupyter.widget-view+json": {
       "model_id": "679bbbd7f9f04b7dac837e3592e03b83",
       "version_major": 2,
       "version_minor": 0
      },
      "text/plain": [
       "  0%|          | 0/2315 [00:00<?, ?it/s]"
      ]
     },
     "metadata": {},
     "output_type": "display_data"
    },
    {
     "name": "stdout",
     "output_type": "stream",
     "text": [
      "Mean number of attempts: 3.5913606911447085 accross 2315 games\n",
      "Failed words (more than 6 attempts): 9\n",
      "foyer, goner, jaunt, pound, shave, stash, tatty, watch, wound\n"
     ]
    }
   ],
   "source": [
    "evaluate_solver(possible_answers, solver_EntropyRelFreqCombo_method, starting_word=\"tares\")"
   ]
  },
  {
   "cell_type": "code",
   "execution_count": 41,
   "id": "92847297",
   "metadata": {},
   "outputs": [
    {
     "data": {
      "application/vnd.jupyter.widget-view+json": {
       "model_id": "feecfc3a817e477488271e1cf4f79d20",
       "version_major": 2,
       "version_minor": 0
      },
      "text/plain": [
       "  0%|          | 0/2315 [00:00<?, ?it/s]"
      ]
     },
     "metadata": {},
     "output_type": "display_data"
    },
    {
     "name": "stdout",
     "output_type": "stream",
     "text": [
      "Mean number of attempts: 3.5779697624190065 accross 2315 games\n",
      "Failed words (more than 6 attempts): 10\n",
      "crazy, foyer, jolly, pound, shave, vaunt, waste, watch, willy, wound\n"
     ]
    }
   ],
   "source": [
    "evaluate_solver(possible_answers, solver_EntropyRelFreqCombo_method, starting_word=\"crane\")"
   ]
  },
  {
   "cell_type": "code",
   "execution_count": 42,
   "id": "97a19ab8",
   "metadata": {},
   "outputs": [
    {
     "data": {
      "text/plain": [
       "2"
      ]
     },
     "execution_count": 42,
     "metadata": {},
     "output_type": "execute_result"
    }
   ],
   "source": [
    "test_solution(\"alone\",solver_EntropyRelFreqCombo_method,starting_word=\"crane\")"
   ]
  },
  {
   "cell_type": "code",
   "execution_count": 46,
   "id": "85bf85e4",
   "metadata": {},
   "outputs": [
    {
     "data": {
      "text/plain": [
       "2"
      ]
     },
     "execution_count": 46,
     "metadata": {},
     "output_type": "execute_result"
    }
   ],
   "source": [
    "test_solution(\"alone\",solver_AdvancedEntropyRelFreqCombo_method,starting_word=\"crane\")"
   ]
  },
  {
   "cell_type": "code",
   "execution_count": 47,
   "id": "15128706",
   "metadata": {},
   "outputs": [
    {
     "data": {
      "application/vnd.jupyter.widget-view+json": {
       "model_id": "d5da0e19a0a4439db8b2c9366d654b4a",
       "version_major": 2,
       "version_minor": 0
      },
      "text/plain": [
       "  0%|          | 0/2315 [00:00<?, ?it/s]"
      ]
     },
     "metadata": {},
     "output_type": "display_data"
    },
    {
     "name": "stdout",
     "output_type": "stream",
     "text": [
      "Mean number of attempts: 3.508855291576674 accross 2315 games\n",
      "Failed words (more than 6 attempts): 0\n",
      "\n"
     ]
    }
   ],
   "source": [
    "evaluate_solver(possible_answers,solver_AdvancedEntropyRelFreqCombo_method,starting_word=\"roate\")"
   ]
  },
  {
   "cell_type": "code",
   "execution_count": 3,
   "id": "e9927742",
   "metadata": {},
   "outputs": [
    {
     "name": "stdout",
     "output_type": "stream",
     "text": [
      "[NbConvertApp] Converting notebook 02-Entropy+RelativeFrequencyMethod-SuhasAnand.ipynb to python\n",
      "[NbConvertApp] Writing 7520 bytes to 02-Entropy+RelativeFrequencyMethod-SuhasAnand.py\n"
     ]
    }
   ],
   "source": [
    "!jupyter nbconvert 02-Entropy+RelativeFrequencyMethod-SuhasAnand.ipynb --to python"
   ]
  }
 ],
 "metadata": {
  "kernelspec": {
   "display_name": "Python 3 (ipykernel)",
   "language": "python",
   "name": "python3"
  },
  "language_info": {
   "codemirror_mode": {
    "name": "ipython",
    "version": 3
   },
   "file_extension": ".py",
   "mimetype": "text/x-python",
   "name": "python",
   "nbconvert_exporter": "python",
   "pygments_lexer": "ipython3",
   "version": "3.9.6"
  }
 },
 "nbformat": 4,
 "nbformat_minor": 5
}

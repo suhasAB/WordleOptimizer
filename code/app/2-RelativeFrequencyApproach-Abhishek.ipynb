{
 "cells": [
  {
   "cell_type": "markdown",
   "id": "30c9203d",
   "metadata": {},
   "source": [
    "# Wordle"
   ]
  },
  {
   "cell_type": "markdown",
   "id": "9533243e",
   "metadata": {},
   "source": [
    "## Solving method"
   ]
  },
  {
   "cell_type": "code",
   "execution_count": 1,
   "id": "1daaf42d",
   "metadata": {},
   "outputs": [],
   "source": [
    "import numpy as np\n",
    "import matplotlib.image as mpimg\n",
    "import matplotlib.pyplot as plt\n",
    "from tqdm.notebook import tqdm\n",
    "from collections import defaultdict\n",
    "import ipywidgets as widgets\n",
    "from ipywidgets import interactive_output, fixed"
   ]
  },
  {
   "cell_type": "code",
   "execution_count": 2,
   "id": "542f7e1e",
   "metadata": {},
   "outputs": [
    {
     "name": "stdout",
     "output_type": "stream",
     "text": [
      "Number of possible answer words: 2315\n",
      "Number of accepted guess words: 12972\n"
     ]
    }
   ],
   "source": [
    "with open('./data/processed/wordle-answers-alphabetical.txt', 'r') as file:\n",
    "    possible_answers = file.read().splitlines() \n",
    "   \n",
    "with open('./data/processed/wordle-allowed-guesses.txt', 'r') as file:\n",
    "    words_allowed_guesses = file.read().splitlines() \n",
    "words_allowed_guesses = words_allowed_guesses + possible_answers\n",
    "\n",
    "print(\"Number of possible answer words:\", len(possible_answers))\n",
    "print(\"Number of accepted guess words:\", len(words_allowed_guesses))"
   ]
  },
  {
   "cell_type": "code",
   "execution_count": 4,
   "id": "e6c28d3c",
   "metadata": {},
   "outputs": [],
   "source": [
    "letters = [letter for letter in \"azertyuiopqsdfghjklmwxcvbn\"]\n",
    "letter_imgs = {letter: mpimg.imread(f\"letters/{letter}.png\") for letter in letters}\n",
    "\n",
    "def display_word(word):\n",
    "    if word == \"\": return\n",
    "    letters = [letter_imgs[letter] for letter in word]\n",
    "    plt.figure()\n",
    "    plt.imshow(np.concatenate(letters, axis=1))\n",
    "    plt.axis('off')\n",
    "    plt.show()"
   ]
  },
  {
   "cell_type": "code",
   "execution_count": 5,
   "id": "b161f35f",
   "metadata": {},
   "outputs": [
    {
     "data": {
      "image/png": "[encoded data removed]",
      "text/plain": [
       "<Figure size 432x288 with 1 Axes>"
      ]
     },
     "metadata": {
      "needs_background": "light"
     },
     "output_type": "display_data"
    }
   ],
   "source": [
    "display_word(\"hello\")"
   ]
  },
  {
   "cell_type": "code",
   "execution_count": 6,
   "id": "e92eadca",
   "metadata": {},
   "outputs": [],
   "source": [
    "def compare_words(query_word, answer_word):\n",
    "    res = []\n",
    "    pos_not_found = []\n",
    "    letters_not_found = []\n",
    "    for (i, letter1), letter2 in zip(enumerate(query_word), answer_word):\n",
    "        if letter1 == letter2:\n",
    "            res.append('2')\n",
    "        else:\n",
    "            res.append('0')\n",
    "            pos_not_found.append(i)\n",
    "            letters_not_found.append(letter2)\n",
    "    for i in pos_not_found:\n",
    "        if query_word[i] in letters_not_found:\n",
    "            res[i] = \"1\"\n",
    "            letters_not_found.remove(query_word[i])\n",
    "    return \"\".join(res)"
   ]
  },
  {
   "cell_type": "code",
   "execution_count": 7,
   "id": "4aae0054",
   "metadata": {},
   "outputs": [
    {
     "data": {
      "text/plain": [
       "'10002'"
      ]
     },
     "execution_count": 7,
     "metadata": {},
     "output_type": "execute_result"
    }
   ],
   "source": [
    "compare_words(\"raise\", \"gorge\")"
   ]
  },
  {
   "cell_type": "code",
   "execution_count": 8,
   "id": "206b12f4",
   "metadata": {},
   "outputs": [
    {
     "data": {
      "text/plain": [
       "'22222'"
      ]
     },
     "execution_count": 8,
     "metadata": {},
     "output_type": "execute_result"
    }
   ],
   "source": [
    "compare_words(\"crane\",\"crane\")"
   ]
  },
  {
   "cell_type": "code",
   "execution_count": 9,
   "id": "fde3c4fd",
   "metadata": {},
   "outputs": [],
   "source": [
    "def filter_words(possible_words, word, comparison_string):\n",
    "    new_possible_words = []\n",
    "    for w in possible_words:\n",
    "        if compare_words(word, w) == comparison_string:\n",
    "            new_possible_words.append(w)\n",
    "    return new_possible_words"
   ]
  },
  {
   "cell_type": "code",
   "execution_count": 10,
   "id": "68d11741",
   "metadata": {},
   "outputs": [
    {
     "name": "stdout",
     "output_type": "stream",
     "text": [
      "['borne', 'broke', 'brute', 'chore', 'creme', 'crepe', 'crone', 'crude', 'curve', 'drone', 'drove', 'erode', 'force', 'forge', 'forte', 'froze', 'genre', 'gorge', 'grope', 'grove', 'horde', 'merge', 'nerve', 'ombre', 'probe', 'prone', 'prove', 'prude', 'prune', 'puree', 'purge', 'there', 'three', 'trope', 'trove', 'truce', 'verge', 'verve', 'where', 'wrote']\n"
     ]
    }
   ],
   "source": [
    "print(filter_words(possible_answers, \"raise\", \"10002\"))"
   ]
  },
  {
   "cell_type": "markdown",
   "id": "ed15d0e0",
   "metadata": {},
   "source": [
    "$ score(word) = \\sum_{letter  \\in  word}\\frac{1}{rank(letter)} $"
   ]
  },
  {
   "cell_type": "code",
   "execution_count": 11,
   "id": "aa493eda",
   "metadata": {},
   "outputs": [],
   "source": [
    "letters_by_frequency = \"eariotnslcudpmhgbfywkvxzjq\"\n",
    "letters_scores = {letter: 1/(i+1) for i, letter in enumerate(letters_by_frequency)}\n",
    "    \n",
    "def score_RelativeFreq_ofWord(word):\n",
    "    score = 0\n",
    "    for letter in set(word):\n",
    "        score += letters_scores[letter]\n",
    "    return score"
   ]
  },
  {
   "cell_type": "code",
   "execution_count": 12,
   "id": "69d73216",
   "metadata": {},
   "outputs": [
    {
     "name": "stdout",
     "output_type": "stream",
     "text": [
      "raise: 2.208333333333333\n",
      "bumpy: 0.3507158476198724\n"
     ]
    }
   ],
   "source": [
    "print(\"raise:\", score_RelativeFreq_ofWord(\"raise\"))\n",
    "print(\"bumpy:\", score_RelativeFreq_ofWord(\"bumpy\"))"
   ]
  },
  {
   "cell_type": "code",
   "execution_count": 13,
   "id": "5fd2324a",
   "metadata": {},
   "outputs": [],
   "source": [
    "def solver_RelativeFrequency_method(comparison_string, word, possible_words):\n",
    "    possible_words = filter_words(possible_words, word, comparison_string)\n",
    "    if len(possible_words) == 0:\n",
    "        print(\"No possible word in vocabulary.\")\n",
    "        return \"\", []\n",
    "    else:\n",
    "        words_sorted = sorted(possible_words, key=score_RelativeFreq_ofWord, reverse=True)\n",
    "        word = words_sorted[0]\n",
    "        return word, possible_words"
   ]
  },
  {
   "cell_type": "code",
   "execution_count": 14,
   "id": "bc19b3cc",
   "metadata": {},
   "outputs": [],
   "source": [
    "best_20_starting_words=[\"roate\",\"raise\",\"raile\",\"soare\",\"arise\",\"irate\",\"orate\",\"ariel\",\"arose\",\"raine\",\"artel\",\"taler\",\"ratel\",\"aesir\",\"arles\",\"realo\",\"alter\",\"saner\",\"later\",\"snare\"]\n"
   ]
  },
  {
   "cell_type": "markdown",
   "id": "b810c9b1",
   "metadata": {},
   "source": [
    "## Evalutating solutions"
   ]
  },
  {
   "cell_type": "code",
   "execution_count": 15,
   "id": "35efcd1f",
   "metadata": {},
   "outputs": [],
   "source": [
    "def test_solution(answer_word, solver_method_type, starting_word=\"tares\"):\n",
    "    word = starting_word\n",
    "    possible_words = possible_answers\n",
    "    attempts = 1\n",
    "    while attempts < 20:\n",
    "        if word == answer_word:\n",
    "            return attempts\n",
    "        attempts += 1\n",
    "        comparison_string = compare_words(word, answer_word)\n",
    "        word, possible_words = solver_method_type(comparison_string, word, possible_words)\n",
    "    return attempts\n",
    "\n",
    "def evaluate_solver(possible_words, solver_method_type, starting_word=\"mount\"):\n",
    "    solves = []\n",
    "    for word in tqdm(possible_answers):\n",
    "        solves.append((word, test_solution(word, solver_method_type, starting_word=starting_word)))\n",
    "    mean_attempts = sum([solve[1] for solve in solves])/len(solves)\n",
    "    print(f\"Mean number of attempts: {mean_attempts} accross {len(solves)} games\") \n",
    "    failed = [solve[0] for solve in solves if solve[1] > 6]\n",
    "    print(f\"Failed words (more than 6 attempts): {len(failed)}\")\n",
    "    print(\", \".join(failed))"
   ]
  },
  {
   "cell_type": "code",
   "execution_count": 16,
   "id": "2b30349f",
   "metadata": {},
   "outputs": [
    {
     "data": {
      "application/vnd.jupyter.widget-view+json": {
       "model_id": "08e866e460424a0b8a52f8afd1e6a0cc",
       "version_major": 2,
       "version_minor": 0
      },
      "text/plain": [
       "  0%|          | 0/2315 [00:00<?, ?it/s]"
      ]
     },
     "metadata": {},
     "output_type": "display_data"
    },
    {
     "name": "stdout",
     "output_type": "stream",
     "text": [
      "Mean number of attempts: 3.8168466522678184 accross 2315 games\n",
      "Failed words (more than 6 attempts): 28\n",
      "awash, bezel, boxer, brave, brook, daddy, ferry, found, foyer, frown, fully, hatch, hunch, jaunt, joker, jolly, kitty, level, mammy, poppy, shave, swash, swore, taste, waver, weave, willy, wound\n"
     ]
    }
   ],
   "source": [
    "evaluate_solver(possible_answers, solver_RelativeFrequency_method, starting_word=\"raise\")"
   ]
  },
  {
   "cell_type": "code",
   "execution_count": 18,
   "id": "101da7be",
   "metadata": {},
   "outputs": [
    {
     "name": "stdout",
     "output_type": "stream",
     "text": [
      "Starting word:-  roate\n"
     ]
    },
    {
     "data": {
      "application/vnd.jupyter.widget-view+json": {
       "model_id": "fb4ef1af9caf4ba2b3ed390b85665e3e",
       "version_major": 2,
       "version_minor": 0
      },
      "text/plain": [
       "  0%|          | 0/2315 [00:00<?, ?it/s]"
      ]
     },
     "metadata": {},
     "output_type": "display_data"
    },
    {
     "name": "stdout",
     "output_type": "stream",
     "text": [
      "Mean number of attempts: 3.8323974082073433 accross 2315 games\n",
      "Failed words (more than 6 attempts): 36\n",
      "boxer, brave, catch, crack, dried, eager, fatty, ferry, fever, filly, found, foyer, frown, gazer, graze, hatch, hitch, jaunt, joker, jolly, kitty, krill, lapel, parer, shave, swear, taste, tatty, taunt, tract, wafer, watch, waver, weave, willy, wound\n",
      "----------------------------------------------------------\n",
      "Starting word:-  raise\n"
     ]
    },
    {
     "data": {
      "application/vnd.jupyter.widget-view+json": {
       "model_id": "662417d9757c49feb9965bf27f6423a4",
       "version_major": 2,
       "version_minor": 0
      },
      "text/plain": [
       "  0%|          | 0/2315 [00:00<?, ?it/s]"
      ]
     },
     "metadata": {},
     "output_type": "display_data"
    },
    {
     "name": "stdout",
     "output_type": "stream",
     "text": [
      "Mean number of attempts: 3.8168466522678184 accross 2315 games\n",
      "Failed words (more than 6 attempts): 28\n",
      "awash, bezel, boxer, brave, brook, daddy, ferry, found, foyer, frown, fully, hatch, hunch, jaunt, joker, jolly, kitty, level, mammy, poppy, shave, swash, swore, taste, waver, weave, willy, wound\n",
      "----------------------------------------------------------\n",
      "Starting word:-  raile\n"
     ]
    },
    {
     "data": {
      "application/vnd.jupyter.widget-view+json": {
       "model_id": "ad3c2b2202d4466db718a1ba7a33ba0d",
       "version_major": 2,
       "version_minor": 0
      },
      "text/plain": [
       "  0%|          | 0/2315 [00:00<?, ?it/s]"
      ]
     },
     "metadata": {},
     "output_type": "display_data"
    },
    {
     "name": "stdout",
     "output_type": "stream",
     "text": [
      "Mean number of attempts: 3.819870410367171 accross 2315 games\n",
      "Failed words (more than 6 attempts): 40\n",
      "blaze, booby, boxer, brake, brave, ferry, finer, fixer, flake, flame, flank, folly, found, frank, frown, froze, fully, graze, hatch, hazel, jaunt, joker, jolly, kitty, lowly, mammy, parer, share, shave, swore, taste, wafer, waste, waver, weave, willy, wooly, woozy, wound, wreak\n",
      "----------------------------------------------------------\n",
      "Starting word:-  soare\n"
     ]
    },
    {
     "data": {
      "application/vnd.jupyter.widget-view+json": {
       "model_id": "1a20aefac6564aa0aa74bd4ee1697ea2",
       "version_major": 2,
       "version_minor": 0
      },
      "text/plain": [
       "  0%|          | 0/2315 [00:00<?, ?it/s]"
      ]
     },
     "metadata": {},
     "output_type": "display_data"
    },
    {
     "name": "stdout",
     "output_type": "stream",
     "text": [
      "Mean number of attempts: 3.8876889848812093 accross 2315 games\n",
      "Failed words (more than 6 attempts): 43\n",
      "amaze, bezel, boxer, brake, brave, catch, corer, eager, eater, evade, fever, found, foyer, freak, fully, gazer, graze, hatch, hover, jaunt, joker, jolly, lapel, level, rarer, river, rover, rower, sassy, shark, shave, swore, taste, tatty, taunt, wafer, waste, watch, waver, weave, willy, wound, wreak\n",
      "----------------------------------------------------------\n",
      "Starting word:-  arise\n"
     ]
    },
    {
     "data": {
      "application/vnd.jupyter.widget-view+json": {
       "model_id": "209fb898caff493ba677d841b0f6e1ed",
       "version_major": 2,
       "version_minor": 0
      },
      "text/plain": [
       "  0%|          | 0/2315 [00:00<?, ?it/s]"
      ]
     },
     "metadata": {},
     "output_type": "display_data"
    },
    {
     "name": "stdout",
     "output_type": "stream",
     "text": [
      "Mean number of attempts: 3.8263498920086394 accross 2315 games\n",
      "Failed words (more than 6 attempts): 32\n",
      "bezel, boxer, brook, daddy, ferry, fixer, found, foyer, fully, hatch, hunch, jaunt, joker, jolly, kitty, level, mammy, poppy, rarer, roger, rover, rower, shark, shave, swash, swore, taste, waste, waver, weave, willy, wound\n",
      "----------------------------------------------------------\n",
      "Starting word:-  irate\n"
     ]
    },
    {
     "data": {
      "application/vnd.jupyter.widget-view+json": {
       "model_id": "f5e8669ef46441a2b0c7cb492ff5ace3",
       "version_major": 2,
       "version_minor": 0
      },
      "text/plain": [
       "  0%|          | 0/2315 [00:00<?, ?it/s]"
      ]
     },
     "metadata": {},
     "output_type": "display_data"
    },
    {
     "name": "stdout",
     "output_type": "stream",
     "text": [
      "Mean number of attempts: 3.8211663066954644 accross 2315 games\n",
      "Failed words (more than 6 attempts): 34\n",
      "awash, boxer, brake, brave, crazy, crook, daddy, fatty, ferry, found, foyer, fully, gazer, graze, hatch, hitch, hunch, jaunt, joker, jolly, kitty, lapel, mammy, ninny, racer, rarer, rover, rower, swash, taste, tatty, waver, willy, wound\n",
      "----------------------------------------------------------\n",
      "Starting word:-  orate\n"
     ]
    },
    {
     "data": {
      "application/vnd.jupyter.widget-view+json": {
       "model_id": "7f0a67d72bc04f74a1966c690fca5626",
       "version_major": 2,
       "version_minor": 0
      },
      "text/plain": [
       "  0%|          | 0/2315 [00:00<?, ?it/s]"
      ]
     },
     "metadata": {},
     "output_type": "display_data"
    },
    {
     "name": "stdout",
     "output_type": "stream",
     "text": [
      "Mean number of attempts: 3.8427645788336933 accross 2315 games\n",
      "Failed words (more than 6 attempts): 38\n",
      "boxer, brake, brave, catch, crack, crook, eager, fatty, ferry, filly, found, foyer, gazer, graze, hatch, hitch, jaunt, joker, jolly, kitty, lapel, parer, racer, rarer, rover, rower, shave, swear, taste, tatty, taunt, tract, wafer, watch, waver, weave, willy, wound\n",
      "----------------------------------------------------------\n",
      "Starting word:-  ariel\n"
     ]
    },
    {
     "data": {
      "application/vnd.jupyter.widget-view+json": {
       "model_id": "72902bfc56a84f11ac2e579b98719c46",
       "version_major": 2,
       "version_minor": 0
      },
      "text/plain": [
       "  0%|          | 0/2315 [00:00<?, ?it/s]"
      ]
     },
     "metadata": {},
     "output_type": "display_data"
    },
    {
     "name": "stdout",
     "output_type": "stream",
     "text": [
      "Mean number of attempts: 3.8341252699784016 accross 2315 games\n",
      "Failed words (more than 6 attempts): 39\n",
      "billy, booby, boxer, brake, brave, corer, crook, ferry, fixer, flank, found, foyer, fully, graze, hatch, hover, jaunt, joker, jolly, kitty, mover, parer, rarer, riper, river, rover, rower, shave, taste, tatty, taunt, verve, wafer, waste, waver, weave, willy, woozy, wound\n",
      "----------------------------------------------------------\n",
      "Starting word:-  arose\n"
     ]
    },
    {
     "data": {
      "application/vnd.jupyter.widget-view+json": {
       "model_id": "e81428a9b89b43059607e33a156ce263",
       "version_major": 2,
       "version_minor": 0
      },
      "text/plain": [
       "  0%|          | 0/2315 [00:00<?, ?it/s]"
      ]
     },
     "metadata": {},
     "output_type": "display_data"
    },
    {
     "name": "stdout",
     "output_type": "stream",
     "text": [
      "Mean number of attempts: 3.8730021598272137 accross 2315 games\n",
      "Failed words (more than 6 attempts): 32\n",
      "bezel, booby, boxer, brake, brave, catch, fever, fixer, found, foyer, fully, graze, hatch, jaunt, joker, jolly, level, rarer, roger, rover, rower, shark, shave, swarm, swore, taste, tatty, taunt, waste, waver, willy, wound\n",
      "----------------------------------------------------------\n",
      "Starting word:-  raine\n"
     ]
    },
    {
     "data": {
      "application/vnd.jupyter.widget-view+json": {
       "model_id": "cdb510b91a414d30baf2f7ebb3e167c4",
       "version_major": 2,
       "version_minor": 0
      },
      "text/plain": [
       "  0%|          | 0/2315 [00:00<?, ?it/s]"
      ]
     },
     "metadata": {},
     "output_type": "display_data"
    },
    {
     "name": "stdout",
     "output_type": "stream",
     "text": [
      "Mean number of attempts: 3.8181425485961125 accross 2315 games\n",
      "Failed words (more than 6 attempts): 29\n",
      "boney, bound, boxer, brake, brave, crack, eager, finer, fixer, found, foyer, frill, frown, gazer, graze, hatch, hunch, joker, jolly, kinky, kitty, lapel, taste, taunt, tight, waver, willy, wound, wreak\n",
      "----------------------------------------------------------\n",
      "Starting word:-  artel\n"
     ]
    },
    {
     "data": {
      "application/vnd.jupyter.widget-view+json": {
       "model_id": "411391565ce247e4906da5481d27b2d9",
       "version_major": 2,
       "version_minor": 0
      },
      "text/plain": [
       "  0%|          | 0/2315 [00:00<?, ?it/s]"
      ]
     },
     "metadata": {},
     "output_type": "display_data"
    },
    {
     "name": "stdout",
     "output_type": "stream",
     "text": [
      "Mean number of attempts: 3.7792656587473004 accross 2315 games\n",
      "Failed words (more than 6 attempts): 21\n",
      "boxer, brake, brave, crack, crook, ferry, folly, found, fully, graze, hatch, jaunt, jolly, rarer, sever, shave, taste, taunt, waste, waver, wound\n",
      "----------------------------------------------------------\n",
      "Starting word:-  taler\n"
     ]
    },
    {
     "data": {
      "application/vnd.jupyter.widget-view+json": {
       "model_id": "f70a66ced3e3437ba613e8f1ebdcbc32",
       "version_major": 2,
       "version_minor": 0
      },
      "text/plain": [
       "  0%|          | 0/2315 [00:00<?, ?it/s]"
      ]
     },
     "metadata": {},
     "output_type": "display_data"
    },
    {
     "name": "stdout",
     "output_type": "stream",
     "text": [
      "Mean number of attempts: 3.8138228941684664 accross 2315 games\n",
      "Failed words (more than 6 attempts): 27\n",
      "brake, brave, crack, crook, ferry, fever, fixer, folly, found, frown, fully, graze, hatch, jaunt, joker, jolly, rarer, riper, river, roger, rover, rower, vaunt, waver, weave, wooer, wound\n",
      "----------------------------------------------------------\n",
      "Starting word:-  ratel\n"
     ]
    },
    {
     "data": {
      "application/vnd.jupyter.widget-view+json": {
       "model_id": "d0fdcdd574d6411d836e833a9089c1d5",
       "version_major": 2,
       "version_minor": 0
      },
      "text/plain": [
       "  0%|          | 0/2315 [00:00<?, ?it/s]"
      ]
     },
     "metadata": {},
     "output_type": "display_data"
    },
    {
     "name": "stdout",
     "output_type": "stream",
     "text": [
      "Mean number of attempts: 3.796544276457883 accross 2315 games\n",
      "Failed words (more than 6 attempts): 19\n",
      "boxer, brake, brave, crack, ferry, folly, found, frown, fully, graze, hatch, jaunt, jolly, sever, taste, taunt, waver, weave, wound\n",
      "----------------------------------------------------------\n",
      "Starting word:-  aesir\n"
     ]
    },
    {
     "data": {
      "application/vnd.jupyter.widget-view+json": {
       "model_id": "31b5d04c034f463aa1b96ac26da89fba",
       "version_major": 2,
       "version_minor": 0
      },
      "text/plain": [
       "  0%|          | 0/2315 [00:00<?, ?it/s]"
      ]
     },
     "metadata": {},
     "output_type": "display_data"
    },
    {
     "name": "stdout",
     "output_type": "stream",
     "text": [
      "Mean number of attempts: 3.8742980561555074 accross 2315 games\n",
      "Failed words (more than 6 attempts): 39\n",
      "boxer, brave, brook, daddy, found, foyer, freed, frown, froze, fully, hatch, hover, hunch, jaunt, joker, jolly, kitty, krill, mammy, mower, ninny, poker, poppy, rarer, river, rover, rower, shark, shave, swarm, swash, swore, taste, tight, waver, wight, willy, wound, wreak\n",
      "----------------------------------------------------------\n",
      "Starting word:-  arles\n"
     ]
    },
    {
     "data": {
      "application/vnd.jupyter.widget-view+json": {
       "model_id": "851b9b65014349c990d57ca355a4866c",
       "version_major": 2,
       "version_minor": 0
      },
      "text/plain": [
       "  0%|          | 0/2315 [00:00<?, ?it/s]"
      ]
     },
     "metadata": {},
     "output_type": "display_data"
    },
    {
     "name": "stdout",
     "output_type": "stream",
     "text": [
      "Mean number of attempts: 3.8496760259179266 accross 2315 games\n",
      "Failed words (more than 6 attempts): 25\n",
      "bezel, boxer, brake, brave, flake, found, fully, graze, hatch, jaunt, jolly, kitty, rarer, roger, rover, sever, share, shave, swore, taste, taunt, waver, weave, willy, wound\n",
      "----------------------------------------------------------\n",
      "Starting word:-  realo\n"
     ]
    },
    {
     "data": {
      "application/vnd.jupyter.widget-view+json": {
       "model_id": "a2650334e4024d929883b5e2b56c833e",
       "version_major": 2,
       "version_minor": 0
      },
      "text/plain": [
       "  0%|          | 0/2315 [00:00<?, ?it/s]"
      ]
     },
     "metadata": {},
     "output_type": "display_data"
    },
    {
     "name": "stdout",
     "output_type": "stream",
     "text": [
      "Mean number of attempts: 3.8803455723542117 accross 2315 games\n",
      "Failed words (more than 6 attempts): 43\n",
      "blaze, bound, boxer, brake, brave, catch, creme, crook, daddy, dried, finer, fixer, folly, found, foyer, froze, grave, graze, hatch, hazel, hitch, jaunt, joker, jolly, kitty, label, lapel, lowly, mammy, parer, swear, swine, swore, taste, tatty, taunt, wafer, waste, waver, willy, wooly, wound, wreak\n",
      "----------------------------------------------------------\n",
      "Starting word:-  alter\n"
     ]
    },
    {
     "data": {
      "application/vnd.jupyter.widget-view+json": {
       "model_id": "2508dbee539c447280d5edec2d237d65",
       "version_major": 2,
       "version_minor": 0
      },
      "text/plain": [
       "  0%|          | 0/2315 [00:00<?, ?it/s]"
      ]
     },
     "metadata": {},
     "output_type": "display_data"
    },
    {
     "name": "stdout",
     "output_type": "stream",
     "text": [
      "Mean number of attempts: 3.8159827213822894 accross 2315 games\n",
      "Failed words (more than 6 attempts): 29\n",
      "brake, brave, crook, ferry, fever, fixer, folly, found, frown, fully, graze, hatch, jaunt, joker, jolly, rarer, riper, river, roger, rover, rower, shave, taste, taunt, waste, waver, wooer, wound, wreak\n",
      "----------------------------------------------------------\n",
      "Starting word:-  saner\n"
     ]
    },
    {
     "data": {
      "application/vnd.jupyter.widget-view+json": {
       "model_id": "8a20998baa2a4e938f31b1d01a80e93a",
       "version_major": 2,
       "version_minor": 0
      },
      "text/plain": [
       "  0%|          | 0/2315 [00:00<?, ?it/s]"
      ]
     },
     "metadata": {},
     "output_type": "display_data"
    },
    {
     "name": "stdout",
     "output_type": "stream",
     "text": [
      "Mean number of attempts: 3.8345572354211663 accross 2315 games\n",
      "Failed words (more than 6 attempts): 31\n",
      "amaze, bezel, boxer, brave, catch, ferry, fever, foyer, frown, fully, graze, hatch, hunch, jaunt, jolly, level, nanny, rarer, refer, riper, river, roger, rover, sever, shave, taste, tatty, taunt, waver, willy, wound\n",
      "----------------------------------------------------------\n",
      "Starting word:-  later\n"
     ]
    },
    {
     "data": {
      "application/vnd.jupyter.widget-view+json": {
       "model_id": "8d7bf34cd9024fb898dac7fe18423fc0",
       "version_major": 2,
       "version_minor": 0
      },
      "text/plain": [
       "  0%|          | 0/2315 [00:00<?, ?it/s]"
      ]
     },
     "metadata": {},
     "output_type": "display_data"
    },
    {
     "name": "stdout",
     "output_type": "stream",
     "text": [
      "Mean number of attempts: 3.812095032397408 accross 2315 games\n",
      "Failed words (more than 6 attempts): 28\n",
      "brake, brave, crack, crook, ferry, fever, fixer, folly, found, frown, fully, graze, hatch, jaunt, joker, jolly, rarer, riper, river, roger, rover, rower, taste, taunt, waver, weave, wooer, wound\n",
      "----------------------------------------------------------\n",
      "Starting word:-  snare\n"
     ]
    },
    {
     "data": {
      "application/vnd.jupyter.widget-view+json": {
       "model_id": "608190d676aa46b1844f47577ce94a7b",
       "version_major": 2,
       "version_minor": 0
      },
      "text/plain": [
       "  0%|          | 0/2315 [00:00<?, ?it/s]"
      ]
     },
     "metadata": {},
     "output_type": "display_data"
    },
    {
     "name": "stdout",
     "output_type": "stream",
     "text": [
      "Mean number of attempts: 3.840172786177106 accross 2315 games\n",
      "Failed words (more than 6 attempts): 34\n",
      "boxer, brave, brown, catch, eager, eater, found, foyer, frown, fully, gazer, graze, harry, hatch, hunch, jaunt, joker, jolly, rarer, relax, roger, rover, rower, sassy, shave, taste, tatty, taunt, wafer, waste, waver, willy, wound, wreak\n",
      "----------------------------------------------------------\n"
     ]
    }
   ],
   "source": [
    "for word in best_20_starting_words:\n",
    "    print(\"Starting word:- \",word)\n",
    "    evaluate_solver(possible_answers,solver_RelativeFrequency_method,starting_word=word)\n",
    "    print(\"----------------------------------------------------------\")"
   ]
  },
  {
   "cell_type": "code",
   "execution_count": 19,
   "id": "474f2ce5",
   "metadata": {},
   "outputs": [
    {
     "data": {
      "application/vnd.jupyter.widget-view+json": {
       "model_id": "0946809f49c645df8546a9e8f981cc58",
       "version_major": 2,
       "version_minor": 0
      },
      "text/plain": [
       "  0%|          | 0/2315 [00:00<?, ?it/s]"
      ]
     },
     "metadata": {},
     "output_type": "display_data"
    },
    {
     "name": "stdout",
     "output_type": "stream",
     "text": [
      "Mean number of attempts: 3.8220302375809934 accross 2315 games\n",
      "Failed words (more than 6 attempts): 24\n",
      "boxer, catch, crack, eagle, ferry, found, freed, frown, hatch, jaunt, jolly, kitty, krill, nanny, rearm, roger, rover, sever, shave, waver, weave, wight, willy, wound\n"
     ]
    }
   ],
   "source": [
    "evaluate_solver(possible_answers, solver_RelativeFrequency_method, starting_word=\"tares\")"
   ]
  },
  {
   "cell_type": "code",
   "execution_count": 20,
   "id": "85bf85e4",
   "metadata": {},
   "outputs": [
    {
     "data": {
      "text/plain": [
       "3"
      ]
     },
     "execution_count": 20,
     "metadata": {},
     "output_type": "execute_result"
    }
   ],
   "source": [
    "test_solution(\"alone\",solver_RelativeFrequency_method,starting_word=\"crane\")"
   ]
  },
  {
   "cell_type": "code",
   "execution_count": 21,
   "id": "a94729d3",
   "metadata": {},
   "outputs": [
    {
     "data": {
      "text/plain": [
       "3"
      ]
     },
     "execution_count": 21,
     "metadata": {},
     "output_type": "execute_result"
    }
   ],
   "source": [
    "test_solution(\"audio\",solver_RelativeFrequency_method,starting_word=\"plane\")"
   ]
  },
  {
   "cell_type": "code",
   "execution_count": null,
   "id": "94575d7c",
   "metadata": {},
   "outputs": [],
   "source": []
  }
 ],
 "metadata": {
  "kernelspec": {
   "display_name": "Python 3 (ipykernel)",
   "language": "python",
   "name": "python3"
  },
  "language_info": {
   "codemirror_mode": {
    "name": "ipython",
    "version": 3
   },
   "file_extension": ".py",
   "mimetype": "text/x-python",
   "name": "python",
   "nbconvert_exporter": "python",
   "pygments_lexer": "ipython3",
   "version": "3.7.0"
  }
 },
 "nbformat": 4,
 "nbformat_minor": 5
}
